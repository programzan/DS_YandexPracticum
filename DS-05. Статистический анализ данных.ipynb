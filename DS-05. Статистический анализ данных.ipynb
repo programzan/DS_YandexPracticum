{
 "cells": [
  {
   "cell_type": "markdown",
   "metadata": {
    "toc": true
   },
   "source": [
    "<h1>Содержание<span class=\"tocSkip\"></span></h1>\n",
    "<div class=\"toc\"><ul class=\"toc-item\"><li><span><a href=\"#Изучение-данных-из-файлов\" data-toc-modified-id=\"Изучение-данных-из-файлов-1\"><span class=\"toc-item-num\">1&nbsp;&nbsp;</span>Изучение данных из файлов</a></span><ul class=\"toc-item\"><li><span><a href=\"#Вывод\" data-toc-modified-id=\"Вывод-1.1\"><span class=\"toc-item-num\">1.1&nbsp;&nbsp;</span>Вывод</a></span></li></ul></li><li><span><a href=\"#Подготовка-данных\" data-toc-modified-id=\"Подготовка-данных-2\"><span class=\"toc-item-num\">2&nbsp;&nbsp;</span>Подготовка данных</a></span><ul class=\"toc-item\"><li><span><a href=\"#Удаление-лишнего-столбца\" data-toc-modified-id=\"Удаление-лишнего-столбца-2.1\"><span class=\"toc-item-num\">2.1&nbsp;&nbsp;</span>Удаление лишнего столбца</a></span></li><li><span><a href=\"#Изменение-типов-данных\" data-toc-modified-id=\"Изменение-типов-данных-2.2\"><span class=\"toc-item-num\">2.2&nbsp;&nbsp;</span>Изменение типов данных</a></span></li><li><span><a href=\"#Обработка-возможных-аномалий-в-данных\" data-toc-modified-id=\"Обработка-возможных-аномалий-в-данных-2.3\"><span class=\"toc-item-num\">2.3&nbsp;&nbsp;</span>Обработка возможных аномалий в данных</a></span></li><li><span><a href=\"#Подсчет-необходимых-статистических-данных\" data-toc-modified-id=\"Подсчет-необходимых-статистических-данных-2.4\"><span class=\"toc-item-num\">2.4&nbsp;&nbsp;</span>Подсчет необходимых статистических данных</a></span></li><li><span><a href=\"#Вывод\" data-toc-modified-id=\"Вывод-2.5\"><span class=\"toc-item-num\">2.5&nbsp;&nbsp;</span>Вывод</a></span></li></ul></li><li><span><a href=\"#Анализ-данных\" data-toc-modified-id=\"Анализ-данных-3\"><span class=\"toc-item-num\">3&nbsp;&nbsp;</span>Анализ данных</a></span><ul class=\"toc-item\"><li><span><a href=\"#Вывод\" data-toc-modified-id=\"Вывод-3.1\"><span class=\"toc-item-num\">3.1&nbsp;&nbsp;</span>Вывод</a></span></li></ul></li><li><span><a href=\"#Проверка-гипотез\" data-toc-modified-id=\"Проверка-гипотез-4\"><span class=\"toc-item-num\">4&nbsp;&nbsp;</span>Проверка гипотез</a></span><ul class=\"toc-item\"><li><span><a href=\"#Гипотеза:-&quot;Средняя-выручка-пользователей-тарифов-«Ультра»-и-«Смарт»-различаются&quot;\" data-toc-modified-id=\"Гипотеза:-&quot;Средняя-выручка-пользователей-тарифов-«Ультра»-и-«Смарт»-различаются&quot;-4.1\"><span class=\"toc-item-num\">4.1&nbsp;&nbsp;</span>Гипотеза: \"Средняя выручка пользователей тарифов «Ультра» и «Смарт» различаются\"</a></span></li><li><span><a href=\"#Гипотеза:-&quot;Средняя-выручка-пользователей-из-Москвы-отличается-от-выручки-пользователей-из-других-регионов&quot;\" data-toc-modified-id=\"Гипотеза:-&quot;Средняя-выручка-пользователей-из-Москвы-отличается-от-выручки-пользователей-из-других-регионов&quot;-4.2\"><span class=\"toc-item-num\">4.2&nbsp;&nbsp;</span>Гипотеза: \"Средняя выручка пользователей из Москвы отличается от выручки пользователей из других регионов\"</a></span></li><li><span><a href=\"#Вывод\" data-toc-modified-id=\"Вывод-4.3\"><span class=\"toc-item-num\">4.3&nbsp;&nbsp;</span>Вывод</a></span></li></ul></li><li><span><a href=\"#Общий-вывод\" data-toc-modified-id=\"Общий-вывод-5\"><span class=\"toc-item-num\">5&nbsp;&nbsp;</span>Общий вывод</a></span></li><li><span><a href=\"#Чек-лист-готовности-проекта\" data-toc-modified-id=\"Чек-лист-готовности-проекта-6\"><span class=\"toc-item-num\">6&nbsp;&nbsp;</span>Чек-лист готовности проекта</a></span></li></ul></div>"
   ]
  },
  {
   "cell_type": "markdown",
   "metadata": {},
   "source": [
    "# Определение перспективного тарифа для телеком-компании\n",
    "\n",
    "Вы аналитик компании «Мегалайн» — федерального оператора сотовой связи. Клиентам предлагают два тарифных плана: «Смарт» и «Ультра». Чтобы скорректировать рекламный бюджет, коммерческий департамент хочет понять, какой тариф приносит больше денег.\n",
    "\n",
    "Вам предстоит сделать предварительный анализ тарифов на небольшой выборке клиентов. В вашем распоряжении данные 500 пользователей «Мегалайна»: кто они, откуда, каким тарифом пользуются, сколько звонков и сообщений каждый отправил за 2018 год. Нужно проанализировать поведение клиентов и сделать вывод — какой тариф лучше."
   ]
  },
  {
   "cell_type": "markdown",
   "metadata": {},
   "source": [
    "## Изучение данных из файлов"
   ]
  },
  {
   "cell_type": "code",
   "execution_count": 1,
   "metadata": {},
   "outputs": [],
   "source": [
    "# Импорт необходимых библиотек\n",
    "import pandas as pd\n",
    "import matplotlib.pyplot as plt\n",
    "import numpy as np"
   ]
  },
  {
   "cell_type": "code",
   "execution_count": 2,
   "metadata": {},
   "outputs": [],
   "source": [
    "try:\n",
    "    calls = pd.read_csv('/datasets/calls.csv')\n",
    "    internet = pd.read_csv('/datasets/internet.csv')\n",
    "    messages = pd.read_csv('/datasets/messages.csv')\n",
    "    tariffs = pd.read_csv('/datasets/tariffs.csv')\n",
    "    users = pd.read_csv('/datasets/users.csv')\n",
    "except OSError as err:\n",
    "    print(err)"
   ]
  },
  {
   "cell_type": "code",
   "execution_count": 3,
   "metadata": {},
   "outputs": [],
   "source": [
    "# Функция для обзора датафрейма\n",
    "def overview_df(data):\n",
    "    display(data.head())\n",
    "    data.info()"
   ]
  },
  {
   "cell_type": "code",
   "execution_count": 4,
   "metadata": {},
   "outputs": [
    {
     "data": {
      "text/html": [
       "<div>\n",
       "<style scoped>\n",
       "    .dataframe tbody tr th:only-of-type {\n",
       "        vertical-align: middle;\n",
       "    }\n",
       "\n",
       "    .dataframe tbody tr th {\n",
       "        vertical-align: top;\n",
       "    }\n",
       "\n",
       "    .dataframe thead th {\n",
       "        text-align: right;\n",
       "    }\n",
       "</style>\n",
       "<table border=\"1\" class=\"dataframe\">\n",
       "  <thead>\n",
       "    <tr style=\"text-align: right;\">\n",
       "      <th></th>\n",
       "      <th>user_id</th>\n",
       "      <th>age</th>\n",
       "      <th>churn_date</th>\n",
       "      <th>city</th>\n",
       "      <th>first_name</th>\n",
       "      <th>last_name</th>\n",
       "      <th>reg_date</th>\n",
       "      <th>tariff</th>\n",
       "    </tr>\n",
       "  </thead>\n",
       "  <tbody>\n",
       "    <tr>\n",
       "      <td>0</td>\n",
       "      <td>1000</td>\n",
       "      <td>52</td>\n",
       "      <td>NaN</td>\n",
       "      <td>Краснодар</td>\n",
       "      <td>Рафаил</td>\n",
       "      <td>Верещагин</td>\n",
       "      <td>2018-05-25</td>\n",
       "      <td>ultra</td>\n",
       "    </tr>\n",
       "    <tr>\n",
       "      <td>1</td>\n",
       "      <td>1001</td>\n",
       "      <td>41</td>\n",
       "      <td>NaN</td>\n",
       "      <td>Москва</td>\n",
       "      <td>Иван</td>\n",
       "      <td>Ежов</td>\n",
       "      <td>2018-11-01</td>\n",
       "      <td>smart</td>\n",
       "    </tr>\n",
       "    <tr>\n",
       "      <td>2</td>\n",
       "      <td>1002</td>\n",
       "      <td>59</td>\n",
       "      <td>NaN</td>\n",
       "      <td>Стерлитамак</td>\n",
       "      <td>Евгений</td>\n",
       "      <td>Абрамович</td>\n",
       "      <td>2018-06-17</td>\n",
       "      <td>smart</td>\n",
       "    </tr>\n",
       "    <tr>\n",
       "      <td>3</td>\n",
       "      <td>1003</td>\n",
       "      <td>23</td>\n",
       "      <td>NaN</td>\n",
       "      <td>Москва</td>\n",
       "      <td>Белла</td>\n",
       "      <td>Белякова</td>\n",
       "      <td>2018-08-17</td>\n",
       "      <td>ultra</td>\n",
       "    </tr>\n",
       "    <tr>\n",
       "      <td>4</td>\n",
       "      <td>1004</td>\n",
       "      <td>68</td>\n",
       "      <td>NaN</td>\n",
       "      <td>Новокузнецк</td>\n",
       "      <td>Татьяна</td>\n",
       "      <td>Авдеенко</td>\n",
       "      <td>2018-05-14</td>\n",
       "      <td>ultra</td>\n",
       "    </tr>\n",
       "  </tbody>\n",
       "</table>\n",
       "</div>"
      ],
      "text/plain": [
       "   user_id  age churn_date         city first_name  last_name    reg_date  \\\n",
       "0     1000   52        NaN    Краснодар     Рафаил  Верещагин  2018-05-25   \n",
       "1     1001   41        NaN       Москва       Иван       Ежов  2018-11-01   \n",
       "2     1002   59        NaN  Стерлитамак    Евгений  Абрамович  2018-06-17   \n",
       "3     1003   23        NaN       Москва      Белла   Белякова  2018-08-17   \n",
       "4     1004   68        NaN  Новокузнецк    Татьяна   Авдеенко  2018-05-14   \n",
       "\n",
       "  tariff  \n",
       "0  ultra  \n",
       "1  smart  \n",
       "2  smart  \n",
       "3  ultra  \n",
       "4  ultra  "
      ]
     },
     "metadata": {},
     "output_type": "display_data"
    },
    {
     "name": "stdout",
     "output_type": "stream",
     "text": [
      "<class 'pandas.core.frame.DataFrame'>\n",
      "RangeIndex: 500 entries, 0 to 499\n",
      "Data columns (total 8 columns):\n",
      "user_id       500 non-null int64\n",
      "age           500 non-null int64\n",
      "churn_date    38 non-null object\n",
      "city          500 non-null object\n",
      "first_name    500 non-null object\n",
      "last_name     500 non-null object\n",
      "reg_date      500 non-null object\n",
      "tariff        500 non-null object\n",
      "dtypes: int64(2), object(6)\n",
      "memory usage: 31.4+ KB\n"
     ]
    }
   ],
   "source": [
    "overview_df(users)"
   ]
  },
  {
   "cell_type": "code",
   "execution_count": 5,
   "metadata": {},
   "outputs": [
    {
     "data": {
      "text/html": [
       "<div>\n",
       "<style scoped>\n",
       "    .dataframe tbody tr th:only-of-type {\n",
       "        vertical-align: middle;\n",
       "    }\n",
       "\n",
       "    .dataframe tbody tr th {\n",
       "        vertical-align: top;\n",
       "    }\n",
       "\n",
       "    .dataframe thead th {\n",
       "        text-align: right;\n",
       "    }\n",
       "</style>\n",
       "<table border=\"1\" class=\"dataframe\">\n",
       "  <thead>\n",
       "    <tr style=\"text-align: right;\">\n",
       "      <th></th>\n",
       "      <th>id</th>\n",
       "      <th>call_date</th>\n",
       "      <th>duration</th>\n",
       "      <th>user_id</th>\n",
       "    </tr>\n",
       "  </thead>\n",
       "  <tbody>\n",
       "    <tr>\n",
       "      <td>0</td>\n",
       "      <td>1000_0</td>\n",
       "      <td>2018-07-25</td>\n",
       "      <td>0.00</td>\n",
       "      <td>1000</td>\n",
       "    </tr>\n",
       "    <tr>\n",
       "      <td>1</td>\n",
       "      <td>1000_1</td>\n",
       "      <td>2018-08-17</td>\n",
       "      <td>0.00</td>\n",
       "      <td>1000</td>\n",
       "    </tr>\n",
       "    <tr>\n",
       "      <td>2</td>\n",
       "      <td>1000_2</td>\n",
       "      <td>2018-06-11</td>\n",
       "      <td>2.85</td>\n",
       "      <td>1000</td>\n",
       "    </tr>\n",
       "    <tr>\n",
       "      <td>3</td>\n",
       "      <td>1000_3</td>\n",
       "      <td>2018-09-21</td>\n",
       "      <td>13.80</td>\n",
       "      <td>1000</td>\n",
       "    </tr>\n",
       "    <tr>\n",
       "      <td>4</td>\n",
       "      <td>1000_4</td>\n",
       "      <td>2018-12-15</td>\n",
       "      <td>5.18</td>\n",
       "      <td>1000</td>\n",
       "    </tr>\n",
       "  </tbody>\n",
       "</table>\n",
       "</div>"
      ],
      "text/plain": [
       "       id   call_date  duration  user_id\n",
       "0  1000_0  2018-07-25      0.00     1000\n",
       "1  1000_1  2018-08-17      0.00     1000\n",
       "2  1000_2  2018-06-11      2.85     1000\n",
       "3  1000_3  2018-09-21     13.80     1000\n",
       "4  1000_4  2018-12-15      5.18     1000"
      ]
     },
     "metadata": {},
     "output_type": "display_data"
    },
    {
     "name": "stdout",
     "output_type": "stream",
     "text": [
      "<class 'pandas.core.frame.DataFrame'>\n",
      "RangeIndex: 202607 entries, 0 to 202606\n",
      "Data columns (total 4 columns):\n",
      "id           202607 non-null object\n",
      "call_date    202607 non-null object\n",
      "duration     202607 non-null float64\n",
      "user_id      202607 non-null int64\n",
      "dtypes: float64(1), int64(1), object(2)\n",
      "memory usage: 6.2+ MB\n"
     ]
    }
   ],
   "source": [
    "overview_df(calls)"
   ]
  },
  {
   "cell_type": "code",
   "execution_count": 6,
   "metadata": {},
   "outputs": [
    {
     "data": {
      "text/html": [
       "<div>\n",
       "<style scoped>\n",
       "    .dataframe tbody tr th:only-of-type {\n",
       "        vertical-align: middle;\n",
       "    }\n",
       "\n",
       "    .dataframe tbody tr th {\n",
       "        vertical-align: top;\n",
       "    }\n",
       "\n",
       "    .dataframe thead th {\n",
       "        text-align: right;\n",
       "    }\n",
       "</style>\n",
       "<table border=\"1\" class=\"dataframe\">\n",
       "  <thead>\n",
       "    <tr style=\"text-align: right;\">\n",
       "      <th></th>\n",
       "      <th>Unnamed: 0</th>\n",
       "      <th>id</th>\n",
       "      <th>mb_used</th>\n",
       "      <th>session_date</th>\n",
       "      <th>user_id</th>\n",
       "    </tr>\n",
       "  </thead>\n",
       "  <tbody>\n",
       "    <tr>\n",
       "      <td>0</td>\n",
       "      <td>0</td>\n",
       "      <td>1000_0</td>\n",
       "      <td>112.95</td>\n",
       "      <td>2018-11-25</td>\n",
       "      <td>1000</td>\n",
       "    </tr>\n",
       "    <tr>\n",
       "      <td>1</td>\n",
       "      <td>1</td>\n",
       "      <td>1000_1</td>\n",
       "      <td>1052.81</td>\n",
       "      <td>2018-09-07</td>\n",
       "      <td>1000</td>\n",
       "    </tr>\n",
       "    <tr>\n",
       "      <td>2</td>\n",
       "      <td>2</td>\n",
       "      <td>1000_2</td>\n",
       "      <td>1197.26</td>\n",
       "      <td>2018-06-25</td>\n",
       "      <td>1000</td>\n",
       "    </tr>\n",
       "    <tr>\n",
       "      <td>3</td>\n",
       "      <td>3</td>\n",
       "      <td>1000_3</td>\n",
       "      <td>550.27</td>\n",
       "      <td>2018-08-22</td>\n",
       "      <td>1000</td>\n",
       "    </tr>\n",
       "    <tr>\n",
       "      <td>4</td>\n",
       "      <td>4</td>\n",
       "      <td>1000_4</td>\n",
       "      <td>302.56</td>\n",
       "      <td>2018-09-24</td>\n",
       "      <td>1000</td>\n",
       "    </tr>\n",
       "  </tbody>\n",
       "</table>\n",
       "</div>"
      ],
      "text/plain": [
       "   Unnamed: 0      id  mb_used session_date  user_id\n",
       "0           0  1000_0   112.95   2018-11-25     1000\n",
       "1           1  1000_1  1052.81   2018-09-07     1000\n",
       "2           2  1000_2  1197.26   2018-06-25     1000\n",
       "3           3  1000_3   550.27   2018-08-22     1000\n",
       "4           4  1000_4   302.56   2018-09-24     1000"
      ]
     },
     "metadata": {},
     "output_type": "display_data"
    },
    {
     "name": "stdout",
     "output_type": "stream",
     "text": [
      "<class 'pandas.core.frame.DataFrame'>\n",
      "RangeIndex: 149396 entries, 0 to 149395\n",
      "Data columns (total 5 columns):\n",
      "Unnamed: 0      149396 non-null int64\n",
      "id              149396 non-null object\n",
      "mb_used         149396 non-null float64\n",
      "session_date    149396 non-null object\n",
      "user_id         149396 non-null int64\n",
      "dtypes: float64(1), int64(2), object(2)\n",
      "memory usage: 5.7+ MB\n"
     ]
    }
   ],
   "source": [
    "overview_df(internet)"
   ]
  },
  {
   "cell_type": "code",
   "execution_count": 7,
   "metadata": {},
   "outputs": [
    {
     "data": {
      "text/html": [
       "<div>\n",
       "<style scoped>\n",
       "    .dataframe tbody tr th:only-of-type {\n",
       "        vertical-align: middle;\n",
       "    }\n",
       "\n",
       "    .dataframe tbody tr th {\n",
       "        vertical-align: top;\n",
       "    }\n",
       "\n",
       "    .dataframe thead th {\n",
       "        text-align: right;\n",
       "    }\n",
       "</style>\n",
       "<table border=\"1\" class=\"dataframe\">\n",
       "  <thead>\n",
       "    <tr style=\"text-align: right;\">\n",
       "      <th></th>\n",
       "      <th>id</th>\n",
       "      <th>message_date</th>\n",
       "      <th>user_id</th>\n",
       "    </tr>\n",
       "  </thead>\n",
       "  <tbody>\n",
       "    <tr>\n",
       "      <td>0</td>\n",
       "      <td>1000_0</td>\n",
       "      <td>2018-06-27</td>\n",
       "      <td>1000</td>\n",
       "    </tr>\n",
       "    <tr>\n",
       "      <td>1</td>\n",
       "      <td>1000_1</td>\n",
       "      <td>2018-10-08</td>\n",
       "      <td>1000</td>\n",
       "    </tr>\n",
       "    <tr>\n",
       "      <td>2</td>\n",
       "      <td>1000_2</td>\n",
       "      <td>2018-08-04</td>\n",
       "      <td>1000</td>\n",
       "    </tr>\n",
       "    <tr>\n",
       "      <td>3</td>\n",
       "      <td>1000_3</td>\n",
       "      <td>2018-06-16</td>\n",
       "      <td>1000</td>\n",
       "    </tr>\n",
       "    <tr>\n",
       "      <td>4</td>\n",
       "      <td>1000_4</td>\n",
       "      <td>2018-12-05</td>\n",
       "      <td>1000</td>\n",
       "    </tr>\n",
       "  </tbody>\n",
       "</table>\n",
       "</div>"
      ],
      "text/plain": [
       "       id message_date  user_id\n",
       "0  1000_0   2018-06-27     1000\n",
       "1  1000_1   2018-10-08     1000\n",
       "2  1000_2   2018-08-04     1000\n",
       "3  1000_3   2018-06-16     1000\n",
       "4  1000_4   2018-12-05     1000"
      ]
     },
     "metadata": {},
     "output_type": "display_data"
    },
    {
     "name": "stdout",
     "output_type": "stream",
     "text": [
      "<class 'pandas.core.frame.DataFrame'>\n",
      "RangeIndex: 123036 entries, 0 to 123035\n",
      "Data columns (total 3 columns):\n",
      "id              123036 non-null object\n",
      "message_date    123036 non-null object\n",
      "user_id         123036 non-null int64\n",
      "dtypes: int64(1), object(2)\n",
      "memory usage: 2.8+ MB\n"
     ]
    }
   ],
   "source": [
    "overview_df(messages)"
   ]
  },
  {
   "cell_type": "code",
   "execution_count": 8,
   "metadata": {},
   "outputs": [
    {
     "data": {
      "text/html": [
       "<div>\n",
       "<style scoped>\n",
       "    .dataframe tbody tr th:only-of-type {\n",
       "        vertical-align: middle;\n",
       "    }\n",
       "\n",
       "    .dataframe tbody tr th {\n",
       "        vertical-align: top;\n",
       "    }\n",
       "\n",
       "    .dataframe thead th {\n",
       "        text-align: right;\n",
       "    }\n",
       "</style>\n",
       "<table border=\"1\" class=\"dataframe\">\n",
       "  <thead>\n",
       "    <tr style=\"text-align: right;\">\n",
       "      <th></th>\n",
       "      <th>messages_included</th>\n",
       "      <th>mb_per_month_included</th>\n",
       "      <th>minutes_included</th>\n",
       "      <th>rub_monthly_fee</th>\n",
       "      <th>rub_per_gb</th>\n",
       "      <th>rub_per_message</th>\n",
       "      <th>rub_per_minute</th>\n",
       "      <th>tariff_name</th>\n",
       "    </tr>\n",
       "  </thead>\n",
       "  <tbody>\n",
       "    <tr>\n",
       "      <td>0</td>\n",
       "      <td>50</td>\n",
       "      <td>15360</td>\n",
       "      <td>500</td>\n",
       "      <td>550</td>\n",
       "      <td>200</td>\n",
       "      <td>3</td>\n",
       "      <td>3</td>\n",
       "      <td>smart</td>\n",
       "    </tr>\n",
       "    <tr>\n",
       "      <td>1</td>\n",
       "      <td>1000</td>\n",
       "      <td>30720</td>\n",
       "      <td>3000</td>\n",
       "      <td>1950</td>\n",
       "      <td>150</td>\n",
       "      <td>1</td>\n",
       "      <td>1</td>\n",
       "      <td>ultra</td>\n",
       "    </tr>\n",
       "  </tbody>\n",
       "</table>\n",
       "</div>"
      ],
      "text/plain": [
       "   messages_included  mb_per_month_included  minutes_included  \\\n",
       "0                 50                  15360               500   \n",
       "1               1000                  30720              3000   \n",
       "\n",
       "   rub_monthly_fee  rub_per_gb  rub_per_message  rub_per_minute tariff_name  \n",
       "0              550         200                3               3       smart  \n",
       "1             1950         150                1               1       ultra  "
      ]
     },
     "metadata": {},
     "output_type": "display_data"
    },
    {
     "name": "stdout",
     "output_type": "stream",
     "text": [
      "<class 'pandas.core.frame.DataFrame'>\n",
      "RangeIndex: 2 entries, 0 to 1\n",
      "Data columns (total 8 columns):\n",
      "messages_included        2 non-null int64\n",
      "mb_per_month_included    2 non-null int64\n",
      "minutes_included         2 non-null int64\n",
      "rub_monthly_fee          2 non-null int64\n",
      "rub_per_gb               2 non-null int64\n",
      "rub_per_message          2 non-null int64\n",
      "rub_per_minute           2 non-null int64\n",
      "tariff_name              2 non-null object\n",
      "dtypes: int64(7), object(1)\n",
      "memory usage: 256.0+ bytes\n"
     ]
    }
   ],
   "source": [
    "overview_df(tariffs)"
   ]
  },
  {
   "cell_type": "markdown",
   "metadata": {},
   "source": [
    "### Вывод"
   ]
  },
  {
   "cell_type": "markdown",
   "metadata": {},
   "source": [
    "При первичном изучении данных из файлов были выявлены следующие проблемы:\n",
    "- наличие пропущенных значений в столбце `churn_date`;\n",
    "- неверный тип данных в столбцах с датой: `churn_date`, `reg_date`, `call_date`, `session_date` и `message_date`;\n",
    "- лишний столбец `Unnamed: 0` в таблице `internet`.\n",
    "\n",
    "Устраним их в следующем шаге."
   ]
  },
  {
   "cell_type": "markdown",
   "metadata": {},
   "source": [
    "## Подготовка данных"
   ]
  },
  {
   "cell_type": "markdown",
   "metadata": {},
   "source": [
    "### Удаление лишнего столбца"
   ]
  },
  {
   "cell_type": "code",
   "execution_count": 9,
   "metadata": {},
   "outputs": [
    {
     "data": {
      "text/html": [
       "<div>\n",
       "<style scoped>\n",
       "    .dataframe tbody tr th:only-of-type {\n",
       "        vertical-align: middle;\n",
       "    }\n",
       "\n",
       "    .dataframe tbody tr th {\n",
       "        vertical-align: top;\n",
       "    }\n",
       "\n",
       "    .dataframe thead th {\n",
       "        text-align: right;\n",
       "    }\n",
       "</style>\n",
       "<table border=\"1\" class=\"dataframe\">\n",
       "  <thead>\n",
       "    <tr style=\"text-align: right;\">\n",
       "      <th></th>\n",
       "      <th>id</th>\n",
       "      <th>mb_used</th>\n",
       "      <th>session_date</th>\n",
       "      <th>user_id</th>\n",
       "    </tr>\n",
       "  </thead>\n",
       "  <tbody>\n",
       "    <tr>\n",
       "      <td>0</td>\n",
       "      <td>1000_0</td>\n",
       "      <td>112.95</td>\n",
       "      <td>2018-11-25</td>\n",
       "      <td>1000</td>\n",
       "    </tr>\n",
       "    <tr>\n",
       "      <td>1</td>\n",
       "      <td>1000_1</td>\n",
       "      <td>1052.81</td>\n",
       "      <td>2018-09-07</td>\n",
       "      <td>1000</td>\n",
       "    </tr>\n",
       "    <tr>\n",
       "      <td>2</td>\n",
       "      <td>1000_2</td>\n",
       "      <td>1197.26</td>\n",
       "      <td>2018-06-25</td>\n",
       "      <td>1000</td>\n",
       "    </tr>\n",
       "    <tr>\n",
       "      <td>3</td>\n",
       "      <td>1000_3</td>\n",
       "      <td>550.27</td>\n",
       "      <td>2018-08-22</td>\n",
       "      <td>1000</td>\n",
       "    </tr>\n",
       "    <tr>\n",
       "      <td>4</td>\n",
       "      <td>1000_4</td>\n",
       "      <td>302.56</td>\n",
       "      <td>2018-09-24</td>\n",
       "      <td>1000</td>\n",
       "    </tr>\n",
       "  </tbody>\n",
       "</table>\n",
       "</div>"
      ],
      "text/plain": [
       "       id  mb_used session_date  user_id\n",
       "0  1000_0   112.95   2018-11-25     1000\n",
       "1  1000_1  1052.81   2018-09-07     1000\n",
       "2  1000_2  1197.26   2018-06-25     1000\n",
       "3  1000_3   550.27   2018-08-22     1000\n",
       "4  1000_4   302.56   2018-09-24     1000"
      ]
     },
     "execution_count": 9,
     "metadata": {},
     "output_type": "execute_result"
    }
   ],
   "source": [
    "internet = internet.drop(columns=['Unnamed: 0'])\n",
    "internet.head()"
   ]
  },
  {
   "cell_type": "markdown",
   "metadata": {},
   "source": [
    "### Изменение типов данных"
   ]
  },
  {
   "cell_type": "markdown",
   "metadata": {},
   "source": [
    "Заменим во всех столбцах с датой тип данных с `object` на `datetime`."
   ]
  },
  {
   "cell_type": "code",
   "execution_count": 10,
   "metadata": {},
   "outputs": [
    {
     "name": "stdout",
     "output_type": "stream",
     "text": [
      "Тип данных столбца churn_date: datetime64[ns]\n",
      "Тип данных столбца reg_date: datetime64[ns]\n",
      "Тип данных столбца call_date: datetime64[ns]\n",
      "Тип данных столбца session_date: datetime64[ns]\n",
      "Тип данных столбца message_date: datetime64[ns]\n"
     ]
    }
   ],
   "source": [
    "users['churn_date'] = pd.to_datetime(users['churn_date'], format='%Y-%m-%d')\n",
    "print(f\"Тип данных столбца {users['churn_date'].name}: {users['churn_date'].dtype}\")\n",
    "users['reg_date'] = pd.to_datetime(users['reg_date'], format='%Y-%m-%d')\n",
    "print(f\"Тип данных столбца {users['reg_date'].name}: {users['reg_date'].dtype}\")\n",
    "calls['call_date'] = pd.to_datetime(calls['call_date'], format='%Y-%m-%d')\n",
    "print(f\"Тип данных столбца {calls['call_date'].name}: {calls['call_date'].dtype}\")\n",
    "internet['session_date'] = pd.to_datetime(internet['session_date'], format='%Y-%m-%d')\n",
    "print(f\"Тип данных столбца {internet['session_date'].name}: {internet['session_date'].dtype}\")\n",
    "messages['message_date'] = pd.to_datetime(messages['message_date'], format='%Y-%m-%d')\n",
    "print(f\"Тип данных столбца {messages['message_date'].name}: {messages['message_date'].dtype}\")"
   ]
  },
  {
   "cell_type": "markdown",
   "metadata": {},
   "source": [
    "### Обработка возможных аномалий в данных"
   ]
  },
  {
   "cell_type": "markdown",
   "metadata": {},
   "source": [
    "Выведем количества уникальных значений, содержащихся в столбцах `duration` и `mb_used`. Сообщения измеряются только их количеством, поэтому там нечего просматривать. Также построим гистограммы."
   ]
  },
  {
   "cell_type": "code",
   "execution_count": 11,
   "metadata": {},
   "outputs": [
    {
     "data": {
      "text/plain": [
       "0.00    39613\n",
       "4.49      142\n",
       "5.50      142\n",
       "6.15      141\n",
       "6.38      141\n",
       "4.92      139\n",
       "8.41      138\n",
       "5.45      138\n",
       "5.05      138\n",
       "5.25      137\n",
       "Name: duration, dtype: int64"
      ]
     },
     "execution_count": 11,
     "metadata": {},
     "output_type": "execute_result"
    }
   ],
   "source": [
    "calls['duration'].value_counts().head(10)"
   ]
  },
  {
   "cell_type": "code",
   "execution_count": 12,
   "metadata": {},
   "outputs": [
    {
     "data": {
      "text/plain": [
       "0.00      19598\n",
       "197.56        9\n",
       "447.30        9\n",
       "335.91        9\n",
       "108.95        8\n",
       "513.25        8\n",
       "199.11        8\n",
       "292.14        8\n",
       "466.85        8\n",
       "304.20        8\n",
       "Name: mb_used, dtype: int64"
      ]
     },
     "execution_count": 12,
     "metadata": {},
     "output_type": "execute_result"
    }
   ],
   "source": [
    "internet['mb_used'].value_counts().head(10)"
   ]
  },
  {
   "cell_type": "code",
   "execution_count": 13,
   "metadata": {},
   "outputs": [
    {
     "data": {
      "image/png": "[encoded data removed]",
      "text/plain": [
       "<Figure size 1080x360 with 2 Axes>"
      ]
     },
     "metadata": {
      "needs_background": "light"
     },
     "output_type": "display_data"
    }
   ],
   "source": [
    "fig, axs = plt.subplots(1, 2, figsize=(15, 5))\n",
    "fig.suptitle('Гистограммы распределения данных', fontsize=18)\n",
    "calls['duration'].hist(ax=axs[0])\n",
    "axs[0].set_title('Продолжительность звонков')\n",
    "axs[0].set_xlabel('Количество минут')\n",
    "axs[0].set_ylabel('Количество звонков')\n",
    "internet['mb_used'].hist(ax=axs[1])\n",
    "axs[1].set_title('Объем интернет-трафика')\n",
    "axs[1].set_xlabel('Количество мегабайт')\n",
    "axs[1].set_ylabel('Количество сессий')\n",
    "plt.show()"
   ]
  },
  {
   "cell_type": "markdown",
   "metadata": {},
   "source": [
    "Видно, что значительную часть в звонках и интернет-сессиях составляют звонки с нулевой продолжительностью и сессии с нулем потраченных мегабайтов данных соответственно.\n",
    "\n",
    "В примечаниях к выполнению проекта было указано, что звонки с нулевой продолжительностью - это пропущенные звонки, и их не нужно удалять. Они влияют лишь на количество звонков за месяц. Можно по-разному считать количество, но это не имеет большого значения в рамках данного проекта, поэтому я решила включать их в подсчет.\n",
    "\n",
    "Насчет нулевых интернет-сессий ничего не было указано, однако могу предположить, что такие сессии могли возникать, когда пользователь включил передачу данных, а затем, никуда не зайдя, снова ее выключил - соответственно, никакая часть трафика из пакета не была потрачена. В рамках данного проекта они также не оказывают никакого влияния на результаты исследования, так как потраченный трафик за месяц считается суммированием всех интернет-сессий в этом месяце, поэтому я решила также оставить их."
   ]
  },
  {
   "cell_type": "markdown",
   "metadata": {},
   "source": [
    "### Подсчет необходимых статистических данных"
   ]
  },
  {
   "cell_type": "markdown",
   "metadata": {},
   "source": [
    "Поскольку для подсчета данных в разрезе по месяцам нам важен только месяц, в который было совершено то или иное действие, оставим в столбцах `call_date`, `session_date` и `message_date` только его номер."
   ]
  },
  {
   "cell_type": "code",
   "execution_count": 14,
   "metadata": {},
   "outputs": [
    {
     "data": {
      "text/plain": [
       "0     7\n",
       "1     8\n",
       "2     6\n",
       "3     9\n",
       "4    12\n",
       "Name: call_month, dtype: int64"
      ]
     },
     "metadata": {},
     "output_type": "display_data"
    },
    {
     "data": {
      "text/plain": [
       "0    11\n",
       "1     9\n",
       "2     6\n",
       "3     8\n",
       "4     9\n",
       "Name: session_month, dtype: int64"
      ]
     },
     "metadata": {},
     "output_type": "display_data"
    },
    {
     "data": {
      "text/plain": [
       "0     6\n",
       "1    10\n",
       "2     8\n",
       "3     6\n",
       "4    12\n",
       "Name: message_month, dtype: int64"
      ]
     },
     "metadata": {},
     "output_type": "display_data"
    }
   ],
   "source": [
    "calls['call_month'] = calls['call_date'].dt.month\n",
    "display(calls['call_month'].head())\n",
    "internet['session_month'] = internet['session_date'].dt.month\n",
    "display(internet['session_month'].head())\n",
    "messages['message_month'] = messages['message_date'].dt.month\n",
    "display(messages['message_month'].head())"
   ]
  },
  {
   "cell_type": "markdown",
   "metadata": {},
   "source": [
    "Теперь воспользуемся сводными таблицами, чтобы для каждого пользователя помесячно рассчитать необходимую статистику.\n",
    "\n",
    "- **количество сделанных звонков и израсходованных минут разговора по месяцам**\n",
    "\n",
    "*Примечание: поскольку количество минут компанией \"Мегалайн\" при каждом звонке округляется в большую сторону, применим сначала к столбцу с продолжительностью разговоров в таблице `calls` метод `ceil`.*"
   ]
  },
  {
   "cell_type": "code",
   "execution_count": 16,
   "metadata": {},
   "outputs": [
    {
     "data": {
      "text/html": [
       "<div>\n",
       "<style scoped>\n",
       "    .dataframe tbody tr th:only-of-type {\n",
       "        vertical-align: middle;\n",
       "    }\n",
       "\n",
       "    .dataframe tbody tr th {\n",
       "        vertical-align: top;\n",
       "    }\n",
       "\n",
       "    .dataframe thead th {\n",
       "        text-align: right;\n",
       "    }\n",
       "</style>\n",
       "<table border=\"1\" class=\"dataframe\">\n",
       "  <thead>\n",
       "    <tr style=\"text-align: right;\">\n",
       "      <th></th>\n",
       "      <th></th>\n",
       "      <th>count_calls</th>\n",
       "      <th>sum_duration</th>\n",
       "    </tr>\n",
       "    <tr>\n",
       "      <th>user_id</th>\n",
       "      <th>call_month</th>\n",
       "      <th></th>\n",
       "      <th></th>\n",
       "    </tr>\n",
       "  </thead>\n",
       "  <tbody>\n",
       "    <tr>\n",
       "      <td rowspan=\"8\" valign=\"top\">1000</td>\n",
       "      <td>5</td>\n",
       "      <td>22</td>\n",
       "      <td>159</td>\n",
       "    </tr>\n",
       "    <tr>\n",
       "      <td>6</td>\n",
       "      <td>43</td>\n",
       "      <td>172</td>\n",
       "    </tr>\n",
       "    <tr>\n",
       "      <td>7</td>\n",
       "      <td>47</td>\n",
       "      <td>340</td>\n",
       "    </tr>\n",
       "    <tr>\n",
       "      <td>8</td>\n",
       "      <td>52</td>\n",
       "      <td>408</td>\n",
       "    </tr>\n",
       "    <tr>\n",
       "      <td>9</td>\n",
       "      <td>58</td>\n",
       "      <td>466</td>\n",
       "    </tr>\n",
       "    <tr>\n",
       "      <td>10</td>\n",
       "      <td>57</td>\n",
       "      <td>350</td>\n",
       "    </tr>\n",
       "    <tr>\n",
       "      <td>11</td>\n",
       "      <td>43</td>\n",
       "      <td>338</td>\n",
       "    </tr>\n",
       "    <tr>\n",
       "      <td>12</td>\n",
       "      <td>46</td>\n",
       "      <td>333</td>\n",
       "    </tr>\n",
       "    <tr>\n",
       "      <td rowspan=\"2\" valign=\"top\">1001</td>\n",
       "      <td>11</td>\n",
       "      <td>59</td>\n",
       "      <td>430</td>\n",
       "    </tr>\n",
       "    <tr>\n",
       "      <td>12</td>\n",
       "      <td>63</td>\n",
       "      <td>414</td>\n",
       "    </tr>\n",
       "  </tbody>\n",
       "</table>\n",
       "</div>"
      ],
      "text/plain": [
       "                    count_calls  sum_duration\n",
       "user_id call_month                           \n",
       "1000    5                    22           159\n",
       "        6                    43           172\n",
       "        7                    47           340\n",
       "        8                    52           408\n",
       "        9                    58           466\n",
       "        10                   57           350\n",
       "        11                   43           338\n",
       "        12                   46           333\n",
       "1001    11                   59           430\n",
       "        12                   63           414"
      ]
     },
     "execution_count": 16,
     "metadata": {},
     "output_type": "execute_result"
    }
   ],
   "source": [
    "calls['duration'] = np.ceil(calls['duration']).astype('int')\n",
    "groupby_calls = (\n",
    "    calls\n",
    "    .groupby(['user_id', 'call_month'])\n",
    "    .agg({'user_id': 'count', 'duration': 'sum'})\n",
    ")\n",
    "groupby_calls.rename(columns={'user_id': 'count_calls', 'duration': 'sum_duration'}, inplace=True)\n",
    "groupby_calls.head(10)"
   ]
  },
  {
   "cell_type": "markdown",
   "metadata": {},
   "source": [
    "- **количество отправленных сообщений по месяцам**"
   ]
  },
  {
   "cell_type": "code",
   "execution_count": 17,
   "metadata": {},
   "outputs": [
    {
     "data": {
      "text/html": [
       "<div>\n",
       "<style scoped>\n",
       "    .dataframe tbody tr th:only-of-type {\n",
       "        vertical-align: middle;\n",
       "    }\n",
       "\n",
       "    .dataframe tbody tr th {\n",
       "        vertical-align: top;\n",
       "    }\n",
       "\n",
       "    .dataframe thead th {\n",
       "        text-align: right;\n",
       "    }\n",
       "</style>\n",
       "<table border=\"1\" class=\"dataframe\">\n",
       "  <thead>\n",
       "    <tr style=\"text-align: right;\">\n",
       "      <th></th>\n",
       "      <th></th>\n",
       "      <th>count_messages</th>\n",
       "    </tr>\n",
       "    <tr>\n",
       "      <th>user_id</th>\n",
       "      <th>message_month</th>\n",
       "      <th></th>\n",
       "    </tr>\n",
       "  </thead>\n",
       "  <tbody>\n",
       "    <tr>\n",
       "      <td rowspan=\"8\" valign=\"top\">1000</td>\n",
       "      <td>5</td>\n",
       "      <td>22</td>\n",
       "    </tr>\n",
       "    <tr>\n",
       "      <td>6</td>\n",
       "      <td>60</td>\n",
       "    </tr>\n",
       "    <tr>\n",
       "      <td>7</td>\n",
       "      <td>75</td>\n",
       "    </tr>\n",
       "    <tr>\n",
       "      <td>8</td>\n",
       "      <td>81</td>\n",
       "    </tr>\n",
       "    <tr>\n",
       "      <td>9</td>\n",
       "      <td>57</td>\n",
       "    </tr>\n",
       "    <tr>\n",
       "      <td>10</td>\n",
       "      <td>73</td>\n",
       "    </tr>\n",
       "    <tr>\n",
       "      <td>11</td>\n",
       "      <td>58</td>\n",
       "    </tr>\n",
       "    <tr>\n",
       "      <td>12</td>\n",
       "      <td>70</td>\n",
       "    </tr>\n",
       "    <tr>\n",
       "      <td rowspan=\"2\" valign=\"top\">1002</td>\n",
       "      <td>6</td>\n",
       "      <td>4</td>\n",
       "    </tr>\n",
       "    <tr>\n",
       "      <td>7</td>\n",
       "      <td>11</td>\n",
       "    </tr>\n",
       "  </tbody>\n",
       "</table>\n",
       "</div>"
      ],
      "text/plain": [
       "                       count_messages\n",
       "user_id message_month                \n",
       "1000    5                          22\n",
       "        6                          60\n",
       "        7                          75\n",
       "        8                          81\n",
       "        9                          57\n",
       "        10                         73\n",
       "        11                         58\n",
       "        12                         70\n",
       "1002    6                           4\n",
       "        7                          11"
      ]
     },
     "execution_count": 17,
     "metadata": {},
     "output_type": "execute_result"
    }
   ],
   "source": [
    "groupby_messages = (\n",
    "    messages\n",
    "    .groupby(['user_id', 'message_month'])\n",
    "    .agg({'user_id': 'count'})\n",
    ")\n",
    "groupby_messages.rename(columns={'user_id': 'count_messages'}, inplace=True)\n",
    "groupby_messages.head(10)"
   ]
  },
  {
   "cell_type": "markdown",
   "metadata": {},
   "source": [
    "- **объем израсходованного интернет-трафика по месяцам**\n",
    "\n",
    "*Примечание: поскольку общая сумма трафика за месяц в мегабайтах округляется вверх до ближайшего целого числа гигабайт, переведем объемы трафика в гигабайты, разделив значения на 1024, и округлим в большую сторону методом `ceil`.*"
   ]
  },
  {
   "cell_type": "code",
   "execution_count": 18,
   "metadata": {},
   "outputs": [
    {
     "data": {
      "text/html": [
       "<div>\n",
       "<style scoped>\n",
       "    .dataframe tbody tr th:only-of-type {\n",
       "        vertical-align: middle;\n",
       "    }\n",
       "\n",
       "    .dataframe tbody tr th {\n",
       "        vertical-align: top;\n",
       "    }\n",
       "\n",
       "    .dataframe thead th {\n",
       "        text-align: right;\n",
       "    }\n",
       "</style>\n",
       "<table border=\"1\" class=\"dataframe\">\n",
       "  <thead>\n",
       "    <tr style=\"text-align: right;\">\n",
       "      <th></th>\n",
       "      <th></th>\n",
       "      <th>sum_gb_used</th>\n",
       "    </tr>\n",
       "    <tr>\n",
       "      <th>user_id</th>\n",
       "      <th>session_month</th>\n",
       "      <th></th>\n",
       "    </tr>\n",
       "  </thead>\n",
       "  <tbody>\n",
       "    <tr>\n",
       "      <td rowspan=\"8\" valign=\"top\">1000</td>\n",
       "      <td>5</td>\n",
       "      <td>3</td>\n",
       "    </tr>\n",
       "    <tr>\n",
       "      <td>6</td>\n",
       "      <td>23</td>\n",
       "    </tr>\n",
       "    <tr>\n",
       "      <td>7</td>\n",
       "      <td>14</td>\n",
       "    </tr>\n",
       "    <tr>\n",
       "      <td>8</td>\n",
       "      <td>14</td>\n",
       "    </tr>\n",
       "    <tr>\n",
       "      <td>9</td>\n",
       "      <td>15</td>\n",
       "    </tr>\n",
       "    <tr>\n",
       "      <td>10</td>\n",
       "      <td>15</td>\n",
       "    </tr>\n",
       "    <tr>\n",
       "      <td>11</td>\n",
       "      <td>15</td>\n",
       "    </tr>\n",
       "    <tr>\n",
       "      <td>12</td>\n",
       "      <td>10</td>\n",
       "    </tr>\n",
       "    <tr>\n",
       "      <td rowspan=\"2\" valign=\"top\">1001</td>\n",
       "      <td>11</td>\n",
       "      <td>18</td>\n",
       "    </tr>\n",
       "    <tr>\n",
       "      <td>12</td>\n",
       "      <td>14</td>\n",
       "    </tr>\n",
       "  </tbody>\n",
       "</table>\n",
       "</div>"
      ],
      "text/plain": [
       "                       sum_gb_used\n",
       "user_id session_month             \n",
       "1000    5                        3\n",
       "        6                       23\n",
       "        7                       14\n",
       "        8                       14\n",
       "        9                       15\n",
       "        10                      15\n",
       "        11                      15\n",
       "        12                      10\n",
       "1001    11                      18\n",
       "        12                      14"
      ]
     },
     "execution_count": 18,
     "metadata": {},
     "output_type": "execute_result"
    }
   ],
   "source": [
    "groupby_internet = (\n",
    "    internet\n",
    "    .groupby(['user_id', 'session_month'])\n",
    "    .agg({'mb_used': 'sum'})\n",
    ")\n",
    "groupby_internet['mb_used'] = np.ceil(groupby_internet['mb_used'] / 1024).astype('int')\n",
    "groupby_internet.rename(columns={'mb_used': 'sum_gb_used'}, inplace=True)\n",
    "groupby_internet.head(10)"
   ]
  },
  {
   "cell_type": "markdown",
   "metadata": {},
   "source": [
    "- **помесячная выручка с каждого пользователя**\n",
    "\n",
    "Для удобства расчетов объединим сводные таблицы в одну методом `join`, а затем добавим столбец с выручкой. При объединении в таблице появятся пропуски - заполним их значением `0`, так как пропуск означает отсутствие некоторого действия в том или ином месяце (отсутствие звонков, сообщений, выходов в интернет)."
   ]
  },
  {
   "cell_type": "code",
   "execution_count": 19,
   "metadata": {},
   "outputs": [
    {
     "data": {
      "text/html": [
       "<div>\n",
       "<style scoped>\n",
       "    .dataframe tbody tr th:only-of-type {\n",
       "        vertical-align: middle;\n",
       "    }\n",
       "\n",
       "    .dataframe tbody tr th {\n",
       "        vertical-align: top;\n",
       "    }\n",
       "\n",
       "    .dataframe thead th {\n",
       "        text-align: right;\n",
       "    }\n",
       "</style>\n",
       "<table border=\"1\" class=\"dataframe\">\n",
       "  <thead>\n",
       "    <tr style=\"text-align: right;\">\n",
       "      <th></th>\n",
       "      <th>user_id</th>\n",
       "      <th>month</th>\n",
       "      <th>count_calls</th>\n",
       "      <th>sum_duration</th>\n",
       "      <th>count_messages</th>\n",
       "      <th>sum_gb_used</th>\n",
       "      <th>tariff</th>\n",
       "    </tr>\n",
       "  </thead>\n",
       "  <tbody>\n",
       "    <tr>\n",
       "      <td>0</td>\n",
       "      <td>1000</td>\n",
       "      <td>5</td>\n",
       "      <td>22</td>\n",
       "      <td>159</td>\n",
       "      <td>22</td>\n",
       "      <td>3</td>\n",
       "      <td>ultra</td>\n",
       "    </tr>\n",
       "    <tr>\n",
       "      <td>1</td>\n",
       "      <td>1000</td>\n",
       "      <td>6</td>\n",
       "      <td>43</td>\n",
       "      <td>172</td>\n",
       "      <td>60</td>\n",
       "      <td>23</td>\n",
       "      <td>ultra</td>\n",
       "    </tr>\n",
       "    <tr>\n",
       "      <td>2</td>\n",
       "      <td>1000</td>\n",
       "      <td>7</td>\n",
       "      <td>47</td>\n",
       "      <td>340</td>\n",
       "      <td>75</td>\n",
       "      <td>14</td>\n",
       "      <td>ultra</td>\n",
       "    </tr>\n",
       "    <tr>\n",
       "      <td>3</td>\n",
       "      <td>1000</td>\n",
       "      <td>8</td>\n",
       "      <td>52</td>\n",
       "      <td>408</td>\n",
       "      <td>81</td>\n",
       "      <td>14</td>\n",
       "      <td>ultra</td>\n",
       "    </tr>\n",
       "    <tr>\n",
       "      <td>4</td>\n",
       "      <td>1000</td>\n",
       "      <td>9</td>\n",
       "      <td>58</td>\n",
       "      <td>466</td>\n",
       "      <td>57</td>\n",
       "      <td>15</td>\n",
       "      <td>ultra</td>\n",
       "    </tr>\n",
       "    <tr>\n",
       "      <td>5</td>\n",
       "      <td>1000</td>\n",
       "      <td>10</td>\n",
       "      <td>57</td>\n",
       "      <td>350</td>\n",
       "      <td>73</td>\n",
       "      <td>15</td>\n",
       "      <td>ultra</td>\n",
       "    </tr>\n",
       "    <tr>\n",
       "      <td>6</td>\n",
       "      <td>1000</td>\n",
       "      <td>11</td>\n",
       "      <td>43</td>\n",
       "      <td>338</td>\n",
       "      <td>58</td>\n",
       "      <td>15</td>\n",
       "      <td>ultra</td>\n",
       "    </tr>\n",
       "    <tr>\n",
       "      <td>7</td>\n",
       "      <td>1000</td>\n",
       "      <td>12</td>\n",
       "      <td>46</td>\n",
       "      <td>333</td>\n",
       "      <td>70</td>\n",
       "      <td>10</td>\n",
       "      <td>ultra</td>\n",
       "    </tr>\n",
       "    <tr>\n",
       "      <td>8</td>\n",
       "      <td>1001</td>\n",
       "      <td>11</td>\n",
       "      <td>59</td>\n",
       "      <td>430</td>\n",
       "      <td>0</td>\n",
       "      <td>18</td>\n",
       "      <td>smart</td>\n",
       "    </tr>\n",
       "    <tr>\n",
       "      <td>9</td>\n",
       "      <td>1001</td>\n",
       "      <td>12</td>\n",
       "      <td>63</td>\n",
       "      <td>414</td>\n",
       "      <td>0</td>\n",
       "      <td>14</td>\n",
       "      <td>smart</td>\n",
       "    </tr>\n",
       "  </tbody>\n",
       "</table>\n",
       "</div>"
      ],
      "text/plain": [
       "   user_id  month  count_calls  sum_duration  count_messages  sum_gb_used  \\\n",
       "0     1000      5           22           159              22            3   \n",
       "1     1000      6           43           172              60           23   \n",
       "2     1000      7           47           340              75           14   \n",
       "3     1000      8           52           408              81           14   \n",
       "4     1000      9           58           466              57           15   \n",
       "5     1000     10           57           350              73           15   \n",
       "6     1000     11           43           338              58           15   \n",
       "7     1000     12           46           333              70           10   \n",
       "8     1001     11           59           430               0           18   \n",
       "9     1001     12           63           414               0           14   \n",
       "\n",
       "  tariff  \n",
       "0  ultra  \n",
       "1  ultra  \n",
       "2  ultra  \n",
       "3  ultra  \n",
       "4  ultra  \n",
       "5  ultra  \n",
       "6  ultra  \n",
       "7  ultra  \n",
       "8  smart  \n",
       "9  smart  "
      ]
     },
     "execution_count": 19,
     "metadata": {},
     "output_type": "execute_result"
    }
   ],
   "source": [
    "stats_by_month = groupby_calls.join([groupby_messages, groupby_internet], how='outer').fillna(0).astype('int').reset_index()\n",
    "stats_by_month.rename(columns={'level_0': 'user_id', 'level_1': 'month'}, inplace=True)\n",
    "stats_by_month = stats_by_month.merge(users[['user_id', 'tariff']], on='user_id')\n",
    "stats_by_month.head(10)"
   ]
  },
  {
   "cell_type": "markdown",
   "metadata": {},
   "source": [
    "Напишем функцию для обработки строк, рассчитывающую сумму, уплаченную пользователем в тот или иной месяц."
   ]
  },
  {
   "cell_type": "code",
   "execution_count": 20,
   "metadata": {},
   "outputs": [
    {
     "data": {
      "text/html": [
       "<div>\n",
       "<style scoped>\n",
       "    .dataframe tbody tr th:only-of-type {\n",
       "        vertical-align: middle;\n",
       "    }\n",
       "\n",
       "    .dataframe tbody tr th {\n",
       "        vertical-align: top;\n",
       "    }\n",
       "\n",
       "    .dataframe thead th {\n",
       "        text-align: right;\n",
       "    }\n",
       "</style>\n",
       "<table border=\"1\" class=\"dataframe\">\n",
       "  <thead>\n",
       "    <tr style=\"text-align: right;\">\n",
       "      <th></th>\n",
       "      <th>user_id</th>\n",
       "      <th>month</th>\n",
       "      <th>count_calls</th>\n",
       "      <th>sum_duration</th>\n",
       "      <th>count_messages</th>\n",
       "      <th>sum_gb_used</th>\n",
       "      <th>tariff</th>\n",
       "      <th>month_fee</th>\n",
       "    </tr>\n",
       "  </thead>\n",
       "  <tbody>\n",
       "    <tr>\n",
       "      <td>0</td>\n",
       "      <td>1000</td>\n",
       "      <td>5</td>\n",
       "      <td>22</td>\n",
       "      <td>159</td>\n",
       "      <td>22</td>\n",
       "      <td>3</td>\n",
       "      <td>ultra</td>\n",
       "      <td>1950</td>\n",
       "    </tr>\n",
       "    <tr>\n",
       "      <td>1</td>\n",
       "      <td>1000</td>\n",
       "      <td>6</td>\n",
       "      <td>43</td>\n",
       "      <td>172</td>\n",
       "      <td>60</td>\n",
       "      <td>23</td>\n",
       "      <td>ultra</td>\n",
       "      <td>1950</td>\n",
       "    </tr>\n",
       "    <tr>\n",
       "      <td>2</td>\n",
       "      <td>1000</td>\n",
       "      <td>7</td>\n",
       "      <td>47</td>\n",
       "      <td>340</td>\n",
       "      <td>75</td>\n",
       "      <td>14</td>\n",
       "      <td>ultra</td>\n",
       "      <td>1950</td>\n",
       "    </tr>\n",
       "    <tr>\n",
       "      <td>3</td>\n",
       "      <td>1000</td>\n",
       "      <td>8</td>\n",
       "      <td>52</td>\n",
       "      <td>408</td>\n",
       "      <td>81</td>\n",
       "      <td>14</td>\n",
       "      <td>ultra</td>\n",
       "      <td>1950</td>\n",
       "    </tr>\n",
       "    <tr>\n",
       "      <td>4</td>\n",
       "      <td>1000</td>\n",
       "      <td>9</td>\n",
       "      <td>58</td>\n",
       "      <td>466</td>\n",
       "      <td>57</td>\n",
       "      <td>15</td>\n",
       "      <td>ultra</td>\n",
       "      <td>1950</td>\n",
       "    </tr>\n",
       "    <tr>\n",
       "      <td>5</td>\n",
       "      <td>1000</td>\n",
       "      <td>10</td>\n",
       "      <td>57</td>\n",
       "      <td>350</td>\n",
       "      <td>73</td>\n",
       "      <td>15</td>\n",
       "      <td>ultra</td>\n",
       "      <td>1950</td>\n",
       "    </tr>\n",
       "    <tr>\n",
       "      <td>6</td>\n",
       "      <td>1000</td>\n",
       "      <td>11</td>\n",
       "      <td>43</td>\n",
       "      <td>338</td>\n",
       "      <td>58</td>\n",
       "      <td>15</td>\n",
       "      <td>ultra</td>\n",
       "      <td>1950</td>\n",
       "    </tr>\n",
       "    <tr>\n",
       "      <td>7</td>\n",
       "      <td>1000</td>\n",
       "      <td>12</td>\n",
       "      <td>46</td>\n",
       "      <td>333</td>\n",
       "      <td>70</td>\n",
       "      <td>10</td>\n",
       "      <td>ultra</td>\n",
       "      <td>1950</td>\n",
       "    </tr>\n",
       "    <tr>\n",
       "      <td>8</td>\n",
       "      <td>1001</td>\n",
       "      <td>11</td>\n",
       "      <td>59</td>\n",
       "      <td>430</td>\n",
       "      <td>0</td>\n",
       "      <td>18</td>\n",
       "      <td>smart</td>\n",
       "      <td>1150</td>\n",
       "    </tr>\n",
       "    <tr>\n",
       "      <td>9</td>\n",
       "      <td>1001</td>\n",
       "      <td>12</td>\n",
       "      <td>63</td>\n",
       "      <td>414</td>\n",
       "      <td>0</td>\n",
       "      <td>14</td>\n",
       "      <td>smart</td>\n",
       "      <td>550</td>\n",
       "    </tr>\n",
       "  </tbody>\n",
       "</table>\n",
       "</div>"
      ],
      "text/plain": [
       "   user_id  month  count_calls  sum_duration  count_messages  sum_gb_used  \\\n",
       "0     1000      5           22           159              22            3   \n",
       "1     1000      6           43           172              60           23   \n",
       "2     1000      7           47           340              75           14   \n",
       "3     1000      8           52           408              81           14   \n",
       "4     1000      9           58           466              57           15   \n",
       "5     1000     10           57           350              73           15   \n",
       "6     1000     11           43           338              58           15   \n",
       "7     1000     12           46           333              70           10   \n",
       "8     1001     11           59           430               0           18   \n",
       "9     1001     12           63           414               0           14   \n",
       "\n",
       "  tariff  month_fee  \n",
       "0  ultra       1950  \n",
       "1  ultra       1950  \n",
       "2  ultra       1950  \n",
       "3  ultra       1950  \n",
       "4  ultra       1950  \n",
       "5  ultra       1950  \n",
       "6  ultra       1950  \n",
       "7  ultra       1950  \n",
       "8  smart       1150  \n",
       "9  smart        550  "
      ]
     },
     "execution_count": 20,
     "metadata": {},
     "output_type": "execute_result"
    }
   ],
   "source": [
    "def get_month_revenue(row):\n",
    "    duration = row['sum_duration']\n",
    "    over_duration = 0\n",
    "    messages = row['count_messages']\n",
    "    over_messages = 0\n",
    "    traffic = row['sum_gb_used']\n",
    "    over_traffic = 0\n",
    "    tariff = row['tariff']\n",
    "    \n",
    "    if tariff == 'smart':\n",
    "        if (duration - tariffs['minutes_included'][0]) > 0:\n",
    "            over_duration = duration - tariffs['minutes_included'][0]\n",
    "            \n",
    "        if (messages - tariffs['messages_included'][0]) > 0:\n",
    "            over_messages = messages - tariffs['messages_included'][0]\n",
    "            \n",
    "        if (traffic - tariffs['mb_per_month_included'][0] / 1024) > 0:\n",
    "            over_traffic = traffic - tariffs['mb_per_month_included'][0] / 1024\n",
    "            \n",
    "        return (tariffs['rub_per_minute'][0] * over_duration + \n",
    "                tariffs['rub_per_message'][0] * over_messages + \n",
    "                tariffs['rub_per_gb'][0] * over_traffic + \n",
    "                tariffs['rub_monthly_fee'][0])\n",
    "    \n",
    "    if (duration - tariffs['minutes_included'][1]) > 0:\n",
    "        over_duration = duration - tariffs['minutes_included'][1]\n",
    "        \n",
    "    if (messages - tariffs['messages_included'][1]) > 0:\n",
    "        over_messages = messages - tariffs['messages_included'][1]\n",
    "        \n",
    "    if (traffic - tariffs['mb_per_month_included'][1] / 1024) > 0:\n",
    "        over_traffic = traffic - tariffs['mb_per_month_included'][1] / 1024\n",
    "        \n",
    "    return (tariffs['rub_per_minute'][1] * over_duration + \n",
    "            tariffs['rub_per_message'][1] * over_messages + \n",
    "            tariffs['rub_per_gb'][1] * over_traffic + \n",
    "            tariffs['rub_monthly_fee'][1])\n",
    "\n",
    "stats_by_month['month_fee'] = stats_by_month.apply(get_month_revenue, axis=1).astype('int')\n",
    "stats_by_month.head(10)"
   ]
  },
  {
   "cell_type": "markdown",
   "metadata": {},
   "source": [
    "### Вывод"
   ]
  },
  {
   "cell_type": "markdown",
   "metadata": {},
   "source": [
    "На этапе подготовки данных к анализу были проделаны следующие действия:\n",
    "- удален лишний столбец `Unnamed: 0` в таблице `internet`;\n",
    "- изменен тип данных в столбцах с датой на `datetime`;\n",
    "- созданы сводные таблицы с необходимыми статистическими данными:\n",
    "    1. количество сделанных звонков и израсходованных минут разговора по месяцам\n",
    "    2. количество отправленных сообщений по месяцам\n",
    "    3. объем израсходованного интернет-трафика по месяцам\n",
    "- сводные таблицы объединены в одну;\n",
    "- рассчитана помесячная выручка с каждого пользователя и добавлен в таблицу соответствующий столбец.\n",
    "\n",
    "Пропуски в столбце `churn_date` не были заполнены, поскольку этот столбец не нужен для дальнейшего анализа, он носит лишь информационный характер."
   ]
  },
  {
   "cell_type": "markdown",
   "metadata": {},
   "source": [
    "## Анализ данных"
   ]
  },
  {
   "cell_type": "markdown",
   "metadata": {},
   "source": [
    "Просмотрим числовое описание данных о пользователях различных тарифов."
   ]
  },
  {
   "cell_type": "code",
   "execution_count": 21,
   "metadata": {},
   "outputs": [
    {
     "data": {
      "text/html": [
       "<div>\n",
       "<style scoped>\n",
       "    .dataframe tbody tr th:only-of-type {\n",
       "        vertical-align: middle;\n",
       "    }\n",
       "\n",
       "    .dataframe tbody tr th {\n",
       "        vertical-align: top;\n",
       "    }\n",
       "\n",
       "    .dataframe thead th {\n",
       "        text-align: right;\n",
       "    }\n",
       "</style>\n",
       "<table border=\"1\" class=\"dataframe\">\n",
       "  <thead>\n",
       "    <tr style=\"text-align: right;\">\n",
       "      <th></th>\n",
       "      <th>count_calls</th>\n",
       "      <th>sum_duration</th>\n",
       "      <th>count_messages</th>\n",
       "      <th>sum_gb_used</th>\n",
       "      <th>month_fee</th>\n",
       "    </tr>\n",
       "  </thead>\n",
       "  <tbody>\n",
       "    <tr>\n",
       "      <td>count</td>\n",
       "      <td>2229.000000</td>\n",
       "      <td>2229.000000</td>\n",
       "      <td>2229.000000</td>\n",
       "      <td>2229.000000</td>\n",
       "      <td>2229.000000</td>\n",
       "    </tr>\n",
       "    <tr>\n",
       "      <td>mean</td>\n",
       "      <td>58.463437</td>\n",
       "      <td>417.934948</td>\n",
       "      <td>33.384029</td>\n",
       "      <td>16.328847</td>\n",
       "      <td>1289.973531</td>\n",
       "    </tr>\n",
       "    <tr>\n",
       "      <td>std</td>\n",
       "      <td>25.939858</td>\n",
       "      <td>190.313730</td>\n",
       "      <td>28.227876</td>\n",
       "      <td>5.747061</td>\n",
       "      <td>818.404367</td>\n",
       "    </tr>\n",
       "    <tr>\n",
       "      <td>min</td>\n",
       "      <td>0.000000</td>\n",
       "      <td>0.000000</td>\n",
       "      <td>0.000000</td>\n",
       "      <td>0.000000</td>\n",
       "      <td>550.000000</td>\n",
       "    </tr>\n",
       "    <tr>\n",
       "      <td>25%</td>\n",
       "      <td>40.000000</td>\n",
       "      <td>282.000000</td>\n",
       "      <td>10.000000</td>\n",
       "      <td>13.000000</td>\n",
       "      <td>550.000000</td>\n",
       "    </tr>\n",
       "    <tr>\n",
       "      <td>50%</td>\n",
       "      <td>60.000000</td>\n",
       "      <td>422.000000</td>\n",
       "      <td>28.000000</td>\n",
       "      <td>17.000000</td>\n",
       "      <td>1023.000000</td>\n",
       "    </tr>\n",
       "    <tr>\n",
       "      <td>75%</td>\n",
       "      <td>76.000000</td>\n",
       "      <td>545.000000</td>\n",
       "      <td>51.000000</td>\n",
       "      <td>20.000000</td>\n",
       "      <td>1750.000000</td>\n",
       "    </tr>\n",
       "    <tr>\n",
       "      <td>max</td>\n",
       "      <td>198.000000</td>\n",
       "      <td>1435.000000</td>\n",
       "      <td>143.000000</td>\n",
       "      <td>38.000000</td>\n",
       "      <td>6770.000000</td>\n",
       "    </tr>\n",
       "  </tbody>\n",
       "</table>\n",
       "</div>"
      ],
      "text/plain": [
       "       count_calls  sum_duration  count_messages  sum_gb_used    month_fee\n",
       "count  2229.000000   2229.000000     2229.000000  2229.000000  2229.000000\n",
       "mean     58.463437    417.934948       33.384029    16.328847  1289.973531\n",
       "std      25.939858    190.313730       28.227876     5.747061   818.404367\n",
       "min       0.000000      0.000000        0.000000     0.000000   550.000000\n",
       "25%      40.000000    282.000000       10.000000    13.000000   550.000000\n",
       "50%      60.000000    422.000000       28.000000    17.000000  1023.000000\n",
       "75%      76.000000    545.000000       51.000000    20.000000  1750.000000\n",
       "max     198.000000   1435.000000      143.000000    38.000000  6770.000000"
      ]
     },
     "execution_count": 21,
     "metadata": {},
     "output_type": "execute_result"
    }
   ],
   "source": [
    "smart_stats = stats_by_month.query('tariff == \"smart\"')\n",
    "smart_stats.drop(columns=['user_id', 'month']).describe()"
   ]
  },
  {
   "cell_type": "code",
   "execution_count": 22,
   "metadata": {},
   "outputs": [
    {
     "data": {
      "text/html": [
       "<div>\n",
       "<style scoped>\n",
       "    .dataframe tbody tr th:only-of-type {\n",
       "        vertical-align: middle;\n",
       "    }\n",
       "\n",
       "    .dataframe tbody tr th {\n",
       "        vertical-align: top;\n",
       "    }\n",
       "\n",
       "    .dataframe thead th {\n",
       "        text-align: right;\n",
       "    }\n",
       "</style>\n",
       "<table border=\"1\" class=\"dataframe\">\n",
       "  <thead>\n",
       "    <tr style=\"text-align: right;\">\n",
       "      <th></th>\n",
       "      <th>count_calls</th>\n",
       "      <th>sum_duration</th>\n",
       "      <th>count_messages</th>\n",
       "      <th>sum_gb_used</th>\n",
       "      <th>month_fee</th>\n",
       "    </tr>\n",
       "  </thead>\n",
       "  <tbody>\n",
       "    <tr>\n",
       "      <td>count</td>\n",
       "      <td>985.000000</td>\n",
       "      <td>985.000000</td>\n",
       "      <td>985.000000</td>\n",
       "      <td>985.000000</td>\n",
       "      <td>985.000000</td>\n",
       "    </tr>\n",
       "    <tr>\n",
       "      <td>mean</td>\n",
       "      <td>73.392893</td>\n",
       "      <td>526.623350</td>\n",
       "      <td>49.363452</td>\n",
       "      <td>19.494416</td>\n",
       "      <td>2070.152284</td>\n",
       "    </tr>\n",
       "    <tr>\n",
       "      <td>std</td>\n",
       "      <td>43.916853</td>\n",
       "      <td>317.606098</td>\n",
       "      <td>47.804457</td>\n",
       "      <td>9.853511</td>\n",
       "      <td>376.187114</td>\n",
       "    </tr>\n",
       "    <tr>\n",
       "      <td>min</td>\n",
       "      <td>0.000000</td>\n",
       "      <td>0.000000</td>\n",
       "      <td>0.000000</td>\n",
       "      <td>0.000000</td>\n",
       "      <td>1950.000000</td>\n",
       "    </tr>\n",
       "    <tr>\n",
       "      <td>25%</td>\n",
       "      <td>41.000000</td>\n",
       "      <td>284.000000</td>\n",
       "      <td>6.000000</td>\n",
       "      <td>12.000000</td>\n",
       "      <td>1950.000000</td>\n",
       "    </tr>\n",
       "    <tr>\n",
       "      <td>50%</td>\n",
       "      <td>74.000000</td>\n",
       "      <td>518.000000</td>\n",
       "      <td>38.000000</td>\n",
       "      <td>19.000000</td>\n",
       "      <td>1950.000000</td>\n",
       "    </tr>\n",
       "    <tr>\n",
       "      <td>75%</td>\n",
       "      <td>104.000000</td>\n",
       "      <td>752.000000</td>\n",
       "      <td>79.000000</td>\n",
       "      <td>27.000000</td>\n",
       "      <td>1950.000000</td>\n",
       "    </tr>\n",
       "    <tr>\n",
       "      <td>max</td>\n",
       "      <td>244.000000</td>\n",
       "      <td>1673.000000</td>\n",
       "      <td>224.000000</td>\n",
       "      <td>49.000000</td>\n",
       "      <td>4800.000000</td>\n",
       "    </tr>\n",
       "  </tbody>\n",
       "</table>\n",
       "</div>"
      ],
      "text/plain": [
       "       count_calls  sum_duration  count_messages  sum_gb_used    month_fee\n",
       "count   985.000000    985.000000      985.000000   985.000000   985.000000\n",
       "mean     73.392893    526.623350       49.363452    19.494416  2070.152284\n",
       "std      43.916853    317.606098       47.804457     9.853511   376.187114\n",
       "min       0.000000      0.000000        0.000000     0.000000  1950.000000\n",
       "25%      41.000000    284.000000        6.000000    12.000000  1950.000000\n",
       "50%      74.000000    518.000000       38.000000    19.000000  1950.000000\n",
       "75%     104.000000    752.000000       79.000000    27.000000  1950.000000\n",
       "max     244.000000   1673.000000      224.000000    49.000000  4800.000000"
      ]
     },
     "execution_count": 22,
     "metadata": {},
     "output_type": "execute_result"
    }
   ],
   "source": [
    "ultra_stats = stats_by_month.query('tariff == \"ultra\"')\n",
    "ultra_stats.drop(columns=['user_id', 'month']).describe()"
   ]
  },
  {
   "cell_type": "markdown",
   "metadata": {},
   "source": [
    "Среднее количество и стандартное отклонение для всех величин уже представлены в таблицах. Рассчитаем отдельно дисперсию. Укажем в вызове функции параметр `ddof=1`, так как мы имеем в распоряжении лишь выборку данных."
   ]
  },
  {
   "cell_type": "code",
   "execution_count": 23,
   "metadata": {},
   "outputs": [
    {
     "data": {
      "text/plain": [
       "count_calls          672.876243\n",
       "sum_duration       36219.315784\n",
       "count_messages       796.812958\n",
       "sum_gb_used           33.028705\n",
       "month_fee         669785.708006\n",
       "dtype: float64"
      ]
     },
     "execution_count": 23,
     "metadata": {},
     "output_type": "execute_result"
    }
   ],
   "source": [
    "np.var(smart_stats.drop(columns=['user_id', 'month']), ddof=1)"
   ]
  },
  {
   "cell_type": "code",
   "execution_count": 24,
   "metadata": {},
   "outputs": [
    {
     "data": {
      "text/plain": [
       "count_calls         1928.689990\n",
       "sum_duration      100873.633397\n",
       "count_messages      2285.266143\n",
       "sum_gb_used           97.091686\n",
       "month_fee         141516.745079\n",
       "dtype: float64"
      ]
     },
     "execution_count": 24,
     "metadata": {},
     "output_type": "execute_result"
    }
   ],
   "source": [
    "np.var(ultra_stats.drop(columns=['user_id', 'month']), ddof=1)"
   ]
  },
  {
   "cell_type": "markdown",
   "metadata": {},
   "source": [
    "Построим гистограммы распределения данных в столбцах `sum_duration`, `count_messages` и `sum_gb_used` - количества минут, сообщений и гигабайт в месяц соответственно - для пользователей каждого тарифного плана. Укажем в параметрах вызова функции `hist` параметр `density=True`, чтобы построить плотностные гистограммы. Площади прямоугольников на гистограмме будут показывать вероятность того, что некоторый пользователь потратил такой объем услуг (минут, сообщений или гигабайт), входящий в этот промежуток."
   ]
  },
  {
   "cell_type": "code",
   "execution_count": 25,
   "metadata": {},
   "outputs": [],
   "source": [
    "def plot_hist(col_smart, col_ultra, bins):\n",
    "    fig, axs = plt.subplots(1, 2, figsize=(10, 5))\n",
    "    col_smart.hist(bins=bins, density=True, ax=axs[0])\n",
    "    col_ultra.hist(bins=bins, density=True, ax=axs[1])\n",
    "    axs[0].set_title('Тариф Smart')\n",
    "    axs[1].set_title('Тариф Ultra')\n",
    "    for i in range(2):\n",
    "        axs[i].set_xlabel('Количество', fontsize=12)\n",
    "        axs[i].set_ylabel('Плотность частоты', fontsize=12)\n",
    "    plt.subplots_adjust(wspace=0.5)"
   ]
  },
  {
   "cell_type": "code",
   "execution_count": 26,
   "metadata": {},
   "outputs": [
    {
     "data": {
      "image/png": "[encoded data removed]",
      "text/plain": [
       "<Figure size 720x360 with 2 Axes>"
      ]
     },
     "metadata": {
      "needs_background": "light"
     },
     "output_type": "display_data"
    }
   ],
   "source": [
    "plot_hist(smart_stats['sum_duration'], ultra_stats['sum_duration'], np.arange(0, 1751, 250))\n",
    "fig.suptitle('Гистограммы распределения пользователей тарифов по количеству потраченных минут в месяц', fontsize=16)\n",
    "plt.show()"
   ]
  },
  {
   "cell_type": "code",
   "execution_count": 27,
   "metadata": {
    "scrolled": false
   },
   "outputs": [
    {
     "data": {
      "image/png": "[encoded data removed]",
      "text/plain": [
       "<Figure size 720x360 with 2 Axes>"
      ]
     },
     "metadata": {
      "needs_background": "light"
     },
     "output_type": "display_data"
    }
   ],
   "source": [
    "plot_hist(smart_stats['count_messages'], ultra_stats['count_messages'], np.arange(0, 231, 10))\n",
    "fig.suptitle('Гистограммы распределения пользователей тарифов по количеству потраченных сообщений в месяц', fontsize=16)\n",
    "plt.show()"
   ]
  },
  {
   "cell_type": "code",
   "execution_count": 28,
   "metadata": {},
   "outputs": [
    {
     "data": {
      "image/png": "[encoded data removed]",
      "text/plain": [
       "<Figure size 720x360 with 2 Axes>"
      ]
     },
     "metadata": {
      "needs_background": "light"
     },
     "output_type": "display_data"
    }
   ],
   "source": [
    "plot_hist(smart_stats['sum_gb_used'], ultra_stats['sum_gb_used'], np.arange(0, 51, 5))\n",
    "fig.suptitle('Гистограммы распределения пользователей тарифов по количеству потраченных гигабайт в месяц', fontsize=16)\n",
    "plt.show()"
   ]
  },
  {
   "cell_type": "markdown",
   "metadata": {},
   "source": [
    "### Вывод"
   ]
  },
  {
   "cell_type": "markdown",
   "metadata": {},
   "source": [
    "Исходя из анализа числового описания данных и гистограмм, можно сделать следующие выводы:\n",
    "1. В среднем в месяц пользователи тарифа \"Smart\" тратят 418 минут, 34 ссобщения и 17 гигабайт, в то время как пользователи \"Ultra\" - 527 минут, 50 сообщений и 20 гигабайт интернета;\n",
    "2. Дисперсия и стандартное отклонение величин в тарифе \"Ultra\" больше, чем в тарифе \"Smart\";\n",
    "3. Никто из пользователей тарифа \"Ultra\" в 2018-ом году не выходил за лимит минут и сообщений - только около 15-20% людей вышли за лимит пакета интернета;\n",
    "4. Среди клиентов, использующих тариф \"Smart\", около 35% потратили больше минут, чем включено в тариф; чуть более 25% вышли за лимит сообщений; а вот интернета не хватает подавляющему большинству - примерно две трети клиентов докупали гигабайты интернета;\n",
    "5. Сообщениями одинаково неактивно пользуются клиенты обоих тарифов - об этом говорит длинная \"свеча\" на гистограммах в районе нуля."
   ]
  },
  {
   "cell_type": "markdown",
   "metadata": {},
   "source": [
    "## Проверка гипотез"
   ]
  },
  {
   "cell_type": "markdown",
   "metadata": {},
   "source": [
    "Для проверки гипотез используем t-тест: будем проверять равенство среднего двух генеральных совокупностей по взятым из них выборкам (пользователи тарифа \"Smart\" и тарифа \"Ultra\"). Для этого сначала необходимо сформулировать нулевую и альтернативную гипотезы."
   ]
  },
  {
   "cell_type": "markdown",
   "metadata": {},
   "source": [
    "### Гипотеза: \"Средняя выручка пользователей тарифов «Ультра» и «Смарт» различаются\""
   ]
  },
  {
   "cell_type": "markdown",
   "metadata": {},
   "source": [
    "**Нулевая гипотеза:** \"Средняя выручка пользователей тарифа «Ультра» равна средней выручке пользователей тарифа «Смарт»\".\n",
    "\n",
    "**Альтернативная гипотеза:** \"Средняя выручка пользователей тарифа «Ультра» отличается от средней выручки пользователей тарифа «Смарт»\".\n",
    "\n",
    "Для подтверждения исходной гипотезы необходимо, чтобы нулевая гипотеза была отвергнута в пользу альтернативной."
   ]
  },
  {
   "cell_type": "code",
   "execution_count": 29,
   "metadata": {
    "scrolled": true
   },
   "outputs": [
    {
     "name": "stdout",
     "output_type": "stream",
     "text": [
      "p-значение: 4.2606313931076085e-250\n",
      "Нулевая гипотеза отвергнута в пользу альтернативной.\n"
     ]
    }
   ],
   "source": [
    "from scipy import stats as st\n",
    "alpha = .01\n",
    "results_1 = st.ttest_ind(smart_stats['month_fee'],\n",
    "                         ultra_stats['month_fee'],\n",
    "                         equal_var=False) # указываем, т.к. дисперсии не равны (из шага 3)\n",
    "print('p-значение:', results_1.pvalue)\n",
    "if results_1.pvalue < alpha:\n",
    "    print('Нулевая гипотеза отвергнута в пользу альтернативной.')\n",
    "else:\n",
    "    print('Не получилось отвергнуть нулевую гипотезу.')"
   ]
  },
  {
   "cell_type": "markdown",
   "metadata": {},
   "source": [
    "Исходная гипотеза подтвердилась, причем было получено очень маленькое значение p-value. Это говорит о том, что выручки очень сильно различаются."
   ]
  },
  {
   "cell_type": "code",
   "execution_count": 30,
   "metadata": {},
   "outputs": [
    {
     "data": {
      "text/html": [
       "<div>\n",
       "<style scoped>\n",
       "    .dataframe tbody tr th:only-of-type {\n",
       "        vertical-align: middle;\n",
       "    }\n",
       "\n",
       "    .dataframe tbody tr th {\n",
       "        vertical-align: top;\n",
       "    }\n",
       "\n",
       "    .dataframe thead tr th {\n",
       "        text-align: left;\n",
       "    }\n",
       "\n",
       "    .dataframe thead tr:last-of-type th {\n",
       "        text-align: right;\n",
       "    }\n",
       "</style>\n",
       "<table border=\"1\" class=\"dataframe\">\n",
       "  <thead>\n",
       "    <tr>\n",
       "      <th></th>\n",
       "      <th>mean</th>\n",
       "      <th>median</th>\n",
       "    </tr>\n",
       "    <tr>\n",
       "      <th></th>\n",
       "      <th>month_fee</th>\n",
       "      <th>month_fee</th>\n",
       "    </tr>\n",
       "    <tr>\n",
       "      <th>tariff</th>\n",
       "      <th></th>\n",
       "      <th></th>\n",
       "    </tr>\n",
       "  </thead>\n",
       "  <tbody>\n",
       "    <tr>\n",
       "      <td>smart</td>\n",
       "      <td>1289.973531</td>\n",
       "      <td>1023</td>\n",
       "    </tr>\n",
       "    <tr>\n",
       "      <td>ultra</td>\n",
       "      <td>2070.152284</td>\n",
       "      <td>1950</td>\n",
       "    </tr>\n",
       "  </tbody>\n",
       "</table>\n",
       "</div>"
      ],
      "text/plain": [
       "               mean    median\n",
       "          month_fee month_fee\n",
       "tariff                       \n",
       "smart   1289.973531      1023\n",
       "ultra   2070.152284      1950"
      ]
     },
     "execution_count": 30,
     "metadata": {},
     "output_type": "execute_result"
    }
   ],
   "source": [
    "stats_by_month.pivot_table(index='tariff', values='month_fee', aggfunc=['mean', 'median'])"
   ]
  },
  {
   "cell_type": "markdown",
   "metadata": {},
   "source": [
    "Из сводной таблицы видно, что в среднем с одного пользователя тарифа \"Ultra\" компания получает 2070 рублей, в то время как с одного пользователя \"Smart\" - 1290 рублей. Эти значения немного выше медианных: для тарифа \"Ultra\" это означает, что есть люди, которым не хватает пакета, включенного в тариф (в данном случае пакета интернета), так как медиана равна ежемесячной плате за тариф; для тарифа \"Smart\" же это значит, что больше людей переплачивают больше медианного значения, которое и так больше ежемесячной платы почти на 500 рублей."
   ]
  },
  {
   "cell_type": "markdown",
   "metadata": {},
   "source": [
    "### Гипотеза: \"Средняя выручка пользователей из Москвы отличается от выручки пользователей из других регионов\""
   ]
  },
  {
   "cell_type": "markdown",
   "metadata": {},
   "source": [
    "**Нулевая гипотеза:** \"Средняя выручка пользователей из Москвы равна средней выручке пользователей из других регионов\".\n",
    "\n",
    "**Альтернативная гипотеза:** \"Средняя выручка пользователей из Москвы отличается от средней выручки пользователей из других регионов\".\n",
    "\n",
    "Для подтверждения исходной гипотезы необходимо, чтобы нулевая гипотеза была отвергнута в пользу альтернативной.\n",
    "Сначала необходимо добавить в таблицу `stats_by_month` информацию о городе пользователя."
   ]
  },
  {
   "cell_type": "code",
   "execution_count": 31,
   "metadata": {},
   "outputs": [
    {
     "data": {
      "text/html": [
       "<div>\n",
       "<style scoped>\n",
       "    .dataframe tbody tr th:only-of-type {\n",
       "        vertical-align: middle;\n",
       "    }\n",
       "\n",
       "    .dataframe tbody tr th {\n",
       "        vertical-align: top;\n",
       "    }\n",
       "\n",
       "    .dataframe thead th {\n",
       "        text-align: right;\n",
       "    }\n",
       "</style>\n",
       "<table border=\"1\" class=\"dataframe\">\n",
       "  <thead>\n",
       "    <tr style=\"text-align: right;\">\n",
       "      <th></th>\n",
       "      <th>user_id</th>\n",
       "      <th>month</th>\n",
       "      <th>count_calls</th>\n",
       "      <th>sum_duration</th>\n",
       "      <th>count_messages</th>\n",
       "      <th>sum_gb_used</th>\n",
       "      <th>tariff</th>\n",
       "      <th>month_fee</th>\n",
       "      <th>city</th>\n",
       "    </tr>\n",
       "  </thead>\n",
       "  <tbody>\n",
       "    <tr>\n",
       "      <td>0</td>\n",
       "      <td>1000</td>\n",
       "      <td>5</td>\n",
       "      <td>22</td>\n",
       "      <td>159</td>\n",
       "      <td>22</td>\n",
       "      <td>3</td>\n",
       "      <td>ultra</td>\n",
       "      <td>1950</td>\n",
       "      <td>Краснодар</td>\n",
       "    </tr>\n",
       "    <tr>\n",
       "      <td>1</td>\n",
       "      <td>1000</td>\n",
       "      <td>6</td>\n",
       "      <td>43</td>\n",
       "      <td>172</td>\n",
       "      <td>60</td>\n",
       "      <td>23</td>\n",
       "      <td>ultra</td>\n",
       "      <td>1950</td>\n",
       "      <td>Краснодар</td>\n",
       "    </tr>\n",
       "    <tr>\n",
       "      <td>2</td>\n",
       "      <td>1000</td>\n",
       "      <td>7</td>\n",
       "      <td>47</td>\n",
       "      <td>340</td>\n",
       "      <td>75</td>\n",
       "      <td>14</td>\n",
       "      <td>ultra</td>\n",
       "      <td>1950</td>\n",
       "      <td>Краснодар</td>\n",
       "    </tr>\n",
       "    <tr>\n",
       "      <td>3</td>\n",
       "      <td>1000</td>\n",
       "      <td>8</td>\n",
       "      <td>52</td>\n",
       "      <td>408</td>\n",
       "      <td>81</td>\n",
       "      <td>14</td>\n",
       "      <td>ultra</td>\n",
       "      <td>1950</td>\n",
       "      <td>Краснодар</td>\n",
       "    </tr>\n",
       "    <tr>\n",
       "      <td>4</td>\n",
       "      <td>1000</td>\n",
       "      <td>9</td>\n",
       "      <td>58</td>\n",
       "      <td>466</td>\n",
       "      <td>57</td>\n",
       "      <td>15</td>\n",
       "      <td>ultra</td>\n",
       "      <td>1950</td>\n",
       "      <td>Краснодар</td>\n",
       "    </tr>\n",
       "    <tr>\n",
       "      <td>5</td>\n",
       "      <td>1000</td>\n",
       "      <td>10</td>\n",
       "      <td>57</td>\n",
       "      <td>350</td>\n",
       "      <td>73</td>\n",
       "      <td>15</td>\n",
       "      <td>ultra</td>\n",
       "      <td>1950</td>\n",
       "      <td>Краснодар</td>\n",
       "    </tr>\n",
       "    <tr>\n",
       "      <td>6</td>\n",
       "      <td>1000</td>\n",
       "      <td>11</td>\n",
       "      <td>43</td>\n",
       "      <td>338</td>\n",
       "      <td>58</td>\n",
       "      <td>15</td>\n",
       "      <td>ultra</td>\n",
       "      <td>1950</td>\n",
       "      <td>Краснодар</td>\n",
       "    </tr>\n",
       "    <tr>\n",
       "      <td>7</td>\n",
       "      <td>1000</td>\n",
       "      <td>12</td>\n",
       "      <td>46</td>\n",
       "      <td>333</td>\n",
       "      <td>70</td>\n",
       "      <td>10</td>\n",
       "      <td>ultra</td>\n",
       "      <td>1950</td>\n",
       "      <td>Краснодар</td>\n",
       "    </tr>\n",
       "    <tr>\n",
       "      <td>8</td>\n",
       "      <td>1001</td>\n",
       "      <td>11</td>\n",
       "      <td>59</td>\n",
       "      <td>430</td>\n",
       "      <td>0</td>\n",
       "      <td>18</td>\n",
       "      <td>smart</td>\n",
       "      <td>1150</td>\n",
       "      <td>Москва</td>\n",
       "    </tr>\n",
       "    <tr>\n",
       "      <td>9</td>\n",
       "      <td>1001</td>\n",
       "      <td>12</td>\n",
       "      <td>63</td>\n",
       "      <td>414</td>\n",
       "      <td>0</td>\n",
       "      <td>14</td>\n",
       "      <td>smart</td>\n",
       "      <td>550</td>\n",
       "      <td>Москва</td>\n",
       "    </tr>\n",
       "  </tbody>\n",
       "</table>\n",
       "</div>"
      ],
      "text/plain": [
       "   user_id  month  count_calls  sum_duration  count_messages  sum_gb_used  \\\n",
       "0     1000      5           22           159              22            3   \n",
       "1     1000      6           43           172              60           23   \n",
       "2     1000      7           47           340              75           14   \n",
       "3     1000      8           52           408              81           14   \n",
       "4     1000      9           58           466              57           15   \n",
       "5     1000     10           57           350              73           15   \n",
       "6     1000     11           43           338              58           15   \n",
       "7     1000     12           46           333              70           10   \n",
       "8     1001     11           59           430               0           18   \n",
       "9     1001     12           63           414               0           14   \n",
       "\n",
       "  tariff  month_fee       city  \n",
       "0  ultra       1950  Краснодар  \n",
       "1  ultra       1950  Краснодар  \n",
       "2  ultra       1950  Краснодар  \n",
       "3  ultra       1950  Краснодар  \n",
       "4  ultra       1950  Краснодар  \n",
       "5  ultra       1950  Краснодар  \n",
       "6  ultra       1950  Краснодар  \n",
       "7  ultra       1950  Краснодар  \n",
       "8  smart       1150     Москва  \n",
       "9  smart        550     Москва  "
      ]
     },
     "execution_count": 31,
     "metadata": {},
     "output_type": "execute_result"
    }
   ],
   "source": [
    "stats_by_month = stats_by_month.merge(users[['user_id', 'city']], on='user_id')\n",
    "stats_by_month.head(10)"
   ]
  },
  {
   "cell_type": "code",
   "execution_count": 32,
   "metadata": {},
   "outputs": [
    {
     "name": "stdout",
     "output_type": "stream",
     "text": [
      "p-значение: 0.5257376663729298\n",
      "Не получилось отвергнуть нулевую гипотезу.\n"
     ]
    }
   ],
   "source": [
    "alpha = .01\n",
    "results_2 = st.ttest_ind(stats_by_month.query('city == \"Москва\"')['month_fee'],\n",
    "                         stats_by_month.query('city != \"Москва\"')['month_fee'],\n",
    "                         equal_var=False)\n",
    "print('p-значение:', results_2.pvalue)\n",
    "if results_2.pvalue < alpha:\n",
    "    print('Нулевая гипотеза отвергнута в пользу альтернативной.')\n",
    "else:\n",
    "    print('Не получилось отвергнуть нулевую гипотезу.')"
   ]
  },
  {
   "cell_type": "markdown",
   "metadata": {},
   "source": [
    "Получили очень большое значение `p-value = 0.53`, то есть чуть более чем в 50% случаев из генеральной совокупности можно получить такую выборку при условии, что нулевая гипотеза верна. Отсюда можно сделать вывод, что исходная гипотеза не подтвердилась - даже если средние выручки и отличаются, то разница незначительна."
   ]
  },
  {
   "cell_type": "markdown",
   "metadata": {},
   "source": [
    "### Вывод"
   ]
  },
  {
   "cell_type": "markdown",
   "metadata": {},
   "source": [
    "Была проведена проверка статистических гипотез, по итогам которой:\n",
    "- гипотеза \"Средняя выручка пользователей тарифов «Ультра» и «Смарт» различаются\" подтвердилась, причем выручки различаются очень сильно: в среднем с одного пользователя тарифа \"Ultra\" компания получает 2070 рублей, в то время как с одного пользователя \"Smart\" - 1290 рублей;\n",
    "- гипотеза \"Средняя выручка пользователей из Москвы отличается от выручки пользователей из других регионов\" не подтвердилась: выручка с московских клиентов компании не сильно отличается (то есть разница статистически незначима) от выручки с клиентов из других регионов."
   ]
  },
  {
   "cell_type": "markdown",
   "metadata": {},
   "source": [
    "## Общий вывод"
   ]
  },
  {
   "cell_type": "markdown",
   "metadata": {},
   "source": [
    "Результат статистического анализа предоставленной выборки: **тариф \"Ultra\" лучше тарифа \"Smart\" как для клиентов, так и для компании.**\n",
    "\n",
    "Преимущества для клиентов:\n",
    "- большие пакеты услуг, включенные в тариф, позволяют не задумываться о том, что минуты, сообщения или гигабайты закончатся, к примеру, в середине месяца: по статистике, клиенты \"Ultra\" не успевают израсходовать пакеты минут и сообщений за месяц, а интернет докупают намного меньше людей, так как большинству хватает стандартного пакета;\n",
    "- даже если какой-то пакет будет израсходован, для тарифа \"Ultra\" предусмотрены более дешевые условия использования сверх пакетов: в среднем в месяц клиенты переплачивают всего 120 рублей против 740 рублей у клиентов \"Smart\".\n",
    "\n",
    "Преимущества для компании:\n",
    "- с одного пользователя тарифа \"Ultra\" прибыль в месяц в среднем равна 2070 рублей против 1290 рублей у тарифа \"Smart\";\n",
    "- более высокая лояльность клиентов за отсутствие больших переплат сверх тарифа - никто не любит платить больше, чем нужно, все любят стабильность и прозрачность."
   ]
  },
  {
   "cell_type": "markdown",
   "metadata": {},
   "source": [
    "## Чек-лист готовности проекта"
   ]
  },
  {
   "cell_type": "markdown",
   "metadata": {},
   "source": [
    "- [x]  открыт файл\n",
    "- [x]  файлы изучены (выведены первые строки, метод info())\n",
    "- [x]  изменены типы данных\n",
    "- [x]  есть пояснение, в каких столбцах изменены типы и почему\n",
    "- [x]  исправлены прочие ошибки в данных\n",
    "- [x]  есть пояснение, в каких столбцах исправлены ошибки, какие это ошибки и почему исправлены\n",
    "- [x]  посчитано для каждого пользователя: количество сделанных звонков и израсходованных минут разговора по месяцам\n",
    "- [x]  посчитано для каждого пользователя: количество отправленных сообщений по месяцам\n",
    "- [x]  посчитано для каждого пользователя: объем израсходованного интернет-трафика по месяцам\n",
    "- [x]  посчитано для каждого пользователя: помесячная выручка\n",
    "- [x]  описано поведение клиентов оператора, исходя из выборки\n",
    "- [x]  дан ответ на вопрос: \"Сколько минут разговора, сколько сообщений и какой объём интернет-трафика требуется пользователям каждого тарифа в месяц?\"\n",
    "- [x]  выполнено задание: \"Посчитайте среднее количество, дисперсию и стандартное отклонение. Постройте гистограммы. Опишите распределения.\"\n",
    "- [x]  проверена гипотеза: \"Средняя выручка пользователей тарифов «Ультра» и «Смарт» различается.\"\n",
    "- [x]  проверена гипотеза: \"Средняя выручка пользователей из Москвы отличается от выручки пользователей из других регионов.\"\n",
    "- [x]  есть пояснение, как были сформулированы нулевая и альтернативная гипотезы\n",
    "- [x]  есть пояснение, какой критерий был использован для проверки гипотез и почему\n",
    "- [x]  в каждом этапе есть выводы\n",
    "- [x]  есть общий вывод"
   ]
  }
 ],
 "metadata": {
  "ExecuteTimeLog": [
   {
    "duration": 1271,
    "start_time": "2022-01-10T08:05:21.602Z"
   },
   {
    "duration": 28,
    "start_time": "2022-01-10T08:06:11.428Z"
   },
   {
    "duration": 11,
    "start_time": "2022-01-10T08:06:12.480Z"
   },
   {
    "duration": 11,
    "start_time": "2022-01-10T08:06:14.439Z"
   },
   {
    "duration": 10,
    "start_time": "2022-01-10T08:06:18.168Z"
   },
   {
    "duration": 12,
    "start_time": "2022-01-10T08:06:19.559Z"
   },
   {
    "duration": 12,
    "start_time": "2022-01-10T08:06:32.517Z"
   },
   {
    "duration": 9,
    "start_time": "2022-01-10T08:13:22.154Z"
   },
   {
    "duration": 39,
    "start_time": "2022-01-10T08:13:38.281Z"
   },
   {
    "duration": 21,
    "start_time": "2022-01-10T08:13:50.111Z"
   },
   {
    "duration": 19,
    "start_time": "2022-01-10T08:14:04.195Z"
   },
   {
    "duration": 9,
    "start_time": "2022-01-10T08:14:45.508Z"
   },
   {
    "duration": 397,
    "start_time": "2022-01-10T09:12:41.545Z"
   },
   {
    "duration": 290,
    "start_time": "2022-01-10T09:12:54.049Z"
   },
   {
    "duration": 554,
    "start_time": "2022-01-10T09:13:12.815Z"
   },
   {
    "duration": 16,
    "start_time": "2022-01-10T09:13:13.371Z"
   },
   {
    "duration": 10,
    "start_time": "2022-01-10T09:13:13.390Z"
   },
   {
    "duration": 20,
    "start_time": "2022-01-10T09:13:13.403Z"
   },
   {
    "duration": 26,
    "start_time": "2022-01-10T09:13:13.426Z"
   },
   {
    "duration": 13,
    "start_time": "2022-01-10T09:13:13.455Z"
   },
   {
    "duration": 68,
    "start_time": "2022-01-10T09:13:13.470Z"
   },
   {
    "duration": 10,
    "start_time": "2022-01-10T09:13:13.541Z"
   },
   {
    "duration": 20,
    "start_time": "2022-01-10T09:13:13.554Z"
   },
   {
    "duration": 51,
    "start_time": "2022-01-10T09:13:13.577Z"
   },
   {
    "duration": 9,
    "start_time": "2022-01-10T09:13:13.630Z"
   },
   {
    "duration": 304,
    "start_time": "2022-01-10T09:13:31.351Z"
   },
   {
    "duration": 21,
    "start_time": "2022-01-10T09:14:06.135Z"
   },
   {
    "duration": 8,
    "start_time": "2022-01-10T09:18:12.111Z"
   },
   {
    "duration": 7,
    "start_time": "2022-01-10T09:18:35.769Z"
   },
   {
    "duration": 7,
    "start_time": "2022-01-10T09:18:51.966Z"
   },
   {
    "duration": 83,
    "start_time": "2022-01-10T09:25:48.304Z"
   },
   {
    "duration": 88,
    "start_time": "2022-01-10T09:27:11.295Z"
   },
   {
    "duration": 81,
    "start_time": "2022-01-10T09:27:34.008Z"
   },
   {
    "duration": 293,
    "start_time": "2022-01-10T10:03:46.708Z"
   },
   {
    "duration": 292,
    "start_time": "2022-01-10T10:04:27.536Z"
   },
   {
    "duration": 353,
    "start_time": "2022-01-10T10:04:34.454Z"
   },
   {
    "duration": 497,
    "start_time": "2022-01-10T10:07:41.906Z"
   },
   {
    "duration": 14,
    "start_time": "2022-01-10T10:07:42.406Z"
   },
   {
    "duration": 11,
    "start_time": "2022-01-10T10:07:42.423Z"
   },
   {
    "duration": 12,
    "start_time": "2022-01-10T10:07:42.436Z"
   },
   {
    "duration": 29,
    "start_time": "2022-01-10T10:07:42.450Z"
   },
   {
    "duration": 52,
    "start_time": "2022-01-10T10:07:42.481Z"
   },
   {
    "duration": 22,
    "start_time": "2022-01-10T10:07:42.535Z"
   },
   {
    "duration": 11,
    "start_time": "2022-01-10T10:07:42.559Z"
   },
   {
    "duration": 62,
    "start_time": "2022-01-10T10:07:42.574Z"
   },
   {
    "duration": 11,
    "start_time": "2022-01-10T10:07:42.638Z"
   },
   {
    "duration": 8,
    "start_time": "2022-01-10T10:07:42.651Z"
   },
   {
    "duration": 70,
    "start_time": "2022-01-10T10:07:42.662Z"
   },
   {
    "duration": 8,
    "start_time": "2022-01-10T10:07:42.735Z"
   },
   {
    "duration": 140,
    "start_time": "2022-01-10T10:07:42.746Z"
   },
   {
    "duration": 322,
    "start_time": "2022-01-10T10:07:47.933Z"
   },
   {
    "duration": 292,
    "start_time": "2022-01-10T10:12:05.487Z"
   },
   {
    "duration": 431,
    "start_time": "2022-01-10T10:12:16.101Z"
   },
   {
    "duration": 27,
    "start_time": "2022-01-10T10:12:52.907Z"
   },
   {
    "duration": 92,
    "start_time": "2022-01-10T10:38:12.364Z"
   },
   {
    "duration": 111,
    "start_time": "2022-01-10T10:39:49.780Z"
   },
   {
    "duration": 231,
    "start_time": "2022-01-10T10:41:32.535Z"
   },
   {
    "duration": 545,
    "start_time": "2022-01-10T10:41:50.927Z"
   },
   {
    "duration": 19,
    "start_time": "2022-01-10T10:41:51.475Z"
   },
   {
    "duration": 11,
    "start_time": "2022-01-10T10:41:51.497Z"
   },
   {
    "duration": 18,
    "start_time": "2022-01-10T10:41:51.511Z"
   },
   {
    "duration": 46,
    "start_time": "2022-01-10T10:41:51.532Z"
   },
   {
    "duration": 11,
    "start_time": "2022-01-10T10:41:51.580Z"
   },
   {
    "duration": 23,
    "start_time": "2022-01-10T10:41:51.633Z"
   },
   {
    "duration": 10,
    "start_time": "2022-01-10T10:41:51.659Z"
   },
   {
    "duration": 71,
    "start_time": "2022-01-10T10:41:51.675Z"
   },
   {
    "duration": 16,
    "start_time": "2022-01-10T10:41:51.750Z"
   },
   {
    "duration": 9,
    "start_time": "2022-01-10T10:41:51.769Z"
   },
   {
    "duration": 56,
    "start_time": "2022-01-10T10:41:51.780Z"
   },
   {
    "duration": 7,
    "start_time": "2022-01-10T10:41:51.839Z"
   },
   {
    "duration": 151,
    "start_time": "2022-01-10T10:41:51.848Z"
   },
   {
    "duration": 223,
    "start_time": "2022-01-10T10:41:54.689Z"
   },
   {
    "duration": 503,
    "start_time": "2022-01-10T10:47:19.756Z"
   },
   {
    "duration": 75,
    "start_time": "2022-01-10T10:47:37.743Z"
   },
   {
    "duration": 30,
    "start_time": "2022-01-10T10:48:47.382Z"
   },
   {
    "duration": 342,
    "start_time": "2022-01-10T10:49:18.636Z"
   },
   {
    "duration": 30,
    "start_time": "2022-01-10T10:49:58.817Z"
   },
   {
    "duration": 374,
    "start_time": "2022-01-10T10:52:47.563Z"
   },
   {
    "duration": 57,
    "start_time": "2022-01-10T10:53:10.271Z"
   },
   {
    "duration": 366,
    "start_time": "2022-01-10T14:33:15.555Z"
   },
   {
    "duration": 1026,
    "start_time": "2022-01-10T14:33:20.318Z"
   },
   {
    "duration": 15,
    "start_time": "2022-01-10T14:33:21.346Z"
   },
   {
    "duration": 6,
    "start_time": "2022-01-10T14:33:21.362Z"
   },
   {
    "duration": 8,
    "start_time": "2022-01-10T14:33:21.369Z"
   },
   {
    "duration": 19,
    "start_time": "2022-01-10T14:33:21.379Z"
   },
   {
    "duration": 7,
    "start_time": "2022-01-10T14:33:21.399Z"
   },
   {
    "duration": 32,
    "start_time": "2022-01-10T14:33:21.407Z"
   },
   {
    "duration": 6,
    "start_time": "2022-01-10T14:33:21.441Z"
   },
   {
    "duration": 13,
    "start_time": "2022-01-10T14:33:21.448Z"
   },
   {
    "duration": 6,
    "start_time": "2022-01-10T14:33:21.463Z"
   },
   {
    "duration": 10,
    "start_time": "2022-01-10T14:33:21.470Z"
   },
   {
    "duration": 15,
    "start_time": "2022-01-10T14:33:21.482Z"
   },
   {
    "duration": 31,
    "start_time": "2022-01-10T14:33:21.499Z"
   },
   {
    "duration": 66,
    "start_time": "2022-01-10T14:33:21.531Z"
   },
   {
    "duration": 158,
    "start_time": "2022-01-10T14:33:21.598Z"
   },
   {
    "duration": 55,
    "start_time": "2022-01-10T14:33:25.686Z"
   },
   {
    "duration": 29,
    "start_time": "2022-01-10T14:35:31.216Z"
   },
   {
    "duration": 32,
    "start_time": "2022-01-10T14:35:46.644Z"
   },
   {
    "duration": 1418,
    "start_time": "2022-01-10T14:37:35.854Z"
   },
   {
    "duration": 37,
    "start_time": "2022-01-10T14:37:46.181Z"
   },
   {
    "duration": 31,
    "start_time": "2022-01-10T14:50:12.261Z"
   },
   {
    "duration": 387,
    "start_time": "2022-01-10T14:51:31.584Z"
   },
   {
    "duration": 9,
    "start_time": "2022-01-10T14:51:31.973Z"
   },
   {
    "duration": 7,
    "start_time": "2022-01-10T14:51:31.984Z"
   },
   {
    "duration": 13,
    "start_time": "2022-01-10T14:51:31.993Z"
   },
   {
    "duration": 19,
    "start_time": "2022-01-10T14:51:32.007Z"
   },
   {
    "duration": 7,
    "start_time": "2022-01-10T14:51:32.028Z"
   },
   {
    "duration": 19,
    "start_time": "2022-01-10T14:51:32.037Z"
   },
   {
    "duration": 6,
    "start_time": "2022-01-10T14:51:32.058Z"
   },
   {
    "duration": 15,
    "start_time": "2022-01-10T14:51:32.065Z"
   },
   {
    "duration": 9,
    "start_time": "2022-01-10T14:51:32.081Z"
   },
   {
    "duration": 37,
    "start_time": "2022-01-10T14:51:32.091Z"
   },
   {
    "duration": 23,
    "start_time": "2022-01-10T14:51:32.129Z"
   },
   {
    "duration": 4,
    "start_time": "2022-01-10T14:51:32.154Z"
   },
   {
    "duration": 84,
    "start_time": "2022-01-10T14:51:32.160Z"
   },
   {
    "duration": 52,
    "start_time": "2022-01-10T14:51:34.767Z"
   },
   {
    "duration": 26,
    "start_time": "2022-01-10T14:52:40.028Z"
   },
   {
    "duration": 1330,
    "start_time": "2022-01-10T14:54:28.695Z"
   },
   {
    "duration": 14,
    "start_time": "2022-01-10T14:54:51.328Z"
   },
   {
    "duration": 19,
    "start_time": "2022-01-10T14:57:19.388Z"
   },
   {
    "duration": 343,
    "start_time": "2022-01-10T15:03:00.895Z"
   },
   {
    "duration": 26,
    "start_time": "2022-01-10T15:03:19.166Z"
   },
   {
    "duration": 28,
    "start_time": "2022-01-10T15:03:46.479Z"
   },
   {
    "duration": 16,
    "start_time": "2022-01-10T15:03:59.845Z"
   },
   {
    "duration": 24,
    "start_time": "2022-01-10T15:07:16.536Z"
   },
   {
    "duration": 5,
    "start_time": "2022-01-10T15:13:15.527Z"
   },
   {
    "duration": 374,
    "start_time": "2022-01-10T15:15:18.416Z"
   },
   {
    "duration": 29,
    "start_time": "2022-01-10T15:15:35.630Z"
   },
   {
    "duration": 26,
    "start_time": "2022-01-10T15:15:43.112Z"
   },
   {
    "duration": 59,
    "start_time": "2022-01-10T15:18:30.814Z"
   },
   {
    "duration": 27,
    "start_time": "2022-01-10T15:28:29.576Z"
   },
   {
    "duration": 34,
    "start_time": "2022-01-10T15:33:59.203Z"
   },
   {
    "duration": 31,
    "start_time": "2022-01-10T15:34:43.729Z"
   },
   {
    "duration": 401,
    "start_time": "2022-01-10T15:35:00.070Z"
   },
   {
    "duration": 371,
    "start_time": "2022-01-10T15:35:10.276Z"
   },
   {
    "duration": 8,
    "start_time": "2022-01-10T15:35:10.649Z"
   },
   {
    "duration": 7,
    "start_time": "2022-01-10T15:35:10.659Z"
   },
   {
    "duration": 8,
    "start_time": "2022-01-10T15:35:10.668Z"
   },
   {
    "duration": 21,
    "start_time": "2022-01-10T15:35:10.677Z"
   },
   {
    "duration": 9,
    "start_time": "2022-01-10T15:35:10.699Z"
   },
   {
    "duration": 29,
    "start_time": "2022-01-10T15:35:10.709Z"
   },
   {
    "duration": 7,
    "start_time": "2022-01-10T15:35:10.740Z"
   },
   {
    "duration": 15,
    "start_time": "2022-01-10T15:35:10.748Z"
   },
   {
    "duration": 8,
    "start_time": "2022-01-10T15:35:10.764Z"
   },
   {
    "duration": 8,
    "start_time": "2022-01-10T15:35:10.773Z"
   },
   {
    "duration": 49,
    "start_time": "2022-01-10T15:35:10.782Z"
   },
   {
    "duration": 4,
    "start_time": "2022-01-10T15:35:10.833Z"
   },
   {
    "duration": 59,
    "start_time": "2022-01-10T15:35:10.839Z"
   },
   {
    "duration": 71,
    "start_time": "2022-01-10T15:35:10.899Z"
   },
   {
    "duration": 27,
    "start_time": "2022-01-10T15:35:10.971Z"
   },
   {
    "duration": 35,
    "start_time": "2022-01-10T15:35:11.000Z"
   },
   {
    "duration": 19,
    "start_time": "2022-01-10T15:35:11.036Z"
   },
   {
    "duration": 511,
    "start_time": "2022-01-10T15:35:14.070Z"
   },
   {
    "duration": 31,
    "start_time": "2022-01-10T15:35:53.667Z"
   },
   {
    "duration": 34,
    "start_time": "2022-01-10T15:41:00.847Z"
   },
   {
    "duration": 380,
    "start_time": "2022-01-10T15:44:47.181Z"
   },
   {
    "duration": 28,
    "start_time": "2022-01-10T15:47:48.715Z"
   },
   {
    "duration": 13,
    "start_time": "2022-01-10T15:48:03.750Z"
   },
   {
    "duration": 23,
    "start_time": "2022-01-10T15:48:26.228Z"
   },
   {
    "duration": 54,
    "start_time": "2022-01-10T15:48:29.958Z"
   },
   {
    "duration": 397,
    "start_time": "2022-01-10T15:49:24.079Z"
   },
   {
    "duration": 330,
    "start_time": "2022-01-10T15:49:43.535Z"
   },
   {
    "duration": 414,
    "start_time": "2022-01-10T15:49:59.413Z"
   },
   {
    "duration": 347,
    "start_time": "2022-01-10T15:50:55.090Z"
   },
   {
    "duration": 34,
    "start_time": "2022-01-10T15:51:04.029Z"
   },
   {
    "duration": 26,
    "start_time": "2022-01-10T15:52:06.775Z"
   },
   {
    "duration": 30,
    "start_time": "2022-01-10T15:55:11.533Z"
   },
   {
    "duration": 16,
    "start_time": "2022-01-10T15:55:23.398Z"
   },
   {
    "duration": 22,
    "start_time": "2022-01-10T15:55:37.808Z"
   },
   {
    "duration": 329,
    "start_time": "2022-01-10T15:55:50.830Z"
   },
   {
    "duration": 21,
    "start_time": "2022-01-10T15:56:41.490Z"
   },
   {
    "duration": 14,
    "start_time": "2022-01-10T15:56:47.806Z"
   },
   {
    "duration": 16,
    "start_time": "2022-01-10T15:56:53.184Z"
   },
   {
    "duration": 438,
    "start_time": "2022-01-10T15:57:36.832Z"
   },
   {
    "duration": 26,
    "start_time": "2022-01-10T15:57:46.888Z"
   },
   {
    "duration": 26,
    "start_time": "2022-01-10T15:58:32.799Z"
   },
   {
    "duration": 60,
    "start_time": "2022-01-10T15:58:38.043Z"
   },
   {
    "duration": 30,
    "start_time": "2022-01-10T15:58:47.553Z"
   },
   {
    "duration": 25,
    "start_time": "2022-01-10T15:59:10.907Z"
   },
   {
    "duration": 29,
    "start_time": "2022-01-10T15:59:15.479Z"
   },
   {
    "duration": 4,
    "start_time": "2022-01-10T16:36:28.515Z"
   },
   {
    "duration": 6,
    "start_time": "2022-01-10T16:37:03.101Z"
   },
   {
    "duration": 537,
    "start_time": "2022-01-10T16:43:26.476Z"
   },
   {
    "duration": 556,
    "start_time": "2022-01-10T16:43:59.088Z"
   },
   {
    "duration": 575,
    "start_time": "2022-01-10T16:45:48.023Z"
   },
   {
    "duration": 306,
    "start_time": "2022-01-10T16:49:13.474Z"
   },
   {
    "duration": 305,
    "start_time": "2022-01-10T16:49:39.532Z"
   },
   {
    "duration": 305,
    "start_time": "2022-01-10T16:49:46.758Z"
   },
   {
    "duration": 302,
    "start_time": "2022-01-10T16:55:07.534Z"
   },
   {
    "duration": 347,
    "start_time": "2022-01-10T16:55:42.520Z"
   },
   {
    "duration": 330,
    "start_time": "2022-01-10T16:56:04.305Z"
   },
   {
    "duration": 324,
    "start_time": "2022-01-10T16:56:26.470Z"
   },
   {
    "duration": 27,
    "start_time": "2022-01-10T17:47:08.551Z"
   },
   {
    "duration": 422,
    "start_time": "2022-01-10T17:53:21.296Z"
   },
   {
    "duration": 359,
    "start_time": "2022-01-10T17:53:51.396Z"
   },
   {
    "duration": 1342,
    "start_time": "2022-01-10T17:54:04.779Z"
   },
   {
    "duration": 30,
    "start_time": "2022-01-10T17:55:22.209Z"
   },
   {
    "duration": 26,
    "start_time": "2022-01-10T17:55:46.595Z"
   },
   {
    "duration": 10,
    "start_time": "2022-01-10T18:14:11.726Z"
   },
   {
    "duration": 11,
    "start_time": "2022-01-10T18:14:28.131Z"
   },
   {
    "duration": 11,
    "start_time": "2022-01-10T18:14:44.610Z"
   },
   {
    "duration": 11,
    "start_time": "2022-01-10T18:15:02.610Z"
   },
   {
    "duration": 21,
    "start_time": "2022-01-10T18:17:43.075Z"
   },
   {
    "duration": 22,
    "start_time": "2022-01-10T18:18:02.310Z"
   },
   {
    "duration": 12,
    "start_time": "2022-01-10T18:18:57.973Z"
   },
   {
    "duration": 9,
    "start_time": "2022-01-10T18:19:07.059Z"
   },
   {
    "duration": 22,
    "start_time": "2022-01-10T18:27:42.822Z"
   },
   {
    "duration": 22,
    "start_time": "2022-01-10T18:28:25.835Z"
   },
   {
    "duration": 10,
    "start_time": "2022-01-10T18:29:15.059Z"
   },
   {
    "duration": 8,
    "start_time": "2022-01-10T18:29:30.404Z"
   },
   {
    "duration": 859,
    "start_time": "2022-01-10T18:55:01.344Z"
   },
   {
    "duration": 627,
    "start_time": "2022-01-10T18:55:19.540Z"
   },
   {
    "duration": 642,
    "start_time": "2022-01-10T18:55:28.421Z"
   },
   {
    "duration": 618,
    "start_time": "2022-01-10T18:59:22.973Z"
   },
   {
    "duration": 727,
    "start_time": "2022-01-10T19:00:58.683Z"
   },
   {
    "duration": 655,
    "start_time": "2022-01-10T19:02:17.440Z"
   },
   {
    "duration": 628,
    "start_time": "2022-01-10T19:03:28.589Z"
   },
   {
    "duration": 1376,
    "start_time": "2022-01-11T14:18:47.815Z"
   },
   {
    "duration": 28,
    "start_time": "2022-01-11T14:18:49.197Z"
   },
   {
    "duration": 11,
    "start_time": "2022-01-11T14:18:49.228Z"
   },
   {
    "duration": 18,
    "start_time": "2022-01-11T14:18:49.242Z"
   },
   {
    "duration": 31,
    "start_time": "2022-01-11T14:18:49.263Z"
   },
   {
    "duration": 37,
    "start_time": "2022-01-11T14:18:49.297Z"
   },
   {
    "duration": 24,
    "start_time": "2022-01-11T14:18:49.336Z"
   },
   {
    "duration": 12,
    "start_time": "2022-01-11T14:18:49.363Z"
   },
   {
    "duration": 60,
    "start_time": "2022-01-11T14:18:49.378Z"
   },
   {
    "duration": 15,
    "start_time": "2022-01-11T14:18:49.441Z"
   },
   {
    "duration": 9,
    "start_time": "2022-01-11T14:18:49.459Z"
   },
   {
    "duration": 20,
    "start_time": "2022-01-11T14:18:49.471Z"
   },
   {
    "duration": 143,
    "start_time": "2022-01-11T14:18:49.493Z"
   },
   {
    "duration": 97,
    "start_time": "2022-01-11T14:18:49.638Z"
   },
   {
    "duration": 44,
    "start_time": "2022-01-11T14:18:49.738Z"
   },
   {
    "duration": 58,
    "start_time": "2022-01-11T14:18:49.784Z"
   },
   {
    "duration": 45,
    "start_time": "2022-01-11T14:18:49.844Z"
   },
   {
    "duration": 75,
    "start_time": "2022-01-11T14:18:49.891Z"
   },
   {
    "duration": 638,
    "start_time": "2022-01-11T14:18:49.969Z"
   },
   {
    "duration": 51,
    "start_time": "2022-01-11T14:18:50.610Z"
   },
   {
    "duration": 60,
    "start_time": "2022-01-11T14:18:50.664Z"
   },
   {
    "duration": 15,
    "start_time": "2022-01-11T14:18:50.726Z"
   },
   {
    "duration": 15,
    "start_time": "2022-01-11T14:18:50.746Z"
   },
   {
    "duration": 2023,
    "start_time": "2022-01-11T14:19:02.003Z"
   },
   {
    "duration": 692,
    "start_time": "2022-01-11T14:19:22.843Z"
   },
   {
    "duration": 874,
    "start_time": "2022-01-11T14:19:46.789Z"
   },
   {
    "duration": 922,
    "start_time": "2022-01-11T14:20:19.003Z"
   },
   {
    "duration": 592,
    "start_time": "2022-01-11T14:30:12.191Z"
   },
   {
    "duration": 673,
    "start_time": "2022-01-11T14:30:28.676Z"
   },
   {
    "duration": 906,
    "start_time": "2022-01-11T14:42:02.635Z"
   },
   {
    "duration": 1207,
    "start_time": "2022-01-11T14:42:05.771Z"
   },
   {
    "duration": 888,
    "start_time": "2022-01-11T14:42:24.436Z"
   },
   {
    "duration": 779,
    "start_time": "2022-01-11T14:42:57.651Z"
   },
   {
    "duration": 758,
    "start_time": "2022-01-11T14:48:31.108Z"
   },
   {
    "duration": 848,
    "start_time": "2022-01-11T14:49:46.133Z"
   },
   {
    "duration": 769,
    "start_time": "2022-01-11T14:49:58.221Z"
   },
   {
    "duration": 847,
    "start_time": "2022-01-11T14:53:23.101Z"
   },
   {
    "duration": 868,
    "start_time": "2022-01-11T14:55:07.471Z"
   },
   {
    "duration": 636,
    "start_time": "2022-01-11T14:55:42.372Z"
   },
   {
    "duration": 1010,
    "start_time": "2022-01-11T14:55:57.181Z"
   },
   {
    "duration": 746,
    "start_time": "2022-01-11T14:57:15.596Z"
   },
   {
    "duration": 611,
    "start_time": "2022-01-11T14:59:11.979Z"
   },
   {
    "duration": 678,
    "start_time": "2022-01-11T15:00:42.949Z"
   },
   {
    "duration": 803,
    "start_time": "2022-01-11T15:01:01.348Z"
   },
   {
    "duration": 629,
    "start_time": "2022-01-11T15:42:02.430Z"
   },
   {
    "duration": 1126,
    "start_time": "2022-01-11T15:42:34.676Z"
   },
   {
    "duration": 842,
    "start_time": "2022-01-11T15:43:06.590Z"
   },
   {
    "duration": 690,
    "start_time": "2022-01-11T15:49:00.768Z"
   },
   {
    "duration": 843,
    "start_time": "2022-01-11T16:43:16.990Z"
   },
   {
    "duration": 41,
    "start_time": "2022-01-11T17:01:50.852Z"
   },
   {
    "duration": 13,
    "start_time": "2022-01-11T17:04:40.315Z"
   },
   {
    "duration": 28,
    "start_time": "2022-01-11T17:04:47.480Z"
   },
   {
    "duration": 696,
    "start_time": "2022-01-11T17:05:12.538Z"
   },
   {
    "duration": 23,
    "start_time": "2022-01-11T17:05:13.238Z"
   },
   {
    "duration": 156,
    "start_time": "2022-01-11T17:05:13.264Z"
   },
   {
    "duration": 206,
    "start_time": "2022-01-11T17:05:13.423Z"
   },
   {
    "duration": 178,
    "start_time": "2022-01-11T17:05:13.632Z"
   },
   {
    "duration": 110,
    "start_time": "2022-01-11T17:05:13.813Z"
   },
   {
    "duration": 276,
    "start_time": "2022-01-11T17:05:13.925Z"
   },
   {
    "duration": 147,
    "start_time": "2022-01-11T17:05:14.205Z"
   },
   {
    "duration": 258,
    "start_time": "2022-01-11T17:05:14.356Z"
   },
   {
    "duration": 183,
    "start_time": "2022-01-11T17:05:14.618Z"
   },
   {
    "duration": 177,
    "start_time": "2022-01-11T17:05:14.805Z"
   },
   {
    "duration": 346,
    "start_time": "2022-01-11T17:05:14.984Z"
   },
   {
    "duration": 260,
    "start_time": "2022-01-11T17:05:15.333Z"
   },
   {
    "duration": 164,
    "start_time": "2022-01-11T17:05:15.596Z"
   },
   {
    "duration": 195,
    "start_time": "2022-01-11T17:05:15.763Z"
   },
   {
    "duration": 226,
    "start_time": "2022-01-11T17:05:15.961Z"
   },
   {
    "duration": 187,
    "start_time": "2022-01-11T17:05:16.190Z"
   },
   {
    "duration": 386,
    "start_time": "2022-01-11T17:05:16.383Z"
   },
   {
    "duration": 769,
    "start_time": "2022-01-11T17:05:16.773Z"
   },
   {
    "duration": 48,
    "start_time": "2022-01-11T17:05:17.544Z"
   },
   {
    "duration": 220,
    "start_time": "2022-01-11T17:05:17.595Z"
   },
   {
    "duration": 153,
    "start_time": "2022-01-11T17:05:17.818Z"
   },
   {
    "duration": 224,
    "start_time": "2022-01-11T17:05:17.975Z"
   },
   {
    "duration": 731,
    "start_time": "2022-01-11T17:05:18.202Z"
   },
   {
    "duration": 1070,
    "start_time": "2022-01-11T17:05:18.937Z"
   },
   {
    "duration": 725,
    "start_time": "2022-01-11T17:05:20.010Z"
   },
   {
    "duration": 10,
    "start_time": "2022-01-11T17:05:20.739Z"
   },
   {
    "duration": 33,
    "start_time": "2022-01-11T17:05:26.539Z"
   },
   {
    "duration": 21,
    "start_time": "2022-01-11T17:07:22.026Z"
   },
   {
    "duration": 17,
    "start_time": "2022-01-11T17:07:30.889Z"
   },
   {
    "duration": 26,
    "start_time": "2022-01-11T17:39:02.352Z"
   },
   {
    "duration": 36,
    "start_time": "2022-01-11T17:40:26.172Z"
   },
   {
    "duration": 1462,
    "start_time": "2022-01-11T18:40:15.598Z"
   },
   {
    "duration": 35,
    "start_time": "2022-01-11T18:40:17.063Z"
   },
   {
    "duration": 13,
    "start_time": "2022-01-11T18:40:17.102Z"
   },
   {
    "duration": 16,
    "start_time": "2022-01-11T18:40:17.118Z"
   },
   {
    "duration": 65,
    "start_time": "2022-01-11T18:40:17.136Z"
   },
   {
    "duration": 13,
    "start_time": "2022-01-11T18:40:17.203Z"
   },
   {
    "duration": 50,
    "start_time": "2022-01-11T18:40:17.219Z"
   },
   {
    "duration": 14,
    "start_time": "2022-01-11T18:40:17.273Z"
   },
   {
    "duration": 33,
    "start_time": "2022-01-11T18:40:17.290Z"
   },
   {
    "duration": 14,
    "start_time": "2022-01-11T18:40:17.326Z"
   },
   {
    "duration": 33,
    "start_time": "2022-01-11T18:40:17.342Z"
   },
   {
    "duration": 19,
    "start_time": "2022-01-11T18:40:17.379Z"
   },
   {
    "duration": 152,
    "start_time": "2022-01-11T18:40:17.401Z"
   },
   {
    "duration": 82,
    "start_time": "2022-01-11T18:40:17.568Z"
   },
   {
    "duration": 45,
    "start_time": "2022-01-11T18:40:17.668Z"
   },
   {
    "duration": 55,
    "start_time": "2022-01-11T18:40:17.717Z"
   },
   {
    "duration": 52,
    "start_time": "2022-01-11T18:40:17.775Z"
   },
   {
    "duration": 81,
    "start_time": "2022-01-11T18:40:17.831Z"
   },
   {
    "duration": 682,
    "start_time": "2022-01-11T18:40:17.914Z"
   },
   {
    "duration": 40,
    "start_time": "2022-01-11T18:40:18.599Z"
   },
   {
    "duration": 59,
    "start_time": "2022-01-11T18:40:18.641Z"
   },
   {
    "duration": 15,
    "start_time": "2022-01-11T18:40:18.702Z"
   },
   {
    "duration": 44,
    "start_time": "2022-01-11T18:40:18.724Z"
   },
   {
    "duration": 789,
    "start_time": "2022-01-11T18:40:18.770Z"
   },
   {
    "duration": 822,
    "start_time": "2022-01-11T18:40:19.561Z"
   },
   {
    "duration": 760,
    "start_time": "2022-01-11T18:40:20.386Z"
   },
   {
    "duration": 608,
    "start_time": "2022-01-11T18:40:21.148Z"
   },
   {
    "duration": 37,
    "start_time": "2022-01-11T18:40:21.758Z"
   },
   {
    "duration": 26,
    "start_time": "2022-01-11T18:40:21.798Z"
   },
   {
    "duration": 51,
    "start_time": "2022-01-11T18:40:21.827Z"
   },
   {
    "duration": 1848,
    "start_time": "2022-01-13T09:30:08.949Z"
   },
   {
    "duration": 36,
    "start_time": "2022-01-13T09:30:10.799Z"
   },
   {
    "duration": 15,
    "start_time": "2022-01-13T09:30:10.839Z"
   },
   {
    "duration": 18,
    "start_time": "2022-01-13T09:30:10.857Z"
   },
   {
    "duration": 43,
    "start_time": "2022-01-13T09:30:10.878Z"
   },
   {
    "duration": 15,
    "start_time": "2022-01-13T09:30:10.924Z"
   },
   {
    "duration": 40,
    "start_time": "2022-01-13T09:30:10.942Z"
   },
   {
    "duration": 10,
    "start_time": "2022-01-13T09:30:10.984Z"
   },
   {
    "duration": 45,
    "start_time": "2022-01-13T09:30:10.998Z"
   },
   {
    "duration": 22,
    "start_time": "2022-01-13T09:30:11.046Z"
   },
   {
    "duration": 11,
    "start_time": "2022-01-13T09:30:11.070Z"
   },
   {
    "duration": 39,
    "start_time": "2022-01-13T09:30:11.084Z"
   },
   {
    "duration": 130,
    "start_time": "2022-01-13T09:30:11.127Z"
   },
   {
    "duration": 98,
    "start_time": "2022-01-13T09:30:11.259Z"
   },
   {
    "duration": 43,
    "start_time": "2022-01-13T09:30:11.359Z"
   },
   {
    "duration": 25,
    "start_time": "2022-01-13T09:30:11.430Z"
   },
   {
    "duration": 33,
    "start_time": "2022-01-13T09:30:11.458Z"
   },
   {
    "duration": 82,
    "start_time": "2022-01-13T09:30:11.493Z"
   },
   {
    "duration": 645,
    "start_time": "2022-01-13T09:30:11.578Z"
   },
   {
    "duration": 40,
    "start_time": "2022-01-13T09:30:12.226Z"
   },
   {
    "duration": 60,
    "start_time": "2022-01-13T09:30:12.269Z"
   },
   {
    "duration": 14,
    "start_time": "2022-01-13T09:30:12.332Z"
   },
   {
    "duration": 28,
    "start_time": "2022-01-13T09:30:12.349Z"
   },
   {
    "duration": 827,
    "start_time": "2022-01-13T09:30:12.380Z"
   },
   {
    "duration": 733,
    "start_time": "2022-01-13T09:30:13.210Z"
   },
   {
    "duration": 694,
    "start_time": "2022-01-13T09:30:13.946Z"
   },
   {
    "duration": 559,
    "start_time": "2022-01-13T09:30:14.646Z"
   },
   {
    "duration": 37,
    "start_time": "2022-01-13T09:30:15.208Z"
   },
   {
    "duration": 21,
    "start_time": "2022-01-13T09:30:15.248Z"
   },
   {
    "duration": 21,
    "start_time": "2022-01-13T09:30:15.271Z"
   },
   {
    "duration": 466,
    "start_time": "2022-01-13T09:37:46.517Z"
   },
   {
    "duration": 558,
    "start_time": "2022-01-13T09:37:59.842Z"
   },
   {
    "duration": 355,
    "start_time": "2022-01-13T09:38:03.008Z"
   },
   {
    "duration": 465,
    "start_time": "2022-01-13T09:38:34.752Z"
   },
   {
    "duration": 16,
    "start_time": "2022-01-13T09:47:19.069Z"
   },
   {
    "duration": 444,
    "start_time": "2022-01-13T09:47:37.337Z"
   },
   {
    "duration": 840,
    "start_time": "2022-01-13T11:05:14.521Z"
   },
   {
    "duration": 537,
    "start_time": "2022-01-13T11:05:21.075Z"
   },
   {
    "duration": 4,
    "start_time": "2022-01-13T11:10:15.206Z"
   },
   {
    "duration": 718,
    "start_time": "2022-01-13T11:10:30.033Z"
   },
   {
    "duration": 4,
    "start_time": "2022-01-13T11:11:37.746Z"
   },
   {
    "duration": 38,
    "start_time": "2022-01-13T11:11:38.698Z"
   },
   {
    "duration": 66,
    "start_time": "2022-01-13T11:12:36.569Z"
   },
   {
    "duration": 4,
    "start_time": "2022-01-13T11:14:07.682Z"
   },
   {
    "duration": 20,
    "start_time": "2022-01-13T11:14:08.296Z"
   },
   {
    "duration": 32,
    "start_time": "2022-01-13T11:14:12.244Z"
   },
   {
    "duration": 31,
    "start_time": "2022-01-13T11:14:24.283Z"
   },
   {
    "duration": 25,
    "start_time": "2022-01-13T11:14:35.480Z"
   },
   {
    "duration": 16,
    "start_time": "2022-01-13T11:14:46.050Z"
   },
   {
    "duration": 20,
    "start_time": "2022-01-13T11:23:58.511Z"
   },
   {
    "duration": 106,
    "start_time": "2022-01-13T11:24:10.922Z"
   },
   {
    "duration": 69,
    "start_time": "2022-01-13T11:27:14.790Z"
   },
   {
    "duration": 68,
    "start_time": "2022-01-13T11:28:58.684Z"
   },
   {
    "duration": 74,
    "start_time": "2022-01-13T11:29:04.706Z"
   },
   {
    "duration": 17,
    "start_time": "2022-01-13T11:43:56.961Z"
   },
   {
    "duration": 13,
    "start_time": "2022-01-13T11:44:15.343Z"
   },
   {
    "duration": 23,
    "start_time": "2022-01-13T11:45:11.290Z"
   },
   {
    "duration": 551,
    "start_time": "2022-01-13T11:50:09.324Z"
   },
   {
    "duration": 672,
    "start_time": "2022-01-13T11:50:28.840Z"
   },
   {
    "duration": 712,
    "start_time": "2022-01-13T11:50:40.668Z"
   },
   {
    "duration": 4,
    "start_time": "2022-01-13T12:11:13.729Z"
   },
   {
    "duration": 514,
    "start_time": "2022-01-13T12:11:13.735Z"
   },
   {
    "duration": 4,
    "start_time": "2022-01-13T12:11:14.252Z"
   },
   {
    "duration": 24,
    "start_time": "2022-01-13T12:11:14.260Z"
   },
   {
    "duration": 56,
    "start_time": "2022-01-13T12:11:14.287Z"
   },
   {
    "duration": 34,
    "start_time": "2022-01-13T12:11:14.346Z"
   },
   {
    "duration": 58,
    "start_time": "2022-01-13T12:11:14.385Z"
   },
   {
    "duration": 16,
    "start_time": "2022-01-13T12:11:14.446Z"
   },
   {
    "duration": 63,
    "start_time": "2022-01-13T12:11:14.465Z"
   },
   {
    "duration": 117,
    "start_time": "2022-01-13T12:11:14.531Z"
   },
   {
    "duration": 14,
    "start_time": "2022-01-13T12:11:14.650Z"
   },
   {
    "duration": 19,
    "start_time": "2022-01-13T12:11:14.667Z"
   },
   {
    "duration": 686,
    "start_time": "2022-01-13T12:11:14.724Z"
   },
   {
    "duration": 83,
    "start_time": "2022-01-13T12:11:15.412Z"
   },
   {
    "duration": 336,
    "start_time": "2022-01-13T12:11:15.498Z"
   },
   {
    "duration": 38,
    "start_time": "2022-01-13T12:11:18.999Z"
   },
   {
    "duration": 30,
    "start_time": "2022-01-13T12:12:07.866Z"
   },
   {
    "duration": 343,
    "start_time": "2022-01-13T12:12:33.062Z"
   },
   {
    "duration": 31,
    "start_time": "2022-01-13T12:13:33.021Z"
   },
   {
    "duration": 29,
    "start_time": "2022-01-13T12:14:13.098Z"
   },
   {
    "duration": 21,
    "start_time": "2022-01-13T12:15:01.317Z"
   },
   {
    "duration": 39,
    "start_time": "2022-01-13T12:16:30.418Z"
   },
   {
    "duration": 69,
    "start_time": "2022-01-13T12:16:46.914Z"
   },
   {
    "duration": 593,
    "start_time": "2022-01-13T12:17:31.124Z"
   },
   {
    "duration": 41,
    "start_time": "2022-01-13T12:18:33.236Z"
   },
   {
    "duration": 36,
    "start_time": "2022-01-13T12:18:36.229Z"
   },
   {
    "duration": 14,
    "start_time": "2022-01-13T12:18:38.148Z"
   },
   {
    "duration": 13,
    "start_time": "2022-01-13T12:18:40.419Z"
   },
   {
    "duration": 649,
    "start_time": "2022-01-13T12:18:49.710Z"
   },
   {
    "duration": 709,
    "start_time": "2022-01-13T12:18:52.443Z"
   },
   {
    "duration": 534,
    "start_time": "2022-01-13T12:19:12.551Z"
   },
   {
    "duration": 726,
    "start_time": "2022-01-13T12:19:19.700Z"
   },
   {
    "duration": 619,
    "start_time": "2022-01-13T12:19:26.755Z"
   },
   {
    "duration": 6,
    "start_time": "2022-01-13T12:25:23.426Z"
   },
   {
    "duration": 508,
    "start_time": "2022-01-13T12:25:24.860Z"
   },
   {
    "duration": 600,
    "start_time": "2022-01-13T12:26:17.458Z"
   },
   {
    "duration": 639,
    "start_time": "2022-01-13T12:26:56.553Z"
   },
   {
    "duration": 453,
    "start_time": "2022-01-13T12:28:18.175Z"
   },
   {
    "duration": 29,
    "start_time": "2022-01-13T12:28:20.709Z"
   },
   {
    "duration": 24,
    "start_time": "2022-01-13T12:28:30.413Z"
   },
   {
    "duration": 19,
    "start_time": "2022-01-13T12:28:33.172Z"
   },
   {
    "duration": 4,
    "start_time": "2022-01-13T12:28:53.758Z"
   },
   {
    "duration": 510,
    "start_time": "2022-01-13T12:28:53.764Z"
   },
   {
    "duration": 4,
    "start_time": "2022-01-13T12:28:54.277Z"
   },
   {
    "duration": 25,
    "start_time": "2022-01-13T12:28:54.284Z"
   },
   {
    "duration": 37,
    "start_time": "2022-01-13T12:28:54.311Z"
   },
   {
    "duration": 29,
    "start_time": "2022-01-13T12:28:54.351Z"
   },
   {
    "duration": 53,
    "start_time": "2022-01-13T12:28:54.384Z"
   },
   {
    "duration": 16,
    "start_time": "2022-01-13T12:28:54.440Z"
   },
   {
    "duration": 18,
    "start_time": "2022-01-13T12:28:54.459Z"
   },
   {
    "duration": 155,
    "start_time": "2022-01-13T12:28:54.479Z"
   },
   {
    "duration": 14,
    "start_time": "2022-01-13T12:28:54.636Z"
   },
   {
    "duration": 21,
    "start_time": "2022-01-13T12:28:54.652Z"
   },
   {
    "duration": 725,
    "start_time": "2022-01-13T12:28:54.675Z"
   },
   {
    "duration": 90,
    "start_time": "2022-01-13T12:28:55.403Z"
   },
   {
    "duration": 396,
    "start_time": "2022-01-13T12:28:55.495Z"
   },
   {
    "duration": 53,
    "start_time": "2022-01-13T12:28:55.893Z"
   },
   {
    "duration": 23,
    "start_time": "2022-01-13T12:28:55.949Z"
   },
   {
    "duration": 63,
    "start_time": "2022-01-13T12:28:55.975Z"
   },
   {
    "duration": 129,
    "start_time": "2022-01-13T12:28:56.043Z"
   },
   {
    "duration": 631,
    "start_time": "2022-01-13T12:28:56.176Z"
   },
   {
    "duration": 47,
    "start_time": "2022-01-13T12:28:56.809Z"
   },
   {
    "duration": 37,
    "start_time": "2022-01-13T12:28:56.859Z"
   },
   {
    "duration": 34,
    "start_time": "2022-01-13T12:28:56.899Z"
   },
   {
    "duration": 12,
    "start_time": "2022-01-13T12:28:56.935Z"
   },
   {
    "duration": 6,
    "start_time": "2022-01-13T12:28:56.949Z"
   },
   {
    "duration": 581,
    "start_time": "2022-01-13T12:28:56.957Z"
   },
   {
    "duration": 616,
    "start_time": "2022-01-13T12:28:57.540Z"
   },
   {
    "duration": 604,
    "start_time": "2022-01-13T12:28:58.160Z"
   },
   {
    "duration": 9,
    "start_time": "2022-01-13T12:28:58.767Z"
   },
   {
    "duration": 59,
    "start_time": "2022-01-13T12:28:58.778Z"
   },
   {
    "duration": 21,
    "start_time": "2022-01-13T12:28:58.839Z"
   },
   {
    "duration": 13,
    "start_time": "2022-01-13T12:28:58.863Z"
   },
   {
    "duration": 1024,
    "start_time": "2022-01-14T10:22:19.657Z"
   },
   {
    "duration": 916,
    "start_time": "2022-01-14T10:22:20.689Z"
   },
   {
    "duration": 4,
    "start_time": "2022-01-14T10:22:21.608Z"
   },
   {
    "duration": 38,
    "start_time": "2022-01-14T10:22:21.615Z"
   },
   {
    "duration": 48,
    "start_time": "2022-01-14T10:22:21.655Z"
   },
   {
    "duration": 30,
    "start_time": "2022-01-14T10:22:21.706Z"
   },
   {
    "duration": 60,
    "start_time": "2022-01-14T10:22:21.739Z"
   },
   {
    "duration": 18,
    "start_time": "2022-01-14T10:22:21.803Z"
   },
   {
    "duration": 47,
    "start_time": "2022-01-14T10:22:21.824Z"
   },
   {
    "duration": 142,
    "start_time": "2022-01-14T10:22:21.874Z"
   },
   {
    "duration": 15,
    "start_time": "2022-01-14T10:22:22.019Z"
   },
   {
    "duration": 53,
    "start_time": "2022-01-14T10:22:22.036Z"
   },
   {
    "duration": 781,
    "start_time": "2022-01-14T10:22:22.092Z"
   },
   {
    "duration": 108,
    "start_time": "2022-01-14T10:22:22.876Z"
   },
   {
    "duration": 343,
    "start_time": "2022-01-14T10:22:22.987Z"
   },
   {
    "duration": 58,
    "start_time": "2022-01-14T10:22:23.332Z"
   },
   {
    "duration": 25,
    "start_time": "2022-01-14T10:22:23.392Z"
   },
   {
    "duration": 56,
    "start_time": "2022-01-14T10:22:23.420Z"
   },
   {
    "duration": 107,
    "start_time": "2022-01-14T10:22:23.480Z"
   },
   {
    "duration": 674,
    "start_time": "2022-01-14T10:22:23.590Z"
   },
   {
    "duration": 60,
    "start_time": "2022-01-14T10:22:24.268Z"
   },
   {
    "duration": 68,
    "start_time": "2022-01-14T10:22:24.331Z"
   },
   {
    "duration": 14,
    "start_time": "2022-01-14T10:22:24.406Z"
   },
   {
    "duration": 44,
    "start_time": "2022-01-14T10:22:24.423Z"
   },
   {
    "duration": 11,
    "start_time": "2022-01-14T10:22:24.472Z"
   },
   {
    "duration": 711,
    "start_time": "2022-01-14T10:22:24.486Z"
   },
   {
    "duration": 671,
    "start_time": "2022-01-14T10:22:25.199Z"
   },
   {
    "duration": 631,
    "start_time": "2022-01-14T10:22:25.877Z"
   },
   {
    "duration": 541,
    "start_time": "2022-01-14T10:22:26.510Z"
   },
   {
    "duration": 46,
    "start_time": "2022-01-14T10:22:27.054Z"
   },
   {
    "duration": 22,
    "start_time": "2022-01-14T10:22:27.102Z"
   },
   {
    "duration": 45,
    "start_time": "2022-01-14T10:22:27.126Z"
   }
  ],
  "kernelspec": {
   "display_name": "Python 3",
   "language": "python",
   "name": "python3"
  },
  "language_info": {
   "codemirror_mode": {
    "name": "ipython",
    "version": 3
   },
   "file_extension": ".py",
   "mimetype": "text/x-python",
   "name": "python",
   "nbconvert_exporter": "python",
   "pygments_lexer": "ipython3",
   "version": "3.8.5"
  },
  "toc": {
   "base_numbering": 1,
   "nav_menu": {},
   "number_sections": true,
   "sideBar": true,
   "skip_h1_title": true,
   "title_cell": "Содержание",
   "title_sidebar": "Contents",
   "toc_cell": true,
   "toc_position": {
    "height": "calc(100% - 180px)",
    "left": "10px",
    "top": "150px",
    "width": "165px"
   },
   "toc_section_display": true,
   "toc_window_display": true
  },
  "varInspector": {
   "cols": {
    "lenName": 16,
    "lenType": 16,
    "lenVar": 40
   },
   "kernels_config": {
    "python": {
     "delete_cmd_postfix": "",
     "delete_cmd_prefix": "del ",
     "library": "var_list.py",
     "varRefreshCmd": "print(var_dic_list())"
    },
    "r": {
     "delete_cmd_postfix": ") ",
     "delete_cmd_prefix": "rm(",
     "library": "var_list.r",
     "varRefreshCmd": "cat(var_dic_list()) "
    }
   },
   "types_to_exclude": [
    "module",
    "function",
    "builtin_function_or_method",
    "instance",
    "_Feature"
   ],
   "window_display": false
  }
 },
 "nbformat": 4,
 "nbformat_minor": 2
}
