{
 "cells": [
  {
   "cell_type": "markdown",
   "metadata": {},
   "source": [
    "# Исследование надёжности заёмщиков\n",
    "\n",
    "Заказчик — кредитный отдел банка. Нужно разобраться, влияет ли семейное положение и количество детей клиента на факт погашения кредита в срок. Входные данные от банка — статистика о платёжеспособности клиентов.\n",
    "\n",
    "Результаты исследования будут учтены при построении модели **кредитного скоринга** — специальной системы, которая оценивает способность потенциального заёмщика вернуть кредит банку."
   ]
  },
  {
   "cell_type": "markdown",
   "metadata": {},
   "source": [
    "## Шаг 1. Откройте файл с данными и изучите общую информацию"
   ]
  },
  {
   "cell_type": "code",
   "execution_count": 1,
   "metadata": {},
   "outputs": [
    {
     "data": {
      "text/html": [
       "<div>\n",
       "<style scoped>\n",
       "    .dataframe tbody tr th:only-of-type {\n",
       "        vertical-align: middle;\n",
       "    }\n",
       "\n",
       "    .dataframe tbody tr th {\n",
       "        vertical-align: top;\n",
       "    }\n",
       "\n",
       "    .dataframe thead th {\n",
       "        text-align: right;\n",
       "    }\n",
       "</style>\n",
       "<table border=\"1\" class=\"dataframe\">\n",
       "  <thead>\n",
       "    <tr style=\"text-align: right;\">\n",
       "      <th></th>\n",
       "      <th>children</th>\n",
       "      <th>days_employed</th>\n",
       "      <th>dob_years</th>\n",
       "      <th>education</th>\n",
       "      <th>education_id</th>\n",
       "      <th>family_status</th>\n",
       "      <th>family_status_id</th>\n",
       "      <th>gender</th>\n",
       "      <th>income_type</th>\n",
       "      <th>debt</th>\n",
       "      <th>total_income</th>\n",
       "      <th>purpose</th>\n",
       "    </tr>\n",
       "  </thead>\n",
       "  <tbody>\n",
       "    <tr>\n",
       "      <td>0</td>\n",
       "      <td>1</td>\n",
       "      <td>-8437.673028</td>\n",
       "      <td>42</td>\n",
       "      <td>высшее</td>\n",
       "      <td>0</td>\n",
       "      <td>женат / замужем</td>\n",
       "      <td>0</td>\n",
       "      <td>F</td>\n",
       "      <td>сотрудник</td>\n",
       "      <td>0</td>\n",
       "      <td>253875.639453</td>\n",
       "      <td>покупка жилья</td>\n",
       "    </tr>\n",
       "    <tr>\n",
       "      <td>1</td>\n",
       "      <td>1</td>\n",
       "      <td>-4024.803754</td>\n",
       "      <td>36</td>\n",
       "      <td>среднее</td>\n",
       "      <td>1</td>\n",
       "      <td>женат / замужем</td>\n",
       "      <td>0</td>\n",
       "      <td>F</td>\n",
       "      <td>сотрудник</td>\n",
       "      <td>0</td>\n",
       "      <td>112080.014102</td>\n",
       "      <td>приобретение автомобиля</td>\n",
       "    </tr>\n",
       "    <tr>\n",
       "      <td>2</td>\n",
       "      <td>0</td>\n",
       "      <td>-5623.422610</td>\n",
       "      <td>33</td>\n",
       "      <td>Среднее</td>\n",
       "      <td>1</td>\n",
       "      <td>женат / замужем</td>\n",
       "      <td>0</td>\n",
       "      <td>M</td>\n",
       "      <td>сотрудник</td>\n",
       "      <td>0</td>\n",
       "      <td>145885.952297</td>\n",
       "      <td>покупка жилья</td>\n",
       "    </tr>\n",
       "    <tr>\n",
       "      <td>3</td>\n",
       "      <td>3</td>\n",
       "      <td>-4124.747207</td>\n",
       "      <td>32</td>\n",
       "      <td>среднее</td>\n",
       "      <td>1</td>\n",
       "      <td>женат / замужем</td>\n",
       "      <td>0</td>\n",
       "      <td>M</td>\n",
       "      <td>сотрудник</td>\n",
       "      <td>0</td>\n",
       "      <td>267628.550329</td>\n",
       "      <td>дополнительное образование</td>\n",
       "    </tr>\n",
       "    <tr>\n",
       "      <td>4</td>\n",
       "      <td>0</td>\n",
       "      <td>340266.072047</td>\n",
       "      <td>53</td>\n",
       "      <td>среднее</td>\n",
       "      <td>1</td>\n",
       "      <td>гражданский брак</td>\n",
       "      <td>1</td>\n",
       "      <td>F</td>\n",
       "      <td>пенсионер</td>\n",
       "      <td>0</td>\n",
       "      <td>158616.077870</td>\n",
       "      <td>сыграть свадьбу</td>\n",
       "    </tr>\n",
       "  </tbody>\n",
       "</table>\n",
       "</div>"
      ],
      "text/plain": [
       "   children  days_employed  dob_years education  education_id  \\\n",
       "0         1   -8437.673028         42    высшее             0   \n",
       "1         1   -4024.803754         36   среднее             1   \n",
       "2         0   -5623.422610         33   Среднее             1   \n",
       "3         3   -4124.747207         32   среднее             1   \n",
       "4         0  340266.072047         53   среднее             1   \n",
       "\n",
       "      family_status  family_status_id gender income_type  debt   total_income  \\\n",
       "0   женат / замужем                 0      F   сотрудник     0  253875.639453   \n",
       "1   женат / замужем                 0      F   сотрудник     0  112080.014102   \n",
       "2   женат / замужем                 0      M   сотрудник     0  145885.952297   \n",
       "3   женат / замужем                 0      M   сотрудник     0  267628.550329   \n",
       "4  гражданский брак                 1      F   пенсионер     0  158616.077870   \n",
       "\n",
       "                      purpose  \n",
       "0               покупка жилья  \n",
       "1     приобретение автомобиля  \n",
       "2               покупка жилья  \n",
       "3  дополнительное образование  \n",
       "4             сыграть свадьбу  "
      ]
     },
     "execution_count": 1,
     "metadata": {},
     "output_type": "execute_result"
    }
   ],
   "source": [
    "import pandas as pd\n",
    "\n",
    "data_solvency = pd.read_csv('/datasets/data.csv')\n",
    "data_solvency.head()"
   ]
  },
  {
   "cell_type": "code",
   "execution_count": 2,
   "metadata": {},
   "outputs": [
    {
     "name": "stdout",
     "output_type": "stream",
     "text": [
      "<class 'pandas.core.frame.DataFrame'>\n",
      "RangeIndex: 21525 entries, 0 to 21524\n",
      "Data columns (total 12 columns):\n",
      "children            21525 non-null int64\n",
      "days_employed       19351 non-null float64\n",
      "dob_years           21525 non-null int64\n",
      "education           21525 non-null object\n",
      "education_id        21525 non-null int64\n",
      "family_status       21525 non-null object\n",
      "family_status_id    21525 non-null int64\n",
      "gender              21525 non-null object\n",
      "income_type         21525 non-null object\n",
      "debt                21525 non-null int64\n",
      "total_income        19351 non-null float64\n",
      "purpose             21525 non-null object\n",
      "dtypes: float64(2), int64(5), object(5)\n",
      "memory usage: 2.0+ MB\n"
     ]
    }
   ],
   "source": [
    "data_solvency.info()"
   ]
  },
  {
   "cell_type": "markdown",
   "metadata": {},
   "source": [
    "**Вывод**"
   ]
  },
  {
   "cell_type": "markdown",
   "metadata": {},
   "source": [
    "Путем обзора были выявлены следующие проблемы в данных:\n",
    "\n",
    "1. Столбец `days_employed` (общий трудовой стаж в днях) имеет тип `float` - в нем встречаются дробные и отрицательные значения, хотя число дней не может быть дробным или отрицательным числом, а также невозможные значения (например, в строках 4 и 21520 - в годах это количество дней будет много больше продолжительности жизни человека).\n",
    "2. Есть пропуски в столбцах `days_employed` и `total_income`.\n",
    "3. Данные не категоризированы - строки в столбцах `education`, `family_status`, `income_type` и `purpose` многократно повторяются, занимают много места и делают таблицу громоздкой.\n",
    "4. В таблице присутствуют неявные дубликаты (например, \"Среднее\" и \"среднее\" в столбце `education`)."
   ]
  },
  {
   "cell_type": "markdown",
   "metadata": {},
   "source": [
    "## Шаг 2. Предобработка данных"
   ]
  },
  {
   "cell_type": "markdown",
   "metadata": {},
   "source": [
    "### Обработка пропусков"
   ]
  },
  {
   "cell_type": "markdown",
   "metadata": {},
   "source": [
    "На прошлом шаге были обнаружены пропуски в столбцах `days_employed` (общий трудовой стаж в днях) и `total_income` (ежемесячный доход). Что интересно - их одинаковое количество. Проверим, находятся ли они в одних и тех же строках."
   ]
  },
  {
   "cell_type": "code",
   "execution_count": 3,
   "metadata": {},
   "outputs": [
    {
     "data": {
      "text/plain": [
       "(0, 12)"
      ]
     },
     "execution_count": 3,
     "metadata": {},
     "output_type": "execute_result"
    }
   ],
   "source": [
    "data_solvency[data_solvency['days_employed'].isna() ^ data_solvency['total_income'].isna()].shape"
   ]
  },
  {
   "cell_type": "markdown",
   "metadata": {},
   "source": [
    "Применили логическую индексацию, чтобы отфильтровать строки, в которых значение `NaN` находится либо в столбце `days_employed`, либо в столбце `total_income`. Таких не оказалось, а это означает, что каждому пропуску в столбце `days_employed` всегда соответствует пропуск в столбце `total_income`. Причиной этого могла послужить ошибка при выгрузке данных, но в данной ситуации считаем, что выгрузка была произведена корректно, так как нет возможности это проверить. В таком случаем можем предположить, что этих данных не было указано изначально.\n",
    "\n",
    "Помимо всего прочего, в этих столбцах присутствуют аномальные значения, слишком сильно выделяющиеся на фоне остальных. В подобной ситуации оптимальным решением, по моему мнению, будет заполнение пропусков медианным значением столбца."
   ]
  },
  {
   "cell_type": "code",
   "execution_count": 4,
   "metadata": {},
   "outputs": [
    {
     "name": "stdout",
     "output_type": "stream",
     "text": [
      "0\n",
      "0\n"
     ]
    }
   ],
   "source": [
    "data_solvency['days_employed'] = data_solvency['days_employed'].fillna(data_solvency['days_employed'].median())\n",
    "print(data_solvency['days_employed'].isna().sum())\n",
    "data_solvency['total_income'] = data_solvency['total_income'].fillna(data_solvency['total_income'].median())\n",
    "print(data_solvency['total_income'].isna().sum())"
   ]
  },
  {
   "cell_type": "markdown",
   "metadata": {},
   "source": [
    "**Вывод**"
   ]
  },
  {
   "cell_type": "markdown",
   "metadata": {},
   "source": [
    "Пропуски в столбцах `days_employed` и `total_income` были обработаны с помощью метода `isna()` и заполнены медианным значением соответствующего столбца с помощью методов `fillna()` и `median()`. В реальных условиях подобные пробелы - повод обратиться к тому, кто эти данные выгружал, за дополнительной информацией."
   ]
  },
  {
   "cell_type": "markdown",
   "metadata": {},
   "source": [
    "### Замена типа данных"
   ]
  },
  {
   "cell_type": "markdown",
   "metadata": {},
   "source": [
    "Столбец `days_employed` показывает общий трудовой стаж в днях для каждого клиента. Количество дней не может быть дробным числом, поэтому есть смысл перевести тип данных этого столбца из `float` в `int`. При этом дробная часть каждого числа будет просто отброшена."
   ]
  },
  {
   "cell_type": "code",
   "execution_count": 5,
   "metadata": {},
   "outputs": [
    {
     "data": {
      "text/plain": [
       "dtype('int64')"
      ]
     },
     "execution_count": 5,
     "metadata": {},
     "output_type": "execute_result"
    }
   ],
   "source": [
    "data_solvency['days_employed'] = data_solvency['days_employed'].astype('int')\n",
    "data_solvency['days_employed'].dtype"
   ]
  },
  {
   "cell_type": "markdown",
   "metadata": {},
   "source": [
    "Столбец `total_income` показывает ежемесячный доход каждого клиента. Будем считать, что данные представлены в рублях. Доход может являться дробным числом, поэтому в данном столбце стоит оставить тип данных `float`. Впрочем, нет необходимости в таком большом количестве знаков после запятой, поскольку минимальная денежная единица - копейка - равна `0.01` руб. Округлим все числа в этом столбце до двух знаков после запятой. "
   ]
  },
  {
   "cell_type": "code",
   "execution_count": 6,
   "metadata": {},
   "outputs": [
    {
     "data": {
      "text/plain": [
       "0    253875.64\n",
       "1    112080.01\n",
       "2    145885.95\n",
       "3    267628.55\n",
       "4    158616.08\n",
       "Name: total_income, dtype: float64"
      ]
     },
     "execution_count": 6,
     "metadata": {},
     "output_type": "execute_result"
    }
   ],
   "source": [
    "data_solvency['total_income'] = round(data_solvency['total_income'], 2)\n",
    "data_solvency['total_income'].head()"
   ]
  },
  {
   "cell_type": "markdown",
   "metadata": {},
   "source": [
    "**Вывод**"
   ]
  },
  {
   "cell_type": "markdown",
   "metadata": {},
   "source": [
    "Преобразовали тип данных столбца `days_employed` из `float` в `int` с помощью метода `astype(...)`. В столбце `total_income` тип данных преобразовывать не стали, поскольку доход может быть нецелым числом, но для удобства округлили до двух цифр после запятой."
   ]
  },
  {
   "cell_type": "markdown",
   "metadata": {},
   "source": [
    "### Обработка дубликатов"
   ]
  },
  {
   "cell_type": "markdown",
   "metadata": {},
   "source": [
    "Проверим сначала, есть ли в таблице полные явные дубликаты (полностью одинаковые строки)."
   ]
  },
  {
   "cell_type": "code",
   "execution_count": 7,
   "metadata": {},
   "outputs": [
    {
     "data": {
      "text/plain": [
       "54"
      ]
     },
     "execution_count": 7,
     "metadata": {},
     "output_type": "execute_result"
    }
   ],
   "source": [
    "data_solvency.duplicated().sum()"
   ]
  },
  {
   "cell_type": "markdown",
   "metadata": {},
   "source": [
    "Нашли 54 дубликата. Однако в таблице, как можно было заметить, присутствуют неявные дубликаты в столбцах (например, \"Среднее\" и \"среднее\"). Чтобы их обработать, переведем все символы в строковых данных в нижний регистр."
   ]
  },
  {
   "cell_type": "code",
   "execution_count": 8,
   "metadata": {},
   "outputs": [
    {
     "data": {
      "text/plain": [
       "71"
      ]
     },
     "execution_count": 8,
     "metadata": {},
     "output_type": "execute_result"
    }
   ],
   "source": [
    "for column in ['education', 'family_status', 'gender', 'income_type', 'purpose']:\n",
    "    data_solvency[column] = data_solvency[column].str.lower()\n",
    "data_solvency.duplicated().sum()"
   ]
  },
  {
   "cell_type": "markdown",
   "metadata": {},
   "source": [
    "Количество дубликатов увеличилось. Удалим эти строки из таблицы данных."
   ]
  },
  {
   "cell_type": "code",
   "execution_count": 9,
   "metadata": {},
   "outputs": [
    {
     "data": {
      "text/plain": [
       "0"
      ]
     },
     "execution_count": 9,
     "metadata": {},
     "output_type": "execute_result"
    }
   ],
   "source": [
    "data_solvency = data_solvency.drop_duplicates().reset_index(drop=True)\n",
    "data_solvency.duplicated().sum()"
   ]
  },
  {
   "cell_type": "markdown",
   "metadata": {},
   "source": [
    "**Вывод**"
   ]
  },
  {
   "cell_type": "markdown",
   "metadata": {},
   "source": [
    "Для нахождения количества дубликатов использовали метод `duplicated()` в сочетании с методом `sum()`. Для перевода столбцов со строковыми данными в нижний регистр применили `str.lower()`. Для удаления дубликатов воспользовались `drop_duplicates()` в связке с `reset_index(drop=True)` для реиндексации.\n",
    "\n",
    "Причина появления этих дубликатов, возможно, кроется в том, что некоторые клиенты несколько раз обращались в банк за получением кредита по одной и той же причине. Также не исключаю вариант системной ошибки, из-за которой могли продублироваться некоторые строки."
   ]
  },
  {
   "cell_type": "markdown",
   "metadata": {},
   "source": [
    "### Лемматизация"
   ]
  },
  {
   "cell_type": "markdown",
   "metadata": {},
   "source": [
    "В столбце `purpose` у каждого клиента описана причина, по которой он берет кредит. В нем также скрывается множество неявных дубликатов, поскольку цель в данном столбце записана в произвольной форме (например, \"покупка автомобиля\" и \"сделка с автомобилем\" - с точки зрения программы, разные цели, однако на самом деле это одно и то же, но написано по-разному). Чтобы избавиться от таких неявных дубликатов, воспользуемся лемматизацией."
   ]
  },
  {
   "cell_type": "code",
   "execution_count": 10,
   "metadata": {},
   "outputs": [
    {
     "name": "stdout",
     "output_type": "stream",
     "text": [
      "[('покупка', 10), ('недвижимость', 10), ('автомобиль', 9), ('образование', 9), ('жилье', 7), ('с', 5), ('операция', 4), ('на', 4), ('свой', 4), ('свадьба', 3), ('строительство', 3), ('получение', 3), ('высокий', 3), ('дополнительный', 2), ('для', 2), ('коммерческий', 2), ('жилой', 2), ('подержать', 2), ('заниматься', 2), ('сделка', 2), ('приобретение', 1), ('сыграть', 1), ('проведение', 1), ('семья', 1), ('собственный', 1), ('со', 1), ('профильный', 1), ('сдача', 1), ('ремонт', 1)]\n"
     ]
    }
   ],
   "source": [
    "from pymystem3 import Mystem\n",
    "\n",
    "m = Mystem()\n",
    "purposes = data_solvency['purpose'].unique()\n",
    "purposes = ' '.join(purposes)\n",
    "lemmas = m.lemmatize(purposes)\n",
    "# Удаляем пробелы и символ конца строки\n",
    "lemmas = [x for x in lemmas if x != ' ' and x != '\\n']\n",
    "\n",
    "from collections import Counter\n",
    "print(Counter(lemmas).most_common()) # для вывода в порядке убывания"
   ]
  },
  {
   "cell_type": "markdown",
   "metadata": {},
   "source": [
    "Из вывода можем заметить, что наиболее часто встречаемое слово в цели получения кредита - \"покупка\" чего-либо, но для категоризации это не будет играть роли, поскольку, в любом случае, клиент берет деньги в кредит для того чтобы их на что-то потратить.   \n",
    "Можем выделить основные ключевые слова, которые будем использовать далее при категоризации:\n",
    "* недвижимость / жилье;\n",
    "* автомобиль;\n",
    "* образование;\n",
    "* свадьба."
   ]
  },
  {
   "cell_type": "code",
   "execution_count": 12,
   "metadata": {},
   "outputs": [
    {
     "data": {
      "text/plain": [
       "0                 [покупка, жилье]\n",
       "1       [приобретение, автомобиль]\n",
       "2                 [покупка, жилье]\n",
       "3    [дополнительный, образование]\n",
       "4               [сыграть, свадьба]\n",
       "Name: purpose_list, dtype: object"
      ]
     },
     "execution_count": 12,
     "metadata": {},
     "output_type": "execute_result"
    }
   ],
   "source": [
    "purposes = list(data_solvency['purpose']) \n",
    "for i in range(len(purposes)):\n",
    "    purposes[i] = m.lemmatize(purposes[i])\n",
    "    # убираем из списков символы пробела и конца строки\n",
    "    purposes[i] = [x for x in purposes[i] if x != ' ' and x != '\\n']\n",
    "\n",
    "data_solvency['purpose_list'] = purposes\n",
    "data_solvency['purpose_list'].head()"
   ]
  },
  {
   "cell_type": "markdown",
   "metadata": {},
   "source": [
    "**Вывод**"
   ]
  },
  {
   "cell_type": "markdown",
   "metadata": {},
   "source": [
    "Сначала создали список из уникальных элементов столбца `purpose`. Далее лемматизировали цели получения кредита и подсчитали частоту встречаемости каждой леммы, откуда смогли выделить 5 различных основных целей. Для дальнейшей категоризации добавили столбец со списками лемм."
   ]
  },
  {
   "cell_type": "markdown",
   "metadata": {},
   "source": [
    "### Категоризация данных"
   ]
  },
  {
   "cell_type": "markdown",
   "metadata": {},
   "source": [
    "Некоторые данные, например, в столбцах `education`, `family_status` многократно повторяются. Создадим для них словарь и оптимизируем данные.\n",
    "\n",
    "Создадим словарь для образования и удалим столбец `education` из исходного датафрейма."
   ]
  },
  {
   "cell_type": "code",
   "execution_count": 13,
   "metadata": {},
   "outputs": [
    {
     "data": {
      "text/html": [
       "<div>\n",
       "<style scoped>\n",
       "    .dataframe tbody tr th:only-of-type {\n",
       "        vertical-align: middle;\n",
       "    }\n",
       "\n",
       "    .dataframe tbody tr th {\n",
       "        vertical-align: top;\n",
       "    }\n",
       "\n",
       "    .dataframe thead th {\n",
       "        text-align: right;\n",
       "    }\n",
       "</style>\n",
       "<table border=\"1\" class=\"dataframe\">\n",
       "  <thead>\n",
       "    <tr style=\"text-align: right;\">\n",
       "      <th></th>\n",
       "      <th>education</th>\n",
       "      <th>education_id</th>\n",
       "    </tr>\n",
       "  </thead>\n",
       "  <tbody>\n",
       "    <tr>\n",
       "      <td>0</td>\n",
       "      <td>высшее</td>\n",
       "      <td>0</td>\n",
       "    </tr>\n",
       "    <tr>\n",
       "      <td>1</td>\n",
       "      <td>среднее</td>\n",
       "      <td>1</td>\n",
       "    </tr>\n",
       "    <tr>\n",
       "      <td>2</td>\n",
       "      <td>неоконченное высшее</td>\n",
       "      <td>2</td>\n",
       "    </tr>\n",
       "    <tr>\n",
       "      <td>3</td>\n",
       "      <td>начальное</td>\n",
       "      <td>3</td>\n",
       "    </tr>\n",
       "    <tr>\n",
       "      <td>4</td>\n",
       "      <td>ученая степень</td>\n",
       "      <td>4</td>\n",
       "    </tr>\n",
       "  </tbody>\n",
       "</table>\n",
       "</div>"
      ],
      "text/plain": [
       "             education  education_id\n",
       "0               высшее             0\n",
       "1              среднее             1\n",
       "2  неоконченное высшее             2\n",
       "3            начальное             3\n",
       "4       ученая степень             4"
      ]
     },
     "execution_count": 13,
     "metadata": {},
     "output_type": "execute_result"
    }
   ],
   "source": [
    "edu_dict = data_solvency[['education', 'education_id']]\n",
    "edu_dict = edu_dict.drop_duplicates().reset_index(drop=True)\n",
    "edu_dict"
   ]
  },
  {
   "cell_type": "code",
   "execution_count": 14,
   "metadata": {},
   "outputs": [
    {
     "data": {
      "text/html": [
       "<div>\n",
       "<style scoped>\n",
       "    .dataframe tbody tr th:only-of-type {\n",
       "        vertical-align: middle;\n",
       "    }\n",
       "\n",
       "    .dataframe tbody tr th {\n",
       "        vertical-align: top;\n",
       "    }\n",
       "\n",
       "    .dataframe thead th {\n",
       "        text-align: right;\n",
       "    }\n",
       "</style>\n",
       "<table border=\"1\" class=\"dataframe\">\n",
       "  <thead>\n",
       "    <tr style=\"text-align: right;\">\n",
       "      <th></th>\n",
       "      <th>children</th>\n",
       "      <th>days_employed</th>\n",
       "      <th>dob_years</th>\n",
       "      <th>education_id</th>\n",
       "      <th>family_status</th>\n",
       "      <th>family_status_id</th>\n",
       "      <th>gender</th>\n",
       "      <th>income_type</th>\n",
       "      <th>debt</th>\n",
       "      <th>total_income</th>\n",
       "      <th>purpose</th>\n",
       "      <th>purpose_list</th>\n",
       "    </tr>\n",
       "  </thead>\n",
       "  <tbody>\n",
       "    <tr>\n",
       "      <td>0</td>\n",
       "      <td>1</td>\n",
       "      <td>-8437</td>\n",
       "      <td>42</td>\n",
       "      <td>0</td>\n",
       "      <td>женат / замужем</td>\n",
       "      <td>0</td>\n",
       "      <td>f</td>\n",
       "      <td>сотрудник</td>\n",
       "      <td>0</td>\n",
       "      <td>253875.64</td>\n",
       "      <td>покупка жилья</td>\n",
       "      <td>[покупка, жилье]</td>\n",
       "    </tr>\n",
       "    <tr>\n",
       "      <td>1</td>\n",
       "      <td>1</td>\n",
       "      <td>-4024</td>\n",
       "      <td>36</td>\n",
       "      <td>1</td>\n",
       "      <td>женат / замужем</td>\n",
       "      <td>0</td>\n",
       "      <td>f</td>\n",
       "      <td>сотрудник</td>\n",
       "      <td>0</td>\n",
       "      <td>112080.01</td>\n",
       "      <td>приобретение автомобиля</td>\n",
       "      <td>[приобретение, автомобиль]</td>\n",
       "    </tr>\n",
       "    <tr>\n",
       "      <td>2</td>\n",
       "      <td>0</td>\n",
       "      <td>-5623</td>\n",
       "      <td>33</td>\n",
       "      <td>1</td>\n",
       "      <td>женат / замужем</td>\n",
       "      <td>0</td>\n",
       "      <td>m</td>\n",
       "      <td>сотрудник</td>\n",
       "      <td>0</td>\n",
       "      <td>145885.95</td>\n",
       "      <td>покупка жилья</td>\n",
       "      <td>[покупка, жилье]</td>\n",
       "    </tr>\n",
       "    <tr>\n",
       "      <td>3</td>\n",
       "      <td>3</td>\n",
       "      <td>-4124</td>\n",
       "      <td>32</td>\n",
       "      <td>1</td>\n",
       "      <td>женат / замужем</td>\n",
       "      <td>0</td>\n",
       "      <td>m</td>\n",
       "      <td>сотрудник</td>\n",
       "      <td>0</td>\n",
       "      <td>267628.55</td>\n",
       "      <td>дополнительное образование</td>\n",
       "      <td>[дополнительный, образование]</td>\n",
       "    </tr>\n",
       "    <tr>\n",
       "      <td>4</td>\n",
       "      <td>0</td>\n",
       "      <td>340266</td>\n",
       "      <td>53</td>\n",
       "      <td>1</td>\n",
       "      <td>гражданский брак</td>\n",
       "      <td>1</td>\n",
       "      <td>f</td>\n",
       "      <td>пенсионер</td>\n",
       "      <td>0</td>\n",
       "      <td>158616.08</td>\n",
       "      <td>сыграть свадьбу</td>\n",
       "      <td>[сыграть, свадьба]</td>\n",
       "    </tr>\n",
       "  </tbody>\n",
       "</table>\n",
       "</div>"
      ],
      "text/plain": [
       "   children  days_employed  dob_years  education_id     family_status  \\\n",
       "0         1          -8437         42             0   женат / замужем   \n",
       "1         1          -4024         36             1   женат / замужем   \n",
       "2         0          -5623         33             1   женат / замужем   \n",
       "3         3          -4124         32             1   женат / замужем   \n",
       "4         0         340266         53             1  гражданский брак   \n",
       "\n",
       "   family_status_id gender income_type  debt  total_income  \\\n",
       "0                 0      f   сотрудник     0     253875.64   \n",
       "1                 0      f   сотрудник     0     112080.01   \n",
       "2                 0      m   сотрудник     0     145885.95   \n",
       "3                 0      m   сотрудник     0     267628.55   \n",
       "4                 1      f   пенсионер     0     158616.08   \n",
       "\n",
       "                      purpose                   purpose_list  \n",
       "0               покупка жилья               [покупка, жилье]  \n",
       "1     приобретение автомобиля     [приобретение, автомобиль]  \n",
       "2               покупка жилья               [покупка, жилье]  \n",
       "3  дополнительное образование  [дополнительный, образование]  \n",
       "4             сыграть свадьбу             [сыграть, свадьба]  "
      ]
     },
     "execution_count": 14,
     "metadata": {},
     "output_type": "execute_result"
    }
   ],
   "source": [
    "data_solvency = data_solvency.drop('education', axis=1)\n",
    "data_solvency.head()"
   ]
  },
  {
   "cell_type": "markdown",
   "metadata": {},
   "source": [
    "Теперь создадим словарь для семейного статуса и удалим столбец `family_status` из датафрейма."
   ]
  },
  {
   "cell_type": "code",
   "execution_count": 15,
   "metadata": {},
   "outputs": [
    {
     "data": {
      "text/html": [
       "<div>\n",
       "<style scoped>\n",
       "    .dataframe tbody tr th:only-of-type {\n",
       "        vertical-align: middle;\n",
       "    }\n",
       "\n",
       "    .dataframe tbody tr th {\n",
       "        vertical-align: top;\n",
       "    }\n",
       "\n",
       "    .dataframe thead th {\n",
       "        text-align: right;\n",
       "    }\n",
       "</style>\n",
       "<table border=\"1\" class=\"dataframe\">\n",
       "  <thead>\n",
       "    <tr style=\"text-align: right;\">\n",
       "      <th></th>\n",
       "      <th>family_status</th>\n",
       "      <th>family_status_id</th>\n",
       "    </tr>\n",
       "  </thead>\n",
       "  <tbody>\n",
       "    <tr>\n",
       "      <td>0</td>\n",
       "      <td>женат / замужем</td>\n",
       "      <td>0</td>\n",
       "    </tr>\n",
       "    <tr>\n",
       "      <td>1</td>\n",
       "      <td>гражданский брак</td>\n",
       "      <td>1</td>\n",
       "    </tr>\n",
       "    <tr>\n",
       "      <td>2</td>\n",
       "      <td>вдовец / вдова</td>\n",
       "      <td>2</td>\n",
       "    </tr>\n",
       "    <tr>\n",
       "      <td>3</td>\n",
       "      <td>в разводе</td>\n",
       "      <td>3</td>\n",
       "    </tr>\n",
       "    <tr>\n",
       "      <td>4</td>\n",
       "      <td>не женат / не замужем</td>\n",
       "      <td>4</td>\n",
       "    </tr>\n",
       "  </tbody>\n",
       "</table>\n",
       "</div>"
      ],
      "text/plain": [
       "           family_status  family_status_id\n",
       "0        женат / замужем                 0\n",
       "1       гражданский брак                 1\n",
       "2         вдовец / вдова                 2\n",
       "3              в разводе                 3\n",
       "4  не женат / не замужем                 4"
      ]
     },
     "execution_count": 15,
     "metadata": {},
     "output_type": "execute_result"
    }
   ],
   "source": [
    "family_status_dict = data_solvency[['family_status', 'family_status_id']]\n",
    "family_status_dict = family_status_dict.drop_duplicates().reset_index(drop=True)\n",
    "family_status_dict"
   ]
  },
  {
   "cell_type": "code",
   "execution_count": 16,
   "metadata": {
    "scrolled": true
   },
   "outputs": [
    {
     "data": {
      "text/html": [
       "<div>\n",
       "<style scoped>\n",
       "    .dataframe tbody tr th:only-of-type {\n",
       "        vertical-align: middle;\n",
       "    }\n",
       "\n",
       "    .dataframe tbody tr th {\n",
       "        vertical-align: top;\n",
       "    }\n",
       "\n",
       "    .dataframe thead th {\n",
       "        text-align: right;\n",
       "    }\n",
       "</style>\n",
       "<table border=\"1\" class=\"dataframe\">\n",
       "  <thead>\n",
       "    <tr style=\"text-align: right;\">\n",
       "      <th></th>\n",
       "      <th>children</th>\n",
       "      <th>days_employed</th>\n",
       "      <th>dob_years</th>\n",
       "      <th>education_id</th>\n",
       "      <th>family_status_id</th>\n",
       "      <th>gender</th>\n",
       "      <th>income_type</th>\n",
       "      <th>debt</th>\n",
       "      <th>total_income</th>\n",
       "      <th>purpose</th>\n",
       "      <th>purpose_list</th>\n",
       "    </tr>\n",
       "  </thead>\n",
       "  <tbody>\n",
       "    <tr>\n",
       "      <td>0</td>\n",
       "      <td>1</td>\n",
       "      <td>-8437</td>\n",
       "      <td>42</td>\n",
       "      <td>0</td>\n",
       "      <td>0</td>\n",
       "      <td>f</td>\n",
       "      <td>сотрудник</td>\n",
       "      <td>0</td>\n",
       "      <td>253875.64</td>\n",
       "      <td>покупка жилья</td>\n",
       "      <td>[покупка, жилье]</td>\n",
       "    </tr>\n",
       "    <tr>\n",
       "      <td>1</td>\n",
       "      <td>1</td>\n",
       "      <td>-4024</td>\n",
       "      <td>36</td>\n",
       "      <td>1</td>\n",
       "      <td>0</td>\n",
       "      <td>f</td>\n",
       "      <td>сотрудник</td>\n",
       "      <td>0</td>\n",
       "      <td>112080.01</td>\n",
       "      <td>приобретение автомобиля</td>\n",
       "      <td>[приобретение, автомобиль]</td>\n",
       "    </tr>\n",
       "    <tr>\n",
       "      <td>2</td>\n",
       "      <td>0</td>\n",
       "      <td>-5623</td>\n",
       "      <td>33</td>\n",
       "      <td>1</td>\n",
       "      <td>0</td>\n",
       "      <td>m</td>\n",
       "      <td>сотрудник</td>\n",
       "      <td>0</td>\n",
       "      <td>145885.95</td>\n",
       "      <td>покупка жилья</td>\n",
       "      <td>[покупка, жилье]</td>\n",
       "    </tr>\n",
       "    <tr>\n",
       "      <td>3</td>\n",
       "      <td>3</td>\n",
       "      <td>-4124</td>\n",
       "      <td>32</td>\n",
       "      <td>1</td>\n",
       "      <td>0</td>\n",
       "      <td>m</td>\n",
       "      <td>сотрудник</td>\n",
       "      <td>0</td>\n",
       "      <td>267628.55</td>\n",
       "      <td>дополнительное образование</td>\n",
       "      <td>[дополнительный, образование]</td>\n",
       "    </tr>\n",
       "    <tr>\n",
       "      <td>4</td>\n",
       "      <td>0</td>\n",
       "      <td>340266</td>\n",
       "      <td>53</td>\n",
       "      <td>1</td>\n",
       "      <td>1</td>\n",
       "      <td>f</td>\n",
       "      <td>пенсионер</td>\n",
       "      <td>0</td>\n",
       "      <td>158616.08</td>\n",
       "      <td>сыграть свадьбу</td>\n",
       "      <td>[сыграть, свадьба]</td>\n",
       "    </tr>\n",
       "  </tbody>\n",
       "</table>\n",
       "</div>"
      ],
      "text/plain": [
       "   children  days_employed  dob_years  education_id  family_status_id gender  \\\n",
       "0         1          -8437         42             0                 0      f   \n",
       "1         1          -4024         36             1                 0      f   \n",
       "2         0          -5623         33             1                 0      m   \n",
       "3         3          -4124         32             1                 0      m   \n",
       "4         0         340266         53             1                 1      f   \n",
       "\n",
       "  income_type  debt  total_income                     purpose  \\\n",
       "0   сотрудник     0     253875.64               покупка жилья   \n",
       "1   сотрудник     0     112080.01     приобретение автомобиля   \n",
       "2   сотрудник     0     145885.95               покупка жилья   \n",
       "3   сотрудник     0     267628.55  дополнительное образование   \n",
       "4   пенсионер     0     158616.08             сыграть свадьбу   \n",
       "\n",
       "                    purpose_list  \n",
       "0               [покупка, жилье]  \n",
       "1     [приобретение, автомобиль]  \n",
       "2               [покупка, жилье]  \n",
       "3  [дополнительный, образование]  \n",
       "4             [сыграть, свадьба]  "
      ]
     },
     "execution_count": 16,
     "metadata": {},
     "output_type": "execute_result"
    }
   ],
   "source": [
    "data_solvency = data_solvency.drop('family_status', axis=1)\n",
    "data_solvency.head()"
   ]
  },
  {
   "cell_type": "markdown",
   "metadata": {},
   "source": [
    "Также необходимо категоризировать цели кредита. Напишем функцию, которая будет принимать на вход строку датафрейма, а затем в столбце `purpose_list` будет искать в списке ключевые слова, и по ним ставить в соответствие клиенту ту или иную категорию цели кредита."
   ]
  },
  {
   "cell_type": "code",
   "execution_count": 17,
   "metadata": {},
   "outputs": [
    {
     "data": {
      "text/html": [
       "<div>\n",
       "<style scoped>\n",
       "    .dataframe tbody tr th:only-of-type {\n",
       "        vertical-align: middle;\n",
       "    }\n",
       "\n",
       "    .dataframe tbody tr th {\n",
       "        vertical-align: top;\n",
       "    }\n",
       "\n",
       "    .dataframe thead th {\n",
       "        text-align: right;\n",
       "    }\n",
       "</style>\n",
       "<table border=\"1\" class=\"dataframe\">\n",
       "  <thead>\n",
       "    <tr style=\"text-align: right;\">\n",
       "      <th></th>\n",
       "      <th>children</th>\n",
       "      <th>days_employed</th>\n",
       "      <th>dob_years</th>\n",
       "      <th>education_id</th>\n",
       "      <th>family_status_id</th>\n",
       "      <th>gender</th>\n",
       "      <th>income_type</th>\n",
       "      <th>debt</th>\n",
       "      <th>total_income</th>\n",
       "      <th>purpose</th>\n",
       "      <th>purpose_list</th>\n",
       "    </tr>\n",
       "  </thead>\n",
       "  <tbody>\n",
       "    <tr>\n",
       "      <td>0</td>\n",
       "      <td>1</td>\n",
       "      <td>-8437</td>\n",
       "      <td>42</td>\n",
       "      <td>0</td>\n",
       "      <td>0</td>\n",
       "      <td>f</td>\n",
       "      <td>сотрудник</td>\n",
       "      <td>0</td>\n",
       "      <td>253875.64</td>\n",
       "      <td>недвижимость</td>\n",
       "      <td>[покупка, жилье]</td>\n",
       "    </tr>\n",
       "    <tr>\n",
       "      <td>1</td>\n",
       "      <td>1</td>\n",
       "      <td>-4024</td>\n",
       "      <td>36</td>\n",
       "      <td>1</td>\n",
       "      <td>0</td>\n",
       "      <td>f</td>\n",
       "      <td>сотрудник</td>\n",
       "      <td>0</td>\n",
       "      <td>112080.01</td>\n",
       "      <td>автомобиль</td>\n",
       "      <td>[приобретение, автомобиль]</td>\n",
       "    </tr>\n",
       "    <tr>\n",
       "      <td>2</td>\n",
       "      <td>0</td>\n",
       "      <td>-5623</td>\n",
       "      <td>33</td>\n",
       "      <td>1</td>\n",
       "      <td>0</td>\n",
       "      <td>m</td>\n",
       "      <td>сотрудник</td>\n",
       "      <td>0</td>\n",
       "      <td>145885.95</td>\n",
       "      <td>недвижимость</td>\n",
       "      <td>[покупка, жилье]</td>\n",
       "    </tr>\n",
       "    <tr>\n",
       "      <td>3</td>\n",
       "      <td>3</td>\n",
       "      <td>-4124</td>\n",
       "      <td>32</td>\n",
       "      <td>1</td>\n",
       "      <td>0</td>\n",
       "      <td>m</td>\n",
       "      <td>сотрудник</td>\n",
       "      <td>0</td>\n",
       "      <td>267628.55</td>\n",
       "      <td>образование</td>\n",
       "      <td>[дополнительный, образование]</td>\n",
       "    </tr>\n",
       "    <tr>\n",
       "      <td>4</td>\n",
       "      <td>0</td>\n",
       "      <td>340266</td>\n",
       "      <td>53</td>\n",
       "      <td>1</td>\n",
       "      <td>1</td>\n",
       "      <td>f</td>\n",
       "      <td>пенсионер</td>\n",
       "      <td>0</td>\n",
       "      <td>158616.08</td>\n",
       "      <td>свадьба</td>\n",
       "      <td>[сыграть, свадьба]</td>\n",
       "    </tr>\n",
       "  </tbody>\n",
       "</table>\n",
       "</div>"
      ],
      "text/plain": [
       "   children  days_employed  dob_years  education_id  family_status_id gender  \\\n",
       "0         1          -8437         42             0                 0      f   \n",
       "1         1          -4024         36             1                 0      f   \n",
       "2         0          -5623         33             1                 0      m   \n",
       "3         3          -4124         32             1                 0      m   \n",
       "4         0         340266         53             1                 1      f   \n",
       "\n",
       "  income_type  debt  total_income       purpose                   purpose_list  \n",
       "0   сотрудник     0     253875.64  недвижимость               [покупка, жилье]  \n",
       "1   сотрудник     0     112080.01    автомобиль     [приобретение, автомобиль]  \n",
       "2   сотрудник     0     145885.95  недвижимость               [покупка, жилье]  \n",
       "3   сотрудник     0     267628.55   образование  [дополнительный, образование]  \n",
       "4   пенсионер     0     158616.08       свадьба             [сыграть, свадьба]  "
      ]
     },
     "execution_count": 17,
     "metadata": {},
     "output_type": "execute_result"
    }
   ],
   "source": [
    "def purpose_categorize(purpose):\n",
    "    if 'недвижимость' in purpose or 'жилье' in purpose:\n",
    "        return 'недвижимость'\n",
    "    if 'автомобиль' in purpose:\n",
    "        return 'автомобиль'\n",
    "    if 'образование' in purpose:\n",
    "        return 'образование'\n",
    "    if 'свадьба' in purpose:\n",
    "        return 'свадьба'\n",
    "    return 'другое'\n",
    "\n",
    "data_solvency['purpose'] = data_solvency['purpose_list'].apply(purpose_categorize)\n",
    "data_solvency.head()"
   ]
  },
  {
   "cell_type": "markdown",
   "metadata": {},
   "source": [
    "Наконец, для ответа на вопрос \"Есть ли зависимость между уровнем дохода и возвратом кредита в срок?\" нам необходимо категоризировать клиентов по доходу. Разделим их на 3 равные группы с помощью метода `pd.qcut`."
   ]
  },
  {
   "cell_type": "markdown",
   "metadata": {},
   "source": [
    "Напишем функцию-классификатор (разбиение на 3 группы: низкий, средний и высокий доход) и добавим новый столбец `income_category` в датафрейм."
   ]
  },
  {
   "cell_type": "code",
   "execution_count": 18,
   "metadata": {},
   "outputs": [
    {
     "data": {
      "text/plain": [
       "Средний    7166\n",
       "Высокий    7144\n",
       "Низкий     7144\n",
       "Name: income_category, dtype: int64"
      ]
     },
     "execution_count": 18,
     "metadata": {},
     "output_type": "execute_result"
    }
   ],
   "source": [
    "total_income_labels = ['Низкий', 'Средний', 'Высокий']\n",
    "\n",
    "data_solvency['income_category'] = pd.qcut(data_solvency['total_income'],\n",
    "                        q=[0, .333, .667, 1],\n",
    "                        labels=total_income_labels)\n",
    "data_solvency['income_category'].value_counts()"
   ]
  },
  {
   "cell_type": "markdown",
   "metadata": {},
   "source": [
    "**Вывод**"
   ]
  },
  {
   "cell_type": "markdown",
   "metadata": {},
   "source": [
    "Создали словари для столбцов `education` и `family_status` и удалили эти столбцы из датафрейма методом `drop`. Для категоризации целей кредита написали функцию для обработки столбца и применили ее с помощью метода `apply`.\n",
    "\n",
    "Таблица стала выглядеть более аккуратно и менее громоздко после категоризации. "
   ]
  },
  {
   "cell_type": "markdown",
   "metadata": {},
   "source": [
    "### Обработка аномалий в данных"
   ]
  },
  {
   "cell_type": "markdown",
   "metadata": {},
   "source": [
    "1. Обработаем столбец `children`."
   ]
  },
  {
   "cell_type": "code",
   "execution_count": 19,
   "metadata": {},
   "outputs": [
    {
     "data": {
      "text/plain": [
       "children\n",
       "-1        47\n",
       " 0     14091\n",
       " 1      4808\n",
       " 2      2052\n",
       " 3       330\n",
       " 4        41\n",
       " 5         9\n",
       " 20       76\n",
       "Name: gender, dtype: int64"
      ]
     },
     "execution_count": 19,
     "metadata": {},
     "output_type": "execute_result"
    }
   ],
   "source": [
    "data_solvency.groupby('children')['gender'].count()"
   ]
  },
  {
   "cell_type": "markdown",
   "metadata": {},
   "source": [
    "Замечены аномалии - у 47 клиентов количество детей равно `-1`, а у 76 человек - по 20 детей. По сравнению с количеством людей, у которых от 0 до 2 детей, аномальный значений очень мало. Однако все же обработаем их.\n",
    "\n",
    "Предположим, что у 47 человек перед единицей лишний знак \"минус\", а у 76 человек - лишний ноль после двойки. Заменим эти значения на 1 и 2 соответственно с помощью логической индексации."
   ]
  },
  {
   "cell_type": "code",
   "execution_count": 20,
   "metadata": {},
   "outputs": [
    {
     "data": {
      "text/plain": [
       "children\n",
       "0    14091\n",
       "1     4855\n",
       "2     2128\n",
       "3      330\n",
       "4       41\n",
       "5        9\n",
       "Name: gender, dtype: int64"
      ]
     },
     "execution_count": 20,
     "metadata": {},
     "output_type": "execute_result"
    }
   ],
   "source": [
    "data_solvency.loc[data_solvency['children'] == -1, 'children'] = 1\n",
    "data_solvency.loc[data_solvency['children'] == 20, 'children'] = 2\n",
    "data_solvency.groupby('children')['gender'].count()"
   ]
  },
  {
   "cell_type": "markdown",
   "metadata": {},
   "source": [
    "2. Обработаем столбец `days_employed`.\n",
    "\n",
    "По первым же строкам датафрейма можно заметить, что в столбце присутствуют отрицательные значения, которых быть не должно. Вероятно, эта ошибка произошла из-за того, что перепутали даты при расчетах. Исправим это, взяв все значения столбца по модулю."
   ]
  },
  {
   "cell_type": "code",
   "execution_count": 21,
   "metadata": {},
   "outputs": [
    {
     "data": {
      "text/plain": [
       "0"
      ]
     },
     "execution_count": 21,
     "metadata": {},
     "output_type": "execute_result"
    }
   ],
   "source": [
    "data_solvency['days_employed'] = abs(data_solvency['days_employed'])\n",
    "data_solvency[data_solvency['days_employed'] < 0]['days_employed'].count()"
   ]
  },
  {
   "cell_type": "markdown",
   "metadata": {},
   "source": [
    "Также при просмотре были замечены слишком большие значения, которых тоже быть никак не может. Возьмем за максимум трудового стажа `100` лет = `36500` дней (без учета високосных годов). Выведем строки, которые выбиваются из общей массы."
   ]
  },
  {
   "cell_type": "code",
   "execution_count": 22,
   "metadata": {},
   "outputs": [
    {
     "data": {
      "text/html": [
       "<div>\n",
       "<style scoped>\n",
       "    .dataframe tbody tr th:only-of-type {\n",
       "        vertical-align: middle;\n",
       "    }\n",
       "\n",
       "    .dataframe tbody tr th {\n",
       "        vertical-align: top;\n",
       "    }\n",
       "\n",
       "    .dataframe thead th {\n",
       "        text-align: right;\n",
       "    }\n",
       "</style>\n",
       "<table border=\"1\" class=\"dataframe\">\n",
       "  <thead>\n",
       "    <tr style=\"text-align: right;\">\n",
       "      <th></th>\n",
       "      <th>children</th>\n",
       "      <th>days_employed</th>\n",
       "      <th>dob_years</th>\n",
       "      <th>education_id</th>\n",
       "      <th>family_status_id</th>\n",
       "      <th>gender</th>\n",
       "      <th>income_type</th>\n",
       "      <th>debt</th>\n",
       "      <th>total_income</th>\n",
       "      <th>purpose</th>\n",
       "      <th>purpose_list</th>\n",
       "      <th>income_category</th>\n",
       "    </tr>\n",
       "  </thead>\n",
       "  <tbody>\n",
       "    <tr>\n",
       "      <td>4</td>\n",
       "      <td>0</td>\n",
       "      <td>340266</td>\n",
       "      <td>53</td>\n",
       "      <td>1</td>\n",
       "      <td>1</td>\n",
       "      <td>f</td>\n",
       "      <td>пенсионер</td>\n",
       "      <td>0</td>\n",
       "      <td>158616.08</td>\n",
       "      <td>свадьба</td>\n",
       "      <td>[сыграть, свадьба]</td>\n",
       "      <td>Средний</td>\n",
       "    </tr>\n",
       "    <tr>\n",
       "      <td>18</td>\n",
       "      <td>0</td>\n",
       "      <td>400281</td>\n",
       "      <td>53</td>\n",
       "      <td>1</td>\n",
       "      <td>2</td>\n",
       "      <td>f</td>\n",
       "      <td>пенсионер</td>\n",
       "      <td>0</td>\n",
       "      <td>56823.78</td>\n",
       "      <td>автомобиль</td>\n",
       "      <td>[на, покупка, подержать, автомобиль]</td>\n",
       "      <td>Низкий</td>\n",
       "    </tr>\n",
       "    <tr>\n",
       "      <td>24</td>\n",
       "      <td>1</td>\n",
       "      <td>338551</td>\n",
       "      <td>57</td>\n",
       "      <td>1</td>\n",
       "      <td>4</td>\n",
       "      <td>f</td>\n",
       "      <td>пенсионер</td>\n",
       "      <td>0</td>\n",
       "      <td>290547.24</td>\n",
       "      <td>недвижимость</td>\n",
       "      <td>[операция, с, коммерческий, недвижимость]</td>\n",
       "      <td>Высокий</td>\n",
       "    </tr>\n",
       "    <tr>\n",
       "      <td>25</td>\n",
       "      <td>0</td>\n",
       "      <td>363548</td>\n",
       "      <td>67</td>\n",
       "      <td>1</td>\n",
       "      <td>0</td>\n",
       "      <td>m</td>\n",
       "      <td>пенсионер</td>\n",
       "      <td>0</td>\n",
       "      <td>55112.76</td>\n",
       "      <td>недвижимость</td>\n",
       "      <td>[покупка, недвижимость]</td>\n",
       "      <td>Низкий</td>\n",
       "    </tr>\n",
       "    <tr>\n",
       "      <td>30</td>\n",
       "      <td>1</td>\n",
       "      <td>335581</td>\n",
       "      <td>62</td>\n",
       "      <td>1</td>\n",
       "      <td>0</td>\n",
       "      <td>f</td>\n",
       "      <td>пенсионер</td>\n",
       "      <td>0</td>\n",
       "      <td>171456.07</td>\n",
       "      <td>недвижимость</td>\n",
       "      <td>[операция, с, коммерческий, недвижимость]</td>\n",
       "      <td>Высокий</td>\n",
       "    </tr>\n",
       "  </tbody>\n",
       "</table>\n",
       "</div>"
      ],
      "text/plain": [
       "    children  days_employed  dob_years  education_id  family_status_id gender  \\\n",
       "4          0         340266         53             1                 1      f   \n",
       "18         0         400281         53             1                 2      f   \n",
       "24         1         338551         57             1                 4      f   \n",
       "25         0         363548         67             1                 0      m   \n",
       "30         1         335581         62             1                 0      f   \n",
       "\n",
       "   income_type  debt  total_income       purpose  \\\n",
       "4    пенсионер     0     158616.08       свадьба   \n",
       "18   пенсионер     0      56823.78    автомобиль   \n",
       "24   пенсионер     0     290547.24  недвижимость   \n",
       "25   пенсионер     0      55112.76  недвижимость   \n",
       "30   пенсионер     0     171456.07  недвижимость   \n",
       "\n",
       "                                 purpose_list income_category  \n",
       "4                          [сыграть, свадьба]         Средний  \n",
       "18       [на, покупка, подержать, автомобиль]          Низкий  \n",
       "24  [операция, с, коммерческий, недвижимость]         Высокий  \n",
       "25                    [покупка, недвижимость]          Низкий  \n",
       "30  [операция, с, коммерческий, недвижимость]         Высокий  "
      ]
     },
     "execution_count": 22,
     "metadata": {},
     "output_type": "execute_result"
    }
   ],
   "source": [
    "data_solvency[data_solvency['days_employed'] > 36500].head()"
   ]
  },
  {
   "cell_type": "markdown",
   "metadata": {},
   "source": [
    "Обратим внимание на столбец `income_type`. Похоже, подобные аномалии встречаются только у пенсионеров. Проверим это."
   ]
  },
  {
   "cell_type": "code",
   "execution_count": 23,
   "metadata": {},
   "outputs": [
    {
     "data": {
      "text/plain": [
       "income_type\n",
       "безработный       2\n",
       "пенсионер      3443\n",
       "Name: gender, dtype: int64"
      ]
     },
     "execution_count": 23,
     "metadata": {},
     "output_type": "execute_result"
    }
   ],
   "source": [
    "data_solvency[data_solvency['days_employed'] > 36500].groupby('income_type')['gender'].count()"
   ]
  },
  {
   "cell_type": "markdown",
   "metadata": {},
   "source": [
    "Теория подтвердилась лишь частично - оказалось, что подобная аномалия также есть и у безработных.\n",
    "\n",
    "В описании данных было указано, что в столбце `days_employed` данные представлены в днях. Но что, если у пенсионеров и безработных они представлены в других единицах? Проведя небольшой анализ, пришли к выводу, что у этих категорий людей трудовой стаж представлен не в днях, а в часах - если поделить эти большие значения на 24, получатся как раз реальные значения в днях. Проделаем это."
   ]
  },
  {
   "cell_type": "code",
   "execution_count": 24,
   "metadata": {},
   "outputs": [
    {
     "data": {
      "text/plain": [
       "0"
      ]
     },
     "execution_count": 24,
     "metadata": {},
     "output_type": "execute_result"
    }
   ],
   "source": [
    "data_solvency['days_employed'] = data_solvency['days_employed'].apply(lambda x: x / 24 if x > 36500 else x)\n",
    "data_solvency['days_employed'] = data_solvency['days_employed'].astype('int')\n",
    "data_solvency[data_solvency['days_employed'] > 36500]['days_employed'].count()"
   ]
  },
  {
   "cell_type": "markdown",
   "metadata": {},
   "source": [
    "3. Обработаем столбец `dob_years`."
   ]
  },
  {
   "cell_type": "code",
   "execution_count": 25,
   "metadata": {},
   "outputs": [
    {
     "data": {
      "text/plain": [
       "array([ 0, 19, 20, 21, 22, 23, 24, 25, 26, 27, 28, 29, 30, 31, 32, 33, 34,\n",
       "       35, 36, 37, 38, 39, 40, 41, 42, 43, 44, 45, 46, 47, 48, 49, 50, 51,\n",
       "       52, 53, 54, 55, 56, 57, 58, 59, 60, 61, 62, 63, 64, 65, 66, 67, 68,\n",
       "       69, 70, 71, 72, 73, 74, 75])"
      ]
     },
     "execution_count": 25,
     "metadata": {},
     "output_type": "execute_result"
    }
   ],
   "source": [
    "data_solvency['dob_years'].sort_values().unique()"
   ]
  },
  {
   "cell_type": "markdown",
   "metadata": {},
   "source": [
    "И здесь есть аномалия - возраст некоторых клиентов равен нулю. Вполне вероятно, что эта информация просто не была указана. Проверим, у скольких клиентов стоит ноль в этом столбце."
   ]
  },
  {
   "cell_type": "code",
   "execution_count": 26,
   "metadata": {},
   "outputs": [
    {
     "data": {
      "text/plain": [
       "101"
      ]
     },
     "execution_count": 26,
     "metadata": {},
     "output_type": "execute_result"
    }
   ],
   "source": [
    "data_solvency[data_solvency['dob_years'] == 0]['dob_years'].count()"
   ]
  },
  {
   "cell_type": "markdown",
   "metadata": {},
   "source": [
    "Таких крайне мало относительно общего количества клиентов, поэтому просто заменим эти нули медианным значением возраста."
   ]
  },
  {
   "cell_type": "code",
   "execution_count": 27,
   "metadata": {},
   "outputs": [
    {
     "data": {
      "text/plain": [
       "0"
      ]
     },
     "execution_count": 27,
     "metadata": {},
     "output_type": "execute_result"
    }
   ],
   "source": [
    "data_solvency['dob_years'] = data_solvency['dob_years'].apply(lambda x:\n",
    "                                                              data_solvency['dob_years'].median() if x == 0 else x)\n",
    "data_solvency[data_solvency['dob_years'] == 0]['dob_years'].count()"
   ]
  },
  {
   "cell_type": "markdown",
   "metadata": {},
   "source": [
    "4. Обработаем столбец `gender`."
   ]
  },
  {
   "cell_type": "code",
   "execution_count": 28,
   "metadata": {},
   "outputs": [
    {
     "data": {
      "text/plain": [
       "gender\n",
       "f      14174\n",
       "m       7279\n",
       "xna        1\n",
       "Name: gender, dtype: int64"
      ]
     },
     "execution_count": 28,
     "metadata": {},
     "output_type": "execute_result"
    }
   ],
   "source": [
    "data_solvency.groupby('gender')['gender'].count()"
   ]
  },
  {
   "cell_type": "markdown",
   "metadata": {},
   "source": [
    "Один человек идентифицирует себя не как мужчину и не как женщину. Будем толерантны и не будем заменять это значение, тем более, что этот столбец для анализа нам не пригодится."
   ]
  },
  {
   "cell_type": "markdown",
   "metadata": {},
   "source": [
    "5. Обработаем столбец `income_type`."
   ]
  },
  {
   "cell_type": "code",
   "execution_count": 29,
   "metadata": {},
   "outputs": [
    {
     "data": {
      "text/plain": [
       "income_type\n",
       "безработный            2\n",
       "в декрете              1\n",
       "госслужащий         1457\n",
       "компаньон           5078\n",
       "пенсионер           3829\n",
       "предприниматель        2\n",
       "сотрудник          11084\n",
       "студент                1\n",
       "Name: income_type, dtype: int64"
      ]
     },
     "execution_count": 29,
     "metadata": {},
     "output_type": "execute_result"
    }
   ],
   "source": [
    "data_solvency.groupby('income_type')['income_type'].count()"
   ]
  },
  {
   "cell_type": "markdown",
   "metadata": {},
   "source": [
    "Здесь все хорошо, этот столбец тоже не пригодится нам для анализа."
   ]
  },
  {
   "cell_type": "markdown",
   "metadata": {},
   "source": [
    "**Вывод**"
   ]
  },
  {
   "cell_type": "markdown",
   "metadata": {},
   "source": [
    "Теперь, когда большая часть проблем в данных устранена (полностью их устранить редко представляется возможным в реальных условиях), можно приступать к анализу и ответам на поставленные вопросы."
   ]
  },
  {
   "cell_type": "markdown",
   "metadata": {},
   "source": [
    "## Шаг 3. Ответьте на вопросы"
   ]
  },
  {
   "cell_type": "markdown",
   "metadata": {},
   "source": [
    "- Есть ли зависимость между наличием детей и возвратом кредита в срок?"
   ]
  },
  {
   "cell_type": "markdown",
   "metadata": {},
   "source": [
    "Отфильтруем клиентов, у которых есть дети, сгруппируем их по столбцу `debt` - имел ли клиент задолженность по возврату кредитов - и посчитаем количество с помощью метода `count()`."
   ]
  },
  {
   "cell_type": "code",
   "execution_count": 30,
   "metadata": {},
   "outputs": [
    {
     "data": {
      "text/plain": [
       "debt\n",
       "0    6685\n",
       "1     678\n",
       "Name: children, dtype: int64"
      ]
     },
     "execution_count": 30,
     "metadata": {},
     "output_type": "execute_result"
    }
   ],
   "source": [
    "have_children = data_solvency[data_solvency['children'] > 0].groupby('debt')['children'].count()\n",
    "have_children"
   ]
  },
  {
   "cell_type": "markdown",
   "metadata": {},
   "source": [
    "Теперь аналогичные действия проделаем с теми, у кого детей нет."
   ]
  },
  {
   "cell_type": "code",
   "execution_count": 31,
   "metadata": {},
   "outputs": [
    {
     "data": {
      "text/plain": [
       "debt\n",
       "0    13028\n",
       "1     1063\n",
       "Name: children, dtype: int64"
      ]
     },
     "execution_count": 31,
     "metadata": {},
     "output_type": "execute_result"
    }
   ],
   "source": [
    "no_children = data_solvency[data_solvency['children'] == 0].groupby('debt')['children'].count()\n",
    "no_children"
   ]
  },
  {
   "cell_type": "markdown",
   "metadata": {},
   "source": [
    "Рассчитаем в каждом случае конверсию - отношение количества не имевших задолженность по возврату кредита к общему числу клиентов."
   ]
  },
  {
   "cell_type": "code",
   "execution_count": 32,
   "metadata": {},
   "outputs": [
    {
     "name": "stdout",
     "output_type": "stream",
     "text": [
      "Доля среди клиентов, имеющих детей: 0.908\n",
      "Доля среди клиентов, не имеющих детей: 0.925\n"
     ]
    }
   ],
   "source": [
    "print('Доля среди клиентов, имеющих детей: %.3f' % (have_children[0] / have_children.sum()))\n",
    "print('Доля среди клиентов, не имеющих детей: %.3f' % (no_children[0] / no_children.sum()))"
   ]
  },
  {
   "cell_type": "markdown",
   "metadata": {},
   "source": [
    "**Вывод**"
   ]
  },
  {
   "cell_type": "markdown",
   "metadata": {},
   "source": [
    "Как видно из полученных значений конверсии, доля не имевших задолженность по возврату кредитов более 90% как среди бездетных, так и среди имеющих детей, однако клиентов, у которых нет детей, примерно в 2 раза больше, при этом их доля больше на 1.7%. Это может говорить о том, что не имеющие детей клиенты чаще возвращают кредит в срок.\n",
    "\n",
    "*Зависимость между наличием детей и возвратом кредита в срок выявлена: процент добросовестных клиентов среди не имеющих детей на 1.7% выше, чем среди имеющих детей.*"
   ]
  },
  {
   "cell_type": "markdown",
   "metadata": {},
   "source": [
    "- Есть ли зависимость между семейным положением и возвратом кредита в срок?"
   ]
  },
  {
   "cell_type": "markdown",
   "metadata": {},
   "source": [
    "Выведем для удобства в этом пункте словарь семейных положений."
   ]
  },
  {
   "cell_type": "code",
   "execution_count": 33,
   "metadata": {},
   "outputs": [
    {
     "data": {
      "text/html": [
       "<div>\n",
       "<style scoped>\n",
       "    .dataframe tbody tr th:only-of-type {\n",
       "        vertical-align: middle;\n",
       "    }\n",
       "\n",
       "    .dataframe tbody tr th {\n",
       "        vertical-align: top;\n",
       "    }\n",
       "\n",
       "    .dataframe thead th {\n",
       "        text-align: right;\n",
       "    }\n",
       "</style>\n",
       "<table border=\"1\" class=\"dataframe\">\n",
       "  <thead>\n",
       "    <tr style=\"text-align: right;\">\n",
       "      <th></th>\n",
       "      <th>family_status</th>\n",
       "      <th>family_status_id</th>\n",
       "    </tr>\n",
       "  </thead>\n",
       "  <tbody>\n",
       "    <tr>\n",
       "      <td>0</td>\n",
       "      <td>женат / замужем</td>\n",
       "      <td>0</td>\n",
       "    </tr>\n",
       "    <tr>\n",
       "      <td>1</td>\n",
       "      <td>гражданский брак</td>\n",
       "      <td>1</td>\n",
       "    </tr>\n",
       "    <tr>\n",
       "      <td>2</td>\n",
       "      <td>вдовец / вдова</td>\n",
       "      <td>2</td>\n",
       "    </tr>\n",
       "    <tr>\n",
       "      <td>3</td>\n",
       "      <td>в разводе</td>\n",
       "      <td>3</td>\n",
       "    </tr>\n",
       "    <tr>\n",
       "      <td>4</td>\n",
       "      <td>не женат / не замужем</td>\n",
       "      <td>4</td>\n",
       "    </tr>\n",
       "  </tbody>\n",
       "</table>\n",
       "</div>"
      ],
      "text/plain": [
       "           family_status  family_status_id\n",
       "0        женат / замужем                 0\n",
       "1       гражданский брак                 1\n",
       "2         вдовец / вдова                 2\n",
       "3              в разводе                 3\n",
       "4  не женат / не замужем                 4"
      ]
     },
     "execution_count": 33,
     "metadata": {},
     "output_type": "execute_result"
    }
   ],
   "source": [
    "family_status_dict"
   ]
  },
  {
   "cell_type": "markdown",
   "metadata": {},
   "source": [
    "Считать конверсию для каждого случая здесь неудобно - нужно будет 5 раз проделать одно и то же действие. Воспользуемся сводными таблицами: выведем для каждого семейного положения количество клиентов, имевших и не имевших задолженностей по выплате кредита. Для параметра `values` выберем любой другой столбец, в котором функция `count` посчитает количества.\n",
    "\n",
    "После этого добавим столбец `conversion` - посчитаем для каждого семейного положения отношение вернувших кредит в срок к общему количеству клиентов в данной категории."
   ]
  },
  {
   "cell_type": "code",
   "execution_count": 34,
   "metadata": {},
   "outputs": [
    {
     "data": {
      "text/html": [
       "<div>\n",
       "<style scoped>\n",
       "    .dataframe tbody tr th:only-of-type {\n",
       "        vertical-align: middle;\n",
       "    }\n",
       "\n",
       "    .dataframe tbody tr th {\n",
       "        vertical-align: top;\n",
       "    }\n",
       "\n",
       "    .dataframe thead th {\n",
       "        text-align: right;\n",
       "    }\n",
       "</style>\n",
       "<table border=\"1\" class=\"dataframe\">\n",
       "  <thead>\n",
       "    <tr style=\"text-align: right;\">\n",
       "      <th>debt</th>\n",
       "      <th>0</th>\n",
       "      <th>1</th>\n",
       "      <th>sum</th>\n",
       "      <th>conversion</th>\n",
       "    </tr>\n",
       "    <tr>\n",
       "      <th>family_status_id</th>\n",
       "      <th></th>\n",
       "      <th></th>\n",
       "      <th></th>\n",
       "      <th></th>\n",
       "    </tr>\n",
       "  </thead>\n",
       "  <tbody>\n",
       "    <tr>\n",
       "      <td>0</td>\n",
       "      <td>11408</td>\n",
       "      <td>931</td>\n",
       "      <td>12339</td>\n",
       "      <td>0.925</td>\n",
       "    </tr>\n",
       "    <tr>\n",
       "      <td>1</td>\n",
       "      <td>3763</td>\n",
       "      <td>388</td>\n",
       "      <td>4151</td>\n",
       "      <td>0.907</td>\n",
       "    </tr>\n",
       "    <tr>\n",
       "      <td>2</td>\n",
       "      <td>896</td>\n",
       "      <td>63</td>\n",
       "      <td>959</td>\n",
       "      <td>0.934</td>\n",
       "    </tr>\n",
       "    <tr>\n",
       "      <td>3</td>\n",
       "      <td>1110</td>\n",
       "      <td>85</td>\n",
       "      <td>1195</td>\n",
       "      <td>0.929</td>\n",
       "    </tr>\n",
       "    <tr>\n",
       "      <td>4</td>\n",
       "      <td>2536</td>\n",
       "      <td>274</td>\n",
       "      <td>2810</td>\n",
       "      <td>0.902</td>\n",
       "    </tr>\n",
       "  </tbody>\n",
       "</table>\n",
       "</div>"
      ],
      "text/plain": [
       "debt                  0    1    sum  conversion\n",
       "family_status_id                               \n",
       "0                 11408  931  12339       0.925\n",
       "1                  3763  388   4151       0.907\n",
       "2                   896   63    959       0.934\n",
       "3                  1110   85   1195       0.929\n",
       "4                  2536  274   2810       0.902"
      ]
     },
     "execution_count": 34,
     "metadata": {},
     "output_type": "execute_result"
    }
   ],
   "source": [
    "pivot_family_status_debt = data_solvency.pivot_table(index='family_status_id', columns='debt',\n",
    "                                                     values='gender', aggfunc='count')\n",
    "pivot_family_status_debt['sum'] = pivot_family_status_debt[0] + pivot_family_status_debt[1]\n",
    "pivot_family_status_debt['conversion'] = round(pivot_family_status_debt[0] / pivot_family_status_debt['sum'], 3)\n",
    "pivot_family_status_debt"
   ]
  },
  {
   "cell_type": "markdown",
   "metadata": {},
   "source": [
    "**Вывод**"
   ]
  },
  {
   "cell_type": "markdown",
   "metadata": {},
   "source": [
    "Клиентов с семейным положением \"гражданский брак\" и \"не женат / не замужем\" и не имевших проблем с выплатой кредита в среднем на 2-3% меньше, чем в остальных категориях. Это объяснимо: люди вступают в брак обычно уже с более твердым финансовым положением, поэтому люди из категорий \"женат / замужем\", \"вдовец / вдова\" и \"в разводе\" чаще не имеют проблем с выплатой кредита. Однако, стоит заметить, что разница все равно невелика - более 90% клиентов в каждой категории относятся к выплате кредита ответственно и не допускают просрочек.\n",
    "\n",
    "*Зависимость между семейным положением и возвратом кредита в срок выявлена: процент состоящих в браке или бывших в нем клиентов и при этом вернувших кредит в срок в среднем на 2-3% выше, чем процент неженатых / незамужних или состоящих в гражданском браке (не зарегистрированном официально) и вернувших кредит в срок.*"
   ]
  },
  {
   "cell_type": "markdown",
   "metadata": {},
   "source": [
    "- Есть ли зависимость между уровнем дохода и возвратом кредита в срок?"
   ]
  },
  {
   "cell_type": "markdown",
   "metadata": {},
   "source": [
    "Снова воспользуемся сводной таблицей - подсчитаем для каждой категории по доходу количество клиентов, имевших и не имевших задолженности, а затем рассчитаем конверсию."
   ]
  },
  {
   "cell_type": "code",
   "execution_count": 35,
   "metadata": {},
   "outputs": [
    {
     "data": {
      "text/html": [
       "<div>\n",
       "<style scoped>\n",
       "    .dataframe tbody tr th:only-of-type {\n",
       "        vertical-align: middle;\n",
       "    }\n",
       "\n",
       "    .dataframe tbody tr th {\n",
       "        vertical-align: top;\n",
       "    }\n",
       "\n",
       "    .dataframe thead th {\n",
       "        text-align: right;\n",
       "    }\n",
       "</style>\n",
       "<table border=\"1\" class=\"dataframe\">\n",
       "  <thead>\n",
       "    <tr style=\"text-align: right;\">\n",
       "      <th>debt</th>\n",
       "      <th>0</th>\n",
       "      <th>1</th>\n",
       "      <th>sum</th>\n",
       "      <th>conversion</th>\n",
       "    </tr>\n",
       "    <tr>\n",
       "      <th>income_category</th>\n",
       "      <th></th>\n",
       "      <th></th>\n",
       "      <th></th>\n",
       "      <th></th>\n",
       "    </tr>\n",
       "  </thead>\n",
       "  <tbody>\n",
       "    <tr>\n",
       "      <td>высокий</td>\n",
       "      <td>6609</td>\n",
       "      <td>542</td>\n",
       "      <td>7151</td>\n",
       "      <td>0.924</td>\n",
       "    </tr>\n",
       "    <tr>\n",
       "      <td>низкий</td>\n",
       "      <td>6571</td>\n",
       "      <td>581</td>\n",
       "      <td>7152</td>\n",
       "      <td>0.919</td>\n",
       "    </tr>\n",
       "    <tr>\n",
       "      <td>средний</td>\n",
       "      <td>6533</td>\n",
       "      <td>618</td>\n",
       "      <td>7151</td>\n",
       "      <td>0.914</td>\n",
       "    </tr>\n",
       "  </tbody>\n",
       "</table>\n",
       "</div>"
      ],
      "text/plain": [
       "debt                0    1   sum  conversion\n",
       "income_category                             \n",
       "высокий          6609  542  7151       0.924\n",
       "низкий           6571  581  7152       0.919\n",
       "средний          6533  618  7151       0.914"
      ]
     },
     "execution_count": 35,
     "metadata": {},
     "output_type": "execute_result"
    }
   ],
   "source": [
    "pivot_income_category_debt = data_solvency.pivot_table(index='income_category', columns='debt',\n",
    "                                                     values='gender', aggfunc='count')\n",
    "pivot_income_category_debt['sum'] = pivot_income_category_debt[0] + pivot_income_category_debt[1]\n",
    "pivot_income_category_debt['conversion'] = round(pivot_income_category_debt[0] / pivot_income_category_debt['sum'], 3)\n",
    "pivot_income_category_debt"
   ]
  },
  {
   "cell_type": "markdown",
   "metadata": {},
   "source": [
    "**Вывод**"
   ]
  },
  {
   "cell_type": "markdown",
   "metadata": {},
   "source": [
    "Клиенты с различным уровнем дохода почти одинаково успешно возвращают кредиты - около 92% не имевших задолженностей клиентов в каждой категории!\n",
    "\n",
    "*Зависимость уровня дохода и возврата кредита в срок не выявлена: доли клиентов, вернувших кредит в срок, примерно равны во всех категориях по доходу.*"
   ]
  },
  {
   "cell_type": "markdown",
   "metadata": {},
   "source": [
    "- Как разные цели кредита влияют на его возврат в срок?"
   ]
  },
  {
   "cell_type": "markdown",
   "metadata": {},
   "source": [
    "Построим сводную таблицу - для каждой цели кредита посчитаем количества клиентов, бравших кредит с такой целью, и вернувших / не вернувших его в срок, а затем добавим столбец с конверсией."
   ]
  },
  {
   "cell_type": "code",
   "execution_count": 36,
   "metadata": {},
   "outputs": [
    {
     "data": {
      "text/html": [
       "<div>\n",
       "<style scoped>\n",
       "    .dataframe tbody tr th:only-of-type {\n",
       "        vertical-align: middle;\n",
       "    }\n",
       "\n",
       "    .dataframe tbody tr th {\n",
       "        vertical-align: top;\n",
       "    }\n",
       "\n",
       "    .dataframe thead th {\n",
       "        text-align: right;\n",
       "    }\n",
       "</style>\n",
       "<table border=\"1\" class=\"dataframe\">\n",
       "  <thead>\n",
       "    <tr style=\"text-align: right;\">\n",
       "      <th>debt</th>\n",
       "      <th>0</th>\n",
       "      <th>1</th>\n",
       "      <th>sum</th>\n",
       "      <th>conversion</th>\n",
       "    </tr>\n",
       "    <tr>\n",
       "      <th>purpose</th>\n",
       "      <th></th>\n",
       "      <th></th>\n",
       "      <th></th>\n",
       "      <th></th>\n",
       "    </tr>\n",
       "  </thead>\n",
       "  <tbody>\n",
       "    <tr>\n",
       "      <td>автомобиль</td>\n",
       "      <td>3903</td>\n",
       "      <td>403</td>\n",
       "      <td>4306</td>\n",
       "      <td>0.906</td>\n",
       "    </tr>\n",
       "    <tr>\n",
       "      <td>недвижимость</td>\n",
       "      <td>10029</td>\n",
       "      <td>782</td>\n",
       "      <td>10811</td>\n",
       "      <td>0.928</td>\n",
       "    </tr>\n",
       "    <tr>\n",
       "      <td>образование</td>\n",
       "      <td>3643</td>\n",
       "      <td>370</td>\n",
       "      <td>4013</td>\n",
       "      <td>0.908</td>\n",
       "    </tr>\n",
       "    <tr>\n",
       "      <td>свадьба</td>\n",
       "      <td>2138</td>\n",
       "      <td>186</td>\n",
       "      <td>2324</td>\n",
       "      <td>0.920</td>\n",
       "    </tr>\n",
       "  </tbody>\n",
       "</table>\n",
       "</div>"
      ],
      "text/plain": [
       "debt              0    1    sum  conversion\n",
       "purpose                                    \n",
       "автомобиль     3903  403   4306       0.906\n",
       "недвижимость  10029  782  10811       0.928\n",
       "образование    3643  370   4013       0.908\n",
       "свадьба        2138  186   2324       0.920"
      ]
     },
     "execution_count": 36,
     "metadata": {},
     "output_type": "execute_result"
    }
   ],
   "source": [
    "pivot_purpose_debt = data_solvency.pivot_table(index='purpose', columns='debt',\n",
    "                                                     values='gender', aggfunc='count')\n",
    "pivot_purpose_debt['sum'] = pivot_purpose_debt[0] + pivot_purpose_debt[1]\n",
    "pivot_purpose_debt['conversion'] = round(pivot_purpose_debt[0] / pivot_purpose_debt['sum'], 3)\n",
    "pivot_purpose_debt"
   ]
  },
  {
   "cell_type": "markdown",
   "metadata": {},
   "source": [
    "**Вывод**"
   ]
  },
  {
   "cell_type": "markdown",
   "metadata": {},
   "source": [
    "*Статистика по возвратам кредитов на недвижимость и на свадьбу в среднем лучше на 1-2% - при этом кредитов на недвижимость больше всего (больше, чем всех остальных вместе взятых).*"
   ]
  },
  {
   "cell_type": "markdown",
   "metadata": {},
   "source": [
    "## Шаг 4. Общий вывод"
   ]
  },
  {
   "cell_type": "markdown",
   "metadata": {},
   "source": [
    "В шаге 2 набор данных, предоставленный для анализа, был предварительно обработан:\n",
    "* в столбцах `days_employed` и `total_income` пропуски заполнены медианным значением соответствующего столбца; \n",
    "* в столбце `days_employed` был заменен тип данных с `float` на `int`;\n",
    "* вся таблица была приведена к нижнему регистру, после чего был удален 71 дубликат;\n",
    "* столбец `purpose` был лемматизирован, и из него были выделены 4 основные цели получения кредита: недвижимость (покупка, постройка, ремонт), автомобиль, образование, свадьба;\n",
    "* данные в столбцах `education`, `family_status` и `purpose` были категоризированы и подготовлены для дальнейшего анализа;\n",
    "* в столбцах с количественными данными были найдены и скорректированы аномальные (невозможные) значения.\n",
    "\n",
    "В шаге 3 был проведен анализ, по итогам которого мы пришли к следующим выводам:\n",
    "* процент клиентов, выплативших кредит вовремя, среди бездетных на 1.7% выше, чем среди имеющих детей;\n",
    "* процент добросовестных клиентов среди состоящих или состоявших в браке в среднем на 2-3% выше, чем среди неженатых / незамужних или состоящих в гражданском браке (не зарегистрированном официально);\n",
    "* возвращаемость кредита не зависит от дохода - разные категории людей возвращают кредиты в срок одинаково успешно;\n",
    "* чаще в срок возвращают кредиты на недвижимость и на свадьбу - в среднем на 1-2%, чем остальные.\n",
    "\n",
    "Систематизируя все вышеописанные зависимости, можно сделать общий вывод, что *ни одна из метрик не влияет кардинально на долю возвращенных вовремя кредитов.* Однако, если рассматривать семейное положение и количество детей, то доля вернувших кредит в срок выше среди тех, кто состоит или состоял в браке (зарегистрированном официально), и среди тех, кто не имеет детей."
   ]
  },
  {
   "cell_type": "markdown",
   "metadata": {},
   "source": [
    "## Чек-лист готовности проекта"
   ]
  },
  {
   "cell_type": "markdown",
   "metadata": {},
   "source": [
    "- [x]  открыт файл;\n",
    "- [x]  файл изучен;\n",
    "- [x]  определены пропущенные значения;\n",
    "- [x]  заполнены пропущенные значения;\n",
    "- [x]  есть пояснение, какие пропущенные значения обнаружены;\n",
    "- [x]  описаны возможные причины появления пропусков в данных;\n",
    "- [x]  объяснено, по какому принципу заполнены пропуски;\n",
    "- [x]  заменен вещественный тип данных на целочисленный;\n",
    "- [x]  есть пояснение, какой метод используется для изменения типа данных и почему;\n",
    "- [x]  удалены дубликаты;\n",
    "- [x]  есть пояснение, какой метод используется для поиска и удаления дубликатов;\n",
    "- [x]  описаны возможные причины появления дубликатов в данных;\n",
    "- [x]  выделены леммы в значениях столбца с целями получения кредита;\n",
    "- [x]  описан процесс лемматизации;\n",
    "- [x]  данные категоризированы;\n",
    "- [x]  есть объяснение принципа категоризации данных;\n",
    "- [x]  есть ответ на вопрос: \"Есть ли зависимость между наличием детей и возвратом кредита в срок?\";\n",
    "- [x]  есть ответ на вопрос: \"Есть ли зависимость между семейным положением и возвратом кредита в срок?\";\n",
    "- [x]  есть ответ на вопрос: \"Есть ли зависимость между уровнем дохода и возвратом кредита в срок?\";\n",
    "- [x]  есть ответ на вопрос: \"Как разные цели кредита влияют на его возврат в срок?\";\n",
    "- [x]  в каждом этапе есть выводы;\n",
    "- [x]  есть общий вывод."
   ]
  }
 ],
 "metadata": {
  "ExecuteTimeLog": [
   {
    "duration": 578,
    "start_time": "2021-12-03T19:38:28.131Z"
   },
   {
    "duration": 10,
    "start_time": "2021-12-03T19:40:43.392Z"
   },
   {
    "duration": 6,
    "start_time": "2021-12-03T20:37:37.302Z"
   },
   {
    "duration": 12,
    "start_time": "2021-12-03T20:48:16.199Z"
   },
   {
    "duration": 64,
    "start_time": "2021-12-03T20:56:49.476Z"
   },
   {
    "duration": 9,
    "start_time": "2021-12-03T20:56:52.878Z"
   },
   {
    "duration": 284,
    "start_time": "2021-12-03T20:58:02.312Z"
   },
   {
    "duration": 236,
    "start_time": "2021-12-03T20:58:14.432Z"
   },
   {
    "duration": 49,
    "start_time": "2021-12-03T20:58:31.115Z"
   },
   {
    "duration": 7,
    "start_time": "2021-12-03T20:59:20.402Z"
   },
   {
    "duration": 19,
    "start_time": "2021-12-03T21:00:59.103Z"
   },
   {
    "duration": 511,
    "start_time": "2021-12-04T11:40:04.074Z"
   },
   {
    "duration": 708,
    "start_time": "2021-12-04T11:40:10.834Z"
   },
   {
    "duration": 12,
    "start_time": "2021-12-04T11:40:13.771Z"
   },
   {
    "duration": 375,
    "start_time": "2021-12-04T11:40:19.659Z"
   },
   {
    "duration": 9,
    "start_time": "2021-12-04T11:40:43.140Z"
   },
   {
    "duration": 15,
    "start_time": "2021-12-04T11:41:39.247Z"
   },
   {
    "duration": 8,
    "start_time": "2021-12-04T11:42:26.311Z"
   },
   {
    "duration": 8,
    "start_time": "2021-12-04T11:42:53.497Z"
   },
   {
    "duration": 9,
    "start_time": "2021-12-04T11:43:09.002Z"
   },
   {
    "duration": 6,
    "start_time": "2021-12-04T11:43:17.370Z"
   },
   {
    "duration": 15,
    "start_time": "2021-12-04T12:11:56.207Z"
   },
   {
    "duration": 13,
    "start_time": "2021-12-04T12:12:19.259Z"
   },
   {
    "duration": 13,
    "start_time": "2021-12-04T12:12:26.427Z"
   },
   {
    "duration": 9,
    "start_time": "2021-12-04T12:12:59.904Z"
   },
   {
    "duration": 12,
    "start_time": "2021-12-04T12:13:13.478Z"
   },
   {
    "duration": 11,
    "start_time": "2021-12-04T12:25:47.553Z"
   },
   {
    "duration": 7,
    "start_time": "2021-12-04T12:26:29.422Z"
   },
   {
    "duration": 8,
    "start_time": "2021-12-04T12:54:39.101Z"
   },
   {
    "duration": 5,
    "start_time": "2021-12-04T12:55:02.850Z"
   },
   {
    "duration": 4,
    "start_time": "2021-12-04T12:59:41.440Z"
   },
   {
    "duration": 6,
    "start_time": "2021-12-04T12:59:50.836Z"
   },
   {
    "duration": 6,
    "start_time": "2021-12-04T13:00:05.345Z"
   },
   {
    "duration": 16,
    "start_time": "2021-12-04T13:11:47.646Z"
   },
   {
    "duration": 335,
    "start_time": "2021-12-04T13:17:08.654Z"
   },
   {
    "duration": 56,
    "start_time": "2021-12-04T13:23:04.510Z"
   },
   {
    "duration": 62,
    "start_time": "2021-12-04T13:23:15.843Z"
   },
   {
    "duration": 38,
    "start_time": "2021-12-04T13:30:56.237Z"
   },
   {
    "duration": 38,
    "start_time": "2021-12-04T13:31:04.562Z"
   },
   {
    "duration": 4491,
    "start_time": "2021-12-04T14:40:04.379Z"
   },
   {
    "duration": 7,
    "start_time": "2021-12-04T14:43:48.642Z"
   },
   {
    "duration": 679,
    "start_time": "2021-12-04T14:49:13.821Z"
   },
   {
    "duration": 679,
    "start_time": "2021-12-04T15:13:44.446Z"
   },
   {
    "duration": 3656,
    "start_time": "2021-12-04T17:35:09.835Z"
   },
   {
    "duration": 7064,
    "start_time": "2021-12-04T17:36:56.911Z"
   },
   {
    "duration": 1048,
    "start_time": "2021-12-04T17:37:27.311Z"
   },
   {
    "duration": 1046,
    "start_time": "2021-12-04T17:37:44.919Z"
   },
   {
    "duration": 10101,
    "start_time": "2021-12-04T17:38:34.056Z"
   },
   {
    "duration": 1017,
    "start_time": "2021-12-04T17:39:01.579Z"
   },
   {
    "duration": 1047,
    "start_time": "2021-12-04T17:44:02.192Z"
   },
   {
    "duration": 1058,
    "start_time": "2021-12-04T17:44:18.193Z"
   },
   {
    "duration": 3978,
    "start_time": "2021-12-04T17:45:24.651Z"
   },
   {
    "duration": 3717,
    "start_time": "2021-12-04T17:45:49.931Z"
   },
   {
    "duration": 696,
    "start_time": "2021-12-04T17:49:33.353Z"
   },
   {
    "duration": 730,
    "start_time": "2021-12-04T17:50:03.254Z"
   },
   {
    "duration": 799,
    "start_time": "2021-12-04T17:50:17.141Z"
   },
   {
    "duration": 705,
    "start_time": "2021-12-04T17:50:24.665Z"
   },
   {
    "duration": 722,
    "start_time": "2021-12-04T17:51:32.178Z"
   },
   {
    "duration": 690,
    "start_time": "2021-12-04T17:51:58.703Z"
   },
   {
    "duration": 683,
    "start_time": "2021-12-04T17:52:16.424Z"
   },
   {
    "duration": 693,
    "start_time": "2021-12-04T17:52:21.852Z"
   },
   {
    "duration": 712,
    "start_time": "2021-12-04T17:55:10.965Z"
   },
   {
    "duration": 53,
    "start_time": "2021-12-04T18:00:42.685Z"
   },
   {
    "duration": 3817,
    "start_time": "2021-12-04T18:04:30.456Z"
   },
   {
    "duration": 4296,
    "start_time": "2021-12-04T18:05:17.144Z"
   },
   {
    "duration": 4030,
    "start_time": "2021-12-04T18:13:18.385Z"
   },
   {
    "duration": 4052,
    "start_time": "2021-12-04T18:13:48.396Z"
   },
   {
    "duration": 3806,
    "start_time": "2021-12-04T18:14:56.881Z"
   },
   {
    "duration": 4012,
    "start_time": "2021-12-04T18:16:13.589Z"
   },
   {
    "duration": 1300,
    "start_time": "2021-12-04T18:28:20.400Z"
   },
   {
    "duration": 4024,
    "start_time": "2021-12-04T18:28:28.859Z"
   },
   {
    "duration": 3950,
    "start_time": "2021-12-04T18:31:51.208Z"
   },
   {
    "duration": 4586,
    "start_time": "2021-12-04T18:46:44.088Z"
   },
   {
    "duration": 3777,
    "start_time": "2021-12-04T18:49:15.636Z"
   },
   {
    "duration": 909,
    "start_time": "2021-12-04T18:59:05.723Z"
   },
   {
    "duration": 788,
    "start_time": "2021-12-04T19:01:14.629Z"
   },
   {
    "duration": 773,
    "start_time": "2021-12-04T19:01:30.837Z"
   },
   {
    "duration": 713,
    "start_time": "2021-12-04T19:01:39.448Z"
   },
   {
    "duration": 822,
    "start_time": "2021-12-04T19:02:32.993Z"
   },
   {
    "duration": 2832,
    "start_time": "2021-12-04T19:11:58.029Z"
   },
   {
    "duration": 15,
    "start_time": "2021-12-04T20:05:45.809Z"
   },
   {
    "duration": 23,
    "start_time": "2021-12-04T20:07:36.459Z"
   },
   {
    "duration": 12,
    "start_time": "2021-12-04T20:09:35.684Z"
   },
   {
    "duration": 14,
    "start_time": "2021-12-04T20:09:53.869Z"
   },
   {
    "duration": 2572,
    "start_time": "2021-12-04T20:29:40.681Z"
   },
   {
    "duration": 20,
    "start_time": "2021-12-04T20:34:36.961Z"
   },
   {
    "duration": 9,
    "start_time": "2021-12-04T20:42:58.507Z"
   },
   {
    "duration": 623,
    "start_time": "2021-12-04T20:43:18.340Z"
   },
   {
    "duration": 5,
    "start_time": "2021-12-04T20:43:22.395Z"
   },
   {
    "duration": 5,
    "start_time": "2021-12-04T20:43:27.777Z"
   },
   {
    "duration": 6,
    "start_time": "2021-12-04T20:47:04.061Z"
   },
   {
    "duration": 4,
    "start_time": "2021-12-04T20:48:35.343Z"
   },
   {
    "duration": 19,
    "start_time": "2021-12-04T20:49:31.073Z"
   },
   {
    "duration": 7,
    "start_time": "2021-12-04T20:50:17.499Z"
   },
   {
    "duration": 12,
    "start_time": "2021-12-04T20:57:08.715Z"
   },
   {
    "duration": 12,
    "start_time": "2021-12-04T20:57:35.741Z"
   },
   {
    "duration": 5,
    "start_time": "2021-12-04T20:59:10.351Z"
   },
   {
    "duration": 20,
    "start_time": "2021-12-04T20:59:36.600Z"
   },
   {
    "duration": 6,
    "start_time": "2021-12-04T21:03:26.512Z"
   },
   {
    "duration": 8,
    "start_time": "2021-12-04T21:04:03.805Z"
   },
   {
    "duration": 6,
    "start_time": "2021-12-04T21:04:15.553Z"
   },
   {
    "duration": 20,
    "start_time": "2021-12-04T21:10:53.772Z"
   },
   {
    "duration": 14,
    "start_time": "2021-12-04T21:11:09.502Z"
   },
   {
    "duration": 7,
    "start_time": "2021-12-04T21:13:11.838Z"
   },
   {
    "duration": 1471,
    "start_time": "2021-12-04T21:14:02.847Z"
   },
   {
    "duration": 326,
    "start_time": "2021-12-04T21:14:28.070Z"
   },
   {
    "duration": 14,
    "start_time": "2021-12-04T21:14:46.579Z"
   },
   {
    "duration": 13,
    "start_time": "2021-12-04T21:15:12.337Z"
   },
   {
    "duration": 15,
    "start_time": "2021-12-04T21:15:35.076Z"
   },
   {
    "duration": 7,
    "start_time": "2021-12-04T21:15:42.444Z"
   },
   {
    "duration": 15,
    "start_time": "2021-12-04T21:16:46.704Z"
   },
   {
    "duration": 9,
    "start_time": "2021-12-04T21:17:09.895Z"
   },
   {
    "duration": 8,
    "start_time": "2021-12-04T21:17:54.962Z"
   },
   {
    "duration": 9,
    "start_time": "2021-12-04T21:18:04.577Z"
   },
   {
    "duration": 369,
    "start_time": "2021-12-04T21:25:07.762Z"
   },
   {
    "duration": 18,
    "start_time": "2021-12-04T21:25:59.281Z"
   },
   {
    "duration": 67,
    "start_time": "2021-12-04T21:26:40.010Z"
   },
   {
    "duration": 12,
    "start_time": "2021-12-04T21:26:40.079Z"
   },
   {
    "duration": 19,
    "start_time": "2021-12-04T21:26:40.093Z"
   },
   {
    "duration": 8,
    "start_time": "2021-12-04T21:26:40.114Z"
   },
   {
    "duration": 5,
    "start_time": "2021-12-04T21:26:40.124Z"
   },
   {
    "duration": 6,
    "start_time": "2021-12-04T21:26:40.131Z"
   },
   {
    "duration": 15,
    "start_time": "2021-12-04T21:26:40.138Z"
   },
   {
    "duration": 104,
    "start_time": "2021-12-04T21:26:40.154Z"
   },
   {
    "duration": 46,
    "start_time": "2021-12-04T21:26:40.261Z"
   },
   {
    "duration": 678,
    "start_time": "2021-12-04T21:26:40.309Z"
   },
   {
    "duration": 3227,
    "start_time": "2021-12-04T21:26:40.989Z"
   },
   {
    "duration": 30,
    "start_time": "2021-12-04T21:26:44.218Z"
   },
   {
    "duration": 16,
    "start_time": "2021-12-04T21:26:44.249Z"
   },
   {
    "duration": 12,
    "start_time": "2021-12-04T21:26:44.267Z"
   },
   {
    "duration": 36,
    "start_time": "2021-12-04T21:26:44.280Z"
   },
   {
    "duration": 23,
    "start_time": "2021-12-04T21:26:44.318Z"
   },
   {
    "duration": 7,
    "start_time": "2021-12-04T21:26:44.342Z"
   },
   {
    "duration": 12,
    "start_time": "2021-12-04T21:26:44.352Z"
   },
   {
    "duration": 41,
    "start_time": "2021-12-04T21:26:44.366Z"
   },
   {
    "duration": 14,
    "start_time": "2021-12-04T21:26:44.409Z"
   },
   {
    "duration": 9,
    "start_time": "2021-12-04T21:27:02.100Z"
   },
   {
    "duration": 571,
    "start_time": "2021-12-04T21:33:59.384Z"
   },
   {
    "duration": 1429,
    "start_time": "2021-12-04T21:35:51.253Z"
   },
   {
    "duration": 154,
    "start_time": "2021-12-04T21:36:08.657Z"
   },
   {
    "duration": 157,
    "start_time": "2021-12-04T21:37:01.287Z"
   },
   {
    "duration": 156,
    "start_time": "2021-12-04T21:37:17.337Z"
   },
   {
    "duration": 9,
    "start_time": "2021-12-04T21:39:07.629Z"
   },
   {
    "duration": 516,
    "start_time": "2021-12-04T21:39:31.533Z"
   },
   {
    "duration": 113,
    "start_time": "2021-12-04T21:39:43.163Z"
   },
   {
    "duration": 4,
    "start_time": "2021-12-04T21:41:30.889Z"
   },
   {
    "duration": 19,
    "start_time": "2021-12-04T21:44:24.253Z"
   },
   {
    "duration": 7,
    "start_time": "2021-12-04T21:44:43.169Z"
   },
   {
    "duration": 6,
    "start_time": "2021-12-04T21:44:57.883Z"
   },
   {
    "duration": 20,
    "start_time": "2021-12-04T21:50:09.264Z"
   },
   {
    "duration": 4,
    "start_time": "2021-12-04T21:50:19.558Z"
   },
   {
    "duration": 5,
    "start_time": "2021-12-04T21:50:22.143Z"
   },
   {
    "duration": 65,
    "start_time": "2021-12-04T21:52:36.009Z"
   },
   {
    "duration": 11,
    "start_time": "2021-12-04T21:52:41.361Z"
   },
   {
    "duration": 14,
    "start_time": "2021-12-04T21:53:41.458Z"
   },
   {
    "duration": 14,
    "start_time": "2021-12-04T21:53:47.835Z"
   },
   {
    "duration": 4,
    "start_time": "2021-12-04T21:53:54.137Z"
   },
   {
    "duration": 5,
    "start_time": "2021-12-04T21:53:55.590Z"
   },
   {
    "duration": 68,
    "start_time": "2021-12-04T21:54:19.876Z"
   },
   {
    "duration": 10,
    "start_time": "2021-12-04T21:54:19.946Z"
   },
   {
    "duration": 6,
    "start_time": "2021-12-04T21:54:19.958Z"
   },
   {
    "duration": 11,
    "start_time": "2021-12-04T21:54:19.966Z"
   },
   {
    "duration": 30,
    "start_time": "2021-12-04T21:54:19.979Z"
   },
   {
    "duration": 5,
    "start_time": "2021-12-04T21:54:20.011Z"
   },
   {
    "duration": 17,
    "start_time": "2021-12-04T21:54:20.018Z"
   },
   {
    "duration": 93,
    "start_time": "2021-12-04T21:54:20.036Z"
   },
   {
    "duration": 34,
    "start_time": "2021-12-04T21:54:20.132Z"
   },
   {
    "duration": 688,
    "start_time": "2021-12-04T21:54:20.168Z"
   },
   {
    "duration": 2877,
    "start_time": "2021-12-04T21:54:20.858Z"
   },
   {
    "duration": 21,
    "start_time": "2021-12-04T21:54:23.737Z"
   },
   {
    "duration": 17,
    "start_time": "2021-12-04T21:54:23.760Z"
   },
   {
    "duration": 33,
    "start_time": "2021-12-04T21:54:23.779Z"
   },
   {
    "duration": 14,
    "start_time": "2021-12-04T21:54:23.814Z"
   },
   {
    "duration": 22,
    "start_time": "2021-12-04T21:54:23.829Z"
   },
   {
    "duration": 6,
    "start_time": "2021-12-04T21:54:23.852Z"
   },
   {
    "duration": 11,
    "start_time": "2021-12-04T21:54:23.860Z"
   },
   {
    "duration": 39,
    "start_time": "2021-12-04T21:54:23.872Z"
   },
   {
    "duration": 12,
    "start_time": "2021-12-04T21:54:23.913Z"
   },
   {
    "duration": 10,
    "start_time": "2021-12-04T21:54:23.927Z"
   },
   {
    "duration": 16,
    "start_time": "2021-12-04T21:54:23.939Z"
   },
   {
    "duration": 4,
    "start_time": "2021-12-04T21:54:23.956Z"
   },
   {
    "duration": 6,
    "start_time": "2021-12-04T21:54:28.786Z"
   },
   {
    "duration": 66,
    "start_time": "2021-12-04T21:54:31.102Z"
   },
   {
    "duration": 5,
    "start_time": "2021-12-04T21:55:57.300Z"
   },
   {
    "duration": 16,
    "start_time": "2021-12-04T21:56:34.366Z"
   },
   {
    "duration": 7,
    "start_time": "2021-12-04T21:56:49.067Z"
   },
   {
    "duration": 8,
    "start_time": "2021-12-04T22:01:30.659Z"
   },
   {
    "duration": -897,
    "start_time": "2021-12-04T22:04:01.579Z"
   },
   {
    "duration": 6,
    "start_time": "2021-12-04T22:04:02.972Z"
   },
   {
    "duration": 25,
    "start_time": "2021-12-04T22:04:34.560Z"
   },
   {
    "duration": 4,
    "start_time": "2021-12-04T22:04:53.238Z"
   },
   {
    "duration": 4,
    "start_time": "2021-12-04T22:04:56.350Z"
   },
   {
    "duration": 312,
    "start_time": "2021-12-05T08:37:34.609Z"
   },
   {
    "duration": 624,
    "start_time": "2021-12-05T08:37:43.302Z"
   },
   {
    "duration": 9,
    "start_time": "2021-12-05T08:37:43.928Z"
   },
   {
    "duration": 8,
    "start_time": "2021-12-05T08:37:43.939Z"
   },
   {
    "duration": 7,
    "start_time": "2021-12-05T08:37:43.949Z"
   },
   {
    "duration": 4,
    "start_time": "2021-12-05T08:37:43.957Z"
   },
   {
    "duration": 5,
    "start_time": "2021-12-05T08:37:43.962Z"
   },
   {
    "duration": 30,
    "start_time": "2021-12-05T08:37:43.968Z"
   },
   {
    "duration": 60,
    "start_time": "2021-12-05T08:37:43.999Z"
   },
   {
    "duration": 46,
    "start_time": "2021-12-05T08:37:44.061Z"
   },
   {
    "duration": 600,
    "start_time": "2021-12-05T08:37:44.108Z"
   },
   {
    "duration": 2606,
    "start_time": "2021-12-05T08:37:44.710Z"
   },
   {
    "duration": 17,
    "start_time": "2021-12-05T08:37:47.318Z"
   },
   {
    "duration": 13,
    "start_time": "2021-12-05T08:37:47.336Z"
   },
   {
    "duration": 11,
    "start_time": "2021-12-05T08:37:47.351Z"
   },
   {
    "duration": 32,
    "start_time": "2021-12-05T08:37:47.363Z"
   },
   {
    "duration": 19,
    "start_time": "2021-12-05T08:37:47.396Z"
   },
   {
    "duration": 6,
    "start_time": "2021-12-05T08:37:47.416Z"
   },
   {
    "duration": 11,
    "start_time": "2021-12-05T08:37:47.424Z"
   },
   {
    "duration": 6,
    "start_time": "2021-12-05T08:37:47.436Z"
   },
   {
    "duration": 44,
    "start_time": "2021-12-05T08:37:47.444Z"
   },
   {
    "duration": 8,
    "start_time": "2021-12-05T08:37:47.490Z"
   },
   {
    "duration": 14,
    "start_time": "2021-12-05T08:37:47.499Z"
   },
   {
    "duration": 4,
    "start_time": "2021-12-05T08:37:47.515Z"
   },
   {
    "duration": 6,
    "start_time": "2021-12-05T08:37:47.521Z"
   },
   {
    "duration": 86,
    "start_time": "2021-12-05T08:37:47.528Z"
   },
   {
    "duration": 8,
    "start_time": "2021-12-05T08:37:47.616Z"
   },
   {
    "duration": 10,
    "start_time": "2021-12-05T08:37:47.626Z"
   },
   {
    "duration": 13,
    "start_time": "2021-12-05T08:37:47.637Z"
   },
   {
    "duration": 15,
    "start_time": "2021-12-05T08:38:03.018Z"
   },
   {
    "duration": 9,
    "start_time": "2021-12-05T08:38:27.691Z"
   },
   {
    "duration": 8,
    "start_time": "2021-12-05T08:38:49.755Z"
   },
   {
    "duration": 6,
    "start_time": "2021-12-05T08:41:46.063Z"
   },
   {
    "duration": 7,
    "start_time": "2021-12-05T08:41:57.516Z"
   },
   {
    "duration": 9,
    "start_time": "2021-12-05T08:42:05.489Z"
   },
   {
    "duration": 3,
    "start_time": "2021-12-05T08:43:49.883Z"
   },
   {
    "duration": 4,
    "start_time": "2021-12-05T08:44:42.203Z"
   },
   {
    "duration": 4,
    "start_time": "2021-12-05T08:47:56.019Z"
   },
   {
    "duration": 4,
    "start_time": "2021-12-05T08:48:32.543Z"
   },
   {
    "duration": 3,
    "start_time": "2021-12-05T08:48:39.259Z"
   },
   {
    "duration": 268,
    "start_time": "2021-12-05T08:49:38.515Z"
   },
   {
    "duration": 4,
    "start_time": "2021-12-05T08:50:19.812Z"
   },
   {
    "duration": 227,
    "start_time": "2021-12-05T08:50:31.796Z"
   },
   {
    "duration": 4,
    "start_time": "2021-12-05T08:50:42.033Z"
   },
   {
    "duration": 4,
    "start_time": "2021-12-05T08:52:04.999Z"
   },
   {
    "duration": 6,
    "start_time": "2021-12-05T09:03:44.840Z"
   },
   {
    "duration": 255,
    "start_time": "2021-12-05T09:08:55.474Z"
   },
   {
    "duration": 27,
    "start_time": "2021-12-05T09:09:12.338Z"
   },
   {
    "duration": 344,
    "start_time": "2021-12-05T09:12:29.279Z"
   },
   {
    "duration": 17,
    "start_time": "2021-12-05T09:12:40.110Z"
   },
   {
    "duration": 18,
    "start_time": "2021-12-05T09:24:39.917Z"
   },
   {
    "duration": 4497,
    "start_time": "2021-12-05T09:27:07.139Z"
   },
   {
    "duration": 4926,
    "start_time": "2021-12-05T09:27:38.591Z"
   },
   {
    "duration": 4909,
    "start_time": "2021-12-05T09:27:56.403Z"
   },
   {
    "duration": 17,
    "start_time": "2021-12-05T09:28:23.658Z"
   },
   {
    "duration": 17,
    "start_time": "2021-12-05T09:31:01.329Z"
   },
   {
    "duration": 12,
    "start_time": "2021-12-05T09:34:29.791Z"
   },
   {
    "duration": 10,
    "start_time": "2021-12-05T09:34:57.604Z"
   },
   {
    "duration": -614,
    "start_time": "2021-12-05T09:37:00.893Z"
   },
   {
    "duration": 10,
    "start_time": "2021-12-05T09:37:04.330Z"
   },
   {
    "duration": 17,
    "start_time": "2021-12-05T09:37:21.084Z"
   },
   {
    "duration": 4589,
    "start_time": "2021-12-05T09:38:25.238Z"
   },
   {
    "duration": 19,
    "start_time": "2021-12-05T09:38:32.147Z"
   },
   {
    "duration": 16,
    "start_time": "2021-12-05T09:40:24.022Z"
   },
   {
    "duration": 15,
    "start_time": "2021-12-05T09:40:47.538Z"
   },
   {
    "duration": 81,
    "start_time": "2021-12-05T09:41:00.706Z"
   },
   {
    "duration": 22,
    "start_time": "2021-12-05T09:41:04.755Z"
   },
   {
    "duration": 4910,
    "start_time": "2021-12-05T09:41:16.919Z"
   },
   {
    "duration": 16,
    "start_time": "2021-12-05T09:41:31.653Z"
   },
   {
    "duration": 16,
    "start_time": "2021-12-05T09:41:37.636Z"
   },
   {
    "duration": 110,
    "start_time": "2021-12-05T09:43:10.827Z"
   },
   {
    "duration": 21,
    "start_time": "2021-12-05T09:43:15.224Z"
   },
   {
    "duration": 26,
    "start_time": "2021-12-05T09:44:01.869Z"
   },
   {
    "duration": 13,
    "start_time": "2021-12-05T10:03:44.515Z"
   },
   {
    "duration": 261,
    "start_time": "2021-12-05T10:04:08.947Z"
   },
   {
    "duration": 250,
    "start_time": "2021-12-05T10:04:12.889Z"
   },
   {
    "duration": 12,
    "start_time": "2021-12-05T10:04:16.532Z"
   },
   {
    "duration": 17,
    "start_time": "2021-12-05T10:13:11.748Z"
   },
   {
    "duration": 58,
    "start_time": "2021-12-05T10:13:28.826Z"
   },
   {
    "duration": 16,
    "start_time": "2021-12-05T10:13:28.885Z"
   },
   {
    "duration": 5,
    "start_time": "2021-12-05T10:13:28.902Z"
   },
   {
    "duration": 7,
    "start_time": "2021-12-05T10:13:28.908Z"
   },
   {
    "duration": 5,
    "start_time": "2021-12-05T10:13:28.969Z"
   },
   {
    "duration": 7,
    "start_time": "2021-12-05T10:13:28.975Z"
   },
   {
    "duration": 19,
    "start_time": "2021-12-05T10:13:28.984Z"
   },
   {
    "duration": 60,
    "start_time": "2021-12-05T10:13:29.004Z"
   },
   {
    "duration": 45,
    "start_time": "2021-12-05T10:13:29.066Z"
   },
   {
    "duration": 636,
    "start_time": "2021-12-05T10:13:29.112Z"
   },
   {
    "duration": 2659,
    "start_time": "2021-12-05T10:13:29.750Z"
   },
   {
    "duration": 16,
    "start_time": "2021-12-05T10:13:32.411Z"
   },
   {
    "duration": 13,
    "start_time": "2021-12-05T10:13:32.430Z"
   },
   {
    "duration": 10,
    "start_time": "2021-12-05T10:13:32.445Z"
   },
   {
    "duration": 40,
    "start_time": "2021-12-05T10:13:32.457Z"
   },
   {
    "duration": 19,
    "start_time": "2021-12-05T10:13:32.499Z"
   },
   {
    "duration": 10,
    "start_time": "2021-12-05T10:13:32.520Z"
   },
   {
    "duration": 15,
    "start_time": "2021-12-05T10:13:32.532Z"
   },
   {
    "duration": 10,
    "start_time": "2021-12-05T10:13:32.548Z"
   },
   {
    "duration": 33,
    "start_time": "2021-12-05T10:13:32.559Z"
   },
   {
    "duration": 7,
    "start_time": "2021-12-05T10:13:32.594Z"
   },
   {
    "duration": 13,
    "start_time": "2021-12-05T10:13:32.603Z"
   },
   {
    "duration": 7,
    "start_time": "2021-12-05T10:13:32.617Z"
   },
   {
    "duration": 15,
    "start_time": "2021-12-05T10:13:32.625Z"
   },
   {
    "duration": 4,
    "start_time": "2021-12-05T10:13:32.641Z"
   },
   {
    "duration": 45,
    "start_time": "2021-12-05T10:13:32.646Z"
   },
   {
    "duration": 57,
    "start_time": "2021-12-05T10:13:32.693Z"
   },
   {
    "duration": 6,
    "start_time": "2021-12-05T10:13:32.752Z"
   },
   {
    "duration": 7,
    "start_time": "2021-12-05T10:13:32.759Z"
   },
   {
    "duration": 35,
    "start_time": "2021-12-05T10:13:32.767Z"
   },
   {
    "duration": 7,
    "start_time": "2021-12-05T10:13:32.805Z"
   },
   {
    "duration": 4,
    "start_time": "2021-12-05T10:13:32.813Z"
   },
   {
    "duration": 6,
    "start_time": "2021-12-05T10:13:32.819Z"
   },
   {
    "duration": 18,
    "start_time": "2021-12-05T10:13:32.827Z"
   },
   {
    "duration": 17,
    "start_time": "2021-12-05T10:18:46.217Z"
   },
   {
    "duration": 19,
    "start_time": "2021-12-05T10:19:18.255Z"
   },
   {
    "duration": 21,
    "start_time": "2021-12-05T10:34:30.196Z"
   },
   {
    "duration": 65,
    "start_time": "2021-12-05T10:56:30.255Z"
   },
   {
    "duration": 9,
    "start_time": "2021-12-05T10:56:30.322Z"
   },
   {
    "duration": 6,
    "start_time": "2021-12-05T10:56:30.332Z"
   },
   {
    "duration": 6,
    "start_time": "2021-12-05T10:56:30.340Z"
   },
   {
    "duration": 41,
    "start_time": "2021-12-05T10:56:30.347Z"
   },
   {
    "duration": 7,
    "start_time": "2021-12-05T10:56:30.390Z"
   },
   {
    "duration": 15,
    "start_time": "2021-12-05T10:56:30.404Z"
   },
   {
    "duration": 80,
    "start_time": "2021-12-05T10:56:30.420Z"
   },
   {
    "duration": 34,
    "start_time": "2021-12-05T10:56:30.502Z"
   },
   {
    "duration": 650,
    "start_time": "2021-12-05T10:56:30.539Z"
   },
   {
    "duration": 2653,
    "start_time": "2021-12-05T10:56:31.191Z"
   },
   {
    "duration": 16,
    "start_time": "2021-12-05T10:56:33.845Z"
   },
   {
    "duration": 26,
    "start_time": "2021-12-05T10:56:33.863Z"
   },
   {
    "duration": 12,
    "start_time": "2021-12-05T10:56:33.891Z"
   },
   {
    "duration": 12,
    "start_time": "2021-12-05T10:56:33.905Z"
   },
   {
    "duration": 16,
    "start_time": "2021-12-05T10:56:33.918Z"
   },
   {
    "duration": 13,
    "start_time": "2021-12-05T10:56:33.935Z"
   },
   {
    "duration": 40,
    "start_time": "2021-12-05T10:56:33.949Z"
   },
   {
    "duration": 10,
    "start_time": "2021-12-05T10:56:33.996Z"
   },
   {
    "duration": 12,
    "start_time": "2021-12-05T10:56:34.008Z"
   },
   {
    "duration": 5,
    "start_time": "2021-12-05T10:56:34.021Z"
   },
   {
    "duration": 12,
    "start_time": "2021-12-05T10:56:34.028Z"
   },
   {
    "duration": 7,
    "start_time": "2021-12-05T10:56:34.041Z"
   },
   {
    "duration": 56,
    "start_time": "2021-12-05T10:56:34.050Z"
   },
   {
    "duration": 4,
    "start_time": "2021-12-05T10:56:34.108Z"
   },
   {
    "duration": 6,
    "start_time": "2021-12-05T10:56:34.113Z"
   },
   {
    "duration": 71,
    "start_time": "2021-12-05T10:56:34.122Z"
   },
   {
    "duration": 8,
    "start_time": "2021-12-05T10:56:34.196Z"
   },
   {
    "duration": 6,
    "start_time": "2021-12-05T10:56:34.206Z"
   },
   {
    "duration": 7,
    "start_time": "2021-12-05T10:56:34.213Z"
   },
   {
    "duration": 6,
    "start_time": "2021-12-05T10:56:34.221Z"
   },
   {
    "duration": 3,
    "start_time": "2021-12-05T10:56:34.229Z"
   },
   {
    "duration": 9,
    "start_time": "2021-12-05T10:56:34.233Z"
   },
   {
    "duration": 54,
    "start_time": "2021-12-05T10:56:34.243Z"
   },
   {
    "duration": 21,
    "start_time": "2021-12-05T10:56:34.299Z"
   },
   {
    "duration": 18,
    "start_time": "2021-12-05T10:56:34.321Z"
   },
   {
    "duration": 147,
    "start_time": "2021-12-05T23:02:22.902Z"
   },
   {
    "duration": 858,
    "start_time": "2021-12-05T23:02:35.199Z"
   },
   {
    "duration": 15,
    "start_time": "2021-12-05T23:02:36.060Z"
   },
   {
    "duration": 8,
    "start_time": "2021-12-05T23:02:36.078Z"
   },
   {
    "duration": 16,
    "start_time": "2021-12-05T23:02:36.089Z"
   },
   {
    "duration": 7,
    "start_time": "2021-12-05T23:02:36.107Z"
   },
   {
    "duration": 8,
    "start_time": "2021-12-05T23:02:36.116Z"
   },
   {
    "duration": 25,
    "start_time": "2021-12-05T23:02:36.168Z"
   },
   {
    "duration": 125,
    "start_time": "2021-12-05T23:02:36.197Z"
   },
   {
    "duration": 65,
    "start_time": "2021-12-05T23:02:36.325Z"
   },
   {
    "duration": 930,
    "start_time": "2021-12-05T23:02:36.393Z"
   },
   {
    "duration": 3997,
    "start_time": "2021-12-05T23:02:37.325Z"
   },
   {
    "duration": 43,
    "start_time": "2021-12-05T23:02:41.325Z"
   },
   {
    "duration": 26,
    "start_time": "2021-12-05T23:02:41.371Z"
   },
   {
    "duration": 18,
    "start_time": "2021-12-05T23:02:41.399Z"
   },
   {
    "duration": 55,
    "start_time": "2021-12-05T23:02:41.419Z"
   },
   {
    "duration": 37,
    "start_time": "2021-12-05T23:02:41.476Z"
   },
   {
    "duration": 20,
    "start_time": "2021-12-05T23:02:41.515Z"
   },
   {
    "duration": 52,
    "start_time": "2021-12-05T23:02:41.538Z"
   },
   {
    "duration": 14,
    "start_time": "2021-12-05T23:02:41.593Z"
   },
   {
    "duration": 17,
    "start_time": "2021-12-05T23:02:41.610Z"
   },
   {
    "duration": 11,
    "start_time": "2021-12-05T23:02:41.667Z"
   },
   {
    "duration": 21,
    "start_time": "2021-12-05T23:02:41.680Z"
   },
   {
    "duration": 11,
    "start_time": "2021-12-05T23:02:41.705Z"
   },
   {
    "duration": 66,
    "start_time": "2021-12-05T23:02:41.719Z"
   },
   {
    "duration": 7,
    "start_time": "2021-12-05T23:02:41.787Z"
   },
   {
    "duration": 9,
    "start_time": "2021-12-05T23:02:41.796Z"
   },
   {
    "duration": 121,
    "start_time": "2021-12-05T23:02:41.807Z"
   },
   {
    "duration": 11,
    "start_time": "2021-12-05T23:02:41.930Z"
   },
   {
    "duration": 31,
    "start_time": "2021-12-05T23:02:41.943Z"
   },
   {
    "duration": 14,
    "start_time": "2021-12-05T23:02:41.977Z"
   },
   {
    "duration": 15,
    "start_time": "2021-12-05T23:02:41.994Z"
   },
   {
    "duration": 8,
    "start_time": "2021-12-05T23:02:42.012Z"
   },
   {
    "duration": 57,
    "start_time": "2021-12-05T23:02:42.023Z"
   },
   {
    "duration": 49,
    "start_time": "2021-12-05T23:02:42.082Z"
   },
   {
    "duration": 51,
    "start_time": "2021-12-05T23:02:42.133Z"
   },
   {
    "duration": 34,
    "start_time": "2021-12-05T23:02:42.186Z"
   },
   {
    "duration": 222,
    "start_time": "2021-12-05T23:04:19.227Z"
   },
   {
    "duration": 115,
    "start_time": "2021-12-05T23:04:48.001Z"
   },
   {
    "duration": 129,
    "start_time": "2021-12-05T23:05:55.179Z"
   },
   {
    "duration": 11,
    "start_time": "2021-12-05T23:08:10.040Z"
   },
   {
    "duration": 113,
    "start_time": "2021-12-05T23:10:53.777Z"
   },
   {
    "duration": 120,
    "start_time": "2021-12-05T23:11:24.497Z"
   },
   {
    "duration": 108,
    "start_time": "2021-12-05T23:11:32.790Z"
   },
   {
    "duration": 113,
    "start_time": "2021-12-05T23:11:40.163Z"
   },
   {
    "duration": 9960,
    "start_time": "2021-12-05T23:11:49.790Z"
   },
   {
    "duration": 16,
    "start_time": "2021-12-05T23:12:09.249Z"
   },
   {
    "duration": 15,
    "start_time": "2021-12-05T23:12:23.275Z"
   },
   {
    "duration": 16,
    "start_time": "2021-12-05T23:12:29.214Z"
   },
   {
    "duration": 16,
    "start_time": "2021-12-05T23:12:34.641Z"
   },
   {
    "duration": 118,
    "start_time": "2021-12-05T23:14:03.528Z"
   },
   {
    "duration": 129,
    "start_time": "2021-12-05T23:14:56.672Z"
   },
   {
    "duration": 10,
    "start_time": "2021-12-05T23:15:08.651Z"
   },
   {
    "duration": 974,
    "start_time": "2021-12-05T23:16:51.053Z"
   },
   {
    "duration": 838,
    "start_time": "2021-12-06T10:46:31.078Z"
   },
   {
    "duration": 15,
    "start_time": "2021-12-06T10:46:40.639Z"
   },
   {
    "duration": 8,
    "start_time": "2021-12-06T10:48:35.523Z"
   },
   {
    "duration": 11,
    "start_time": "2021-12-06T10:48:38.628Z"
   },
   {
    "duration": 7,
    "start_time": "2021-12-06T10:48:42.332Z"
   },
   {
    "duration": 9,
    "start_time": "2021-12-06T10:48:43.575Z"
   },
   {
    "duration": 24,
    "start_time": "2021-12-06T10:48:47.690Z"
   },
   {
    "duration": 98,
    "start_time": "2021-12-06T10:48:48.873Z"
   },
   {
    "duration": 52,
    "start_time": "2021-12-06T10:48:50.004Z"
   },
   {
    "duration": 943,
    "start_time": "2021-12-06T10:48:53.193Z"
   },
   {
    "duration": 3719,
    "start_time": "2021-12-06T10:49:05.850Z"
   },
   {
    "duration": 3740,
    "start_time": "2021-12-06T10:49:24.850Z"
   },
   {
    "duration": 27,
    "start_time": "2021-12-06T10:49:43.477Z"
   },
   {
    "duration": 24,
    "start_time": "2021-12-06T10:49:47.220Z"
   },
   {
    "duration": 20,
    "start_time": "2021-12-06T10:49:52.144Z"
   },
   {
    "duration": 21,
    "start_time": "2021-12-06T10:49:53.615Z"
   },
   {
    "duration": 31,
    "start_time": "2021-12-06T10:49:58.068Z"
   },
   {
    "duration": 17,
    "start_time": "2021-12-06T10:53:55.217Z"
   },
   {
    "duration": 9,
    "start_time": "2021-12-06T10:57:10.491Z"
   },
   {
    "duration": 18,
    "start_time": "2021-12-06T10:57:18.793Z"
   },
   {
    "duration": 10,
    "start_time": "2021-12-06T10:57:24.243Z"
   },
   {
    "duration": 25,
    "start_time": "2021-12-06T10:57:26.979Z"
   },
   {
    "duration": 13,
    "start_time": "2021-12-06T10:57:30.752Z"
   },
   {
    "duration": 25,
    "start_time": "2021-12-06T10:57:36.375Z"
   },
   {
    "duration": 10,
    "start_time": "2021-12-06T10:57:52.811Z"
   },
   {
    "duration": 8,
    "start_time": "2021-12-06T10:58:36.925Z"
   },
   {
    "duration": 91,
    "start_time": "2021-12-06T10:58:42.863Z"
   },
   {
    "duration": 10,
    "start_time": "2021-12-06T10:58:44.925Z"
   },
   {
    "duration": 10,
    "start_time": "2021-12-06T10:58:52.309Z"
   },
   {
    "duration": 13,
    "start_time": "2021-12-06T10:58:59.376Z"
   },
   {
    "duration": 13,
    "start_time": "2021-12-06T10:59:00.278Z"
   },
   {
    "duration": 5,
    "start_time": "2021-12-06T10:59:01.472Z"
   },
   {
    "duration": 60,
    "start_time": "2021-12-06T11:58:03.378Z"
   },
   {
    "duration": 54,
    "start_time": "2021-12-06T11:59:12.979Z"
   },
   {
    "duration": 58,
    "start_time": "2021-12-06T11:59:16.282Z"
   }
  ],
  "kernelspec": {
   "display_name": "Python 3",
   "language": "python",
   "name": "python3"
  },
  "language_info": {
   "codemirror_mode": {
    "name": "ipython",
    "version": 3
   },
   "file_extension": ".py",
   "mimetype": "text/x-python",
   "name": "python",
   "nbconvert_exporter": "python",
   "pygments_lexer": "ipython3",
   "version": "3.8.5"
  },
  "toc": {
   "base_numbering": 1,
   "nav_menu": {
    "height": "217px",
    "width": "538px"
   },
   "number_sections": true,
   "sideBar": true,
   "skip_h1_title": true,
   "title_cell": "Table of Contents",
   "title_sidebar": "Contents",
   "toc_cell": false,
   "toc_position": {
    "height": "calc(100% - 180px)",
    "left": "10px",
    "top": "150px",
    "width": "341px"
   },
   "toc_section_display": true,
   "toc_window_display": true
  }
 },
 "nbformat": 4,
 "nbformat_minor": 2
}
