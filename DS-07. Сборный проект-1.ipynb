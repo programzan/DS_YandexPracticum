{
 "cells": [
  {
   "cell_type": "markdown",
   "metadata": {
    "toc": true
   },
   "source": [
    "<h1>Содержание<span class=\"tocSkip\"></span></h1>\n",
    "<div class=\"toc\"><ul class=\"toc-item\"><li><span><a href=\"#Изучение-данных-из-файла\" data-toc-modified-id=\"Изучение-данных-из-файла-1\"><span class=\"toc-item-num\">1&nbsp;&nbsp;</span>Изучение данных из файла</a></span><ul class=\"toc-item\"><li><span><a href=\"#Вывод\" data-toc-modified-id=\"Вывод-1.1\"><span class=\"toc-item-num\">1.1&nbsp;&nbsp;</span>Вывод</a></span></li></ul></li><li><span><a href=\"#Подготовка-данных\" data-toc-modified-id=\"Подготовка-данных-2\"><span class=\"toc-item-num\">2&nbsp;&nbsp;</span>Подготовка данных</a></span><ul class=\"toc-item\"><li><span><a href=\"#Замена-названий-столбцов\" data-toc-modified-id=\"Замена-названий-столбцов-2.1\"><span class=\"toc-item-num\">2.1&nbsp;&nbsp;</span>Замена названий столбцов</a></span></li><li><span><a href=\"#Обработка-пропусков\" data-toc-modified-id=\"Обработка-пропусков-2.2\"><span class=\"toc-item-num\">2.2&nbsp;&nbsp;</span>Обработка пропусков</a></span></li><li><span><a href=\"#Обработка-аномалий-в-данных\" data-toc-modified-id=\"Обработка-аномалий-в-данных-2.3\"><span class=\"toc-item-num\">2.3&nbsp;&nbsp;</span>Обработка аномалий в данных</a></span></li><li><span><a href=\"#Преобразование-типов-данных\" data-toc-modified-id=\"Преобразование-типов-данных-2.4\"><span class=\"toc-item-num\">2.4&nbsp;&nbsp;</span>Преобразование типов данных</a></span></li><li><span><a href=\"#Подсчет-суммарных-продаж-во-всех-регионах\" data-toc-modified-id=\"Подсчет-суммарных-продаж-во-всех-регионах-2.5\"><span class=\"toc-item-num\">2.5&nbsp;&nbsp;</span>Подсчет суммарных продаж во всех регионах</a></span></li><li><span><a href=\"#Вывод\" data-toc-modified-id=\"Вывод-2.6\"><span class=\"toc-item-num\">2.6&nbsp;&nbsp;</span>Вывод</a></span></li></ul></li><li><span><a href=\"#Исследовательский-анализ-данных\" data-toc-modified-id=\"Исследовательский-анализ-данных-3\"><span class=\"toc-item-num\">3&nbsp;&nbsp;</span>Исследовательский анализ данных</a></span><ul class=\"toc-item\"><li><span><a href=\"#Количество-выпущенных-игр-по-годам\" data-toc-modified-id=\"Количество-выпущенных-игр-по-годам-3.1\"><span class=\"toc-item-num\">3.1&nbsp;&nbsp;</span>Количество выпущенных игр по годам</a></span></li><li><span><a href=\"#Исследование-количества-проданных-игр-по-платформам\" data-toc-modified-id=\"Исследование-количества-проданных-игр-по-платформам-3.2\"><span class=\"toc-item-num\">3.2&nbsp;&nbsp;</span>Исследование количества проданных игр по платформам</a></span></li><li><span><a href=\"#Исследование-потенциально-прибыльных-платформ\" data-toc-modified-id=\"Исследование-потенциально-прибыльных-платформ-3.3\"><span class=\"toc-item-num\">3.3&nbsp;&nbsp;</span>Исследование потенциально прибыльных платформ</a></span></li><li><span><a href=\"#Исследование-влияния-оценок-критиков-и-пользователей-на-продажи-игр\" data-toc-modified-id=\"Исследование-влияния-оценок-критиков-и-пользователей-на-продажи-игр-3.4\"><span class=\"toc-item-num\">3.4&nbsp;&nbsp;</span>Исследование влияния оценок критиков и пользователей на продажи игр</a></span></li><li><span><a href=\"#Исследование-объемов-продаж-по-жанрам-игр\" data-toc-modified-id=\"Исследование-объемов-продаж-по-жанрам-игр-3.5\"><span class=\"toc-item-num\">3.5&nbsp;&nbsp;</span>Исследование объемов продаж по жанрам игр</a></span></li><li><span><a href=\"#Вывод\" data-toc-modified-id=\"Вывод-3.6\"><span class=\"toc-item-num\">3.6&nbsp;&nbsp;</span>Вывод</a></span></li></ul></li><li><span><a href=\"#Составление-портрета-пользователя-каждого-региона\" data-toc-modified-id=\"Составление-портрета-пользователя-каждого-региона-4\"><span class=\"toc-item-num\">4&nbsp;&nbsp;</span>Составление портрета пользователя каждого региона</a></span><ul class=\"toc-item\"><li><span><a href=\"#Пользователь-региона-NA-(North-America---Северная-Америка)\" data-toc-modified-id=\"Пользователь-региона-NA-(North-America---Северная-Америка)-4.1\"><span class=\"toc-item-num\">4.1&nbsp;&nbsp;</span>Пользователь региона <em>NA</em> (North America - Северная Америка)</a></span></li><li><span><a href=\"#Пользователь-региона-EU-(Europe---Европа)\" data-toc-modified-id=\"Пользователь-региона-EU-(Europe---Европа)-4.2\"><span class=\"toc-item-num\">4.2&nbsp;&nbsp;</span>Пользователь региона <em>EU</em> (Europe - Европа)</a></span></li><li><span><a href=\"#Пользователь-региона-JP-(Japan---Япония)\" data-toc-modified-id=\"Пользователь-региона-JP-(Japan---Япония)-4.3\"><span class=\"toc-item-num\">4.3&nbsp;&nbsp;</span>Пользователь региона <em>JP</em> (Japan - Япония)</a></span></li><li><span><a href=\"#Распределение-жанров-игр-по-рейтингам\" data-toc-modified-id=\"Распределение-жанров-игр-по-рейтингам-4.4\"><span class=\"toc-item-num\">4.4&nbsp;&nbsp;</span>Распределение жанров игр по рейтингам</a></span></li><li><span><a href=\"#Вывод\" data-toc-modified-id=\"Вывод-4.5\"><span class=\"toc-item-num\">4.5&nbsp;&nbsp;</span>Вывод</a></span></li></ul></li><li><span><a href=\"#Проверка-гипотез\" data-toc-modified-id=\"Проверка-гипотез-5\"><span class=\"toc-item-num\">5&nbsp;&nbsp;</span>Проверка гипотез</a></span><ul class=\"toc-item\"><li><span><a href=\"#Средние-пользовательские-рейтинги-платформ-Xbox-One-и-PC-одинаковые\" data-toc-modified-id=\"Средние-пользовательские-рейтинги-платформ-Xbox-One-и-PC-одинаковые-5.1\"><span class=\"toc-item-num\">5.1&nbsp;&nbsp;</span>Средние пользовательские рейтинги платформ <em>Xbox One</em> и <em>PC</em> одинаковые</a></span></li><li><span><a href=\"#Средние-пользовательские-рейтинги-жанров-Action-и-Sports-разные\" data-toc-modified-id=\"Средние-пользовательские-рейтинги-жанров-Action-и-Sports-разные-5.2\"><span class=\"toc-item-num\">5.2&nbsp;&nbsp;</span>Средние пользовательские рейтинги жанров <em>Action</em> и <em>Sports</em> разные</a></span></li><li><span><a href=\"#Вывод\" data-toc-modified-id=\"Вывод-5.3\"><span class=\"toc-item-num\">5.3&nbsp;&nbsp;</span>Вывод</a></span></li></ul></li><li><span><a href=\"#Общий-вывод\" data-toc-modified-id=\"Общий-вывод-6\"><span class=\"toc-item-num\">6&nbsp;&nbsp;</span>Общий вывод</a></span></li><li><span><a href=\"#Чек-лист-готовности-проекта\" data-toc-modified-id=\"Чек-лист-готовности-проекта-7\"><span class=\"toc-item-num\">7&nbsp;&nbsp;</span>Чек-лист готовности проекта</a></span></li></ul></div>"
   ]
  },
  {
   "cell_type": "markdown",
   "metadata": {},
   "source": [
    "# Сборный проект\n",
    "\n",
    "# Выявление закономерностей, определяющих успех продаж компьютерной игры"
   ]
  },
  {
   "cell_type": "markdown",
   "metadata": {},
   "source": [
    "Вы работаете в интернет-магазине «Стримчик», который продаёт по всему миру компьютерные игры. Из открытых источников доступны исторические данные о продажах игр, оценки пользователей и экспертов, жанры и платформы (например, Xbox или PlayStation). Вам нужно выявить определяющие успешность игры закономерности. Это позволит сделать ставку на потенциально популярный продукт и спланировать рекламные кампании."
   ]
  },
  {
   "cell_type": "markdown",
   "metadata": {},
   "source": [
    "## Изучение данных из файла"
   ]
  },
  {
   "cell_type": "code",
   "execution_count": 115,
   "metadata": {},
   "outputs": [],
   "source": [
    "# Импорт необходимых библиотек\n",
    "import pandas as pd\n",
    "import matplotlib.pyplot as plt\n",
    "import numpy as np\n",
    "from scipy import stats as st\n",
    "import warnings # чтобы убрать предупреждение при выводе boxplot\n",
    "warnings.filterwarnings(\"ignore\", category=np.VisibleDeprecationWarning)"
   ]
  },
  {
   "cell_type": "code",
   "execution_count": 116,
   "metadata": {},
   "outputs": [],
   "source": [
    "try:\n",
    "    games_data = pd.read_csv('/datasets/games.csv')\n",
    "except OSError as err:\n",
    "    print(err)"
   ]
  },
  {
   "cell_type": "code",
   "execution_count": 117,
   "metadata": {},
   "outputs": [],
   "source": [
    "# Функция для обзора датафрейма\n",
    "def overview_df(data):\n",
    "    display(data.head())\n",
    "    data.info()"
   ]
  },
  {
   "cell_type": "code",
   "execution_count": 118,
   "metadata": {},
   "outputs": [
    {
     "data": {
      "text/html": [
       "<div>\n",
       "<style scoped>\n",
       "    .dataframe tbody tr th:only-of-type {\n",
       "        vertical-align: middle;\n",
       "    }\n",
       "\n",
       "    .dataframe tbody tr th {\n",
       "        vertical-align: top;\n",
       "    }\n",
       "\n",
       "    .dataframe thead th {\n",
       "        text-align: right;\n",
       "    }\n",
       "</style>\n",
       "<table border=\"1\" class=\"dataframe\">\n",
       "  <thead>\n",
       "    <tr style=\"text-align: right;\">\n",
       "      <th></th>\n",
       "      <th>Name</th>\n",
       "      <th>Platform</th>\n",
       "      <th>Year_of_Release</th>\n",
       "      <th>Genre</th>\n",
       "      <th>NA_sales</th>\n",
       "      <th>EU_sales</th>\n",
       "      <th>JP_sales</th>\n",
       "      <th>Other_sales</th>\n",
       "      <th>Critic_Score</th>\n",
       "      <th>User_Score</th>\n",
       "      <th>Rating</th>\n",
       "    </tr>\n",
       "  </thead>\n",
       "  <tbody>\n",
       "    <tr>\n",
       "      <td>0</td>\n",
       "      <td>Wii Sports</td>\n",
       "      <td>Wii</td>\n",
       "      <td>2006.0</td>\n",
       "      <td>Sports</td>\n",
       "      <td>41.36</td>\n",
       "      <td>28.96</td>\n",
       "      <td>3.77</td>\n",
       "      <td>8.45</td>\n",
       "      <td>76.0</td>\n",
       "      <td>8</td>\n",
       "      <td>E</td>\n",
       "    </tr>\n",
       "    <tr>\n",
       "      <td>1</td>\n",
       "      <td>Super Mario Bros.</td>\n",
       "      <td>NES</td>\n",
       "      <td>1985.0</td>\n",
       "      <td>Platform</td>\n",
       "      <td>29.08</td>\n",
       "      <td>3.58</td>\n",
       "      <td>6.81</td>\n",
       "      <td>0.77</td>\n",
       "      <td>NaN</td>\n",
       "      <td>NaN</td>\n",
       "      <td>NaN</td>\n",
       "    </tr>\n",
       "    <tr>\n",
       "      <td>2</td>\n",
       "      <td>Mario Kart Wii</td>\n",
       "      <td>Wii</td>\n",
       "      <td>2008.0</td>\n",
       "      <td>Racing</td>\n",
       "      <td>15.68</td>\n",
       "      <td>12.76</td>\n",
       "      <td>3.79</td>\n",
       "      <td>3.29</td>\n",
       "      <td>82.0</td>\n",
       "      <td>8.3</td>\n",
       "      <td>E</td>\n",
       "    </tr>\n",
       "    <tr>\n",
       "      <td>3</td>\n",
       "      <td>Wii Sports Resort</td>\n",
       "      <td>Wii</td>\n",
       "      <td>2009.0</td>\n",
       "      <td>Sports</td>\n",
       "      <td>15.61</td>\n",
       "      <td>10.93</td>\n",
       "      <td>3.28</td>\n",
       "      <td>2.95</td>\n",
       "      <td>80.0</td>\n",
       "      <td>8</td>\n",
       "      <td>E</td>\n",
       "    </tr>\n",
       "    <tr>\n",
       "      <td>4</td>\n",
       "      <td>Pokemon Red/Pokemon Blue</td>\n",
       "      <td>GB</td>\n",
       "      <td>1996.0</td>\n",
       "      <td>Role-Playing</td>\n",
       "      <td>11.27</td>\n",
       "      <td>8.89</td>\n",
       "      <td>10.22</td>\n",
       "      <td>1.00</td>\n",
       "      <td>NaN</td>\n",
       "      <td>NaN</td>\n",
       "      <td>NaN</td>\n",
       "    </tr>\n",
       "  </tbody>\n",
       "</table>\n",
       "</div>"
      ],
      "text/plain": [
       "                       Name Platform  Year_of_Release         Genre  NA_sales  \\\n",
       "0                Wii Sports      Wii           2006.0        Sports     41.36   \n",
       "1         Super Mario Bros.      NES           1985.0      Platform     29.08   \n",
       "2            Mario Kart Wii      Wii           2008.0        Racing     15.68   \n",
       "3         Wii Sports Resort      Wii           2009.0        Sports     15.61   \n",
       "4  Pokemon Red/Pokemon Blue       GB           1996.0  Role-Playing     11.27   \n",
       "\n",
       "   EU_sales  JP_sales  Other_sales  Critic_Score User_Score Rating  \n",
       "0     28.96      3.77         8.45          76.0          8      E  \n",
       "1      3.58      6.81         0.77           NaN        NaN    NaN  \n",
       "2     12.76      3.79         3.29          82.0        8.3      E  \n",
       "3     10.93      3.28         2.95          80.0          8      E  \n",
       "4      8.89     10.22         1.00           NaN        NaN    NaN  "
      ]
     },
     "metadata": {},
     "output_type": "display_data"
    },
    {
     "name": "stdout",
     "output_type": "stream",
     "text": [
      "<class 'pandas.core.frame.DataFrame'>\n",
      "RangeIndex: 16715 entries, 0 to 16714\n",
      "Data columns (total 11 columns):\n",
      "Name               16713 non-null object\n",
      "Platform           16715 non-null object\n",
      "Year_of_Release    16446 non-null float64\n",
      "Genre              16713 non-null object\n",
      "NA_sales           16715 non-null float64\n",
      "EU_sales           16715 non-null float64\n",
      "JP_sales           16715 non-null float64\n",
      "Other_sales        16715 non-null float64\n",
      "Critic_Score       8137 non-null float64\n",
      "User_Score         10014 non-null object\n",
      "Rating             9949 non-null object\n",
      "dtypes: float64(6), object(5)\n",
      "memory usage: 1.4+ MB\n"
     ]
    }
   ],
   "source": [
    "overview_df(games_data)"
   ]
  },
  {
   "cell_type": "markdown",
   "metadata": {},
   "source": [
    "### Вывод"
   ]
  },
  {
   "cell_type": "markdown",
   "metadata": {},
   "source": [
    "При первичном изучении данных были выявлены следующие проблемы:\n",
    "- наличие символов верхнего регистра как в названиях столбцов, так и в самих данных, из-за чего в таблице могут находиться неявные дубликаты (например, `Sports` и `sports`);\n",
    "- наличие пропусков в столбцах `Name`, `Year_of_Release`, `Genre`, `Critic_Score`, `User_Score` и `Rating`;\n",
    "- несоответствие типа данных в столбцах `Year_of_Release` и `User_Score`.\n",
    "\n",
    "Исправим их в следующем шаге."
   ]
  },
  {
   "cell_type": "markdown",
   "metadata": {},
   "source": [
    "## Подготовка данных"
   ]
  },
  {
   "cell_type": "markdown",
   "metadata": {},
   "source": [
    "### Замена названий столбцов"
   ]
  },
  {
   "cell_type": "code",
   "execution_count": 119,
   "metadata": {},
   "outputs": [
    {
     "data": {
      "text/plain": [
       "Index(['name', 'platform', 'year_of_release', 'genre', 'na_sales', 'eu_sales',\n",
       "       'jp_sales', 'other_sales', 'critic_score', 'user_score', 'rating'],\n",
       "      dtype='object')"
      ]
     },
     "execution_count": 119,
     "metadata": {},
     "output_type": "execute_result"
    }
   ],
   "source": [
    "games_data.columns = games_data.columns.str.lower()\n",
    "games_data.columns"
   ]
  },
  {
   "cell_type": "markdown",
   "metadata": {},
   "source": [
    "### Обработка пропусков"
   ]
  },
  {
   "cell_type": "markdown",
   "metadata": {},
   "source": [
    "Для начала посмотрим, какой процент от общего объема данных составляют пропуски в каждом столбце."
   ]
  },
  {
   "cell_type": "code",
   "execution_count": 120,
   "metadata": {},
   "outputs": [
    {
     "data": {
      "text/html": [
       "<style  type=\"text/css\" >\n",
       "    #T_04108054_7a22_11ec_baa6_02420a3915b7row0_col0 {\n",
       "            background-color:  #3b4cc0;\n",
       "            color:  #f1f1f1;\n",
       "        }    #T_04108054_7a22_11ec_baa6_02420a3915b7row1_col0 {\n",
       "            background-color:  #3b4cc0;\n",
       "            color:  #f1f1f1;\n",
       "        }    #T_04108054_7a22_11ec_baa6_02420a3915b7row2_col0 {\n",
       "            background-color:  #445acc;\n",
       "            color:  #f1f1f1;\n",
       "        }    #T_04108054_7a22_11ec_baa6_02420a3915b7row3_col0 {\n",
       "            background-color:  #3b4cc0;\n",
       "            color:  #f1f1f1;\n",
       "        }    #T_04108054_7a22_11ec_baa6_02420a3915b7row4_col0 {\n",
       "            background-color:  #3b4cc0;\n",
       "            color:  #f1f1f1;\n",
       "        }    #T_04108054_7a22_11ec_baa6_02420a3915b7row5_col0 {\n",
       "            background-color:  #3b4cc0;\n",
       "            color:  #f1f1f1;\n",
       "        }    #T_04108054_7a22_11ec_baa6_02420a3915b7row6_col0 {\n",
       "            background-color:  #3b4cc0;\n",
       "            color:  #f1f1f1;\n",
       "        }    #T_04108054_7a22_11ec_baa6_02420a3915b7row7_col0 {\n",
       "            background-color:  #3b4cc0;\n",
       "            color:  #f1f1f1;\n",
       "        }    #T_04108054_7a22_11ec_baa6_02420a3915b7row8_col0 {\n",
       "            background-color:  #b40426;\n",
       "            color:  #f1f1f1;\n",
       "        }    #T_04108054_7a22_11ec_baa6_02420a3915b7row9_col0 {\n",
       "            background-color:  #f18d6f;\n",
       "            color:  #000000;\n",
       "        }    #T_04108054_7a22_11ec_baa6_02420a3915b7row10_col0 {\n",
       "            background-color:  #f08a6c;\n",
       "            color:  #000000;\n",
       "        }</style><table id=\"T_04108054_7a22_11ec_baa6_02420a3915b7\" ><thead>    <tr>        <th class=\"blank level0\" ></th>        <th class=\"col_heading level0 col0\" >0</th>    </tr></thead><tbody>\n",
       "                <tr>\n",
       "                        <th id=\"T_04108054_7a22_11ec_baa6_02420a3915b7level0_row0\" class=\"row_heading level0 row0\" >name</th>\n",
       "                        <td id=\"T_04108054_7a22_11ec_baa6_02420a3915b7row0_col0\" class=\"data row0 col0\" >0.01</td>\n",
       "            </tr>\n",
       "            <tr>\n",
       "                        <th id=\"T_04108054_7a22_11ec_baa6_02420a3915b7level0_row1\" class=\"row_heading level0 row1\" >platform</th>\n",
       "                        <td id=\"T_04108054_7a22_11ec_baa6_02420a3915b7row1_col0\" class=\"data row1 col0\" >0</td>\n",
       "            </tr>\n",
       "            <tr>\n",
       "                        <th id=\"T_04108054_7a22_11ec_baa6_02420a3915b7level0_row2\" class=\"row_heading level0 row2\" >year_of_release</th>\n",
       "                        <td id=\"T_04108054_7a22_11ec_baa6_02420a3915b7row2_col0\" class=\"data row2 col0\" >1.61</td>\n",
       "            </tr>\n",
       "            <tr>\n",
       "                        <th id=\"T_04108054_7a22_11ec_baa6_02420a3915b7level0_row3\" class=\"row_heading level0 row3\" >genre</th>\n",
       "                        <td id=\"T_04108054_7a22_11ec_baa6_02420a3915b7row3_col0\" class=\"data row3 col0\" >0.01</td>\n",
       "            </tr>\n",
       "            <tr>\n",
       "                        <th id=\"T_04108054_7a22_11ec_baa6_02420a3915b7level0_row4\" class=\"row_heading level0 row4\" >na_sales</th>\n",
       "                        <td id=\"T_04108054_7a22_11ec_baa6_02420a3915b7row4_col0\" class=\"data row4 col0\" >0</td>\n",
       "            </tr>\n",
       "            <tr>\n",
       "                        <th id=\"T_04108054_7a22_11ec_baa6_02420a3915b7level0_row5\" class=\"row_heading level0 row5\" >eu_sales</th>\n",
       "                        <td id=\"T_04108054_7a22_11ec_baa6_02420a3915b7row5_col0\" class=\"data row5 col0\" >0</td>\n",
       "            </tr>\n",
       "            <tr>\n",
       "                        <th id=\"T_04108054_7a22_11ec_baa6_02420a3915b7level0_row6\" class=\"row_heading level0 row6\" >jp_sales</th>\n",
       "                        <td id=\"T_04108054_7a22_11ec_baa6_02420a3915b7row6_col0\" class=\"data row6 col0\" >0</td>\n",
       "            </tr>\n",
       "            <tr>\n",
       "                        <th id=\"T_04108054_7a22_11ec_baa6_02420a3915b7level0_row7\" class=\"row_heading level0 row7\" >other_sales</th>\n",
       "                        <td id=\"T_04108054_7a22_11ec_baa6_02420a3915b7row7_col0\" class=\"data row7 col0\" >0</td>\n",
       "            </tr>\n",
       "            <tr>\n",
       "                        <th id=\"T_04108054_7a22_11ec_baa6_02420a3915b7level0_row8\" class=\"row_heading level0 row8\" >critic_score</th>\n",
       "                        <td id=\"T_04108054_7a22_11ec_baa6_02420a3915b7row8_col0\" class=\"data row8 col0\" >51.32</td>\n",
       "            </tr>\n",
       "            <tr>\n",
       "                        <th id=\"T_04108054_7a22_11ec_baa6_02420a3915b7level0_row9\" class=\"row_heading level0 row9\" >user_score</th>\n",
       "                        <td id=\"T_04108054_7a22_11ec_baa6_02420a3915b7row9_col0\" class=\"data row9 col0\" >40.09</td>\n",
       "            </tr>\n",
       "            <tr>\n",
       "                        <th id=\"T_04108054_7a22_11ec_baa6_02420a3915b7level0_row10\" class=\"row_heading level0 row10\" >rating</th>\n",
       "                        <td id=\"T_04108054_7a22_11ec_baa6_02420a3915b7row10_col0\" class=\"data row10 col0\" >40.48</td>\n",
       "            </tr>\n",
       "    </tbody></table>"
      ],
      "text/plain": [
       "<pandas.io.formats.style.Styler at 0x7f86e49b0790>"
      ]
     },
     "execution_count": 120,
     "metadata": {},
     "output_type": "execute_result"
    }
   ],
   "source": [
    "pd.DataFrame(round((games_data.isna().mean()*100), 2)).style.background_gradient('coolwarm')"
   ]
  },
  {
   "cell_type": "markdown",
   "metadata": {},
   "source": [
    "Выведем строки с пропусками в столбце `name` - их всего две."
   ]
  },
  {
   "cell_type": "code",
   "execution_count": 121,
   "metadata": {},
   "outputs": [
    {
     "data": {
      "text/html": [
       "<div>\n",
       "<style scoped>\n",
       "    .dataframe tbody tr th:only-of-type {\n",
       "        vertical-align: middle;\n",
       "    }\n",
       "\n",
       "    .dataframe tbody tr th {\n",
       "        vertical-align: top;\n",
       "    }\n",
       "\n",
       "    .dataframe thead th {\n",
       "        text-align: right;\n",
       "    }\n",
       "</style>\n",
       "<table border=\"1\" class=\"dataframe\">\n",
       "  <thead>\n",
       "    <tr style=\"text-align: right;\">\n",
       "      <th></th>\n",
       "      <th>name</th>\n",
       "      <th>platform</th>\n",
       "      <th>year_of_release</th>\n",
       "      <th>genre</th>\n",
       "      <th>na_sales</th>\n",
       "      <th>eu_sales</th>\n",
       "      <th>jp_sales</th>\n",
       "      <th>other_sales</th>\n",
       "      <th>critic_score</th>\n",
       "      <th>user_score</th>\n",
       "      <th>rating</th>\n",
       "    </tr>\n",
       "  </thead>\n",
       "  <tbody>\n",
       "    <tr>\n",
       "      <td>659</td>\n",
       "      <td>NaN</td>\n",
       "      <td>GEN</td>\n",
       "      <td>1993.0</td>\n",
       "      <td>NaN</td>\n",
       "      <td>1.78</td>\n",
       "      <td>0.53</td>\n",
       "      <td>0.00</td>\n",
       "      <td>0.08</td>\n",
       "      <td>NaN</td>\n",
       "      <td>NaN</td>\n",
       "      <td>NaN</td>\n",
       "    </tr>\n",
       "    <tr>\n",
       "      <td>14244</td>\n",
       "      <td>NaN</td>\n",
       "      <td>GEN</td>\n",
       "      <td>1993.0</td>\n",
       "      <td>NaN</td>\n",
       "      <td>0.00</td>\n",
       "      <td>0.00</td>\n",
       "      <td>0.03</td>\n",
       "      <td>0.00</td>\n",
       "      <td>NaN</td>\n",
       "      <td>NaN</td>\n",
       "      <td>NaN</td>\n",
       "    </tr>\n",
       "  </tbody>\n",
       "</table>\n",
       "</div>"
      ],
      "text/plain": [
       "      name platform  year_of_release genre  na_sales  eu_sales  jp_sales  \\\n",
       "659    NaN      GEN           1993.0   NaN      1.78      0.53      0.00   \n",
       "14244  NaN      GEN           1993.0   NaN      0.00      0.00      0.03   \n",
       "\n",
       "       other_sales  critic_score user_score rating  \n",
       "659           0.08           NaN        NaN    NaN  \n",
       "14244         0.00           NaN        NaN    NaN  "
      ]
     },
     "execution_count": 121,
     "metadata": {},
     "output_type": "execute_result"
    }
   ],
   "source": [
    "games_data[games_data['name'].isna() == True]"
   ]
  },
  {
   "cell_type": "markdown",
   "metadata": {},
   "source": [
    "Заметим, что в столбце `genre` тоже 2 пропуска, и они находятся в этих же строках. Заполним их значением `'unknown'`."
   ]
  },
  {
   "cell_type": "code",
   "execution_count": 122,
   "metadata": {},
   "outputs": [
    {
     "data": {
      "text/plain": [
       "name     0\n",
       "genre    0\n",
       "dtype: int64"
      ]
     },
     "execution_count": 122,
     "metadata": {},
     "output_type": "execute_result"
    }
   ],
   "source": [
    "games_data['name'] = games_data['name'].fillna('unknown')\n",
    "games_data['genre'] = games_data['genre'].fillna('unknown')\n",
    "games_data[['name', 'genre']].isna().sum()"
   ]
  },
  {
   "cell_type": "markdown",
   "metadata": {},
   "source": [
    "Пропуски остались в столбце `year_of_release`, в котором их слишком мало, чтобы как-то повлиять на дальнейшие исследования, и в тоже время мы не можем никак их заполнить с высокой точностью, поэтому оставим эти пропуски без изменения. Также они есть в рейтинговых столбцах `critic_score`, `user_score` и `rating`, причем их довольно много - больше 40%. Из возможных причин их наличия - техническая ошибка при выгрузке либо просто-напросто отсутствие оценки. Заполнение этих столбцов какими бы то ни было значениями можеть серьезно исказить результаты анализа, поэтому в них заполнять пропуски тоже не будем."
   ]
  },
  {
   "cell_type": "markdown",
   "metadata": {},
   "source": [
    "### Обработка аномалий в данных"
   ]
  },
  {
   "cell_type": "code",
   "execution_count": 123,
   "metadata": {},
   "outputs": [
    {
     "data": {
      "text/plain": [
       "array(['2600', '3DO', '3DS', 'DC', 'DS', 'GB', 'GBA', 'GC', 'GEN', 'GG',\n",
       "       'N64', 'NES', 'NG', 'PC', 'PCFX', 'PS', 'PS2', 'PS3', 'PS4', 'PSP',\n",
       "       'PSV', 'SAT', 'SCD', 'SNES', 'TG16', 'WS', 'Wii', 'WiiU', 'X360',\n",
       "       'XB', 'XOne'], dtype=object)"
      ]
     },
     "execution_count": 123,
     "metadata": {},
     "output_type": "execute_result"
    }
   ],
   "source": [
    "games_data['platform'].sort_values().unique()"
   ]
  },
  {
   "cell_type": "code",
   "execution_count": 124,
   "metadata": {},
   "outputs": [
    {
     "data": {
      "text/plain": [
       "array(['Action', 'Adventure', 'Fighting', 'Misc', 'Platform', 'Puzzle',\n",
       "       'Racing', 'Role-Playing', 'Shooter', 'Simulation', 'Sports',\n",
       "       'Strategy', 'unknown'], dtype=object)"
      ]
     },
     "execution_count": 124,
     "metadata": {},
     "output_type": "execute_result"
    }
   ],
   "source": [
    "games_data['genre'].sort_values().unique()"
   ]
  },
  {
   "cell_type": "markdown",
   "metadata": {},
   "source": [
    "В столбцах `platform` и `genre` отсутствуют неявные дубликаты, так что оставим данные как есть.\n",
    "\n",
    "Теперь просмотрим столбец `user_score` - тип данных *object* позволяет предположить, что здесь есть аномалии."
   ]
  },
  {
   "cell_type": "code",
   "execution_count": 125,
   "metadata": {},
   "outputs": [
    {
     "data": {
      "text/plain": [
       "array(['0', '0.2', '0.3', '0.5', '0.6', '0.7', '0.9', '1', '1.1', '1.2',\n",
       "       '1.3', '1.4', '1.5', '1.6', '1.7', '1.8', '1.9', '2', '2.1', '2.2',\n",
       "       '2.3', '2.4', '2.5', '2.6', '2.7', '2.8', '2.9', '3', '3.1', '3.2',\n",
       "       '3.3', '3.4', '3.5', '3.6', '3.7', '3.8', '3.9', '4', '4.1', '4.2',\n",
       "       '4.3', '4.4', '4.5', '4.6', '4.7', '4.8', '4.9', '5', '5.1', '5.2',\n",
       "       '5.3', '5.4', '5.5', '5.6', '5.7', '5.8', '5.9', '6', '6.1', '6.2',\n",
       "       '6.3', '6.4', '6.5', '6.6', '6.7', '6.8', '6.9', '7', '7.1', '7.2',\n",
       "       '7.3', '7.4', '7.5', '7.6', '7.7', '7.8', '7.9', '8', '8.1', '8.2',\n",
       "       '8.3', '8.4', '8.5', '8.6', '8.7', '8.8', '8.9', '9', '9.1', '9.2',\n",
       "       '9.3', '9.4', '9.5', '9.6', '9.7', 'tbd', nan], dtype=object)"
      ]
     },
     "execution_count": 125,
     "metadata": {},
     "output_type": "execute_result"
    }
   ],
   "source": [
    "games_data['user_score'].sort_values().unique()"
   ]
  },
  {
   "cell_type": "markdown",
   "metadata": {},
   "source": [
    "Видим, что среди численных значений присутствует также строковое - `'tbd'`. Для того чтобы понять, что это такое, воспользуемся поиском в интернете.\n",
    "\n",
    "> `'tbd'` - аббревиатура от английского *To Be Determined* (будет определено) или *To Be Decided* (будет решено). Используется, если какая-то информация еще не определена или решение по вопросу не принято.\n",
    "\n",
    "Таким образом, это по сути своей означает отсутствие оценки на момент выгрузки данных, что эквивалентно пропуску в данных. Заменим все значения `'tbd'` в этом столбце на `NaN`."
   ]
  },
  {
   "cell_type": "code",
   "execution_count": 126,
   "metadata": {},
   "outputs": [
    {
     "name": "stdout",
     "output_type": "stream",
     "text": [
      "Количество пропусков до замены: 6701\n",
      "Количество пропусков после замены: 9125\n"
     ]
    }
   ],
   "source": [
    "print('Количество пропусков до замены:', games_data['user_score'].isna().sum())\n",
    "games_data['user_score'] = games_data['user_score'].replace('tbd', np.nan)\n",
    "print('Количество пропусков после замены:', games_data['user_score'].isna().sum())"
   ]
  },
  {
   "cell_type": "markdown",
   "metadata": {},
   "source": [
    "Столбец `rating` обозначает рейтинг от организации *ESRB*, иначе говоря - возрастная категория игры. Снова обратимся к интернет-ресурсам, чтобы понять, какие вообще категории существуют.\n",
    "\n",
    "* **«EC» («Early Childhood»)** — «Для детей младшего возраста»;\n",
    "* **«E» («Everyone»)** — «Для всех». Первоначально **\"K-A\" (\"Kids to Adults\")**;\n",
    "* **«E10+» («Everyone 10 and older»)** — «Для всех от 10 лет и старше»;\n",
    "* **«T» («Teen»)** — «Подросткам»;\n",
    "* **«M» («Mature»)** — «Для взрослых» (17+);\n",
    "* **«AO» («Adults Only 18+»)** — «Только для взрослых»;\n",
    "* **«RP» («Rating Pending»)** — «Рейтинг ожидается».\n",
    "\n",
    "Теперь проверим, нет ли каких-то лишних значений."
   ]
  },
  {
   "cell_type": "code",
   "execution_count": 127,
   "metadata": {},
   "outputs": [
    {
     "data": {
      "text/plain": [
       "E       3990\n",
       "T       2961\n",
       "M       1563\n",
       "E10+    1420\n",
       "EC         8\n",
       "RP         3\n",
       "K-A        3\n",
       "AO         1\n",
       "Name: rating, dtype: int64"
      ]
     },
     "execution_count": 127,
     "metadata": {},
     "output_type": "execute_result"
    }
   ],
   "source": [
    "games_data['rating'].value_counts()"
   ]
  },
  {
   "cell_type": "markdown",
   "metadata": {},
   "source": [
    "Лишних значений нет, однако есть 3 значения `'K-A'`, которое впоследствии стали обозначать как `'E'`. Поэтому заменим все значения `'K-A'` на `'E'`.   \n",
    "\n",
    "Также есть 8 игр, которым выставили рейтинг `'EC'` - для детей младшего возраста. Но ведь никто не ограничивает взрослых в том, чтобы в нее поиграть, поэтому их можно перевести в категорию `'E'` - для всех.   \n",
    "\n",
    "Значение `'RP'` - рейтинг ожидается, для нас это все равно что отсутствие рейтинга, поэтому их можно заменить на пропуски.   \n",
    "\n",
    "И наконец, `'AO'` - только для взрослых (18+). Такой рейтинг есть только у одной игры. Поэтому мы можем перевести его в категорию `'M'` - для взрослых (17+), это все равно не повлияет на дальнейшее исследование, но, возможно, упростит его."
   ]
  },
  {
   "cell_type": "code",
   "execution_count": 128,
   "metadata": {},
   "outputs": [
    {
     "data": {
      "text/plain": [
       "RP      6769\n",
       "E       4001\n",
       "T       2961\n",
       "M       1564\n",
       "E10+    1420\n",
       "Name: rating, dtype: int64"
      ]
     },
     "execution_count": 128,
     "metadata": {},
     "output_type": "execute_result"
    }
   ],
   "source": [
    "games_data['rating'] = games_data['rating'].replace({'K-A': 'E', 'EC': 'E', np.nan: 'RP', 'AO': 'M'})\n",
    "games_data['rating'].value_counts()"
   ]
  },
  {
   "cell_type": "markdown",
   "metadata": {},
   "source": [
    "### Преобразование типов данных"
   ]
  },
  {
   "cell_type": "markdown",
   "metadata": {},
   "source": [
    "Теперь, когда большая часть проблем устранена, можно менять тип данных в столбцах."
   ]
  },
  {
   "cell_type": "code",
   "execution_count": 129,
   "metadata": {},
   "outputs": [
    {
     "name": "stdout",
     "output_type": "stream",
     "text": [
      "Тип данных в столбце с годом выпуска: Int64\n",
      "Тип данных в столбце с оценкой пользователей: float64\n"
     ]
    }
   ],
   "source": [
    "games_data['year_of_release'] = games_data['year_of_release'].astype('Int64')\n",
    "print('Тип данных в столбце с годом выпуска:', games_data['year_of_release'].dtype)\n",
    "games_data['user_score'] = games_data['user_score'].astype('float')\n",
    "print('Тип данных в столбце с оценкой пользователей:', games_data['user_score'].dtype)"
   ]
  },
  {
   "cell_type": "markdown",
   "metadata": {},
   "source": [
    "### Подсчет суммарных продаж во всех регионах"
   ]
  },
  {
   "cell_type": "markdown",
   "metadata": {},
   "source": [
    "Создадим новый столбец `sum_sales`, в котором просуммируем продажи каждой игры во всех регионах."
   ]
  },
  {
   "cell_type": "code",
   "execution_count": 130,
   "metadata": {},
   "outputs": [
    {
     "data": {
      "text/html": [
       "<div>\n",
       "<style scoped>\n",
       "    .dataframe tbody tr th:only-of-type {\n",
       "        vertical-align: middle;\n",
       "    }\n",
       "\n",
       "    .dataframe tbody tr th {\n",
       "        vertical-align: top;\n",
       "    }\n",
       "\n",
       "    .dataframe thead th {\n",
       "        text-align: right;\n",
       "    }\n",
       "</style>\n",
       "<table border=\"1\" class=\"dataframe\">\n",
       "  <thead>\n",
       "    <tr style=\"text-align: right;\">\n",
       "      <th></th>\n",
       "      <th>name</th>\n",
       "      <th>platform</th>\n",
       "      <th>year_of_release</th>\n",
       "      <th>genre</th>\n",
       "      <th>na_sales</th>\n",
       "      <th>eu_sales</th>\n",
       "      <th>jp_sales</th>\n",
       "      <th>other_sales</th>\n",
       "      <th>critic_score</th>\n",
       "      <th>user_score</th>\n",
       "      <th>rating</th>\n",
       "      <th>sum_sales</th>\n",
       "    </tr>\n",
       "  </thead>\n",
       "  <tbody>\n",
       "    <tr>\n",
       "      <td>0</td>\n",
       "      <td>Wii Sports</td>\n",
       "      <td>Wii</td>\n",
       "      <td>2006</td>\n",
       "      <td>Sports</td>\n",
       "      <td>41.36</td>\n",
       "      <td>28.96</td>\n",
       "      <td>3.77</td>\n",
       "      <td>8.45</td>\n",
       "      <td>76.0</td>\n",
       "      <td>8.0</td>\n",
       "      <td>E</td>\n",
       "      <td>82.54</td>\n",
       "    </tr>\n",
       "    <tr>\n",
       "      <td>1</td>\n",
       "      <td>Super Mario Bros.</td>\n",
       "      <td>NES</td>\n",
       "      <td>1985</td>\n",
       "      <td>Platform</td>\n",
       "      <td>29.08</td>\n",
       "      <td>3.58</td>\n",
       "      <td>6.81</td>\n",
       "      <td>0.77</td>\n",
       "      <td>NaN</td>\n",
       "      <td>NaN</td>\n",
       "      <td>RP</td>\n",
       "      <td>40.24</td>\n",
       "    </tr>\n",
       "    <tr>\n",
       "      <td>2</td>\n",
       "      <td>Mario Kart Wii</td>\n",
       "      <td>Wii</td>\n",
       "      <td>2008</td>\n",
       "      <td>Racing</td>\n",
       "      <td>15.68</td>\n",
       "      <td>12.76</td>\n",
       "      <td>3.79</td>\n",
       "      <td>3.29</td>\n",
       "      <td>82.0</td>\n",
       "      <td>8.3</td>\n",
       "      <td>E</td>\n",
       "      <td>35.52</td>\n",
       "    </tr>\n",
       "    <tr>\n",
       "      <td>3</td>\n",
       "      <td>Wii Sports Resort</td>\n",
       "      <td>Wii</td>\n",
       "      <td>2009</td>\n",
       "      <td>Sports</td>\n",
       "      <td>15.61</td>\n",
       "      <td>10.93</td>\n",
       "      <td>3.28</td>\n",
       "      <td>2.95</td>\n",
       "      <td>80.0</td>\n",
       "      <td>8.0</td>\n",
       "      <td>E</td>\n",
       "      <td>32.77</td>\n",
       "    </tr>\n",
       "    <tr>\n",
       "      <td>4</td>\n",
       "      <td>Pokemon Red/Pokemon Blue</td>\n",
       "      <td>GB</td>\n",
       "      <td>1996</td>\n",
       "      <td>Role-Playing</td>\n",
       "      <td>11.27</td>\n",
       "      <td>8.89</td>\n",
       "      <td>10.22</td>\n",
       "      <td>1.00</td>\n",
       "      <td>NaN</td>\n",
       "      <td>NaN</td>\n",
       "      <td>RP</td>\n",
       "      <td>31.38</td>\n",
       "    </tr>\n",
       "  </tbody>\n",
       "</table>\n",
       "</div>"
      ],
      "text/plain": [
       "                       name platform  year_of_release         genre  na_sales  \\\n",
       "0                Wii Sports      Wii             2006        Sports     41.36   \n",
       "1         Super Mario Bros.      NES             1985      Platform     29.08   \n",
       "2            Mario Kart Wii      Wii             2008        Racing     15.68   \n",
       "3         Wii Sports Resort      Wii             2009        Sports     15.61   \n",
       "4  Pokemon Red/Pokemon Blue       GB             1996  Role-Playing     11.27   \n",
       "\n",
       "   eu_sales  jp_sales  other_sales  critic_score  user_score rating  sum_sales  \n",
       "0     28.96      3.77         8.45          76.0         8.0      E      82.54  \n",
       "1      3.58      6.81         0.77           NaN         NaN     RP      40.24  \n",
       "2     12.76      3.79         3.29          82.0         8.3      E      35.52  \n",
       "3     10.93      3.28         2.95          80.0         8.0      E      32.77  \n",
       "4      8.89     10.22         1.00           NaN         NaN     RP      31.38  "
      ]
     },
     "execution_count": 130,
     "metadata": {},
     "output_type": "execute_result"
    }
   ],
   "source": [
    "games_data['sum_sales'] = (games_data['na_sales'] + \n",
    "                           games_data['eu_sales'] + \n",
    "                           games_data['jp_sales'] + \n",
    "                           games_data['other_sales'])\n",
    "games_data.head()"
   ]
  },
  {
   "cell_type": "markdown",
   "metadata": {},
   "source": [
    "### Вывод"
   ]
  },
  {
   "cell_type": "markdown",
   "metadata": {},
   "source": [
    "При подготовке данных к анализу были проделаны следующие действия:\n",
    "- названия столбцов приведены к нижнему регистру;\n",
    "- заполнены пропуски в столбцах `name` и `genre`, а также в столбце `rating`;\n",
    "- данные в столбцах `platform` и `genre` проверены на неявные дубликаты - они отсутствуют;\n",
    "- значение `'tbd'` в столбце `user_score` заменено на `NaN`;\n",
    "- значение `'K-A'` в столбце `rating` заменено на `'E'`, `'EC'` на `'E'`, `'AO'` на `'M'`;\n",
    "- тип данных в столбце `year_of_release` заменен на `Int64`, в столбце `user_score` - на `float`;\n",
    "- подсчитаны суммарные продажи каждой игры во всех регионах и записаны в новый столбец."
   ]
  },
  {
   "cell_type": "markdown",
   "metadata": {},
   "source": [
    "## Исследовательский анализ данных"
   ]
  },
  {
   "cell_type": "markdown",
   "metadata": {},
   "source": [
    "**TO-DO list:**\n",
    "1. Посмотреть, сколько игр выпускалось в разные годы. Понять, важны ли данные за все периоды.\n",
    "2. Посмотреть, как менялись продажи по платформам. Выбрать платформы с наибольшими суммарными продажами и построить распределение по годам. Понять, за какой характерный срок появляются новые и исчезают старые платформы.\n",
    "3. Определить актуальный период.\n",
    "4. Взять данные за актуальный период, данные за предыдущие годы отбросить.\n",
    "5. Понять, какие платформы лидируют по продажам, растут или падают. Выбрать несколько потенциально прибыльных платформ.\n",
    "6. Построить диаграмму размаха по глобальным продажам игр в разбивке по платформам. Описать результат.\n",
    "7. Посмотреть, как влияют на продажи внутри одной популярной платформы отзывы пользователей и критиков. Построить диаграмму рассеяния и посчитать корреляцию между отзывами и продажами. Сформулировать выводы.\n",
    "8. Соотнести выводы с продажами игр на других платформах.\n",
    "9. Посмотреть на общее распределение игр по жанрам. Понять, что можно сказать о самых прибыльных жанрах. Понять, выделяются ли жанры с высокими и низкими продажами.\n",
    "10. Сделать общий вывод."
   ]
  },
  {
   "cell_type": "markdown",
   "metadata": {},
   "source": [
    "### Количество выпущенных игр по годам"
   ]
  },
  {
   "cell_type": "code",
   "execution_count": 131,
   "metadata": {},
   "outputs": [
    {
     "data": {
      "text/html": [
       "<div>\n",
       "<style scoped>\n",
       "    .dataframe tbody tr th:only-of-type {\n",
       "        vertical-align: middle;\n",
       "    }\n",
       "\n",
       "    .dataframe tbody tr th {\n",
       "        vertical-align: top;\n",
       "    }\n",
       "\n",
       "    .dataframe thead th {\n",
       "        text-align: right;\n",
       "    }\n",
       "</style>\n",
       "<table border=\"1\" class=\"dataframe\">\n",
       "  <thead>\n",
       "    <tr style=\"text-align: right;\">\n",
       "      <th></th>\n",
       "      <th>count_games</th>\n",
       "    </tr>\n",
       "    <tr>\n",
       "      <th>year_of_release</th>\n",
       "      <th></th>\n",
       "    </tr>\n",
       "  </thead>\n",
       "  <tbody>\n",
       "    <tr>\n",
       "      <td>1980</td>\n",
       "      <td>9</td>\n",
       "    </tr>\n",
       "    <tr>\n",
       "      <td>1981</td>\n",
       "      <td>46</td>\n",
       "    </tr>\n",
       "    <tr>\n",
       "      <td>1982</td>\n",
       "      <td>36</td>\n",
       "    </tr>\n",
       "    <tr>\n",
       "      <td>1983</td>\n",
       "      <td>17</td>\n",
       "    </tr>\n",
       "    <tr>\n",
       "      <td>1984</td>\n",
       "      <td>14</td>\n",
       "    </tr>\n",
       "    <tr>\n",
       "      <td>1985</td>\n",
       "      <td>14</td>\n",
       "    </tr>\n",
       "    <tr>\n",
       "      <td>1986</td>\n",
       "      <td>21</td>\n",
       "    </tr>\n",
       "    <tr>\n",
       "      <td>1987</td>\n",
       "      <td>16</td>\n",
       "    </tr>\n",
       "    <tr>\n",
       "      <td>1988</td>\n",
       "      <td>15</td>\n",
       "    </tr>\n",
       "    <tr>\n",
       "      <td>1989</td>\n",
       "      <td>17</td>\n",
       "    </tr>\n",
       "    <tr>\n",
       "      <td>1990</td>\n",
       "      <td>16</td>\n",
       "    </tr>\n",
       "    <tr>\n",
       "      <td>1991</td>\n",
       "      <td>41</td>\n",
       "    </tr>\n",
       "    <tr>\n",
       "      <td>1992</td>\n",
       "      <td>43</td>\n",
       "    </tr>\n",
       "    <tr>\n",
       "      <td>1993</td>\n",
       "      <td>62</td>\n",
       "    </tr>\n",
       "    <tr>\n",
       "      <td>1994</td>\n",
       "      <td>121</td>\n",
       "    </tr>\n",
       "    <tr>\n",
       "      <td>1995</td>\n",
       "      <td>219</td>\n",
       "    </tr>\n",
       "    <tr>\n",
       "      <td>1996</td>\n",
       "      <td>263</td>\n",
       "    </tr>\n",
       "    <tr>\n",
       "      <td>1997</td>\n",
       "      <td>289</td>\n",
       "    </tr>\n",
       "    <tr>\n",
       "      <td>1998</td>\n",
       "      <td>379</td>\n",
       "    </tr>\n",
       "    <tr>\n",
       "      <td>1999</td>\n",
       "      <td>338</td>\n",
       "    </tr>\n",
       "    <tr>\n",
       "      <td>2000</td>\n",
       "      <td>350</td>\n",
       "    </tr>\n",
       "    <tr>\n",
       "      <td>2001</td>\n",
       "      <td>482</td>\n",
       "    </tr>\n",
       "    <tr>\n",
       "      <td>2002</td>\n",
       "      <td>829</td>\n",
       "    </tr>\n",
       "    <tr>\n",
       "      <td>2003</td>\n",
       "      <td>775</td>\n",
       "    </tr>\n",
       "    <tr>\n",
       "      <td>2004</td>\n",
       "      <td>762</td>\n",
       "    </tr>\n",
       "    <tr>\n",
       "      <td>2005</td>\n",
       "      <td>939</td>\n",
       "    </tr>\n",
       "    <tr>\n",
       "      <td>2006</td>\n",
       "      <td>1006</td>\n",
       "    </tr>\n",
       "    <tr>\n",
       "      <td>2007</td>\n",
       "      <td>1197</td>\n",
       "    </tr>\n",
       "    <tr>\n",
       "      <td>2008</td>\n",
       "      <td>1427</td>\n",
       "    </tr>\n",
       "    <tr>\n",
       "      <td>2009</td>\n",
       "      <td>1426</td>\n",
       "    </tr>\n",
       "    <tr>\n",
       "      <td>2010</td>\n",
       "      <td>1255</td>\n",
       "    </tr>\n",
       "    <tr>\n",
       "      <td>2011</td>\n",
       "      <td>1136</td>\n",
       "    </tr>\n",
       "    <tr>\n",
       "      <td>2012</td>\n",
       "      <td>653</td>\n",
       "    </tr>\n",
       "    <tr>\n",
       "      <td>2013</td>\n",
       "      <td>544</td>\n",
       "    </tr>\n",
       "    <tr>\n",
       "      <td>2014</td>\n",
       "      <td>581</td>\n",
       "    </tr>\n",
       "    <tr>\n",
       "      <td>2015</td>\n",
       "      <td>606</td>\n",
       "    </tr>\n",
       "    <tr>\n",
       "      <td>2016</td>\n",
       "      <td>502</td>\n",
       "    </tr>\n",
       "  </tbody>\n",
       "</table>\n",
       "</div>"
      ],
      "text/plain": [
       "                 count_games\n",
       "year_of_release             \n",
       "1980                       9\n",
       "1981                      46\n",
       "1982                      36\n",
       "1983                      17\n",
       "1984                      14\n",
       "1985                      14\n",
       "1986                      21\n",
       "1987                      16\n",
       "1988                      15\n",
       "1989                      17\n",
       "1990                      16\n",
       "1991                      41\n",
       "1992                      43\n",
       "1993                      62\n",
       "1994                     121\n",
       "1995                     219\n",
       "1996                     263\n",
       "1997                     289\n",
       "1998                     379\n",
       "1999                     338\n",
       "2000                     350\n",
       "2001                     482\n",
       "2002                     829\n",
       "2003                     775\n",
       "2004                     762\n",
       "2005                     939\n",
       "2006                    1006\n",
       "2007                    1197\n",
       "2008                    1427\n",
       "2009                    1426\n",
       "2010                    1255\n",
       "2011                    1136\n",
       "2012                     653\n",
       "2013                     544\n",
       "2014                     581\n",
       "2015                     606\n",
       "2016                     502"
      ]
     },
     "execution_count": 131,
     "metadata": {},
     "output_type": "execute_result"
    }
   ],
   "source": [
    "games_grouped_by_year = games_data.groupby('year_of_release').agg({'name': 'count'})\n",
    "games_grouped_by_year = games_grouped_by_year.rename(columns={'name': 'count_games'})\n",
    "games_grouped_by_year"
   ]
  },
  {
   "cell_type": "markdown",
   "metadata": {},
   "source": [
    "Построим гистограмму распределения количества игр по годам для удобства и наглядности."
   ]
  },
  {
   "cell_type": "code",
   "execution_count": 132,
   "metadata": {},
   "outputs": [
    {
     "data": {
      "image/png": "[encoded data removed]",
      "text/plain": [
       "<Figure size 432x288 with 1 Axes>"
      ]
     },
     "metadata": {
      "needs_background": "light"
     },
     "output_type": "display_data"
    }
   ],
   "source": [
    "plt.title('Гистограмма распределения количества выпущенных игр по годам')\n",
    "plt.xlabel('Год выпуска')\n",
    "plt.ylabel('Количество игр')\n",
    "plt.bar(games_grouped_by_year.index, games_grouped_by_year['count_games'])\n",
    "plt.show()"
   ]
  },
  {
   "cell_type": "markdown",
   "metadata": {},
   "source": [
    "Видим, что значительный прирост числа выпускаемых игр начался в 90-х годах 20-го века и достиг своего пика в 2009 году, после чего наблюдается резкое снижение до уровней в 500-600 игр. Вероятно, это связано с тем, что конкуренция, возникшая в конце нулевых, заставила часть компаний закрыться из-за того, что они ее не выдержали, а более крупные компании захватывали все большую часть рынка. Также это может быть связано со сменой игровых платформ с устаревших на более современные, что тоже могло повлиять на закрытие части компаний."
   ]
  },
  {
   "cell_type": "markdown",
   "metadata": {},
   "source": [
    "Итак, в 2012 году мы наблюдаем резкое падение количества производимых игр почти в 2 раза. Это явление можно расценивать как некую условную границу между взрывом популярности игр с увеличением числа игр в год почти в 3 раза по сравнению со средним и стабилизацией около 500-600 игр в год.\n",
    "\n",
    "**Предварительно будем считать именно 2012-й год началом актуального периода**, данные за который будем использовать при анализе. Однако, в следующем пункте еще возможен сдвиг этой границы."
   ]
  },
  {
   "cell_type": "markdown",
   "metadata": {},
   "source": [
    "### Исследование количества проданных игр по платформам"
   ]
  },
  {
   "cell_type": "markdown",
   "metadata": {},
   "source": [
    "Сгруппируем данные о продажах по платформам и выведем топ-10 платформ по суммарным продажам за все время."
   ]
  },
  {
   "cell_type": "code",
   "execution_count": 133,
   "metadata": {},
   "outputs": [
    {
     "data": {
      "text/html": [
       "<div>\n",
       "<style scoped>\n",
       "    .dataframe tbody tr th:only-of-type {\n",
       "        vertical-align: middle;\n",
       "    }\n",
       "\n",
       "    .dataframe tbody tr th {\n",
       "        vertical-align: top;\n",
       "    }\n",
       "\n",
       "    .dataframe thead th {\n",
       "        text-align: right;\n",
       "    }\n",
       "</style>\n",
       "<table border=\"1\" class=\"dataframe\">\n",
       "  <thead>\n",
       "    <tr style=\"text-align: right;\">\n",
       "      <th></th>\n",
       "      <th>sum_sales</th>\n",
       "    </tr>\n",
       "    <tr>\n",
       "      <th>platform</th>\n",
       "      <th></th>\n",
       "    </tr>\n",
       "  </thead>\n",
       "  <tbody>\n",
       "    <tr>\n",
       "      <td>PS2</td>\n",
       "      <td>1255.77</td>\n",
       "    </tr>\n",
       "    <tr>\n",
       "      <td>X360</td>\n",
       "      <td>971.42</td>\n",
       "    </tr>\n",
       "    <tr>\n",
       "      <td>PS3</td>\n",
       "      <td>939.65</td>\n",
       "    </tr>\n",
       "    <tr>\n",
       "      <td>Wii</td>\n",
       "      <td>907.51</td>\n",
       "    </tr>\n",
       "    <tr>\n",
       "      <td>DS</td>\n",
       "      <td>806.12</td>\n",
       "    </tr>\n",
       "    <tr>\n",
       "      <td>PS</td>\n",
       "      <td>730.86</td>\n",
       "    </tr>\n",
       "    <tr>\n",
       "      <td>GBA</td>\n",
       "      <td>317.85</td>\n",
       "    </tr>\n",
       "    <tr>\n",
       "      <td>PS4</td>\n",
       "      <td>314.14</td>\n",
       "    </tr>\n",
       "    <tr>\n",
       "      <td>PSP</td>\n",
       "      <td>294.05</td>\n",
       "    </tr>\n",
       "    <tr>\n",
       "      <td>PC</td>\n",
       "      <td>259.52</td>\n",
       "    </tr>\n",
       "  </tbody>\n",
       "</table>\n",
       "</div>"
      ],
      "text/plain": [
       "          sum_sales\n",
       "platform           \n",
       "PS2         1255.77\n",
       "X360         971.42\n",
       "PS3          939.65\n",
       "Wii          907.51\n",
       "DS           806.12\n",
       "PS           730.86\n",
       "GBA          317.85\n",
       "PS4          314.14\n",
       "PSP          294.05\n",
       "PC           259.52"
      ]
     },
     "execution_count": 133,
     "metadata": {},
     "output_type": "execute_result"
    }
   ],
   "source": [
    "games_grouped_by_platform = (\n",
    "    games_data\n",
    "    .pivot_table(index='platform', values='sum_sales', aggfunc='sum')\n",
    "    .sort_values(by='sum_sales', ascending=False)\n",
    ")\n",
    "games_grouped_by_platform.head(10)"
   ]
  },
  {
   "cell_type": "markdown",
   "metadata": {},
   "source": [
    "Видим серьезный разрыв между 6-м и 7-м местом - более чем в 2 раза! Логично будет выбрать первые 6 платформ и по ним уже строить распределения."
   ]
  },
  {
   "cell_type": "code",
   "execution_count": 134,
   "metadata": {},
   "outputs": [
    {
     "data": {
      "text/html": [
       "<div>\n",
       "<style scoped>\n",
       "    .dataframe tbody tr th:only-of-type {\n",
       "        vertical-align: middle;\n",
       "    }\n",
       "\n",
       "    .dataframe tbody tr th {\n",
       "        vertical-align: top;\n",
       "    }\n",
       "\n",
       "    .dataframe thead th {\n",
       "        text-align: right;\n",
       "    }\n",
       "</style>\n",
       "<table border=\"1\" class=\"dataframe\">\n",
       "  <thead>\n",
       "    <tr style=\"text-align: right;\">\n",
       "      <th></th>\n",
       "      <th>name</th>\n",
       "      <th>platform</th>\n",
       "      <th>year_of_release</th>\n",
       "      <th>genre</th>\n",
       "      <th>na_sales</th>\n",
       "      <th>eu_sales</th>\n",
       "      <th>jp_sales</th>\n",
       "      <th>other_sales</th>\n",
       "      <th>critic_score</th>\n",
       "      <th>user_score</th>\n",
       "      <th>rating</th>\n",
       "      <th>sum_sales</th>\n",
       "    </tr>\n",
       "  </thead>\n",
       "  <tbody>\n",
       "    <tr>\n",
       "      <td>0</td>\n",
       "      <td>Wii Sports</td>\n",
       "      <td>Wii</td>\n",
       "      <td>2006</td>\n",
       "      <td>Sports</td>\n",
       "      <td>41.36</td>\n",
       "      <td>28.96</td>\n",
       "      <td>3.77</td>\n",
       "      <td>8.45</td>\n",
       "      <td>76.0</td>\n",
       "      <td>8.0</td>\n",
       "      <td>E</td>\n",
       "      <td>82.54</td>\n",
       "    </tr>\n",
       "    <tr>\n",
       "      <td>2</td>\n",
       "      <td>Mario Kart Wii</td>\n",
       "      <td>Wii</td>\n",
       "      <td>2008</td>\n",
       "      <td>Racing</td>\n",
       "      <td>15.68</td>\n",
       "      <td>12.76</td>\n",
       "      <td>3.79</td>\n",
       "      <td>3.29</td>\n",
       "      <td>82.0</td>\n",
       "      <td>8.3</td>\n",
       "      <td>E</td>\n",
       "      <td>35.52</td>\n",
       "    </tr>\n",
       "    <tr>\n",
       "      <td>3</td>\n",
       "      <td>Wii Sports Resort</td>\n",
       "      <td>Wii</td>\n",
       "      <td>2009</td>\n",
       "      <td>Sports</td>\n",
       "      <td>15.61</td>\n",
       "      <td>10.93</td>\n",
       "      <td>3.28</td>\n",
       "      <td>2.95</td>\n",
       "      <td>80.0</td>\n",
       "      <td>8.0</td>\n",
       "      <td>E</td>\n",
       "      <td>32.77</td>\n",
       "    </tr>\n",
       "    <tr>\n",
       "      <td>6</td>\n",
       "      <td>New Super Mario Bros.</td>\n",
       "      <td>DS</td>\n",
       "      <td>2006</td>\n",
       "      <td>Platform</td>\n",
       "      <td>11.28</td>\n",
       "      <td>9.14</td>\n",
       "      <td>6.50</td>\n",
       "      <td>2.88</td>\n",
       "      <td>89.0</td>\n",
       "      <td>8.5</td>\n",
       "      <td>E</td>\n",
       "      <td>29.80</td>\n",
       "    </tr>\n",
       "    <tr>\n",
       "      <td>7</td>\n",
       "      <td>Wii Play</td>\n",
       "      <td>Wii</td>\n",
       "      <td>2006</td>\n",
       "      <td>Misc</td>\n",
       "      <td>13.96</td>\n",
       "      <td>9.18</td>\n",
       "      <td>2.93</td>\n",
       "      <td>2.84</td>\n",
       "      <td>58.0</td>\n",
       "      <td>6.6</td>\n",
       "      <td>E</td>\n",
       "      <td>28.91</td>\n",
       "    </tr>\n",
       "  </tbody>\n",
       "</table>\n",
       "</div>"
      ],
      "text/plain": [
       "                    name platform  year_of_release     genre  na_sales  \\\n",
       "0             Wii Sports      Wii             2006    Sports     41.36   \n",
       "2         Mario Kart Wii      Wii             2008    Racing     15.68   \n",
       "3      Wii Sports Resort      Wii             2009    Sports     15.61   \n",
       "6  New Super Mario Bros.       DS             2006  Platform     11.28   \n",
       "7               Wii Play      Wii             2006      Misc     13.96   \n",
       "\n",
       "   eu_sales  jp_sales  other_sales  critic_score  user_score rating  sum_sales  \n",
       "0     28.96      3.77         8.45          76.0         8.0      E      82.54  \n",
       "2     12.76      3.79         3.29          82.0         8.3      E      35.52  \n",
       "3     10.93      3.28         2.95          80.0         8.0      E      32.77  \n",
       "6      9.14      6.50         2.88          89.0         8.5      E      29.80  \n",
       "7      9.18      2.93         2.84          58.0         6.6      E      28.91  "
      ]
     },
     "execution_count": 134,
     "metadata": {},
     "output_type": "execute_result"
    }
   ],
   "source": [
    "top6_platforms = games_grouped_by_platform.index[:6].tolist()\n",
    "data_top6_sales = games_data[games_data['platform'].isin(top6_platforms)]\n",
    "data_top6_sales.head()"
   ]
  },
  {
   "cell_type": "code",
   "execution_count": 135,
   "metadata": {},
   "outputs": [
    {
     "data": {
      "image/png": "[encoded data removed]",
      "text/plain": [
       "<Figure size 1728x1080 with 6 Axes>"
      ]
     },
     "metadata": {
      "needs_background": "light"
     },
     "output_type": "display_data"
    }
   ],
   "source": [
    "fig, axs = plt.subplots(2, 3, figsize=(24, 15))\n",
    "fig.suptitle('Гистограммы распределения продаж топ-6 платформ по годам', fontsize=20)\n",
    "for i in range(2):\n",
    "    for j in range(3):\n",
    "        cur_platf = top6_platforms[j + 3*i]\n",
    "        data_grouped = (\n",
    "            data_top6_sales\n",
    "            .query('platform == @cur_platf')\n",
    "            .groupby('year_of_release')\n",
    "            .agg({'sum_sales': 'sum'})\n",
    "        )\n",
    "        data_grouped.plot.bar(ax=axs[i][j], legend=None)\n",
    "        axs[i][j].set_title(cur_platf)\n",
    "        axs[i][j].set_xlabel('Год')\n",
    "        axs[i][j].set_ylabel('Продажи (млн копий)')\n",
    "plt.show()"
   ]
  },
  {
   "cell_type": "markdown",
   "metadata": {},
   "source": [
    "Хорошо прослеживается закономерность: **в среднем \"время жизни\" платформы составляет около 10-11 лет** - от появления и роста популярности до угасания вплоть до продаж, близким к нулевым.\n",
    "\n",
    "Смену поколений можно очень наглядно посмотреть на консолях *PlayStation*: PS, PS2 и PS3. В 2000-м году появилась платформа PS2, и именно в этот год мы видим серьезное падение продаж игр на PS, а в последующие два года наблюдаем взрывной рост продаж игр на PS2 и еще большее падение продаж на PS до минимальных значений. В свою очередь, в 2006 году вышла PS3, и мы видим на графике PS2 падение продаж почти в 2 раза. Однако далее продажи игр на PS2 падали медленнее, чем в свое время на PS, и достигли минимума спустя 5 лет, в 2011 году, и в том же году достигли пика продажи игр на PS3.\n",
    "\n",
    "*Ключевой момент:* все платформы, представленные на графиках, устарели по состоянию на 2016-й год. У платформы Wii практически нулевые продажи, а у платформ X360 и PS3 мы видим серьезное падение продаж игр в 2014 году по сравнению с 2013.\n",
    "\n",
    "Таким образом, **требуется примерно от 3 до 5 лет, чтобы произошла \"смена поколений\" платформ** - замена устаревших платформ более современными, причем превышение продаж игр на новых платформах по сравнению со старыми происходит в последние 2-3 года этого периода.\n",
    "\n",
    "Исходя из полученных результатов и сделанных выводов, есть смысл **сместить границу актуального периода на 2014-ый год**. Таким образом устаревающие платформы (такие, как X360 и PS3) не будут доминировать в статистических данных, а у новейших платформ будет приоритет, так как в то время как старые платформы теряют в продажах, новые - серьезно набирают."
   ]
  },
  {
   "cell_type": "code",
   "execution_count": 136,
   "metadata": {},
   "outputs": [
    {
     "data": {
      "text/html": [
       "<div>\n",
       "<style scoped>\n",
       "    .dataframe tbody tr th:only-of-type {\n",
       "        vertical-align: middle;\n",
       "    }\n",
       "\n",
       "    .dataframe tbody tr th {\n",
       "        vertical-align: top;\n",
       "    }\n",
       "\n",
       "    .dataframe thead th {\n",
       "        text-align: right;\n",
       "    }\n",
       "</style>\n",
       "<table border=\"1\" class=\"dataframe\">\n",
       "  <thead>\n",
       "    <tr style=\"text-align: right;\">\n",
       "      <th></th>\n",
       "      <th>name</th>\n",
       "      <th>platform</th>\n",
       "      <th>year_of_release</th>\n",
       "      <th>genre</th>\n",
       "      <th>na_sales</th>\n",
       "      <th>eu_sales</th>\n",
       "      <th>jp_sales</th>\n",
       "      <th>other_sales</th>\n",
       "      <th>critic_score</th>\n",
       "      <th>user_score</th>\n",
       "      <th>rating</th>\n",
       "      <th>sum_sales</th>\n",
       "    </tr>\n",
       "  </thead>\n",
       "  <tbody>\n",
       "    <tr>\n",
       "      <td>0</td>\n",
       "      <td>Call of Duty: Black Ops 3</td>\n",
       "      <td>PS4</td>\n",
       "      <td>2015</td>\n",
       "      <td>Shooter</td>\n",
       "      <td>6.03</td>\n",
       "      <td>5.86</td>\n",
       "      <td>0.36</td>\n",
       "      <td>2.38</td>\n",
       "      <td>NaN</td>\n",
       "      <td>NaN</td>\n",
       "      <td>RP</td>\n",
       "      <td>14.63</td>\n",
       "    </tr>\n",
       "    <tr>\n",
       "      <td>1</td>\n",
       "      <td>Grand Theft Auto V</td>\n",
       "      <td>PS4</td>\n",
       "      <td>2014</td>\n",
       "      <td>Action</td>\n",
       "      <td>3.96</td>\n",
       "      <td>6.31</td>\n",
       "      <td>0.38</td>\n",
       "      <td>1.97</td>\n",
       "      <td>97.0</td>\n",
       "      <td>8.3</td>\n",
       "      <td>M</td>\n",
       "      <td>12.62</td>\n",
       "    </tr>\n",
       "    <tr>\n",
       "      <td>2</td>\n",
       "      <td>Pokemon Omega Ruby/Pokemon Alpha Sapphire</td>\n",
       "      <td>3DS</td>\n",
       "      <td>2014</td>\n",
       "      <td>Role-Playing</td>\n",
       "      <td>4.35</td>\n",
       "      <td>3.49</td>\n",
       "      <td>3.10</td>\n",
       "      <td>0.74</td>\n",
       "      <td>NaN</td>\n",
       "      <td>NaN</td>\n",
       "      <td>RP</td>\n",
       "      <td>11.68</td>\n",
       "    </tr>\n",
       "    <tr>\n",
       "      <td>3</td>\n",
       "      <td>FIFA 16</td>\n",
       "      <td>PS4</td>\n",
       "      <td>2015</td>\n",
       "      <td>Sports</td>\n",
       "      <td>1.12</td>\n",
       "      <td>6.12</td>\n",
       "      <td>0.06</td>\n",
       "      <td>1.28</td>\n",
       "      <td>82.0</td>\n",
       "      <td>4.3</td>\n",
       "      <td>E</td>\n",
       "      <td>8.58</td>\n",
       "    </tr>\n",
       "    <tr>\n",
       "      <td>4</td>\n",
       "      <td>Star Wars Battlefront (2015)</td>\n",
       "      <td>PS4</td>\n",
       "      <td>2015</td>\n",
       "      <td>Shooter</td>\n",
       "      <td>2.99</td>\n",
       "      <td>3.49</td>\n",
       "      <td>0.22</td>\n",
       "      <td>1.28</td>\n",
       "      <td>NaN</td>\n",
       "      <td>NaN</td>\n",
       "      <td>RP</td>\n",
       "      <td>7.98</td>\n",
       "    </tr>\n",
       "  </tbody>\n",
       "</table>\n",
       "</div>"
      ],
      "text/plain": [
       "                                        name platform  year_of_release  \\\n",
       "0                  Call of Duty: Black Ops 3      PS4             2015   \n",
       "1                         Grand Theft Auto V      PS4             2014   \n",
       "2  Pokemon Omega Ruby/Pokemon Alpha Sapphire      3DS             2014   \n",
       "3                                    FIFA 16      PS4             2015   \n",
       "4               Star Wars Battlefront (2015)      PS4             2015   \n",
       "\n",
       "          genre  na_sales  eu_sales  jp_sales  other_sales  critic_score  \\\n",
       "0       Shooter      6.03      5.86      0.36         2.38           NaN   \n",
       "1        Action      3.96      6.31      0.38         1.97          97.0   \n",
       "2  Role-Playing      4.35      3.49      3.10         0.74           NaN   \n",
       "3        Sports      1.12      6.12      0.06         1.28          82.0   \n",
       "4       Shooter      2.99      3.49      0.22         1.28           NaN   \n",
       "\n",
       "   user_score rating  sum_sales  \n",
       "0         NaN     RP      14.63  \n",
       "1         8.3      M      12.62  \n",
       "2         NaN     RP      11.68  \n",
       "3         4.3      E       8.58  \n",
       "4         NaN     RP       7.98  "
      ]
     },
     "execution_count": 136,
     "metadata": {},
     "output_type": "execute_result"
    }
   ],
   "source": [
    "relevant_games_data = games_data.query('year_of_release >= 2014').reset_index(drop=True)\n",
    "relevant_games_data.head()"
   ]
  },
  {
   "cell_type": "markdown",
   "metadata": {},
   "source": [
    "### Исследование потенциально прибыльных платформ"
   ]
  },
  {
   "cell_type": "markdown",
   "metadata": {},
   "source": [
    "Выведем топ-10 платформ-лидеров продаж уже по отфильтрованным данным."
   ]
  },
  {
   "cell_type": "code",
   "execution_count": 137,
   "metadata": {},
   "outputs": [
    {
     "data": {
      "text/html": [
       "<div>\n",
       "<style scoped>\n",
       "    .dataframe tbody tr th:only-of-type {\n",
       "        vertical-align: middle;\n",
       "    }\n",
       "\n",
       "    .dataframe tbody tr th {\n",
       "        vertical-align: top;\n",
       "    }\n",
       "\n",
       "    .dataframe thead th {\n",
       "        text-align: right;\n",
       "    }\n",
       "</style>\n",
       "<table border=\"1\" class=\"dataframe\">\n",
       "  <thead>\n",
       "    <tr style=\"text-align: right;\">\n",
       "      <th></th>\n",
       "      <th>sum_sales</th>\n",
       "    </tr>\n",
       "    <tr>\n",
       "      <th>platform</th>\n",
       "      <th></th>\n",
       "    </tr>\n",
       "  </thead>\n",
       "  <tbody>\n",
       "    <tr>\n",
       "      <td>PS4</td>\n",
       "      <td>288.15</td>\n",
       "    </tr>\n",
       "    <tr>\n",
       "      <td>XOne</td>\n",
       "      <td>140.36</td>\n",
       "    </tr>\n",
       "    <tr>\n",
       "      <td>3DS</td>\n",
       "      <td>86.68</td>\n",
       "    </tr>\n",
       "    <tr>\n",
       "      <td>PS3</td>\n",
       "      <td>68.18</td>\n",
       "    </tr>\n",
       "    <tr>\n",
       "      <td>X360</td>\n",
       "      <td>48.22</td>\n",
       "    </tr>\n",
       "    <tr>\n",
       "      <td>WiiU</td>\n",
       "      <td>42.98</td>\n",
       "    </tr>\n",
       "    <tr>\n",
       "      <td>PC</td>\n",
       "      <td>27.05</td>\n",
       "    </tr>\n",
       "    <tr>\n",
       "      <td>PSV</td>\n",
       "      <td>22.40</td>\n",
       "    </tr>\n",
       "    <tr>\n",
       "      <td>Wii</td>\n",
       "      <td>5.07</td>\n",
       "    </tr>\n",
       "    <tr>\n",
       "      <td>PSP</td>\n",
       "      <td>0.36</td>\n",
       "    </tr>\n",
       "  </tbody>\n",
       "</table>\n",
       "</div>"
      ],
      "text/plain": [
       "          sum_sales\n",
       "platform           \n",
       "PS4          288.15\n",
       "XOne         140.36\n",
       "3DS           86.68\n",
       "PS3           68.18\n",
       "X360          48.22\n",
       "WiiU          42.98\n",
       "PC            27.05\n",
       "PSV           22.40\n",
       "Wii            5.07\n",
       "PSP            0.36"
      ]
     },
     "execution_count": 137,
     "metadata": {},
     "output_type": "execute_result"
    }
   ],
   "source": [
    "relevant_pivot_by_platform = (\n",
    "    relevant_games_data\n",
    "    .pivot_table(index='platform', values='sum_sales', aggfunc='sum')\n",
    "    .sort_values(by='sum_sales', ascending=False)\n",
    ")\n",
    "relevant_pivot_by_platform.head(10)"
   ]
  },
  {
   "cell_type": "markdown",
   "metadata": {},
   "source": [
    "По сравнению с сводной таблицей, построенной по исходным данным, выделим 2 существенных момента:\n",
    "1. Старая платформа PS2 резко потеряла лидерство и вообще имеет, судя по всему, нулевые продажи игр, как и еще более старая консоль PS;\n",
    "2. Современные платформы, такие как XOne, PS4, 3DS не сильно потеряли в объеме продаж, так как они вышли в 2011-12 году, и основные объемы продаж приходятся как раз на актуальный период."
   ]
  },
  {
   "cell_type": "markdown",
   "metadata": {},
   "source": [
    "Первое место с большим отрывом у нового поколения *PlayStation* - PS4, пришедшей на замену PS3. PS3 уже только на 4-м месте, но дальше продажи будут только падать. На смену X360 пришла консоль XOne, на смену Wii - WiiU. Консоль PSP тоже устарела, о чем свидетельствуют минимальные продажи. Стоит рассмотреть игры на 3DS, PC и PSV. Построим гистограммы продаж игр на платформах PS4, XOne, 3DS, WiiU, PC и PSV."
   ]
  },
  {
   "cell_type": "code",
   "execution_count": 138,
   "metadata": {},
   "outputs": [
    {
     "data": {
      "image/png": "[encoded data removed]",
      "text/plain": [
       "<Figure size 1728x1080 with 6 Axes>"
      ]
     },
     "metadata": {
      "needs_background": "light"
     },
     "output_type": "display_data"
    }
   ],
   "source": [
    "list_platforms = ['PS4', 'XOne', '3DS', 'WiiU', 'PC', 'PSV']\n",
    "data_current_sales = relevant_games_data[relevant_games_data['platform'].isin(list_platforms)]\n",
    "fig, axs = plt.subplots(2, 3, figsize=(24, 15))\n",
    "fig.suptitle('Гистограммы распределения продаж платформ по годам', fontsize=20)\n",
    "for i in range(2):\n",
    "    for j in range(3):\n",
    "        cur_platf = list_platforms[j + 3*i]\n",
    "        data_grouped = (\n",
    "            data_current_sales\n",
    "            .query('platform == @cur_platf')\n",
    "            .groupby('year_of_release')\n",
    "            .agg({'sum_sales': 'sum'})\n",
    "        )\n",
    "        data_grouped.plot.bar(ax=axs[i][j], legend=None)\n",
    "        axs[i][j].set_title(cur_platf)\n",
    "        axs[i][j].set_xlabel('Год')\n",
    "        axs[i][j].set_ylabel('Продажи (млн копий)')\n",
    "plt.show()"
   ]
  },
  {
   "cell_type": "markdown",
   "metadata": {},
   "source": [
    "Учитывая тот фактор, что данные о продажах за 2016-ый год неполны, **можем оценить как потенциально прибыльные только две платформы: PS4 и XOne.** Именно у них мы можем наблюдать стабильный рост за последние 2 года. Продажи игр на остальных платформах, к сожалению, только падают в последние года.\n",
    "\n",
    "Построим диаграммы размаха для общемировых продаж игр по этим двум платформам."
   ]
  },
  {
   "cell_type": "code",
   "execution_count": 139,
   "metadata": {},
   "outputs": [
    {
     "data": {
      "image/png": "[encoded data removed]",
      "text/plain": [
       "<Figure size 1080x360 with 2 Axes>"
      ]
     },
     "metadata": {
      "needs_background": "light"
     },
     "output_type": "display_data"
    }
   ],
   "source": [
    "ps4_xone_data = relevant_games_data.query('platform == \"PS4\" or platform == \"XOne\"')\n",
    "fig, axs = plt.subplots(1, 2, figsize=(15, 5))\n",
    "for i in range(2):\n",
    "    ps4_xone_data.boxplot('sum_sales', by='platform', ax=axs[i])\n",
    "    axs[i].set_title('')\n",
    "    axs[i].set_xlabel('Платформа')\n",
    "    axs[i].set_ylabel('Продажи (млн копий)')\n",
    "axs[1].set_ylim(0, 2)\n",
    "fig.suptitle('Мировые продажи игр на платформах PS4 и XOne')\n",
    "plt.show()"
   ]
  },
  {
   "cell_type": "code",
   "execution_count": 140,
   "metadata": {},
   "outputs": [
    {
     "data": {
      "text/plain": [
       "PS4     376\n",
       "XOne    228\n",
       "Name: platform, dtype: int64"
      ]
     },
     "execution_count": 140,
     "metadata": {},
     "output_type": "execute_result"
    }
   ],
   "source": [
    "ps4_xone_data['platform'].value_counts()"
   ]
  },
  {
   "cell_type": "markdown",
   "metadata": {},
   "source": [
    "Видим, что PS4 - более популярная платформа, чем XOne: на ней выпущено больше игр и соответственно больше сверхуспешных игр, объем продаж которых считается выбросом на диаграмме размаха. Несмотря на это, медианное значение продаж игры на XOne немного выше, чем медиана на PS4. Но в целом игры на этих платформах конкурируют на равных по объему продаж."
   ]
  },
  {
   "cell_type": "markdown",
   "metadata": {},
   "source": [
    "### Исследование влияния оценок критиков и пользователей на продажи игр"
   ]
  },
  {
   "cell_type": "markdown",
   "metadata": {},
   "source": [
    "Для этого исследования выберем наиболее популярную платформу по состоянию на 2016-й год - PS4. Построим диаграммы рассеяния для выявления зависимости общих объемов продаж от оценок критиков и оценок пользователей. Также рассчитаем коэффициенты корреляции этих параметров."
   ]
  },
  {
   "cell_type": "code",
   "execution_count": 141,
   "metadata": {},
   "outputs": [
    {
     "data": {
      "image/png": "[encoded data removed]",
      "text/plain": [
       "<Figure size 1080x360 with 2 Axes>"
      ]
     },
     "metadata": {
      "needs_background": "light"
     },
     "output_type": "display_data"
    }
   ],
   "source": [
    "ps4_data = ps4_xone_data.query('platform == \"PS4\"')\n",
    "fig, axs = plt.subplots(1, 2, figsize=(15, 5))\n",
    "ps4_data.plot(x='critic_score', y='sum_sales', kind='scatter', ax=axs[0])\n",
    "axs[0].set_title('Оценка критиков - объем продаж')\n",
    "ps4_data.plot(x='user_score', y='sum_sales', kind='scatter', ax=axs[1])\n",
    "axs[1].set_title('Оценка пользователей - объем продаж')\n",
    "for i in range(2):\n",
    "    axs[i].set_xlabel('Оценка')\n",
    "    axs[i].set_ylabel('Продажи (млн копий)')\n",
    "plt.show()"
   ]
  },
  {
   "cell_type": "code",
   "execution_count": 142,
   "metadata": {},
   "outputs": [
    {
     "data": {
      "text/html": [
       "<div>\n",
       "<style scoped>\n",
       "    .dataframe tbody tr th:only-of-type {\n",
       "        vertical-align: middle;\n",
       "    }\n",
       "\n",
       "    .dataframe tbody tr th {\n",
       "        vertical-align: top;\n",
       "    }\n",
       "\n",
       "    .dataframe thead th {\n",
       "        text-align: right;\n",
       "    }\n",
       "</style>\n",
       "<table border=\"1\" class=\"dataframe\">\n",
       "  <thead>\n",
       "    <tr style=\"text-align: right;\">\n",
       "      <th></th>\n",
       "      <th>critic_score</th>\n",
       "      <th>user_score</th>\n",
       "      <th>sum_sales</th>\n",
       "    </tr>\n",
       "  </thead>\n",
       "  <tbody>\n",
       "    <tr>\n",
       "      <td>critic_score</td>\n",
       "      <td>1.000000</td>\n",
       "      <td>0.546434</td>\n",
       "      <td>0.402661</td>\n",
       "    </tr>\n",
       "    <tr>\n",
       "      <td>user_score</td>\n",
       "      <td>0.546434</td>\n",
       "      <td>1.000000</td>\n",
       "      <td>-0.040132</td>\n",
       "    </tr>\n",
       "    <tr>\n",
       "      <td>sum_sales</td>\n",
       "      <td>0.402661</td>\n",
       "      <td>-0.040132</td>\n",
       "      <td>1.000000</td>\n",
       "    </tr>\n",
       "  </tbody>\n",
       "</table>\n",
       "</div>"
      ],
      "text/plain": [
       "              critic_score  user_score  sum_sales\n",
       "critic_score      1.000000    0.546434   0.402661\n",
       "user_score        0.546434    1.000000  -0.040132\n",
       "sum_sales         0.402661   -0.040132   1.000000"
      ]
     },
     "execution_count": 142,
     "metadata": {},
     "output_type": "execute_result"
    }
   ],
   "source": [
    "ps4_data[['critic_score', 'user_score', 'sum_sales']].corr()"
   ]
  },
  {
   "cell_type": "markdown",
   "metadata": {},
   "source": [
    "Как по графику, так и по коэффициенту корреляции (всего `-0.04`) можно сделать вывод, что **практически никакой зависимости объема продаж игр от оценки пользователей нет**. Это логично - пользователю, чтобы поставить оценку, нужно сначала приобрести игру и поиграть (считаем, что нет таких, кто ставит оценку, не поиграв). При этом игра может как понравиться пользователю, так и нет, и большинстве случаев эта оценка субъективна и зависит конкретно от предпочтений каждого пользователя. Также, например, могут быть провалившиеся продолжения успешных игр: высокий объем продаж и низкие оценки на фоне высоких ожиданий от игры.\n",
    "\n",
    "Коэффициент корреляции продаж от оценок критиков побольше, но все еще невысок: `0.4`. По графику можем видеть, что **играм с низкими оценками соответствуют низкие продажи, играм с высокими оценками - высокие продажи**. Однако среди игр, высоко оцененных критиками, также довольно много игр с низкими продажами. Возможно, это игры не самых популярных жанров, но сделанные достаточно качественно, чтобы заслужить высокую оценку критиков.\n",
    "\n",
    "Соотнесем полученные выводы для платформы PS4 с продажами игр на платформе XOne."
   ]
  },
  {
   "cell_type": "code",
   "execution_count": 143,
   "metadata": {},
   "outputs": [
    {
     "data": {
      "image/png": "[encoded data removed]",
      "text/plain": [
       "<Figure size 1080x360 with 2 Axes>"
      ]
     },
     "metadata": {
      "needs_background": "light"
     },
     "output_type": "display_data"
    }
   ],
   "source": [
    "xone_data = ps4_xone_data.query('platform == \"XOne\"')\n",
    "fig, axs = plt.subplots(1, 2, figsize=(15, 5))\n",
    "xone_data.plot(x='critic_score', y='sum_sales', kind='scatter', ax=axs[0])\n",
    "axs[0].set_title('Оценка критиков - объем продаж')\n",
    "xone_data.plot(x='user_score', y='sum_sales', kind='scatter', ax=axs[1])\n",
    "axs[1].set_title('Оценка пользователей - объем продаж')\n",
    "for i in range(2):\n",
    "    axs[i].set_xlabel('Оценка')\n",
    "    axs[i].set_ylabel('Продажи (млн копий)')\n",
    "plt.show()"
   ]
  },
  {
   "cell_type": "code",
   "execution_count": 144,
   "metadata": {},
   "outputs": [
    {
     "data": {
      "text/html": [
       "<div>\n",
       "<style scoped>\n",
       "    .dataframe tbody tr th:only-of-type {\n",
       "        vertical-align: middle;\n",
       "    }\n",
       "\n",
       "    .dataframe tbody tr th {\n",
       "        vertical-align: top;\n",
       "    }\n",
       "\n",
       "    .dataframe thead th {\n",
       "        text-align: right;\n",
       "    }\n",
       "</style>\n",
       "<table border=\"1\" class=\"dataframe\">\n",
       "  <thead>\n",
       "    <tr style=\"text-align: right;\">\n",
       "      <th></th>\n",
       "      <th>critic_score</th>\n",
       "      <th>user_score</th>\n",
       "      <th>sum_sales</th>\n",
       "    </tr>\n",
       "  </thead>\n",
       "  <tbody>\n",
       "    <tr>\n",
       "      <td>critic_score</td>\n",
       "      <td>1.000000</td>\n",
       "      <td>0.440977</td>\n",
       "      <td>0.428677</td>\n",
       "    </tr>\n",
       "    <tr>\n",
       "      <td>user_score</td>\n",
       "      <td>0.440977</td>\n",
       "      <td>1.000000</td>\n",
       "      <td>-0.070384</td>\n",
       "    </tr>\n",
       "    <tr>\n",
       "      <td>sum_sales</td>\n",
       "      <td>0.428677</td>\n",
       "      <td>-0.070384</td>\n",
       "      <td>1.000000</td>\n",
       "    </tr>\n",
       "  </tbody>\n",
       "</table>\n",
       "</div>"
      ],
      "text/plain": [
       "              critic_score  user_score  sum_sales\n",
       "critic_score      1.000000    0.440977   0.428677\n",
       "user_score        0.440977    1.000000  -0.070384\n",
       "sum_sales         0.428677   -0.070384   1.000000"
      ]
     },
     "execution_count": 144,
     "metadata": {},
     "output_type": "execute_result"
    }
   ],
   "source": [
    "xone_data[['critic_score', 'user_score', 'sum_sales']].corr()"
   ]
  },
  {
   "cell_type": "markdown",
   "metadata": {},
   "source": [
    "Графики довольно схожи, как и коэффициенты корреляции. Таким образом, можем сделать вывод, что нет зависимости объема продаж от оценки пользователей, независимо от платформы. При этом есть небольшая линейная связь оценок критиков и объемов продаж: низкие оценки соответствуют только играм с низкими продажами, и наоборот, играм с высокими продажами соответствуют в основном высокие оценки критиков. Однако, критики также высоко оценивали некоторые игры с низкими продажами, поэтому говорить о ярко выраженной линейной зависимости продаж от оценки критиков нельзя."
   ]
  },
  {
   "cell_type": "markdown",
   "metadata": {},
   "source": [
    "### Исследование объемов продаж по жанрам игр"
   ]
  },
  {
   "cell_type": "markdown",
   "metadata": {},
   "source": [
    "Создадим сводную таблицу продаж игр по жанрам. Будем исследовать медианные значения продаж одной игры каждого жанра."
   ]
  },
  {
   "cell_type": "code",
   "execution_count": 145,
   "metadata": {},
   "outputs": [
    {
     "data": {
      "text/html": [
       "<div>\n",
       "<style scoped>\n",
       "    .dataframe tbody tr th:only-of-type {\n",
       "        vertical-align: middle;\n",
       "    }\n",
       "\n",
       "    .dataframe tbody tr th {\n",
       "        vertical-align: top;\n",
       "    }\n",
       "\n",
       "    .dataframe thead th {\n",
       "        text-align: right;\n",
       "    }\n",
       "</style>\n",
       "<table border=\"1\" class=\"dataframe\">\n",
       "  <thead>\n",
       "    <tr style=\"text-align: right;\">\n",
       "      <th></th>\n",
       "      <th>count_games</th>\n",
       "      <th>median_sales</th>\n",
       "    </tr>\n",
       "    <tr>\n",
       "      <th>genre</th>\n",
       "      <th></th>\n",
       "      <th></th>\n",
       "    </tr>\n",
       "  </thead>\n",
       "  <tbody>\n",
       "    <tr>\n",
       "      <td>Shooter</td>\n",
       "      <td>128</td>\n",
       "      <td>0.515</td>\n",
       "    </tr>\n",
       "    <tr>\n",
       "      <td>Sports</td>\n",
       "      <td>161</td>\n",
       "      <td>0.180</td>\n",
       "    </tr>\n",
       "    <tr>\n",
       "      <td>Platform</td>\n",
       "      <td>38</td>\n",
       "      <td>0.140</td>\n",
       "    </tr>\n",
       "    <tr>\n",
       "      <td>Fighting</td>\n",
       "      <td>60</td>\n",
       "      <td>0.125</td>\n",
       "    </tr>\n",
       "    <tr>\n",
       "      <td>Role-Playing</td>\n",
       "      <td>221</td>\n",
       "      <td>0.110</td>\n",
       "    </tr>\n",
       "    <tr>\n",
       "      <td>Simulation</td>\n",
       "      <td>44</td>\n",
       "      <td>0.100</td>\n",
       "    </tr>\n",
       "    <tr>\n",
       "      <td>Action</td>\n",
       "      <td>619</td>\n",
       "      <td>0.090</td>\n",
       "    </tr>\n",
       "    <tr>\n",
       "      <td>Misc</td>\n",
       "      <td>113</td>\n",
       "      <td>0.090</td>\n",
       "    </tr>\n",
       "    <tr>\n",
       "      <td>Racing</td>\n",
       "      <td>69</td>\n",
       "      <td>0.090</td>\n",
       "    </tr>\n",
       "    <tr>\n",
       "      <td>Strategy</td>\n",
       "      <td>37</td>\n",
       "      <td>0.060</td>\n",
       "    </tr>\n",
       "    <tr>\n",
       "      <td>Puzzle</td>\n",
       "      <td>14</td>\n",
       "      <td>0.045</td>\n",
       "    </tr>\n",
       "    <tr>\n",
       "      <td>Adventure</td>\n",
       "      <td>185</td>\n",
       "      <td>0.030</td>\n",
       "    </tr>\n",
       "  </tbody>\n",
       "</table>\n",
       "</div>"
      ],
      "text/plain": [
       "              count_games  median_sales\n",
       "genre                                  \n",
       "Shooter               128         0.515\n",
       "Sports                161         0.180\n",
       "Platform               38         0.140\n",
       "Fighting               60         0.125\n",
       "Role-Playing          221         0.110\n",
       "Simulation             44         0.100\n",
       "Action                619         0.090\n",
       "Misc                  113         0.090\n",
       "Racing                 69         0.090\n",
       "Strategy               37         0.060\n",
       "Puzzle                 14         0.045\n",
       "Adventure             185         0.030"
      ]
     },
     "execution_count": 145,
     "metadata": {},
     "output_type": "execute_result"
    }
   ],
   "source": [
    "data_pivot_by_genre = (\n",
    "    relevant_games_data\n",
    "    .pivot_table(index='genre', values='sum_sales', aggfunc=['count', 'median'])\n",
    ")\n",
    "data_pivot_by_genre.columns = ['count_games', 'median_sales']\n",
    "data_pivot_by_genre.sort_values(by='median_sales', ascending=False)"
   ]
  },
  {
   "cell_type": "markdown",
   "metadata": {},
   "source": [
    "Самый прибыльный жанр с большим отрывом - `Shooter`. Медианное значение продаж одного шутера составляет чуть более полумиллиона единиц в год. Также в топ-3 по прибыльности - жанры `Sports` и `Platform`. Все 3 жанра объединяет то, что это активные, захватывающие игры, позволяющие людям отвлечься, сильно не думать, а полагаться на свои рефлексы, инстинкты и мастерство. Вероятно, поэтому они столь популярны.\n",
    "\n",
    "Также стоит отметить то, что жанр `Action`, с большим отрывом лидирующий по количеству игр, находится лишь в середине по медианному значению продаж - игры этого жанра раскупают не так активно.\n",
    "\n",
    "На последних трех местах - жанры `Adventure`, `Puzzle` и `Strategy`. Это интеллектуальные жанры, в которых нужно думать, прежде чем совершить то или иное игровое действие. Есть, конечно, поклонники и этих жанров, однако большинство все же предпочитает расслабляться в процессе игры, а не еще больше загружать мозг."
   ]
  },
  {
   "cell_type": "markdown",
   "metadata": {},
   "source": [
    "### Вывод"
   ]
  },
  {
   "cell_type": "markdown",
   "metadata": {},
   "source": [
    "Был проведен исследовательский анализ данных, в ходе которого были получены следующие результаты:\n",
    "- за актуальный период был принят временной промежуток с 2014 по 2016-й год;\n",
    "- были выявлены потенциально прибыльные платформы: PS4 и Xbox One;\n",
    "- объемы продаж игр на этих двух платформах примерно равны, однако на PS4 игр больше;\n",
    "- объемы продаж не зависят от оценок пользователей;\n",
    "- объемы продаж немного зависят от оценок критиков: играм с низкими оценками соответствуют низкие продажи, но высокие оценки критики ставят как играм, направленным на узкую аудиторию или непопулярного жанра (и, как следствие, с низкими продажами), так и играм с высокими продажами;\n",
    "- самые продаваемые жанры - `Shooter`, `Sports` и `Platform`, наименее продаваемые - `Adventure`, `Puzzle` и `Strategy`."
   ]
  },
  {
   "cell_type": "markdown",
   "metadata": {},
   "source": [
    "## Составление портрета пользователя каждого региона"
   ]
  },
  {
   "cell_type": "markdown",
   "metadata": {},
   "source": [
    "Напишем функцию для вывода сводной таблицы по тому или иному столбцу:"
   ]
  },
  {
   "cell_type": "code",
   "execution_count": 146,
   "metadata": {},
   "outputs": [],
   "source": [
    "def groupby_games_data(data, by, values):\n",
    "    return (data.groupby(by)\n",
    "            .agg({values: 'sum'})\n",
    "            .sort_values(by=values, ascending=False)\n",
    "           )"
   ]
  },
  {
   "cell_type": "markdown",
   "metadata": {},
   "source": [
    "### Пользователь региона *NA* (North America - Северная Америка)\n",
    "\n",
    "Самые популярные платформы (топ-5):"
   ]
  },
  {
   "cell_type": "code",
   "execution_count": 147,
   "metadata": {},
   "outputs": [
    {
     "data": {
      "text/html": [
       "<div>\n",
       "<style scoped>\n",
       "    .dataframe tbody tr th:only-of-type {\n",
       "        vertical-align: middle;\n",
       "    }\n",
       "\n",
       "    .dataframe tbody tr th {\n",
       "        vertical-align: top;\n",
       "    }\n",
       "\n",
       "    .dataframe thead th {\n",
       "        text-align: right;\n",
       "    }\n",
       "</style>\n",
       "<table border=\"1\" class=\"dataframe\">\n",
       "  <thead>\n",
       "    <tr style=\"text-align: right;\">\n",
       "      <th></th>\n",
       "      <th>na_sales</th>\n",
       "    </tr>\n",
       "    <tr>\n",
       "      <th>platform</th>\n",
       "      <th></th>\n",
       "    </tr>\n",
       "  </thead>\n",
       "  <tbody>\n",
       "    <tr>\n",
       "      <td>PS4</td>\n",
       "      <td>98.61</td>\n",
       "    </tr>\n",
       "    <tr>\n",
       "      <td>XOne</td>\n",
       "      <td>81.27</td>\n",
       "    </tr>\n",
       "    <tr>\n",
       "      <td>X360</td>\n",
       "      <td>28.30</td>\n",
       "    </tr>\n",
       "    <tr>\n",
       "      <td>3DS</td>\n",
       "      <td>22.64</td>\n",
       "    </tr>\n",
       "    <tr>\n",
       "      <td>PS3</td>\n",
       "      <td>22.05</td>\n",
       "    </tr>\n",
       "  </tbody>\n",
       "</table>\n",
       "</div>"
      ],
      "text/plain": [
       "          na_sales\n",
       "platform          \n",
       "PS4          98.61\n",
       "XOne         81.27\n",
       "X360         28.30\n",
       "3DS          22.64\n",
       "PS3          22.05"
      ]
     },
     "execution_count": 147,
     "metadata": {},
     "output_type": "execute_result"
    }
   ],
   "source": [
    "na_platforms = groupby_games_data(relevant_games_data, 'platform', 'na_sales')\n",
    "na_platforms.head()"
   ]
  },
  {
   "cell_type": "markdown",
   "metadata": {},
   "source": [
    "Самые популярные жанры (топ-5):"
   ]
  },
  {
   "cell_type": "code",
   "execution_count": 148,
   "metadata": {},
   "outputs": [
    {
     "data": {
      "text/html": [
       "<div>\n",
       "<style scoped>\n",
       "    .dataframe tbody tr th:only-of-type {\n",
       "        vertical-align: middle;\n",
       "    }\n",
       "\n",
       "    .dataframe tbody tr th {\n",
       "        vertical-align: top;\n",
       "    }\n",
       "\n",
       "    .dataframe thead th {\n",
       "        text-align: right;\n",
       "    }\n",
       "</style>\n",
       "<table border=\"1\" class=\"dataframe\">\n",
       "  <thead>\n",
       "    <tr style=\"text-align: right;\">\n",
       "      <th></th>\n",
       "      <th>na_sales</th>\n",
       "    </tr>\n",
       "    <tr>\n",
       "      <th>genre</th>\n",
       "      <th></th>\n",
       "    </tr>\n",
       "  </thead>\n",
       "  <tbody>\n",
       "    <tr>\n",
       "      <td>Shooter</td>\n",
       "      <td>79.02</td>\n",
       "    </tr>\n",
       "    <tr>\n",
       "      <td>Action</td>\n",
       "      <td>72.53</td>\n",
       "    </tr>\n",
       "    <tr>\n",
       "      <td>Sports</td>\n",
       "      <td>46.13</td>\n",
       "    </tr>\n",
       "    <tr>\n",
       "      <td>Role-Playing</td>\n",
       "      <td>33.47</td>\n",
       "    </tr>\n",
       "    <tr>\n",
       "      <td>Misc</td>\n",
       "      <td>15.05</td>\n",
       "    </tr>\n",
       "  </tbody>\n",
       "</table>\n",
       "</div>"
      ],
      "text/plain": [
       "              na_sales\n",
       "genre                 \n",
       "Shooter          79.02\n",
       "Action           72.53\n",
       "Sports           46.13\n",
       "Role-Playing     33.47\n",
       "Misc             15.05"
      ]
     },
     "execution_count": 148,
     "metadata": {},
     "output_type": "execute_result"
    }
   ],
   "source": [
    "na_genres = groupby_games_data(relevant_games_data, 'genre', 'na_sales')\n",
    "na_genres.head()"
   ]
  },
  {
   "cell_type": "markdown",
   "metadata": {},
   "source": [
    "Влияние рейтинга *ESRB* на продажи:"
   ]
  },
  {
   "cell_type": "code",
   "execution_count": 149,
   "metadata": {},
   "outputs": [
    {
     "data": {
      "image/png": "[encoded data removed]",
      "text/plain": [
       "<Figure size 432x288 with 1 Axes>"
      ]
     },
     "metadata": {
      "needs_background": "light"
     },
     "output_type": "display_data"
    }
   ],
   "source": [
    "# Для получения более информативных графиков возьмем для рассмотрения только те игры\n",
    "# которые в этом регионе были проданы хотя бы 1 раз (т.к. продажи в млн копий, то 10^-6 * 1 млн = 1)\n",
    "relevant_games_data.query('na_sales >= 1e-6').boxplot('na_sales', by='rating')\n",
    "plt.xlabel('Категория рейтинга')\n",
    "plt.ylabel('Продажи в NA (млн копий)')\n",
    "plt.ylim(-0.05, 1.3)\n",
    "plt.title('Продажи игр в Северной Америке по рейтингам')\n",
    "plt.suptitle('')\n",
    "plt.show()"
   ]
  },
  {
   "cell_type": "markdown",
   "metadata": {},
   "source": [
    "### Пользователь региона *EU* (Europe - Европа)\n",
    "\n",
    "Самые популярные платформы (топ-5):"
   ]
  },
  {
   "cell_type": "code",
   "execution_count": 150,
   "metadata": {},
   "outputs": [
    {
     "data": {
      "text/html": [
       "<div>\n",
       "<style scoped>\n",
       "    .dataframe tbody tr th:only-of-type {\n",
       "        vertical-align: middle;\n",
       "    }\n",
       "\n",
       "    .dataframe tbody tr th {\n",
       "        vertical-align: top;\n",
       "    }\n",
       "\n",
       "    .dataframe thead th {\n",
       "        text-align: right;\n",
       "    }\n",
       "</style>\n",
       "<table border=\"1\" class=\"dataframe\">\n",
       "  <thead>\n",
       "    <tr style=\"text-align: right;\">\n",
       "      <th></th>\n",
       "      <th>eu_sales</th>\n",
       "    </tr>\n",
       "    <tr>\n",
       "      <th>platform</th>\n",
       "      <th></th>\n",
       "    </tr>\n",
       "  </thead>\n",
       "  <tbody>\n",
       "    <tr>\n",
       "      <td>PS4</td>\n",
       "      <td>130.04</td>\n",
       "    </tr>\n",
       "    <tr>\n",
       "      <td>XOne</td>\n",
       "      <td>46.25</td>\n",
       "    </tr>\n",
       "    <tr>\n",
       "      <td>PS3</td>\n",
       "      <td>25.54</td>\n",
       "    </tr>\n",
       "    <tr>\n",
       "      <td>PC</td>\n",
       "      <td>17.97</td>\n",
       "    </tr>\n",
       "    <tr>\n",
       "      <td>3DS</td>\n",
       "      <td>16.12</td>\n",
       "    </tr>\n",
       "  </tbody>\n",
       "</table>\n",
       "</div>"
      ],
      "text/plain": [
       "          eu_sales\n",
       "platform          \n",
       "PS4         130.04\n",
       "XOne         46.25\n",
       "PS3          25.54\n",
       "PC           17.97\n",
       "3DS          16.12"
      ]
     },
     "execution_count": 150,
     "metadata": {},
     "output_type": "execute_result"
    }
   ],
   "source": [
    "eu_platforms = groupby_games_data(relevant_games_data, 'platform', 'eu_sales')\n",
    "eu_platforms.head()"
   ]
  },
  {
   "cell_type": "markdown",
   "metadata": {},
   "source": [
    "Самые популярные жанры (топ-5):"
   ]
  },
  {
   "cell_type": "code",
   "execution_count": 151,
   "metadata": {},
   "outputs": [
    {
     "data": {
      "text/html": [
       "<div>\n",
       "<style scoped>\n",
       "    .dataframe tbody tr th:only-of-type {\n",
       "        vertical-align: middle;\n",
       "    }\n",
       "\n",
       "    .dataframe tbody tr th {\n",
       "        vertical-align: top;\n",
       "    }\n",
       "\n",
       "    .dataframe thead th {\n",
       "        text-align: right;\n",
       "    }\n",
       "</style>\n",
       "<table border=\"1\" class=\"dataframe\">\n",
       "  <thead>\n",
       "    <tr style=\"text-align: right;\">\n",
       "      <th></th>\n",
       "      <th>eu_sales</th>\n",
       "    </tr>\n",
       "    <tr>\n",
       "      <th>genre</th>\n",
       "      <th></th>\n",
       "    </tr>\n",
       "  </thead>\n",
       "  <tbody>\n",
       "    <tr>\n",
       "      <td>Action</td>\n",
       "      <td>74.68</td>\n",
       "    </tr>\n",
       "    <tr>\n",
       "      <td>Shooter</td>\n",
       "      <td>65.52</td>\n",
       "    </tr>\n",
       "    <tr>\n",
       "      <td>Sports</td>\n",
       "      <td>45.73</td>\n",
       "    </tr>\n",
       "    <tr>\n",
       "      <td>Role-Playing</td>\n",
       "      <td>28.17</td>\n",
       "    </tr>\n",
       "    <tr>\n",
       "      <td>Racing</td>\n",
       "      <td>14.13</td>\n",
       "    </tr>\n",
       "  </tbody>\n",
       "</table>\n",
       "</div>"
      ],
      "text/plain": [
       "              eu_sales\n",
       "genre                 \n",
       "Action           74.68\n",
       "Shooter          65.52\n",
       "Sports           45.73\n",
       "Role-Playing     28.17\n",
       "Racing           14.13"
      ]
     },
     "execution_count": 151,
     "metadata": {},
     "output_type": "execute_result"
    }
   ],
   "source": [
    "eu_genres = groupby_games_data(relevant_games_data, 'genre', 'eu_sales')\n",
    "eu_genres.head()"
   ]
  },
  {
   "cell_type": "markdown",
   "metadata": {},
   "source": [
    "Влияние рейтинга *ESRB* на продажи:"
   ]
  },
  {
   "cell_type": "code",
   "execution_count": 152,
   "metadata": {},
   "outputs": [
    {
     "data": {
      "image/png": "[encoded data removed]",
      "text/plain": [
       "<Figure size 432x288 with 1 Axes>"
      ]
     },
     "metadata": {
      "needs_background": "light"
     },
     "output_type": "display_data"
    }
   ],
   "source": [
    "relevant_games_data.query('eu_sales > 1e-6').boxplot('eu_sales', by='rating')\n",
    "plt.xlabel('Категория рейтинга')\n",
    "plt.ylabel('Продажи в EU (млн копий)')\n",
    "plt.ylim(-0.05, 1)\n",
    "plt.title('Продажи игр в Европе по рейтингам')\n",
    "plt.suptitle('')\n",
    "plt.show()"
   ]
  },
  {
   "cell_type": "markdown",
   "metadata": {},
   "source": [
    "### Пользователь региона *JP* (Japan - Япония)\n",
    "\n",
    "Самые популярные платформы (топ-5):"
   ]
  },
  {
   "cell_type": "code",
   "execution_count": 153,
   "metadata": {},
   "outputs": [
    {
     "data": {
      "text/html": [
       "<div>\n",
       "<style scoped>\n",
       "    .dataframe tbody tr th:only-of-type {\n",
       "        vertical-align: middle;\n",
       "    }\n",
       "\n",
       "    .dataframe tbody tr th {\n",
       "        vertical-align: top;\n",
       "    }\n",
       "\n",
       "    .dataframe thead th {\n",
       "        text-align: right;\n",
       "    }\n",
       "</style>\n",
       "<table border=\"1\" class=\"dataframe\">\n",
       "  <thead>\n",
       "    <tr style=\"text-align: right;\">\n",
       "      <th></th>\n",
       "      <th>jp_sales</th>\n",
       "    </tr>\n",
       "    <tr>\n",
       "      <th>platform</th>\n",
       "      <th></th>\n",
       "    </tr>\n",
       "  </thead>\n",
       "  <tbody>\n",
       "    <tr>\n",
       "      <td>3DS</td>\n",
       "      <td>44.24</td>\n",
       "    </tr>\n",
       "    <tr>\n",
       "      <td>PS4</td>\n",
       "      <td>15.02</td>\n",
       "    </tr>\n",
       "    <tr>\n",
       "      <td>PSV</td>\n",
       "      <td>14.54</td>\n",
       "    </tr>\n",
       "    <tr>\n",
       "      <td>PS3</td>\n",
       "      <td>11.22</td>\n",
       "    </tr>\n",
       "    <tr>\n",
       "      <td>WiiU</td>\n",
       "      <td>7.31</td>\n",
       "    </tr>\n",
       "  </tbody>\n",
       "</table>\n",
       "</div>"
      ],
      "text/plain": [
       "          jp_sales\n",
       "platform          \n",
       "3DS          44.24\n",
       "PS4          15.02\n",
       "PSV          14.54\n",
       "PS3          11.22\n",
       "WiiU          7.31"
      ]
     },
     "execution_count": 153,
     "metadata": {},
     "output_type": "execute_result"
    }
   ],
   "source": [
    "jp_platforms = groupby_games_data(relevant_games_data, 'platform', 'jp_sales')\n",
    "jp_platforms.head()"
   ]
  },
  {
   "cell_type": "markdown",
   "metadata": {},
   "source": [
    "Самые популярные жанры (топ-5):"
   ]
  },
  {
   "cell_type": "code",
   "execution_count": 154,
   "metadata": {},
   "outputs": [
    {
     "data": {
      "text/html": [
       "<div>\n",
       "<style scoped>\n",
       "    .dataframe tbody tr th:only-of-type {\n",
       "        vertical-align: middle;\n",
       "    }\n",
       "\n",
       "    .dataframe tbody tr th {\n",
       "        vertical-align: top;\n",
       "    }\n",
       "\n",
       "    .dataframe thead th {\n",
       "        text-align: right;\n",
       "    }\n",
       "</style>\n",
       "<table border=\"1\" class=\"dataframe\">\n",
       "  <thead>\n",
       "    <tr style=\"text-align: right;\">\n",
       "      <th></th>\n",
       "      <th>jp_sales</th>\n",
       "    </tr>\n",
       "    <tr>\n",
       "      <th>genre</th>\n",
       "      <th></th>\n",
       "    </tr>\n",
       "  </thead>\n",
       "  <tbody>\n",
       "    <tr>\n",
       "      <td>Role-Playing</td>\n",
       "      <td>31.16</td>\n",
       "    </tr>\n",
       "    <tr>\n",
       "      <td>Action</td>\n",
       "      <td>29.58</td>\n",
       "    </tr>\n",
       "    <tr>\n",
       "      <td>Fighting</td>\n",
       "      <td>6.37</td>\n",
       "    </tr>\n",
       "    <tr>\n",
       "      <td>Misc</td>\n",
       "      <td>5.61</td>\n",
       "    </tr>\n",
       "    <tr>\n",
       "      <td>Shooter</td>\n",
       "      <td>4.87</td>\n",
       "    </tr>\n",
       "  </tbody>\n",
       "</table>\n",
       "</div>"
      ],
      "text/plain": [
       "              jp_sales\n",
       "genre                 \n",
       "Role-Playing     31.16\n",
       "Action           29.58\n",
       "Fighting          6.37\n",
       "Misc              5.61\n",
       "Shooter           4.87"
      ]
     },
     "execution_count": 154,
     "metadata": {},
     "output_type": "execute_result"
    }
   ],
   "source": [
    "jp_genres = groupby_games_data(relevant_games_data, 'genre', 'jp_sales')\n",
    "jp_genres.head()"
   ]
  },
  {
   "cell_type": "markdown",
   "metadata": {},
   "source": [
    "Влияние рейтинга *ESRB* на продажи:"
   ]
  },
  {
   "cell_type": "code",
   "execution_count": 155,
   "metadata": {},
   "outputs": [
    {
     "data": {
      "image/png": "[encoded data removed]",
      "text/plain": [
       "<Figure size 432x288 with 1 Axes>"
      ]
     },
     "metadata": {
      "needs_background": "light"
     },
     "output_type": "display_data"
    }
   ],
   "source": [
    "relevant_games_data.query('jp_sales >= 1e-6').boxplot('jp_sales', by='rating')\n",
    "plt.xlabel('Категория рейтинга')\n",
    "plt.ylabel('Продажи в JP (млн копий)')\n",
    "plt.ylim(-0.02, 0.4)\n",
    "plt.title('Продажи игр в Японии по рейтингам')\n",
    "plt.suptitle('')\n",
    "plt.show()"
   ]
  },
  {
   "cell_type": "markdown",
   "metadata": {},
   "source": [
    "### Распределение жанров игр по рейтингам"
   ]
  },
  {
   "cell_type": "markdown",
   "metadata": {},
   "source": [
    "Создадим сводную таблицу, показывающую, какое количество игр каждого жанра имеет тот или иной рейтинг."
   ]
  },
  {
   "cell_type": "code",
   "execution_count": 156,
   "metadata": {},
   "outputs": [
    {
     "data": {
      "text/html": [
       "<div>\n",
       "<style scoped>\n",
       "    .dataframe tbody tr th:only-of-type {\n",
       "        vertical-align: middle;\n",
       "    }\n",
       "\n",
       "    .dataframe tbody tr th {\n",
       "        vertical-align: top;\n",
       "    }\n",
       "\n",
       "    .dataframe thead th {\n",
       "        text-align: right;\n",
       "    }\n",
       "</style>\n",
       "<table border=\"1\" class=\"dataframe\">\n",
       "  <thead>\n",
       "    <tr style=\"text-align: right;\">\n",
       "      <th>genre</th>\n",
       "      <th>Action</th>\n",
       "      <th>Adventure</th>\n",
       "      <th>Fighting</th>\n",
       "      <th>Misc</th>\n",
       "      <th>Platform</th>\n",
       "      <th>Puzzle</th>\n",
       "      <th>Racing</th>\n",
       "      <th>Role-Playing</th>\n",
       "      <th>Shooter</th>\n",
       "      <th>Simulation</th>\n",
       "      <th>Sports</th>\n",
       "      <th>Strategy</th>\n",
       "    </tr>\n",
       "    <tr>\n",
       "      <th>rating</th>\n",
       "      <th></th>\n",
       "      <th></th>\n",
       "      <th></th>\n",
       "      <th></th>\n",
       "      <th></th>\n",
       "      <th></th>\n",
       "      <th></th>\n",
       "      <th></th>\n",
       "      <th></th>\n",
       "      <th></th>\n",
       "      <th></th>\n",
       "      <th></th>\n",
       "    </tr>\n",
       "  </thead>\n",
       "  <tbody>\n",
       "    <tr>\n",
       "      <td>E</td>\n",
       "      <td>35</td>\n",
       "      <td>0</td>\n",
       "      <td>0</td>\n",
       "      <td>10</td>\n",
       "      <td>17</td>\n",
       "      <td>5</td>\n",
       "      <td>43</td>\n",
       "      <td>2</td>\n",
       "      <td>0</td>\n",
       "      <td>10</td>\n",
       "      <td>97</td>\n",
       "      <td>0</td>\n",
       "    </tr>\n",
       "    <tr>\n",
       "      <td>E10+</td>\n",
       "      <td>83</td>\n",
       "      <td>15</td>\n",
       "      <td>3</td>\n",
       "      <td>23</td>\n",
       "      <td>12</td>\n",
       "      <td>2</td>\n",
       "      <td>6</td>\n",
       "      <td>9</td>\n",
       "      <td>13</td>\n",
       "      <td>3</td>\n",
       "      <td>13</td>\n",
       "      <td>3</td>\n",
       "    </tr>\n",
       "    <tr>\n",
       "      <td>M</td>\n",
       "      <td>118</td>\n",
       "      <td>21</td>\n",
       "      <td>3</td>\n",
       "      <td>3</td>\n",
       "      <td>0</td>\n",
       "      <td>0</td>\n",
       "      <td>0</td>\n",
       "      <td>44</td>\n",
       "      <td>76</td>\n",
       "      <td>0</td>\n",
       "      <td>0</td>\n",
       "      <td>0</td>\n",
       "    </tr>\n",
       "    <tr>\n",
       "      <td>RP</td>\n",
       "      <td>296</td>\n",
       "      <td>136</td>\n",
       "      <td>22</td>\n",
       "      <td>61</td>\n",
       "      <td>5</td>\n",
       "      <td>7</td>\n",
       "      <td>16</td>\n",
       "      <td>114</td>\n",
       "      <td>17</td>\n",
       "      <td>22</td>\n",
       "      <td>29</td>\n",
       "      <td>24</td>\n",
       "    </tr>\n",
       "    <tr>\n",
       "      <td>T</td>\n",
       "      <td>87</td>\n",
       "      <td>13</td>\n",
       "      <td>32</td>\n",
       "      <td>16</td>\n",
       "      <td>4</td>\n",
       "      <td>0</td>\n",
       "      <td>4</td>\n",
       "      <td>52</td>\n",
       "      <td>22</td>\n",
       "      <td>9</td>\n",
       "      <td>22</td>\n",
       "      <td>10</td>\n",
       "    </tr>\n",
       "  </tbody>\n",
       "</table>\n",
       "</div>"
      ],
      "text/plain": [
       "genre   Action  Adventure  Fighting  Misc  Platform  Puzzle  Racing  \\\n",
       "rating                                                                \n",
       "E           35          0         0    10        17       5      43   \n",
       "E10+        83         15         3    23        12       2       6   \n",
       "M          118         21         3     3         0       0       0   \n",
       "RP         296        136        22    61         5       7      16   \n",
       "T           87         13        32    16         4       0       4   \n",
       "\n",
       "genre   Role-Playing  Shooter  Simulation  Sports  Strategy  \n",
       "rating                                                       \n",
       "E                  2        0          10      97         0  \n",
       "E10+               9       13           3      13         3  \n",
       "M                 44       76           0       0         0  \n",
       "RP               114       17          22      29        24  \n",
       "T                 52       22           9      22        10  "
      ]
     },
     "execution_count": 156,
     "metadata": {},
     "output_type": "execute_result"
    }
   ],
   "source": [
    "pivot_rating_by_genres = (\n",
    "    relevant_games_data\n",
    "    .pivot_table(index='rating', values='name', columns='genre', aggfunc='count', fill_value=0)\n",
    ")\n",
    "pivot_rating_by_genres"
   ]
  },
  {
   "cell_type": "markdown",
   "metadata": {},
   "source": [
    "### Вывод"
   ]
  },
  {
   "cell_type": "markdown",
   "metadata": {},
   "source": [
    "Исходя из полученных данных по пользователям различных регионов, можно сделать следующие выводы:\n",
    "- пользователи Северной Америки любят играть на *Sony PlayStation 4* и чуть меньше - на *XBox One* в экшн-игры, спортивные, шутеры, а также ролевые и игры жанра 'Misc' (\"Разное\"), при этом лучше продаются игры с рейтингом \"Для всех\" и \"Для взрослых\";\n",
    "- пользователи Европы в большинстве отдают предпочтение *Sony PlayStation 3*, жанры - те же, что и у американцев, только вместо жанра \"Разное\" - гонки, а среди игр по рейтингам доминируют игры для взрослых;\n",
    "- пользователи Японии - настоящие патриоты, так как в топ-5 только платформы, производимые японскими корпорациями *Nintendo* (3DS и WiiU) и *Sony* (PS4, PS3, PSV); их жанровые вкусы кардинально отличаются от остальных: японцы больше всего любят ролевые игры, следом идут экшн, единоборства и разное, и только на 5-м месте - шутеры; больше всего продаж приходится на игры \"Для всех\".\n",
    "\n",
    "Таким образом, рейтинг *ESRB* влияет на продажи в различных регионах, однако различия эти зависят и от жанровых предпочтений пользователей: например, рейтинг \"Для взрослых\" чаще других получают жанры `Action`, `Shooter` и `Role-Playing`, а поскольку во всех регионах эти жанры среди самых популярных, то и на долю игр с этим рейтингом приходятся большие продажи; при этом в Америке и Европе также в топе спортивный жанр, игры которого получают почти всего рейтинг \"Для всех\", поэтому в Америке объемы продаж игр с рейтингом `'E'` сравнимы с играми для взрослых. А в Японии преобладают игры \"Для всех\", при этом самый популярный жанр - ролевые игры, в которых почти нет игр с таким рейтингом. Похоже, что в экшн-играх, которые находятся на 2-м месте, а также в \"Разном\" большую долю составляют игры \"Для всех\".\n",
    "\n",
    "Также стоит сказать о том, что в силу наличия большого количества игр с рейтингом `'RP'`, который, по сути, означает отсутствие рейтинга, вышеперечисленные выводы сделаны с учетом допущения, что игры без рейтинга, будь у них этот самый рейтинг, никак не изменили бы результаты исследования. К сожалению, сделать наиболее точные выводы в данном случае не получится."
   ]
  },
  {
   "cell_type": "markdown",
   "metadata": {},
   "source": [
    "## Проверка гипотез"
   ]
  },
  {
   "cell_type": "markdown",
   "metadata": {},
   "source": [
    "### Средние пользовательские рейтинги платформ *Xbox One* и *PC* одинаковые\n",
    "\n",
    "За нулевую гипотезу возьмем исходную, а за альтернативную - противоположную ей. Чтобы исходная гипотеза подтвердилась, необходимо чтобы нулевая гипотеза не была отвергнута в результате проверки результата t-теста на уровень статистической значимости.\n",
    "\n",
    "Нулевая гипотеза:\n",
    "- **средние пользовательские рейтинги платформ *Xbox One* и *PC* одинаковые.**\n",
    "\n",
    "Альтернативная гипотеза:\n",
    "- **средние пользовательские рейтинги платформ *Xbox One* и *PC* различаются.**"
   ]
  },
  {
   "cell_type": "code",
   "execution_count": 157,
   "metadata": {},
   "outputs": [
    {
     "name": "stdout",
     "output_type": "stream",
     "text": [
      "Дисперсия оценок пользователей Xbox One: 1.89\n",
      "Дисперсия оценок пользователей PC: 2.90\n"
     ]
    }
   ],
   "source": [
    "pc_data = relevant_games_data.query('platform == \"PC\"')\n",
    "print('Дисперсия оценок пользователей Xbox One: %.2f' % np.var(xone_data['user_score'], ddof=1))\n",
    "print('Дисперсия оценок пользователей PC: %.2f' % np.var(pc_data['user_score'], ddof=1))"
   ]
  },
  {
   "cell_type": "markdown",
   "metadata": {},
   "source": [
    "Дисперсии не так сильно отличаются друг от друга, поэтому можем считать их примерно равными и не указывать параметр `equal_var=False`."
   ]
  },
  {
   "cell_type": "code",
   "execution_count": 158,
   "metadata": {},
   "outputs": [
    {
     "name": "stdout",
     "output_type": "stream",
     "text": [
      "p-значение: 0.10450507919348452\n",
      "Не получилось отвергнуть нулевую гипотезу.\n"
     ]
    }
   ],
   "source": [
    "alpha = .05\n",
    "results_1 = st.ttest_ind(xone_data['user_score'],\n",
    "                         pc_data['user_score'],\n",
    "                         nan_policy='omit') # указываем, чтобы игнорировать пропуски\n",
    "print('p-значение:', results_1.pvalue)\n",
    "if results_1.pvalue < alpha:\n",
    "    print('Нулевая гипотеза отвергнута в пользу альтернативной.')\n",
    "else:\n",
    "    print('Не получилось отвергнуть нулевую гипотезу.')"
   ]
  },
  {
   "cell_type": "markdown",
   "metadata": {},
   "source": [
    "Таким образом, вероятность получить такие или еще более значимые различия при условии, что исходная гипотеза верна, равна всего `1.3%`, то есть из 100 выборок только лишь в 1-2 средние пользовательские рейтинги этих платформ окажутся одинаковыми (со статистической точки зрения)."
   ]
  },
  {
   "cell_type": "markdown",
   "metadata": {},
   "source": [
    "### Средние пользовательские рейтинги жанров *Action* и *Sports* разные\n",
    "\n",
    "За альтернативную гипотезу возьмем исходную, а за нулевую - противоположную ей. Чтобы исходная гипотеза подтвердилась, необходимо чтобы нулевая гипотеза была отвергнута в пользу альтернативной.\n",
    "\n",
    "Нулевая гипотеза:\n",
    "- **средние пользовательские рейтинги жанров *Action* и *Sports* одинаковые.**\n",
    "\n",
    "Альтернативная гипотеза:\n",
    "- **средние пользовательские рейтинги жанров *Action* и *Sports* разные.**"
   ]
  },
  {
   "cell_type": "code",
   "execution_count": 159,
   "metadata": {},
   "outputs": [
    {
     "name": "stdout",
     "output_type": "stream",
     "text": [
      "Дисперсия оценок пользователей жанра Action: 1.90\n",
      "Дисперсия оценок пользователей жанра Sports: 3.45\n"
     ]
    }
   ],
   "source": [
    "action_data = relevant_games_data.query('genre == \"Action\"')\n",
    "sports_data = relevant_games_data.query('genre == \"Sports\"')\n",
    "print('Дисперсия оценок пользователей жанра Action: %.2f' % np.var(action_data['user_score'], ddof=1))\n",
    "print('Дисперсия оценок пользователей жанра Sports: %.2f' % np.var(sports_data['user_score'], ddof=1))"
   ]
  },
  {
   "cell_type": "markdown",
   "metadata": {},
   "source": [
    "Дисперсии отличаются сильнее, чем в предыдущем пункте, однако все еще не настолько серьезно, поэтому можем также не указывать параметр `equal_var=False`."
   ]
  },
  {
   "cell_type": "code",
   "execution_count": 160,
   "metadata": {},
   "outputs": [
    {
     "name": "stdout",
     "output_type": "stream",
     "text": [
      "p-значение: 2.87111479851055e-19\n",
      "Нулевая гипотеза отвергнута в пользу альтернативной.\n"
     ]
    }
   ],
   "source": [
    "alpha = .05\n",
    "results_2 = st.ttest_ind(action_data['user_score'],\n",
    "                         sports_data['user_score'],\n",
    "                         nan_policy='omit') # указываем, чтобы игнорировать пропуски\n",
    "print('p-значение:', results_2.pvalue)\n",
    "if results_2.pvalue < alpha:\n",
    "    print('Нулевая гипотеза отвергнута в пользу альтернативной.')\n",
    "else:\n",
    "    print('Не получилось отвергнуть нулевую гипотезу.')"
   ]
  },
  {
   "cell_type": "markdown",
   "metadata": {},
   "source": [
    "Получили крайне маленькое p-value, что говорит нам о том, что исходная гипотеза подтверждается - скорее всего, средние пользовательские рейтинги жанров `Action` и `Sports` действительно различаются, причем довольно сильно."
   ]
  },
  {
   "cell_type": "markdown",
   "metadata": {},
   "source": [
    "### Вывод"
   ]
  },
  {
   "cell_type": "markdown",
   "metadata": {},
   "source": [
    "Гипотезы были проверены, получены соответствующие выводы:\n",
    "1. Средние пользовательские рейтинги платформ *Xbox One* и *PC*, скорее всего, различаются, то есть исходная гипотеза отвергнута.\n",
    "2. Средние пользовательские рейтинги жанров *Action* и *Sports* действительно различны - исходная гипотеза подтвердилась."
   ]
  },
  {
   "cell_type": "markdown",
   "metadata": {},
   "source": [
    "## Общий вывод"
   ]
  },
  {
   "cell_type": "markdown",
   "metadata": {},
   "source": [
    "В процессе выполнения проекта:\n",
    "1. Были изучены данные в файле, определены проблемы;\n",
    "2. Данные были подготовлены:\n",
    "    - приведены к нижнему регистру названия столбцов\n",
    "    - заполнены пропуски\n",
    "    - обработаны аномалии\n",
    "    - преобразованы типы данных\n",
    "    - подсчитаны суммарные продажи игр и записаны в отдельный столбец\n",
    "3. Был проведен исследовательский анализ данных:\n",
    "    - подсчитаны количества выпущенных игр по годам, построена гистограмма\n",
    "    - подсчитаны объемы продаж игр по платформам, построены гистограммы для топ-6 самых популярных платформ\n",
    "    - определен актуальный период: с 2006 по 2016-й год\n",
    "    - определены потенциально прибыльные платформы: *PS4* и *Xbox One*\n",
    "    - исследовано влияние оценок критиков и пользователей на объемы продаж\n",
    "    - определены самые продаваемые и непродаваемые жанры игр\n",
    "4. Составлены портреты пользователей каждого региона:\n",
    "    - Северная Америка: самая популярная платформа - *Xbox 360*, жанр - *Action*, рейтинг - \"Для взрослых\"\n",
    "    - Европа: самая популярная платформа - *PS3*, жанр - *Action*, рейтинг - \"Для взрослых\"\n",
    "    - Япония: самая популярная платформа - *DS*, жанр - *Role-Playing*, рейтинг - \"Для всех\"\n",
    "5. Проверены гипотезы:\n",
    "    - средние пользовательские рейтинги платформ *Xbox One* и *PC* одинаковые - отвергнута\n",
    "    - средние пользовательские рейтинги жанров *Action* и *Sports* разные - подтверждена\n",
    "\n",
    "По итогам проделанной работы, могу выделить следующие ***факторы и закономерности, влияющие на успешность игры***:\n",
    "- **платформа**: как выяснили в ходе исследования, по состоянию на 2016-й год перспективными являются *PlayStation 4* от компании Sony и *Xbox One* от компании Microsoft, при этом они постоянно обновляют свои консоли и выпускают новые версии, так что если делать ставку на них, выше шанс успеха игры;\n",
    "- **жанр**: наиболее популярны игры в жанрах `Action`, `Sports` и `Shooter`, немного им уступают жанры `Misc` и `Role-Playing`;\n",
    "- **регион**: в Северной Америке больше играют на *Xbox* в игры жанров `Action`, `Sports` и `Shooter`, в Европе - на *PlayStation* в игры тех же жанров, а вот в Японии отдают предпочтение консолям от *Nintendo* - DS, 3DS и Wii, и играют на них в ролевые игры, экшн и разное;\n",
    "- **рейтинг**: игры с рейтингом \"Для взрослых\" более популярны в Северной Америке и Европе, а в Японии лучше продаются игры с рейтингом \"Для всех\"."
   ]
  },
  {
   "cell_type": "markdown",
   "metadata": {},
   "source": [
    "## Чек-лист готовности проекта"
   ]
  },
  {
   "cell_type": "markdown",
   "metadata": {},
   "source": [
    "- [x]  файл открыт\n",
    "- [x]  файл изучен\n",
    "- [x]  названия столбцов приведены к нижнему регистру\n",
    "- [x]  изменены типы данных\n",
    "- [x]  есть пояснение, в каких столбцах изменены типы и почему\n",
    "- [x]  заполнены пропуски в данных\n",
    "- [x]  есть пояснение, в каких столбцах заполнены пропуски, а в каких нет, и почему\n",
    "- [x]  описаны возможные причины пропусков\n",
    "- [x]  обработано значение *'tbd'* в столбце с оценкой пользователей\n",
    "- [x]  исправлены прочие ошибки в данных\n",
    "- [x]  есть пояснение, в каких столбцах исправлены ошибки, какие это ошибки и почему исправлены\n",
    "- [x]  посчитаны суммарные продажи во всех регионах и записаны в отдельный столбец\n",
    "- [x]  выполнено задание: \"Посмотрите, сколько игр выпускалось в разные годы. Важны ли данные за все периоды?\"\n",
    "- [x]  выполнено задание: \"Посмотрите, как менялись продажи по платформам. Выберите платформы с наибольшими суммарными продажами и постройте распределение по годам. За какой характерный срок появляются новые и исчезают старые платформы?\"\n",
    "- [x]  определен актуальный период, взяты данные для анализа только за этот период\n",
    "- [x]  выполнено задание: \"Какие платформы лидируют по продажам, растут или падают? Выберите несколько потенциально прибыльных платформ.\"\n",
    "- [x]  выполнено задание: \"Постройте график «ящик с усами» по глобальным продажам игр в разбивке по платформам. Опишите результат.\"\n",
    "- [x]  выполнено задание: \"Посмотрите, как влияют на продажи внутри одной популярной платформы отзывы пользователей и критиков. Постройте диаграмму рассеяния и посчитайте корреляцию между отзывами и продажами. Сформулируйте выводы.\"\n",
    "- [x]  выполнено задание: \"Соотнесите выводы с продажами игр на других платформах.\"\n",
    "- [x]  выполнено задание: \"Посмотрите на общее распределение игр по жанрам. Что можно сказать о самых прибыльных жанрах? Выделяются ли жанры с высокими и низкими продажами?\"\n",
    "- [x]  определены для пользователя каждого региона самые популярные платформы (топ-5), описаны различия в долях продаж\n",
    "- [x]  определены для пользователя каждого региона самые популярные жанры (топ-5), пояснена разница\n",
    "- [x]  дан ответ на вопрос: \"Влияет ли рейтинг ESRB на продажи в отдельном регионе?\"\n",
    "- [x]  проверена гипотеза: \"Средние пользовательские рейтинги платформ *Xbox One* и *PC* одинаковые.\"\n",
    "- [x]  проверена гипотеза: \"Средние пользовательские рейтинги жанров *Action* и *Sports* разные.\"\n",
    "- [x]  есть пояснение, как были сформулированы нулевая и альтернативная гипотезы\n",
    "- [x]  есть пояснение, какой критерий был использован для проверки гипотез и почему\n",
    "- [x]  в каждом этапе есть выводы\n",
    "- [x]  есть общий вывод"
   ]
  }
 ],
 "metadata": {
  "ExecuteTimeLog": [
   {
    "duration": 910,
    "start_time": "2022-01-14T13:34:44.029Z"
   },
   {
    "duration": 51,
    "start_time": "2022-01-14T13:34:45.722Z"
   },
   {
    "duration": 4,
    "start_time": "2022-01-14T13:34:48.420Z"
   },
   {
    "duration": 36,
    "start_time": "2022-01-14T13:34:49.540Z"
   },
   {
    "duration": 962,
    "start_time": "2022-01-15T12:11:02.883Z"
   },
   {
    "duration": 56,
    "start_time": "2022-01-15T12:11:03.848Z"
   },
   {
    "duration": 5,
    "start_time": "2022-01-15T12:11:03.907Z"
   },
   {
    "duration": 56,
    "start_time": "2022-01-15T12:11:03.914Z"
   },
   {
    "duration": 11,
    "start_time": "2022-01-15T12:11:07.801Z"
   },
   {
    "duration": 20,
    "start_time": "2022-01-15T12:14:30.026Z"
   },
   {
    "duration": 805,
    "start_time": "2022-01-15T12:31:03.562Z"
   },
   {
    "duration": 23,
    "start_time": "2022-01-15T12:31:31.086Z"
   },
   {
    "duration": 33,
    "start_time": "2022-01-15T12:31:56.130Z"
   },
   {
    "duration": 24,
    "start_time": "2022-01-15T12:33:06.416Z"
   },
   {
    "duration": 19,
    "start_time": "2022-01-15T12:33:27.241Z"
   },
   {
    "duration": 15,
    "start_time": "2022-01-15T12:35:04.072Z"
   },
   {
    "duration": 21,
    "start_time": "2022-01-15T12:53:58.883Z"
   },
   {
    "duration": 22,
    "start_time": "2022-01-15T12:54:08.148Z"
   },
   {
    "duration": 4,
    "start_time": "2022-01-15T12:54:59.871Z"
   },
   {
    "duration": 50,
    "start_time": "2022-01-15T12:54:59.878Z"
   },
   {
    "duration": 5,
    "start_time": "2022-01-15T12:54:59.931Z"
   },
   {
    "duration": 33,
    "start_time": "2022-01-15T12:54:59.940Z"
   },
   {
    "duration": 7,
    "start_time": "2022-01-15T12:55:00.000Z"
   },
   {
    "duration": 20,
    "start_time": "2022-01-15T12:55:00.010Z"
   },
   {
    "duration": 16,
    "start_time": "2022-01-15T12:55:00.033Z"
   },
   {
    "duration": 65,
    "start_time": "2022-01-15T12:55:00.052Z"
   },
   {
    "duration": 17,
    "start_time": "2022-01-15T13:00:27.078Z"
   },
   {
    "duration": 14,
    "start_time": "2022-01-15T13:00:47.130Z"
   },
   {
    "duration": 23,
    "start_time": "2022-01-15T13:06:49.145Z"
   },
   {
    "duration": 16,
    "start_time": "2022-01-15T13:11:37.555Z"
   },
   {
    "duration": 28,
    "start_time": "2022-01-15T13:12:02.761Z"
   },
   {
    "duration": 8,
    "start_time": "2022-01-15T13:49:38.464Z"
   },
   {
    "duration": 31,
    "start_time": "2022-01-15T13:49:53.699Z"
   },
   {
    "duration": 1146,
    "start_time": "2022-01-15T13:54:09.354Z"
   },
   {
    "duration": 5,
    "start_time": "2022-01-15T13:54:20.904Z"
   },
   {
    "duration": 85,
    "start_time": "2022-01-15T13:54:20.912Z"
   },
   {
    "duration": 4,
    "start_time": "2022-01-15T13:54:21.000Z"
   },
   {
    "duration": 45,
    "start_time": "2022-01-15T13:54:21.007Z"
   },
   {
    "duration": 9,
    "start_time": "2022-01-15T13:54:21.055Z"
   },
   {
    "duration": 27,
    "start_time": "2022-01-15T13:54:23.294Z"
   },
   {
    "duration": 16,
    "start_time": "2022-01-15T14:17:23.201Z"
   },
   {
    "duration": 566,
    "start_time": "2022-01-15T14:25:25.977Z"
   },
   {
    "duration": 9,
    "start_time": "2022-01-15T14:47:08.027Z"
   },
   {
    "duration": 29,
    "start_time": "2022-01-15T14:47:22.030Z"
   },
   {
    "duration": 410,
    "start_time": "2022-01-15T14:47:43.166Z"
   },
   {
    "duration": 57,
    "start_time": "2022-01-15T14:47:48.870Z"
   },
   {
    "duration": 28,
    "start_time": "2022-01-15T14:50:15.463Z"
   },
   {
    "duration": 3,
    "start_time": "2022-01-15T14:50:56.153Z"
   },
   {
    "duration": 51,
    "start_time": "2022-01-15T14:50:56.159Z"
   },
   {
    "duration": 4,
    "start_time": "2022-01-15T14:50:56.213Z"
   },
   {
    "duration": 32,
    "start_time": "2022-01-15T14:50:56.220Z"
   },
   {
    "duration": 6,
    "start_time": "2022-01-15T14:50:56.255Z"
   },
   {
    "duration": 62,
    "start_time": "2022-01-15T14:50:56.264Z"
   },
   {
    "duration": 20,
    "start_time": "2022-01-15T14:50:56.328Z"
   },
   {
    "duration": 57,
    "start_time": "2022-01-15T14:50:56.350Z"
   },
   {
    "duration": 26,
    "start_time": "2022-01-15T14:50:56.410Z"
   },
   {
    "duration": 11,
    "start_time": "2022-01-15T14:50:56.438Z"
   },
   {
    "duration": 517,
    "start_time": "2022-01-15T14:50:56.501Z"
   },
   {
    "duration": 21,
    "start_time": "2022-01-15T14:51:00.117Z"
   },
   {
    "duration": 19,
    "start_time": "2022-01-15T14:51:24.766Z"
   },
   {
    "duration": 22,
    "start_time": "2022-01-15T14:51:56.391Z"
   },
   {
    "duration": 25,
    "start_time": "2022-01-15T14:52:01.158Z"
   },
   {
    "duration": 21,
    "start_time": "2022-01-15T14:57:26.574Z"
   },
   {
    "duration": 11,
    "start_time": "2022-01-15T15:04:16.650Z"
   },
   {
    "duration": 19,
    "start_time": "2022-01-15T15:08:21.872Z"
   },
   {
    "duration": 18,
    "start_time": "2022-01-15T15:14:22.671Z"
   },
   {
    "duration": 10,
    "start_time": "2022-01-15T17:26:49.044Z"
   },
   {
    "duration": 30,
    "start_time": "2022-01-15T17:29:32.160Z"
   },
   {
    "duration": 33,
    "start_time": "2022-01-15T18:47:01.223Z"
   },
   {
    "duration": 15,
    "start_time": "2022-01-15T18:47:42.457Z"
   },
   {
    "duration": 423,
    "start_time": "2022-01-15T19:08:18.842Z"
   },
   {
    "duration": 464,
    "start_time": "2022-01-15T19:10:03.861Z"
   },
   {
    "duration": 342,
    "start_time": "2022-01-15T19:10:21.958Z"
   },
   {
    "duration": 446,
    "start_time": "2022-01-15T19:10:38.763Z"
   },
   {
    "duration": 431,
    "start_time": "2022-01-15T19:10:51.552Z"
   },
   {
    "duration": 407,
    "start_time": "2022-01-15T19:13:13.942Z"
   },
   {
    "duration": 442,
    "start_time": "2022-01-15T19:15:26.958Z"
   },
   {
    "duration": 504,
    "start_time": "2022-01-15T19:16:16.533Z"
   },
   {
    "duration": 8,
    "start_time": "2022-01-15T19:32:43.628Z"
   },
   {
    "duration": 387,
    "start_time": "2022-01-15T19:33:55.342Z"
   },
   {
    "duration": 16,
    "start_time": "2022-01-15T19:34:01.217Z"
   },
   {
    "duration": 16,
    "start_time": "2022-01-15T19:34:09.000Z"
   },
   {
    "duration": -2412,
    "start_time": "2022-01-15T19:34:27.749Z"
   },
   {
    "duration": 397,
    "start_time": "2022-01-15T19:34:27.943Z"
   },
   {
    "duration": 9,
    "start_time": "2022-01-15T19:34:40.541Z"
   },
   {
    "duration": 7,
    "start_time": "2022-01-15T19:40:42.256Z"
   },
   {
    "duration": 8,
    "start_time": "2022-01-15T19:41:13.927Z"
   },
   {
    "duration": 6,
    "start_time": "2022-01-15T19:45:18.927Z"
   },
   {
    "duration": 6,
    "start_time": "2022-01-15T19:45:29.751Z"
   },
   {
    "duration": 6,
    "start_time": "2022-01-15T19:57:11.324Z"
   },
   {
    "duration": 33,
    "start_time": "2022-01-15T19:57:26.928Z"
   },
   {
    "duration": 21,
    "start_time": "2022-01-15T19:58:51.268Z"
   },
   {
    "duration": 404,
    "start_time": "2022-01-15T19:59:55.578Z"
   },
   {
    "duration": 21,
    "start_time": "2022-01-15T20:06:40.771Z"
   },
   {
    "duration": 21,
    "start_time": "2022-01-15T20:06:52.833Z"
   },
   {
    "duration": 23,
    "start_time": "2022-01-15T20:07:10.827Z"
   },
   {
    "duration": 847,
    "start_time": "2022-01-16T07:52:50.395Z"
   },
   {
    "duration": 49,
    "start_time": "2022-01-16T07:52:51.244Z"
   },
   {
    "duration": 4,
    "start_time": "2022-01-16T07:52:51.296Z"
   },
   {
    "duration": 41,
    "start_time": "2022-01-16T07:52:51.303Z"
   },
   {
    "duration": 7,
    "start_time": "2022-01-16T07:52:51.367Z"
   },
   {
    "duration": 636,
    "start_time": "2022-01-16T07:52:51.377Z"
   },
   {
    "duration": 22,
    "start_time": "2022-01-16T07:52:52.016Z"
   },
   {
    "duration": 38,
    "start_time": "2022-01-16T07:52:52.040Z"
   },
   {
    "duration": 25,
    "start_time": "2022-01-16T07:52:52.082Z"
   },
   {
    "duration": 11,
    "start_time": "2022-01-16T07:52:52.109Z"
   },
   {
    "duration": 493,
    "start_time": "2022-01-16T07:52:52.166Z"
   },
   {
    "duration": 24,
    "start_time": "2022-01-16T07:52:52.662Z"
   },
   {
    "duration": 21,
    "start_time": "2022-01-16T07:52:52.688Z"
   },
   {
    "duration": 55,
    "start_time": "2022-01-16T07:52:52.711Z"
   },
   {
    "duration": 12,
    "start_time": "2022-01-16T07:52:52.768Z"
   },
   {
    "duration": 22,
    "start_time": "2022-01-16T07:52:52.782Z"
   },
   {
    "duration": 18,
    "start_time": "2022-01-16T07:52:52.807Z"
   },
   {
    "duration": 10,
    "start_time": "2022-01-16T07:52:52.867Z"
   },
   {
    "duration": 26,
    "start_time": "2022-01-16T07:52:52.879Z"
   },
   {
    "duration": 18,
    "start_time": "2022-01-16T07:52:52.907Z"
   },
   {
    "duration": 427,
    "start_time": "2022-01-16T07:52:52.968Z"
   },
   {
    "duration": 6,
    "start_time": "2022-01-16T07:52:53.397Z"
   },
   {
    "duration": 51,
    "start_time": "2022-01-16T07:52:53.405Z"
   },
   {
    "duration": 555,
    "start_time": "2022-01-16T08:10:41.551Z"
   },
   {
    "duration": 7023,
    "start_time": "2022-01-16T08:10:59.848Z"
   },
   {
    "duration": 33,
    "start_time": "2022-01-16T08:13:38.905Z"
   },
   {
    "duration": 24,
    "start_time": "2022-01-16T08:14:33.344Z"
   },
   {
    "duration": 6,
    "start_time": "2022-01-16T08:18:02.360Z"
   },
   {
    "duration": 6,
    "start_time": "2022-01-16T08:18:21.695Z"
   },
   {
    "duration": 25,
    "start_time": "2022-01-16T08:31:05.815Z"
   },
   {
    "duration": 7778,
    "start_time": "2022-01-16T08:31:10.241Z"
   },
   {
    "duration": 108,
    "start_time": "2022-01-16T08:35:06.127Z"
   },
   {
    "duration": 2313,
    "start_time": "2022-01-16T08:35:13.263Z"
   },
   {
    "duration": 2401,
    "start_time": "2022-01-16T08:40:55.225Z"
   },
   {
    "duration": 7540,
    "start_time": "2022-01-16T08:47:59.894Z"
   },
   {
    "duration": 2132,
    "start_time": "2022-01-16T08:48:27.098Z"
   },
   {
    "duration": 2124,
    "start_time": "2022-01-16T08:49:20.167Z"
   },
   {
    "duration": 1925,
    "start_time": "2022-01-16T08:50:29.174Z"
   },
   {
    "duration": 2003,
    "start_time": "2022-01-16T08:51:29.493Z"
   },
   {
    "duration": 1721,
    "start_time": "2022-01-16T08:52:04.754Z"
   },
   {
    "duration": 17,
    "start_time": "2022-01-16T08:54:27.012Z"
   },
   {
    "duration": 451,
    "start_time": "2022-01-16T08:54:49.118Z"
   },
   {
    "duration": 296,
    "start_time": "2022-01-16T08:55:02.292Z"
   },
   {
    "duration": 346,
    "start_time": "2022-01-16T08:55:10.004Z"
   },
   {
    "duration": 3613,
    "start_time": "2022-01-16T08:55:38.709Z"
   },
   {
    "duration": 3810,
    "start_time": "2022-01-16T08:55:55.101Z"
   },
   {
    "duration": 2382,
    "start_time": "2022-01-16T08:56:14.191Z"
   },
   {
    "duration": 1898,
    "start_time": "2022-01-16T08:56:54.696Z"
   },
   {
    "duration": 3121,
    "start_time": "2022-01-16T08:59:55.768Z"
   },
   {
    "duration": 2421,
    "start_time": "2022-01-16T09:00:56.706Z"
   },
   {
    "duration": 24,
    "start_time": "2022-01-16T09:46:56.978Z"
   },
   {
    "duration": 27,
    "start_time": "2022-01-16T09:47:08.534Z"
   },
   {
    "duration": 26,
    "start_time": "2022-01-16T09:47:19.183Z"
   },
   {
    "duration": 338,
    "start_time": "2022-01-16T10:05:24.140Z"
   },
   {
    "duration": 7554,
    "start_time": "2022-01-16T10:05:52.125Z"
   },
   {
    "duration": 343,
    "start_time": "2022-01-16T10:06:18.692Z"
   },
   {
    "duration": 22,
    "start_time": "2022-01-16T10:06:39.268Z"
   },
   {
    "duration": 894,
    "start_time": "2022-01-16T12:54:42.930Z"
   },
   {
    "duration": 48,
    "start_time": "2022-01-16T12:54:43.827Z"
   },
   {
    "duration": 3,
    "start_time": "2022-01-16T12:54:43.878Z"
   },
   {
    "duration": 39,
    "start_time": "2022-01-16T12:54:43.884Z"
   },
   {
    "duration": 6,
    "start_time": "2022-01-16T12:54:43.925Z"
   },
   {
    "duration": 757,
    "start_time": "2022-01-16T12:54:43.933Z"
   },
   {
    "duration": 22,
    "start_time": "2022-01-16T12:54:44.692Z"
   },
   {
    "duration": 15,
    "start_time": "2022-01-16T12:54:44.718Z"
   },
   {
    "duration": 24,
    "start_time": "2022-01-16T12:54:44.764Z"
   },
   {
    "duration": 10,
    "start_time": "2022-01-16T12:54:44.790Z"
   },
   {
    "duration": 536,
    "start_time": "2022-01-16T12:54:44.802Z"
   },
   {
    "duration": 27,
    "start_time": "2022-01-16T12:54:45.341Z"
   },
   {
    "duration": 20,
    "start_time": "2022-01-16T12:54:45.371Z"
   },
   {
    "duration": 16,
    "start_time": "2022-01-16T12:54:45.393Z"
   },
   {
    "duration": 11,
    "start_time": "2022-01-16T12:54:45.411Z"
   },
   {
    "duration": 51,
    "start_time": "2022-01-16T12:54:45.424Z"
   },
   {
    "duration": 16,
    "start_time": "2022-01-16T12:54:45.478Z"
   },
   {
    "duration": 10,
    "start_time": "2022-01-16T12:54:45.496Z"
   },
   {
    "duration": 61,
    "start_time": "2022-01-16T12:54:45.508Z"
   },
   {
    "duration": 20,
    "start_time": "2022-01-16T12:54:45.572Z"
   },
   {
    "duration": 443,
    "start_time": "2022-01-16T12:54:45.595Z"
   },
   {
    "duration": 7,
    "start_time": "2022-01-16T12:54:46.042Z"
   },
   {
    "duration": 23,
    "start_time": "2022-01-16T12:54:46.067Z"
   },
   {
    "duration": 24,
    "start_time": "2022-01-16T12:54:46.093Z"
   },
   {
    "duration": 2327,
    "start_time": "2022-01-16T12:54:46.119Z"
   },
   {
    "duration": 35,
    "start_time": "2022-01-16T12:54:48.448Z"
   },
   {
    "duration": 22,
    "start_time": "2022-01-16T13:06:52.885Z"
   },
   {
    "duration": 24,
    "start_time": "2022-01-16T13:22:13.801Z"
   },
   {
    "duration": 23,
    "start_time": "2022-01-16T13:22:39.318Z"
   },
   {
    "duration": 3080,
    "start_time": "2022-01-16T13:35:54.843Z"
   },
   {
    "duration": 2973,
    "start_time": "2022-01-16T13:40:52.870Z"
   },
   {
    "duration": 349,
    "start_time": "2022-01-16T13:48:55.566Z"
   },
   {
    "duration": 280,
    "start_time": "2022-01-16T13:49:25.842Z"
   },
   {
    "duration": 458,
    "start_time": "2022-01-16T13:50:48.090Z"
   },
   {
    "duration": 4,
    "start_time": "2022-01-16T13:51:36.971Z"
   },
   {
    "duration": 48,
    "start_time": "2022-01-16T13:51:36.977Z"
   },
   {
    "duration": 3,
    "start_time": "2022-01-16T13:51:37.028Z"
   },
   {
    "duration": 52,
    "start_time": "2022-01-16T13:51:37.034Z"
   },
   {
    "duration": 6,
    "start_time": "2022-01-16T13:51:37.089Z"
   },
   {
    "duration": 27,
    "start_time": "2022-01-16T13:51:37.097Z"
   },
   {
    "duration": 51,
    "start_time": "2022-01-16T13:51:37.127Z"
   },
   {
    "duration": 17,
    "start_time": "2022-01-16T13:51:37.180Z"
   },
   {
    "duration": 25,
    "start_time": "2022-01-16T13:51:37.201Z"
   },
   {
    "duration": 13,
    "start_time": "2022-01-16T13:51:37.264Z"
   },
   {
    "duration": 516,
    "start_time": "2022-01-16T13:51:37.280Z"
   },
   {
    "duration": 19,
    "start_time": "2022-01-16T13:51:37.799Z"
   },
   {
    "duration": 44,
    "start_time": "2022-01-16T13:51:37.820Z"
   },
   {
    "duration": 22,
    "start_time": "2022-01-16T13:51:37.867Z"
   },
   {
    "duration": 10,
    "start_time": "2022-01-16T13:51:37.892Z"
   },
   {
    "duration": 18,
    "start_time": "2022-01-16T13:51:37.904Z"
   },
   {
    "duration": 51,
    "start_time": "2022-01-16T13:51:37.925Z"
   },
   {
    "duration": 12,
    "start_time": "2022-01-16T13:51:37.979Z"
   },
   {
    "duration": 24,
    "start_time": "2022-01-16T13:51:37.994Z"
   },
   {
    "duration": 57,
    "start_time": "2022-01-16T13:51:38.021Z"
   },
   {
    "duration": 434,
    "start_time": "2022-01-16T13:51:38.080Z"
   },
   {
    "duration": 6,
    "start_time": "2022-01-16T13:51:38.516Z"
   },
   {
    "duration": 42,
    "start_time": "2022-01-16T13:51:38.524Z"
   },
   {
    "duration": 24,
    "start_time": "2022-01-16T13:51:38.568Z"
   },
   {
    "duration": 2348,
    "start_time": "2022-01-16T13:51:38.595Z"
   },
   {
    "duration": 39,
    "start_time": "2022-01-16T13:51:40.946Z"
   },
   {
    "duration": 19,
    "start_time": "2022-01-16T13:51:40.990Z"
   },
   {
    "duration": 53,
    "start_time": "2022-01-16T13:51:41.012Z"
   },
   {
    "duration": 1947,
    "start_time": "2022-01-16T13:51:41.067Z"
   },
   {
    "duration": 303,
    "start_time": "2022-01-16T13:51:43.016Z"
   },
   {
    "duration": 1385,
    "start_time": "2022-01-16T14:10:33.112Z"
   },
   {
    "duration": 668,
    "start_time": "2022-01-16T14:10:39.820Z"
   },
   {
    "duration": 10,
    "start_time": "2022-01-16T14:19:56.378Z"
   },
   {
    "duration": 906,
    "start_time": "2022-01-16T14:43:55.733Z"
   },
   {
    "duration": 806,
    "start_time": "2022-01-16T14:49:19.058Z"
   },
   {
    "duration": 14,
    "start_time": "2022-01-16T14:49:26.636Z"
   },
   {
    "duration": 9,
    "start_time": "2022-01-16T14:50:25.456Z"
   },
   {
    "duration": 12,
    "start_time": "2022-01-16T14:51:39.258Z"
   },
   {
    "duration": 790,
    "start_time": "2022-01-16T15:12:50.808Z"
   },
   {
    "duration": 18,
    "start_time": "2022-01-16T15:13:09.293Z"
   },
   {
    "duration": 1198,
    "start_time": "2022-01-16T15:36:57.408Z"
   },
   {
    "duration": 18,
    "start_time": "2022-01-16T15:37:13.673Z"
   },
   {
    "duration": 16,
    "start_time": "2022-01-16T15:59:27.888Z"
   },
   {
    "duration": 17,
    "start_time": "2022-01-16T16:00:05.866Z"
   },
   {
    "duration": 17,
    "start_time": "2022-01-16T16:00:16.721Z"
   },
   {
    "duration": 25,
    "start_time": "2022-01-16T16:00:24.426Z"
   },
   {
    "duration": 454,
    "start_time": "2022-01-16T16:29:28.180Z"
   },
   {
    "duration": 32,
    "start_time": "2022-01-16T16:29:44.241Z"
   },
   {
    "duration": 347,
    "start_time": "2022-01-16T16:30:07.066Z"
   },
   {
    "duration": 34,
    "start_time": "2022-01-16T16:30:19.456Z"
   },
   {
    "duration": 329,
    "start_time": "2022-01-16T16:32:41.432Z"
   },
   {
    "duration": 339,
    "start_time": "2022-01-16T16:32:45.554Z"
   },
   {
    "duration": 38,
    "start_time": "2022-01-16T16:33:04.586Z"
   },
   {
    "duration": 29,
    "start_time": "2022-01-16T16:34:03.251Z"
   },
   {
    "duration": 363,
    "start_time": "2022-01-16T16:37:52.801Z"
   },
   {
    "duration": 349,
    "start_time": "2022-01-16T16:38:59.960Z"
   },
   {
    "duration": 1016,
    "start_time": "2022-01-16T16:39:45.033Z"
   },
   {
    "duration": 383,
    "start_time": "2022-01-16T16:40:58.877Z"
   },
   {
    "duration": 38,
    "start_time": "2022-01-16T16:41:05.736Z"
   },
   {
    "duration": 31,
    "start_time": "2022-01-16T16:41:28.660Z"
   },
   {
    "duration": 31,
    "start_time": "2022-01-16T16:42:14.470Z"
   },
   {
    "duration": 31,
    "start_time": "2022-01-16T16:42:37.317Z"
   },
   {
    "duration": 32,
    "start_time": "2022-01-16T16:42:46.425Z"
   },
   {
    "duration": 728,
    "start_time": "2022-01-17T07:37:30.014Z"
   },
   {
    "duration": 792,
    "start_time": "2022-01-17T07:37:39.139Z"
   },
   {
    "duration": 56,
    "start_time": "2022-01-17T07:37:39.932Z"
   },
   {
    "duration": 3,
    "start_time": "2022-01-17T07:37:39.990Z"
   },
   {
    "duration": 26,
    "start_time": "2022-01-17T07:37:39.994Z"
   },
   {
    "duration": 4,
    "start_time": "2022-01-17T07:37:40.022Z"
   },
   {
    "duration": 660,
    "start_time": "2022-01-17T07:37:40.027Z"
   },
   {
    "duration": 15,
    "start_time": "2022-01-17T07:37:40.689Z"
   },
   {
    "duration": 18,
    "start_time": "2022-01-17T07:37:40.706Z"
   },
   {
    "duration": 55,
    "start_time": "2022-01-17T07:37:40.726Z"
   },
   {
    "duration": 22,
    "start_time": "2022-01-17T07:37:40.783Z"
   },
   {
    "duration": 323,
    "start_time": "2022-01-17T07:37:40.807Z"
   },
   {
    "duration": 23,
    "start_time": "2022-01-17T07:37:41.132Z"
   },
   {
    "duration": 20,
    "start_time": "2022-01-17T07:37:41.157Z"
   },
   {
    "duration": 24,
    "start_time": "2022-01-17T07:37:41.179Z"
   },
   {
    "duration": 8,
    "start_time": "2022-01-17T07:37:41.204Z"
   },
   {
    "duration": 40,
    "start_time": "2022-01-17T07:37:41.214Z"
   },
   {
    "duration": 25,
    "start_time": "2022-01-17T07:37:41.256Z"
   },
   {
    "duration": 24,
    "start_time": "2022-01-17T07:37:41.282Z"
   },
   {
    "duration": 26,
    "start_time": "2022-01-17T07:37:41.307Z"
   },
   {
    "duration": 29,
    "start_time": "2022-01-17T07:37:41.334Z"
   },
   {
    "duration": 259,
    "start_time": "2022-01-17T07:37:41.365Z"
   },
   {
    "duration": 5,
    "start_time": "2022-01-17T07:37:41.626Z"
   },
   {
    "duration": 21,
    "start_time": "2022-01-17T07:37:41.643Z"
   },
   {
    "duration": 15,
    "start_time": "2022-01-17T07:37:41.666Z"
   },
   {
    "duration": 1524,
    "start_time": "2022-01-17T07:37:41.683Z"
   },
   {
    "duration": 18,
    "start_time": "2022-01-17T07:37:43.209Z"
   },
   {
    "duration": 31,
    "start_time": "2022-01-17T07:37:43.228Z"
   },
   {
    "duration": 32,
    "start_time": "2022-01-17T07:37:43.261Z"
   },
   {
    "duration": 1158,
    "start_time": "2022-01-17T07:37:43.295Z"
   },
   {
    "duration": 363,
    "start_time": "2022-01-17T07:37:44.455Z"
   },
   {
    "duration": 5,
    "start_time": "2022-01-17T07:37:44.820Z"
   },
   {
    "duration": 625,
    "start_time": "2022-01-17T07:37:44.827Z"
   },
   {
    "duration": 10,
    "start_time": "2022-01-17T07:37:45.455Z"
   },
   {
    "duration": 654,
    "start_time": "2022-01-17T07:37:45.467Z"
   },
   {
    "duration": 9,
    "start_time": "2022-01-17T07:37:46.123Z"
   },
   {
    "duration": 35,
    "start_time": "2022-01-17T07:37:46.141Z"
   },
   {
    "duration": 14,
    "start_time": "2022-01-17T07:37:46.178Z"
   },
   {
    "duration": 9,
    "start_time": "2022-01-17T07:39:29.667Z"
   },
   {
    "duration": 3,
    "start_time": "2022-01-17T07:44:27.635Z"
   },
   {
    "duration": 11,
    "start_time": "2022-01-17T07:44:29.933Z"
   },
   {
    "duration": 10,
    "start_time": "2022-01-17T07:44:49.123Z"
   },
   {
    "duration": 11,
    "start_time": "2022-01-17T07:46:08.091Z"
   },
   {
    "duration": 10,
    "start_time": "2022-01-17T07:46:54.396Z"
   },
   {
    "duration": 9,
    "start_time": "2022-01-17T07:51:02.009Z"
   },
   {
    "duration": 13,
    "start_time": "2022-01-17T07:51:52.941Z"
   },
   {
    "duration": 210,
    "start_time": "2022-01-17T09:15:56.647Z"
   },
   {
    "duration": 253,
    "start_time": "2022-01-17T09:17:26.850Z"
   },
   {
    "duration": 216,
    "start_time": "2022-01-17T09:17:35.502Z"
   },
   {
    "duration": 226,
    "start_time": "2022-01-17T09:17:41.739Z"
   },
   {
    "duration": 214,
    "start_time": "2022-01-17T09:17:53.830Z"
   },
   {
    "duration": 213,
    "start_time": "2022-01-17T09:19:49.213Z"
   },
   {
    "duration": 214,
    "start_time": "2022-01-17T09:20:36.558Z"
   },
   {
    "duration": 218,
    "start_time": "2022-01-17T09:21:09.614Z"
   },
   {
    "duration": 215,
    "start_time": "2022-01-17T09:21:17.070Z"
   },
   {
    "duration": 303,
    "start_time": "2022-01-17T09:21:24.455Z"
   },
   {
    "duration": 217,
    "start_time": "2022-01-17T09:22:08.340Z"
   },
   {
    "duration": 7,
    "start_time": "2022-01-17T09:23:10.156Z"
   },
   {
    "duration": 7,
    "start_time": "2022-01-17T09:23:57.742Z"
   },
   {
    "duration": 8,
    "start_time": "2022-01-17T09:25:05.316Z"
   },
   {
    "duration": 3,
    "start_time": "2022-01-17T09:25:16.118Z"
   },
   {
    "duration": 45,
    "start_time": "2022-01-17T09:25:16.123Z"
   },
   {
    "duration": 2,
    "start_time": "2022-01-17T09:25:16.171Z"
   },
   {
    "duration": 25,
    "start_time": "2022-01-17T09:25:16.175Z"
   },
   {
    "duration": 5,
    "start_time": "2022-01-17T09:25:16.202Z"
   },
   {
    "duration": 40,
    "start_time": "2022-01-17T09:25:16.209Z"
   },
   {
    "duration": 13,
    "start_time": "2022-01-17T09:25:16.253Z"
   },
   {
    "duration": 14,
    "start_time": "2022-01-17T09:25:16.267Z"
   },
   {
    "duration": 14,
    "start_time": "2022-01-17T09:25:16.282Z"
   },
   {
    "duration": 6,
    "start_time": "2022-01-17T09:25:16.298Z"
   },
   {
    "duration": 333,
    "start_time": "2022-01-17T09:25:16.305Z"
   },
   {
    "duration": 23,
    "start_time": "2022-01-17T09:25:16.640Z"
   },
   {
    "duration": 28,
    "start_time": "2022-01-17T09:25:16.665Z"
   },
   {
    "duration": 10,
    "start_time": "2022-01-17T09:25:16.694Z"
   },
   {
    "duration": 14,
    "start_time": "2022-01-17T09:25:16.706Z"
   },
   {
    "duration": 7,
    "start_time": "2022-01-17T09:25:19.302Z"
   },
   {
    "duration": 10,
    "start_time": "2022-01-17T09:35:38.841Z"
   },
   {
    "duration": 3,
    "start_time": "2022-01-17T09:36:28.313Z"
   },
   {
    "duration": 51,
    "start_time": "2022-01-17T09:36:28.317Z"
   },
   {
    "duration": 2,
    "start_time": "2022-01-17T09:36:28.370Z"
   },
   {
    "duration": 23,
    "start_time": "2022-01-17T09:36:28.374Z"
   },
   {
    "duration": 4,
    "start_time": "2022-01-17T09:36:28.399Z"
   },
   {
    "duration": 41,
    "start_time": "2022-01-17T09:36:28.405Z"
   },
   {
    "duration": 13,
    "start_time": "2022-01-17T09:36:28.447Z"
   },
   {
    "duration": 12,
    "start_time": "2022-01-17T09:36:28.462Z"
   },
   {
    "duration": 15,
    "start_time": "2022-01-17T09:36:28.476Z"
   },
   {
    "duration": 6,
    "start_time": "2022-01-17T09:36:28.493Z"
   },
   {
    "duration": 314,
    "start_time": "2022-01-17T09:36:28.501Z"
   },
   {
    "duration": 13,
    "start_time": "2022-01-17T09:36:28.816Z"
   },
   {
    "duration": 22,
    "start_time": "2022-01-17T09:36:28.830Z"
   },
   {
    "duration": 12,
    "start_time": "2022-01-17T09:36:28.854Z"
   },
   {
    "duration": 7,
    "start_time": "2022-01-17T09:36:28.868Z"
   },
   {
    "duration": 16,
    "start_time": "2022-01-17T09:36:28.876Z"
   },
   {
    "duration": 10,
    "start_time": "2022-01-17T09:36:28.893Z"
   },
   {
    "duration": 41,
    "start_time": "2022-01-17T09:36:28.904Z"
   },
   {
    "duration": 17,
    "start_time": "2022-01-17T09:36:28.947Z"
   },
   {
    "duration": 10,
    "start_time": "2022-01-17T09:36:28.966Z"
   },
   {
    "duration": 250,
    "start_time": "2022-01-17T09:36:28.978Z"
   },
   {
    "duration": 4,
    "start_time": "2022-01-17T09:36:29.230Z"
   },
   {
    "duration": 29,
    "start_time": "2022-01-17T09:36:29.236Z"
   },
   {
    "duration": 15,
    "start_time": "2022-01-17T09:36:29.267Z"
   },
   {
    "duration": 1236,
    "start_time": "2022-01-17T09:36:29.284Z"
   },
   {
    "duration": 24,
    "start_time": "2022-01-17T09:36:30.521Z"
   },
   {
    "duration": 14,
    "start_time": "2022-01-17T09:36:30.546Z"
   },
   {
    "duration": 20,
    "start_time": "2022-01-17T09:36:30.561Z"
   },
   {
    "duration": 1030,
    "start_time": "2022-01-17T09:36:30.583Z"
   },
   {
    "duration": 404,
    "start_time": "2022-01-17T09:36:31.614Z"
   },
   {
    "duration": 6,
    "start_time": "2022-01-17T09:36:32.021Z"
   },
   {
    "duration": 478,
    "start_time": "2022-01-17T09:36:32.029Z"
   },
   {
    "duration": 8,
    "start_time": "2022-01-17T09:36:32.509Z"
   },
   {
    "duration": 525,
    "start_time": "2022-01-17T09:36:32.519Z"
   },
   {
    "duration": 9,
    "start_time": "2022-01-17T09:36:33.046Z"
   },
   {
    "duration": 27,
    "start_time": "2022-01-17T09:36:33.057Z"
   },
   {
    "duration": 3,
    "start_time": "2022-01-17T09:36:33.087Z"
   },
   {
    "duration": 15,
    "start_time": "2022-01-17T09:36:33.092Z"
   },
   {
    "duration": 39,
    "start_time": "2022-01-17T09:36:33.109Z"
   },
   {
    "duration": 212,
    "start_time": "2022-01-17T09:36:33.149Z"
   },
   {
    "duration": 10,
    "start_time": "2022-01-17T09:36:33.364Z"
   },
   {
    "duration": 9,
    "start_time": "2022-01-17T09:36:33.376Z"
   },
   {
    "duration": 220,
    "start_time": "2022-01-17T09:36:33.387Z"
   },
   {
    "duration": 6,
    "start_time": "2022-01-17T09:36:33.608Z"
   },
   {
    "duration": 33,
    "start_time": "2022-01-17T09:36:33.615Z"
   },
   {
    "duration": 32,
    "start_time": "2022-01-17T09:36:33.650Z"
   },
   {
    "duration": 219,
    "start_time": "2022-01-17T09:36:33.684Z"
   },
   {
    "duration": 172,
    "start_time": "2022-01-17T09:37:13.246Z"
   },
   {
    "duration": 170,
    "start_time": "2022-01-17T09:37:21.892Z"
   },
   {
    "duration": 183,
    "start_time": "2022-01-17T09:38:17.367Z"
   },
   {
    "duration": 292,
    "start_time": "2022-01-17T09:39:02.631Z"
   },
   {
    "duration": 229,
    "start_time": "2022-01-17T09:39:45.046Z"
   },
   {
    "duration": 189,
    "start_time": "2022-01-17T09:40:02.173Z"
   },
   {
    "duration": 179,
    "start_time": "2022-01-17T09:40:20.948Z"
   },
   {
    "duration": 182,
    "start_time": "2022-01-17T09:40:28.058Z"
   },
   {
    "duration": 181,
    "start_time": "2022-01-17T09:40:37.374Z"
   },
   {
    "duration": 176,
    "start_time": "2022-01-17T09:40:51.763Z"
   },
   {
    "duration": 185,
    "start_time": "2022-01-17T09:41:16.724Z"
   },
   {
    "duration": 178,
    "start_time": "2022-01-17T10:18:44.678Z"
   },
   {
    "duration": 177,
    "start_time": "2022-01-17T10:18:59.175Z"
   },
   {
    "duration": 169,
    "start_time": "2022-01-17T10:20:28.868Z"
   },
   {
    "duration": 253,
    "start_time": "2022-01-17T10:20:36.606Z"
   },
   {
    "duration": 206,
    "start_time": "2022-01-17T10:21:07.422Z"
   },
   {
    "duration": 183,
    "start_time": "2022-01-17T10:22:36.973Z"
   },
   {
    "duration": 185,
    "start_time": "2022-01-17T10:22:43.437Z"
   },
   {
    "duration": 191,
    "start_time": "2022-01-17T10:22:49.118Z"
   },
   {
    "duration": 181,
    "start_time": "2022-01-17T10:23:15.605Z"
   },
   {
    "duration": 182,
    "start_time": "2022-01-17T10:23:28.240Z"
   },
   {
    "duration": 414,
    "start_time": "2022-01-17T10:54:39.473Z"
   },
   {
    "duration": 34,
    "start_time": "2022-01-17T10:54:39.888Z"
   },
   {
    "duration": 16,
    "start_time": "2022-01-17T10:54:39.923Z"
   },
   {
    "duration": 36,
    "start_time": "2022-01-17T10:54:39.940Z"
   },
   {
    "duration": 20,
    "start_time": "2022-01-17T10:54:39.978Z"
   },
   {
    "duration": 58,
    "start_time": "2022-01-17T10:54:40.000Z"
   },
   {
    "duration": 42,
    "start_time": "2022-01-17T10:54:40.060Z"
   },
   {
    "duration": 25,
    "start_time": "2022-01-17T10:54:40.103Z"
   },
   {
    "duration": 43,
    "start_time": "2022-01-17T10:54:40.131Z"
   },
   {
    "duration": 14,
    "start_time": "2022-01-17T10:54:40.176Z"
   },
   {
    "duration": 271,
    "start_time": "2022-01-17T10:54:40.191Z"
   },
   {
    "duration": 13,
    "start_time": "2022-01-17T10:54:40.464Z"
   },
   {
    "duration": 13,
    "start_time": "2022-01-17T10:54:40.478Z"
   },
   {
    "duration": 11,
    "start_time": "2022-01-17T10:54:40.493Z"
   },
   {
    "duration": 39,
    "start_time": "2022-01-17T10:54:40.505Z"
   },
   {
    "duration": 6,
    "start_time": "2022-01-17T10:54:40.545Z"
   },
   {
    "duration": 28,
    "start_time": "2022-01-17T10:54:40.553Z"
   },
   {
    "duration": 9,
    "start_time": "2022-01-17T10:54:40.583Z"
   },
   {
    "duration": 16,
    "start_time": "2022-01-17T10:54:40.594Z"
   },
   {
    "duration": 12,
    "start_time": "2022-01-17T10:54:40.611Z"
   },
   {
    "duration": 233,
    "start_time": "2022-01-17T10:54:40.624Z"
   },
   {
    "duration": 4,
    "start_time": "2022-01-17T10:54:40.858Z"
   },
   {
    "duration": 17,
    "start_time": "2022-01-17T10:54:40.864Z"
   },
   {
    "duration": 15,
    "start_time": "2022-01-17T10:54:40.882Z"
   },
   {
    "duration": 1243,
    "start_time": "2022-01-17T10:54:40.898Z"
   },
   {
    "duration": 21,
    "start_time": "2022-01-17T10:54:42.143Z"
   },
   {
    "duration": 17,
    "start_time": "2022-01-17T10:54:42.169Z"
   },
   {
    "duration": 18,
    "start_time": "2022-01-17T10:54:42.188Z"
   },
   {
    "duration": 1034,
    "start_time": "2022-01-17T10:54:42.240Z"
   },
   {
    "duration": 331,
    "start_time": "2022-01-17T10:54:43.276Z"
   },
   {
    "duration": 5,
    "start_time": "2022-01-17T10:54:43.609Z"
   },
   {
    "duration": 578,
    "start_time": "2022-01-17T10:54:43.615Z"
   },
   {
    "duration": 9,
    "start_time": "2022-01-17T10:54:44.195Z"
   },
   {
    "duration": 481,
    "start_time": "2022-01-17T10:54:44.206Z"
   },
   {
    "duration": 10,
    "start_time": "2022-01-17T10:54:44.689Z"
   },
   {
    "duration": 24,
    "start_time": "2022-01-17T10:54:44.700Z"
   },
   {
    "duration": 3,
    "start_time": "2022-01-17T10:54:44.740Z"
   },
   {
    "duration": 11,
    "start_time": "2022-01-17T10:54:44.745Z"
   },
   {
    "duration": 9,
    "start_time": "2022-01-17T10:54:44.758Z"
   },
   {
    "duration": 203,
    "start_time": "2022-01-17T10:54:44.768Z"
   },
   {
    "duration": 8,
    "start_time": "2022-01-17T10:54:44.973Z"
   },
   {
    "duration": 8,
    "start_time": "2022-01-17T10:54:44.982Z"
   },
   {
    "duration": 204,
    "start_time": "2022-01-17T10:54:44.991Z"
   },
   {
    "duration": 9,
    "start_time": "2022-01-17T10:54:45.197Z"
   },
   {
    "duration": 12,
    "start_time": "2022-01-17T10:54:45.207Z"
   },
   {
    "duration": 211,
    "start_time": "2022-01-17T10:54:45.220Z"
   },
   {
    "duration": 8,
    "start_time": "2022-01-17T11:02:07.841Z"
   },
   {
    "duration": 7,
    "start_time": "2022-01-17T11:02:34.151Z"
   },
   {
    "duration": 4,
    "start_time": "2022-01-17T11:04:56.051Z"
   },
   {
    "duration": 10,
    "start_time": "2022-01-17T11:10:24.659Z"
   },
   {
    "duration": 9,
    "start_time": "2022-01-17T11:10:39.558Z"
   },
   {
    "duration": 7,
    "start_time": "2022-01-17T11:10:46.271Z"
   },
   {
    "duration": 7,
    "start_time": "2022-01-17T11:11:00.377Z"
   },
   {
    "duration": 8,
    "start_time": "2022-01-17T11:13:14.000Z"
   },
   {
    "duration": 7,
    "start_time": "2022-01-17T11:13:21.660Z"
   },
   {
    "duration": 4,
    "start_time": "2022-01-17T11:23:35.424Z"
   },
   {
    "duration": 6,
    "start_time": "2022-01-17T11:23:52.470Z"
   },
   {
    "duration": 288,
    "start_time": "2022-01-17T11:24:07.595Z"
   },
   {
    "duration": 5,
    "start_time": "2022-01-17T11:24:43.753Z"
   },
   {
    "duration": 10,
    "start_time": "2022-01-17T11:30:49.557Z"
   },
   {
    "duration": 6,
    "start_time": "2022-01-17T11:32:17.782Z"
   },
   {
    "duration": 8,
    "start_time": "2022-01-17T11:32:30.503Z"
   },
   {
    "duration": 17,
    "start_time": "2022-01-17T11:32:56.364Z"
   },
   {
    "duration": 9,
    "start_time": "2022-01-17T11:33:09.944Z"
   },
   {
    "duration": 14,
    "start_time": "2022-01-17T11:33:15.512Z"
   },
   {
    "duration": 8,
    "start_time": "2022-01-17T11:35:16.703Z"
   },
   {
    "duration": 14,
    "start_time": "2022-01-17T12:21:18.586Z"
   },
   {
    "duration": 237,
    "start_time": "2022-01-17T12:22:04.382Z"
   },
   {
    "duration": 24,
    "start_time": "2022-01-17T12:34:21.509Z"
   },
   {
    "duration": 531,
    "start_time": "2022-01-17T12:35:03.101Z"
   },
   {
    "duration": 23,
    "start_time": "2022-01-17T12:35:10.125Z"
   },
   {
    "duration": 4,
    "start_time": "2022-01-17T13:48:27.351Z"
   },
   {
    "duration": 38,
    "start_time": "2022-01-17T13:48:27.357Z"
   },
   {
    "duration": 4,
    "start_time": "2022-01-17T13:48:27.397Z"
   },
   {
    "duration": 41,
    "start_time": "2022-01-17T13:48:27.403Z"
   },
   {
    "duration": 5,
    "start_time": "2022-01-17T13:48:27.446Z"
   },
   {
    "duration": 22,
    "start_time": "2022-01-17T13:48:27.453Z"
   },
   {
    "duration": 15,
    "start_time": "2022-01-17T13:48:27.477Z"
   },
   {
    "duration": 55,
    "start_time": "2022-01-17T13:48:27.494Z"
   },
   {
    "duration": 16,
    "start_time": "2022-01-17T13:48:27.553Z"
   },
   {
    "duration": 8,
    "start_time": "2022-01-17T13:48:27.572Z"
   },
   {
    "duration": 307,
    "start_time": "2022-01-17T13:48:27.581Z"
   },
   {
    "duration": 15,
    "start_time": "2022-01-17T13:48:27.890Z"
   },
   {
    "duration": 36,
    "start_time": "2022-01-17T13:48:27.906Z"
   },
   {
    "duration": 13,
    "start_time": "2022-01-17T13:48:27.943Z"
   },
   {
    "duration": 8,
    "start_time": "2022-01-17T13:48:27.958Z"
   },
   {
    "duration": 10,
    "start_time": "2022-01-17T13:48:27.967Z"
   },
   {
    "duration": 10,
    "start_time": "2022-01-17T13:48:27.978Z"
   },
   {
    "duration": 7,
    "start_time": "2022-01-17T13:48:27.989Z"
   },
   {
    "duration": 54,
    "start_time": "2022-01-17T13:48:27.997Z"
   },
   {
    "duration": 10,
    "start_time": "2022-01-17T13:48:28.053Z"
   },
   {
    "duration": 236,
    "start_time": "2022-01-17T13:48:28.064Z"
   },
   {
    "duration": 5,
    "start_time": "2022-01-17T13:48:28.302Z"
   },
   {
    "duration": 15,
    "start_time": "2022-01-17T13:48:28.308Z"
   },
   {
    "duration": 16,
    "start_time": "2022-01-17T13:48:28.341Z"
   },
   {
    "duration": 1303,
    "start_time": "2022-01-17T13:48:28.359Z"
   },
   {
    "duration": 18,
    "start_time": "2022-01-17T13:48:29.664Z"
   },
   {
    "duration": 14,
    "start_time": "2022-01-17T13:48:29.686Z"
   },
   {
    "duration": 45,
    "start_time": "2022-01-17T13:48:29.702Z"
   },
   {
    "duration": 1048,
    "start_time": "2022-01-17T13:48:29.748Z"
   },
   {
    "duration": 322,
    "start_time": "2022-01-17T13:48:30.798Z"
   },
   {
    "duration": 6,
    "start_time": "2022-01-17T13:48:31.121Z"
   },
   {
    "duration": 476,
    "start_time": "2022-01-17T13:48:31.128Z"
   },
   {
    "duration": 8,
    "start_time": "2022-01-17T13:48:31.606Z"
   },
   {
    "duration": 475,
    "start_time": "2022-01-17T13:48:31.616Z"
   },
   {
    "duration": 8,
    "start_time": "2022-01-17T13:48:32.093Z"
   },
   {
    "duration": 38,
    "start_time": "2022-01-17T13:48:32.103Z"
   },
   {
    "duration": 5,
    "start_time": "2022-01-17T13:48:32.142Z"
   },
   {
    "duration": 14,
    "start_time": "2022-01-17T13:48:32.149Z"
   },
   {
    "duration": 19,
    "start_time": "2022-01-17T13:48:32.164Z"
   },
   {
    "duration": 189,
    "start_time": "2022-01-17T13:48:32.185Z"
   },
   {
    "duration": 9,
    "start_time": "2022-01-17T13:48:32.376Z"
   },
   {
    "duration": 28,
    "start_time": "2022-01-17T13:48:32.387Z"
   },
   {
    "duration": 297,
    "start_time": "2022-01-17T13:48:32.417Z"
   },
   {
    "duration": 9,
    "start_time": "2022-01-17T13:48:32.716Z"
   },
   {
    "duration": 22,
    "start_time": "2022-01-17T13:48:32.726Z"
   },
   {
    "duration": 213,
    "start_time": "2022-01-17T13:48:32.749Z"
   },
   {
    "duration": 22,
    "start_time": "2022-01-17T13:48:32.964Z"
   },
   {
    "duration": 7,
    "start_time": "2022-01-17T13:48:32.988Z"
   },
   {
    "duration": 41,
    "start_time": "2022-01-17T13:48:32.997Z"
   },
   {
    "duration": 30,
    "start_time": "2022-01-17T13:48:33.039Z"
   },
   {
    "duration": 11,
    "start_time": "2022-01-17T13:48:33.070Z"
   },
   {
    "duration": 1026,
    "start_time": "2022-01-20T13:07:51.351Z"
   },
   {
    "duration": 40,
    "start_time": "2022-01-20T13:07:52.379Z"
   },
   {
    "duration": 3,
    "start_time": "2022-01-20T13:07:52.421Z"
   },
   {
    "duration": 24,
    "start_time": "2022-01-20T13:07:52.426Z"
   },
   {
    "duration": 4,
    "start_time": "2022-01-20T13:07:52.452Z"
   },
   {
    "duration": 475,
    "start_time": "2022-01-20T13:07:52.457Z"
   },
   {
    "duration": 15,
    "start_time": "2022-01-20T13:07:52.934Z"
   },
   {
    "duration": 21,
    "start_time": "2022-01-20T13:07:52.951Z"
   },
   {
    "duration": 26,
    "start_time": "2022-01-20T13:07:52.975Z"
   },
   {
    "duration": 9,
    "start_time": "2022-01-20T13:07:53.003Z"
   },
   {
    "duration": 329,
    "start_time": "2022-01-20T13:07:53.014Z"
   },
   {
    "duration": 16,
    "start_time": "2022-01-20T13:07:53.345Z"
   },
   {
    "duration": 16,
    "start_time": "2022-01-20T13:07:53.363Z"
   },
   {
    "duration": 14,
    "start_time": "2022-01-20T13:07:53.406Z"
   },
   {
    "duration": 11,
    "start_time": "2022-01-20T13:07:53.422Z"
   },
   {
    "duration": 15,
    "start_time": "2022-01-20T13:07:53.434Z"
   },
   {
    "duration": 14,
    "start_time": "2022-01-20T13:07:53.451Z"
   },
   {
    "duration": 11,
    "start_time": "2022-01-20T13:07:53.467Z"
   },
   {
    "duration": 40,
    "start_time": "2022-01-20T13:07:53.480Z"
   },
   {
    "duration": 12,
    "start_time": "2022-01-20T13:07:53.521Z"
   },
   {
    "duration": 305,
    "start_time": "2022-01-20T13:07:53.535Z"
   },
   {
    "duration": 4,
    "start_time": "2022-01-20T13:07:53.842Z"
   },
   {
    "duration": 22,
    "start_time": "2022-01-20T13:07:53.847Z"
   },
   {
    "duration": 31,
    "start_time": "2022-01-20T13:07:53.870Z"
   },
   {
    "duration": 1515,
    "start_time": "2022-01-20T13:07:53.902Z"
   },
   {
    "duration": 19,
    "start_time": "2022-01-20T13:07:55.418Z"
   },
   {
    "duration": 15,
    "start_time": "2022-01-20T13:07:55.440Z"
   },
   {
    "duration": 16,
    "start_time": "2022-01-20T13:07:55.457Z"
   },
   {
    "duration": 1379,
    "start_time": "2022-01-20T13:07:55.474Z"
   },
   {
    "duration": 391,
    "start_time": "2022-01-20T13:07:56.855Z"
   },
   {
    "duration": 6,
    "start_time": "2022-01-20T13:07:57.247Z"
   },
   {
    "duration": 683,
    "start_time": "2022-01-20T13:07:57.254Z"
   },
   {
    "duration": 10,
    "start_time": "2022-01-20T13:07:57.939Z"
   },
   {
    "duration": 577,
    "start_time": "2022-01-20T13:07:57.951Z"
   },
   {
    "duration": 11,
    "start_time": "2022-01-20T13:07:58.530Z"
   },
   {
    "duration": 21,
    "start_time": "2022-01-20T13:07:58.543Z"
   },
   {
    "duration": 4,
    "start_time": "2022-01-20T13:07:58.566Z"
   },
   {
    "duration": 12,
    "start_time": "2022-01-20T13:07:58.605Z"
   },
   {
    "duration": 11,
    "start_time": "2022-01-20T13:07:58.619Z"
   },
   {
    "duration": 233,
    "start_time": "2022-01-20T13:07:58.631Z"
   },
   {
    "duration": 9,
    "start_time": "2022-01-20T13:07:58.866Z"
   },
   {
    "duration": 34,
    "start_time": "2022-01-20T13:07:58.877Z"
   },
   {
    "duration": 223,
    "start_time": "2022-01-20T13:07:58.913Z"
   },
   {
    "duration": 10,
    "start_time": "2022-01-20T13:07:59.138Z"
   },
   {
    "duration": 11,
    "start_time": "2022-01-20T13:07:59.150Z"
   },
   {
    "duration": 254,
    "start_time": "2022-01-20T13:07:59.162Z"
   },
   {
    "duration": 26,
    "start_time": "2022-01-20T13:07:59.418Z"
   },
   {
    "duration": 7,
    "start_time": "2022-01-20T13:07:59.446Z"
   },
   {
    "duration": 7,
    "start_time": "2022-01-20T13:07:59.455Z"
   },
   {
    "duration": 127,
    "start_time": "2022-01-20T13:07:59.463Z"
   },
   {
    "duration": 10,
    "start_time": "2022-01-20T13:07:59.599Z"
   },
   {
    "duration": 2470,
    "start_time": "2022-01-20T13:15:13.742Z"
   },
   {
    "duration": 3,
    "start_time": "2022-01-20T13:15:35.172Z"
   },
   {
    "duration": 975,
    "start_time": "2022-01-20T17:07:49.343Z"
   },
   {
    "duration": 36,
    "start_time": "2022-01-20T17:07:50.320Z"
   },
   {
    "duration": 2,
    "start_time": "2022-01-20T17:07:50.358Z"
   },
   {
    "duration": 22,
    "start_time": "2022-01-20T17:07:50.362Z"
   },
   {
    "duration": 4,
    "start_time": "2022-01-20T17:07:50.386Z"
   },
   {
    "duration": 577,
    "start_time": "2022-01-20T17:07:50.391Z"
   },
   {
    "duration": 14,
    "start_time": "2022-01-20T17:07:50.970Z"
   },
   {
    "duration": 33,
    "start_time": "2022-01-20T17:07:50.987Z"
   },
   {
    "duration": 17,
    "start_time": "2022-01-20T17:07:51.022Z"
   },
   {
    "duration": 24,
    "start_time": "2022-01-20T17:07:51.041Z"
   },
   {
    "duration": 13,
    "start_time": "2022-01-20T17:07:51.067Z"
   },
   {
    "duration": 16,
    "start_time": "2022-01-20T17:07:51.082Z"
   },
   {
    "duration": 30,
    "start_time": "2022-01-20T17:07:51.100Z"
   },
   {
    "duration": 41,
    "start_time": "2022-01-20T17:07:51.132Z"
   },
   {
    "duration": 352,
    "start_time": "2022-01-20T17:07:51.174Z"
   },
   {
    "duration": -646,
    "start_time": "2022-01-20T17:07:52.174Z"
   },
   {
    "duration": -654,
    "start_time": "2022-01-20T17:07:52.183Z"
   },
   {
    "duration": -660,
    "start_time": "2022-01-20T17:07:52.190Z"
   },
   {
    "duration": -668,
    "start_time": "2022-01-20T17:07:52.199Z"
   },
   {
    "duration": -674,
    "start_time": "2022-01-20T17:07:52.206Z"
   },
   {
    "duration": -680,
    "start_time": "2022-01-20T17:07:52.213Z"
   },
   {
    "duration": -685,
    "start_time": "2022-01-20T17:07:52.219Z"
   },
   {
    "duration": 3,
    "start_time": "2022-01-20T17:08:31.682Z"
   },
   {
    "duration": 50,
    "start_time": "2022-01-20T17:08:31.689Z"
   },
   {
    "duration": 3,
    "start_time": "2022-01-20T17:08:31.741Z"
   },
   {
    "duration": 25,
    "start_time": "2022-01-20T17:08:31.746Z"
   },
   {
    "duration": 4,
    "start_time": "2022-01-20T17:08:31.773Z"
   },
   {
    "duration": 21,
    "start_time": "2022-01-20T17:08:31.779Z"
   },
   {
    "duration": 40,
    "start_time": "2022-01-20T17:08:31.802Z"
   },
   {
    "duration": 11,
    "start_time": "2022-01-20T17:08:31.844Z"
   },
   {
    "duration": 15,
    "start_time": "2022-01-20T17:08:31.857Z"
   },
   {
    "duration": 14,
    "start_time": "2022-01-20T17:08:31.874Z"
   },
   {
    "duration": 11,
    "start_time": "2022-01-20T17:08:31.890Z"
   },
   {
    "duration": 43,
    "start_time": "2022-01-20T17:08:31.902Z"
   },
   {
    "duration": 6,
    "start_time": "2022-01-20T17:08:31.947Z"
   },
   {
    "duration": 13,
    "start_time": "2022-01-20T17:08:31.955Z"
   },
   {
    "duration": 7,
    "start_time": "2022-01-20T17:08:31.969Z"
   },
   {
    "duration": 262,
    "start_time": "2022-01-20T17:08:54.420Z"
   },
   {
    "duration": 5,
    "start_time": "2022-01-20T17:10:10.984Z"
   },
   {
    "duration": 5,
    "start_time": "2022-01-20T17:10:31.934Z"
   },
   {
    "duration": 7,
    "start_time": "2022-01-20T17:11:05.638Z"
   },
   {
    "duration": 6,
    "start_time": "2022-01-20T17:11:12.993Z"
   },
   {
    "duration": 16,
    "start_time": "2022-01-20T17:11:26.336Z"
   },
   {
    "duration": 15,
    "start_time": "2022-01-20T17:12:08.317Z"
   },
   {
    "duration": 238,
    "start_time": "2022-01-20T17:12:17.921Z"
   },
   {
    "duration": 14,
    "start_time": "2022-01-20T17:12:40.515Z"
   },
   {
    "duration": 17,
    "start_time": "2022-01-20T17:12:47.327Z"
   },
   {
    "duration": 1296,
    "start_time": "2022-01-20T17:12:48.305Z"
   },
   {
    "duration": 16,
    "start_time": "2022-01-20T17:12:58.246Z"
   },
   {
    "duration": 15,
    "start_time": "2022-01-20T17:13:36.722Z"
   },
   {
    "duration": 1071,
    "start_time": "2022-01-20T17:24:15.658Z"
   },
   {
    "duration": 341,
    "start_time": "2022-01-20T17:26:16.318Z"
   },
   {
    "duration": 5,
    "start_time": "2022-01-20T17:26:28.089Z"
   },
   {
    "duration": 641,
    "start_time": "2022-01-20T17:26:55.547Z"
   },
   {
    "duration": 9,
    "start_time": "2022-01-20T17:26:58.522Z"
   },
   {
    "duration": 522,
    "start_time": "2022-01-20T17:29:30.434Z"
   },
   {
    "duration": 9,
    "start_time": "2022-01-20T17:29:34.212Z"
   },
   {
    "duration": 22,
    "start_time": "2022-01-20T17:30:01.186Z"
   },
   {
    "duration": 18,
    "start_time": "2022-01-20T17:42:50.919Z"
   },
   {
    "duration": 4,
    "start_time": "2022-01-20T17:50:57.866Z"
   },
   {
    "duration": 9,
    "start_time": "2022-01-20T17:51:00.299Z"
   },
   {
    "duration": 10,
    "start_time": "2022-01-20T17:51:07.624Z"
   },
   {
    "duration": 3,
    "start_time": "2022-01-20T18:01:11.277Z"
   },
   {
    "duration": 9,
    "start_time": "2022-01-20T18:01:12.622Z"
   },
   {
    "duration": 9,
    "start_time": "2022-01-20T18:01:47.789Z"
   },
   {
    "duration": 175,
    "start_time": "2022-01-20T18:02:18.156Z"
   },
   {
    "duration": 10,
    "start_time": "2022-01-20T18:02:26.466Z"
   },
   {
    "duration": 3,
    "start_time": "2022-01-20T18:03:01.110Z"
   },
   {
    "duration": 11,
    "start_time": "2022-01-20T18:03:02.227Z"
   },
   {
    "duration": 10,
    "start_time": "2022-01-20T18:03:16.357Z"
   },
   {
    "duration": 174,
    "start_time": "2022-01-20T18:03:20.532Z"
   },
   {
    "duration": 9,
    "start_time": "2022-01-20T18:03:23.738Z"
   },
   {
    "duration": 10,
    "start_time": "2022-01-20T18:03:26.156Z"
   },
   {
    "duration": 181,
    "start_time": "2022-01-20T18:03:31.450Z"
   },
   {
    "duration": 10,
    "start_time": "2022-01-20T18:03:36.306Z"
   },
   {
    "duration": 11,
    "start_time": "2022-01-20T18:03:42.818Z"
   },
   {
    "duration": 290,
    "start_time": "2022-01-20T18:03:46.594Z"
   },
   {
    "duration": 215,
    "start_time": "2022-01-20T18:04:01.612Z"
   },
   {
    "duration": 25,
    "start_time": "2022-01-20T18:04:14.651Z"
   },
   {
    "duration": 3,
    "start_time": "2022-01-20T18:27:51.693Z"
   },
   {
    "duration": 53,
    "start_time": "2022-01-20T18:27:51.701Z"
   },
   {
    "duration": 9,
    "start_time": "2022-01-20T18:27:51.756Z"
   },
   {
    "duration": 31,
    "start_time": "2022-01-20T18:27:51.767Z"
   },
   {
    "duration": 23,
    "start_time": "2022-01-20T18:27:51.799Z"
   },
   {
    "duration": 31,
    "start_time": "2022-01-20T18:27:51.824Z"
   },
   {
    "duration": 43,
    "start_time": "2022-01-20T18:27:51.856Z"
   },
   {
    "duration": 24,
    "start_time": "2022-01-20T18:27:51.900Z"
   },
   {
    "duration": 27,
    "start_time": "2022-01-20T18:27:51.926Z"
   },
   {
    "duration": 27,
    "start_time": "2022-01-20T18:27:51.955Z"
   },
   {
    "duration": 16,
    "start_time": "2022-01-20T18:27:51.984Z"
   },
   {
    "duration": 21,
    "start_time": "2022-01-20T18:27:52.001Z"
   },
   {
    "duration": 25,
    "start_time": "2022-01-20T18:27:52.023Z"
   },
   {
    "duration": 10,
    "start_time": "2022-01-20T18:27:54.253Z"
   },
   {
    "duration": 8,
    "start_time": "2022-01-20T18:28:11.204Z"
   },
   {
    "duration": 16,
    "start_time": "2022-01-20T18:28:12.791Z"
   },
   {
    "duration": 17,
    "start_time": "2022-01-20T18:30:00.694Z"
   },
   {
    "duration": 261,
    "start_time": "2022-01-20T18:30:04.759Z"
   },
   {
    "duration": 15,
    "start_time": "2022-01-20T18:30:09.157Z"
   },
   {
    "duration": 16,
    "start_time": "2022-01-20T18:30:11.092Z"
   },
   {
    "duration": 1322,
    "start_time": "2022-01-20T18:30:22.844Z"
   },
   {
    "duration": 18,
    "start_time": "2022-01-20T18:30:28.820Z"
   },
   {
    "duration": 17,
    "start_time": "2022-01-20T18:30:34.845Z"
   },
   {
    "duration": 1533,
    "start_time": "2022-01-20T18:30:40.255Z"
   },
   {
    "duration": 326,
    "start_time": "2022-01-20T18:30:50.500Z"
   },
   {
    "duration": 6,
    "start_time": "2022-01-20T18:30:58.668Z"
   },
   {
    "duration": 649,
    "start_time": "2022-01-20T18:31:04.053Z"
   },
   {
    "duration": 10,
    "start_time": "2022-01-20T18:31:09.807Z"
   },
   {
    "duration": 488,
    "start_time": "2022-01-20T18:31:11.939Z"
   },
   {
    "duration": 11,
    "start_time": "2022-01-20T18:31:15.715Z"
   },
   {
    "duration": 21,
    "start_time": "2022-01-20T18:31:22.918Z"
   },
   {
    "duration": 3,
    "start_time": "2022-01-20T18:31:28.926Z"
   },
   {
    "duration": 10,
    "start_time": "2022-01-20T18:31:33.911Z"
   },
   {
    "duration": 10,
    "start_time": "2022-01-20T18:31:35.427Z"
   },
   {
    "duration": 208,
    "start_time": "2022-01-20T18:31:40.204Z"
   },
   {
    "duration": 10,
    "start_time": "2022-01-20T18:31:52.749Z"
   },
   {
    "duration": 9,
    "start_time": "2022-01-20T18:31:56.924Z"
   },
   {
    "duration": 197,
    "start_time": "2022-01-20T18:31:57.654Z"
   },
   {
    "duration": 10,
    "start_time": "2022-01-20T18:32:05.095Z"
   },
   {
    "duration": 9,
    "start_time": "2022-01-20T18:32:06.793Z"
   },
   {
    "duration": 223,
    "start_time": "2022-01-20T18:32:08.254Z"
   },
   {
    "duration": 28,
    "start_time": "2022-01-20T18:32:19.630Z"
   },
   {
    "duration": 3,
    "start_time": "2022-01-20T18:51:45.430Z"
   },
   {
    "duration": 75,
    "start_time": "2022-01-20T18:51:45.442Z"
   },
   {
    "duration": 26,
    "start_time": "2022-01-20T18:51:45.519Z"
   },
   {
    "duration": 70,
    "start_time": "2022-01-20T18:51:45.547Z"
   },
   {
    "duration": 47,
    "start_time": "2022-01-20T18:51:45.619Z"
   },
   {
    "duration": 67,
    "start_time": "2022-01-20T18:51:45.668Z"
   },
   {
    "duration": 57,
    "start_time": "2022-01-20T18:51:45.736Z"
   },
   {
    "duration": 52,
    "start_time": "2022-01-20T18:51:45.795Z"
   },
   {
    "duration": 96,
    "start_time": "2022-01-20T18:51:45.849Z"
   },
   {
    "duration": 54,
    "start_time": "2022-01-20T18:51:45.948Z"
   },
   {
    "duration": 29,
    "start_time": "2022-01-20T18:51:46.003Z"
   },
   {
    "duration": 41,
    "start_time": "2022-01-20T18:51:46.034Z"
   },
   {
    "duration": 35,
    "start_time": "2022-01-20T18:51:46.077Z"
   },
   {
    "duration": 35,
    "start_time": "2022-01-20T18:51:46.113Z"
   },
   {
    "duration": 32,
    "start_time": "2022-01-20T18:51:46.150Z"
   },
   {
    "duration": 53,
    "start_time": "2022-01-20T18:51:46.183Z"
   },
   {
    "duration": 52,
    "start_time": "2022-01-20T18:51:46.237Z"
   },
   {
    "duration": 264,
    "start_time": "2022-01-20T18:51:46.291Z"
   },
   {
    "duration": 14,
    "start_time": "2022-01-20T18:51:46.557Z"
   },
   {
    "duration": 55,
    "start_time": "2022-01-20T18:51:46.572Z"
   },
   {
    "duration": 1520,
    "start_time": "2022-01-20T18:51:46.629Z"
   },
   {
    "duration": 17,
    "start_time": "2022-01-20T18:51:48.151Z"
   },
   {
    "duration": 60,
    "start_time": "2022-01-20T18:51:48.170Z"
   },
   {
    "duration": 1029,
    "start_time": "2022-01-20T18:51:48.232Z"
   },
   {
    "duration": 368,
    "start_time": "2022-01-20T18:51:49.263Z"
   },
   {
    "duration": 6,
    "start_time": "2022-01-20T18:51:49.641Z"
   },
   {
    "duration": 603,
    "start_time": "2022-01-20T18:51:49.649Z"
   },
   {
    "duration": 9,
    "start_time": "2022-01-20T18:51:50.255Z"
   },
   {
    "duration": 572,
    "start_time": "2022-01-20T18:51:50.266Z"
   },
   {
    "duration": 11,
    "start_time": "2022-01-20T18:51:50.841Z"
   },
   {
    "duration": 62,
    "start_time": "2022-01-20T18:51:50.854Z"
   },
   {
    "duration": 55,
    "start_time": "2022-01-20T18:51:50.919Z"
   },
   {
    "duration": 66,
    "start_time": "2022-01-20T18:51:50.976Z"
   },
   {
    "duration": 66,
    "start_time": "2022-01-20T18:51:51.044Z"
   },
   {
    "duration": 314,
    "start_time": "2022-01-20T18:51:51.112Z"
   },
   {
    "duration": 17,
    "start_time": "2022-01-20T18:51:51.429Z"
   },
   {
    "duration": 67,
    "start_time": "2022-01-20T18:51:51.448Z"
   },
   {
    "duration": 404,
    "start_time": "2022-01-20T18:51:51.516Z"
   },
   {
    "duration": 20,
    "start_time": "2022-01-20T18:51:51.922Z"
   },
   {
    "duration": 50,
    "start_time": "2022-01-20T18:51:51.944Z"
   },
   {
    "duration": 262,
    "start_time": "2022-01-20T18:51:51.996Z"
   },
   {
    "duration": 22,
    "start_time": "2022-01-20T18:51:52.260Z"
   },
   {
    "duration": 27,
    "start_time": "2022-01-20T18:51:52.283Z"
   },
   {
    "duration": 64,
    "start_time": "2022-01-20T18:51:52.312Z"
   },
   {
    "duration": 48,
    "start_time": "2022-01-20T18:51:52.378Z"
   },
   {
    "duration": 95,
    "start_time": "2022-01-20T18:51:52.428Z"
   }
  ],
  "kernelspec": {
   "display_name": "Python 3",
   "language": "python",
   "name": "python3"
  },
  "language_info": {
   "codemirror_mode": {
    "name": "ipython",
    "version": 3
   },
   "file_extension": ".py",
   "mimetype": "text/x-python",
   "name": "python",
   "nbconvert_exporter": "python",
   "pygments_lexer": "ipython3",
   "version": "3.8.5"
  },
  "toc": {
   "base_numbering": 1,
   "nav_menu": {},
   "number_sections": true,
   "sideBar": true,
   "skip_h1_title": true,
   "title_cell": "Содержание",
   "title_sidebar": "Содержание",
   "toc_cell": true,
   "toc_position": {
    "height": "calc(100% - 180px)",
    "left": "10px",
    "top": "150px",
    "width": "185.383px"
   },
   "toc_section_display": true,
   "toc_window_display": true
  },
  "varInspector": {
   "cols": {
    "lenName": 16,
    "lenType": 16,
    "lenVar": 40
   },
   "kernels_config": {
    "python": {
     "delete_cmd_postfix": "",
     "delete_cmd_prefix": "del ",
     "library": "var_list.py",
     "varRefreshCmd": "print(var_dic_list())"
    },
    "r": {
     "delete_cmd_postfix": ") ",
     "delete_cmd_prefix": "rm(",
     "library": "var_list.r",
     "varRefreshCmd": "cat(var_dic_list()) "
    }
   },
   "types_to_exclude": [
    "module",
    "function",
    "builtin_function_or_method",
    "instance",
    "_Feature"
   ],
   "window_display": false
  }
 },
 "nbformat": 4,
 "nbformat_minor": 2
}
