{
 "cells": [
  {
   "cell_type": "markdown",
   "metadata": {
    "toc": true
   },
   "source": [
    "<h1>Содержание<span class=\"tocSkip\"></span></h1>\n",
    "<div class=\"toc\"><ul class=\"toc-item\"><li><span><a href=\"#Изучение-данных-из-файла\" data-toc-modified-id=\"Изучение-данных-из-файла-1\"><span class=\"toc-item-num\">1&nbsp;&nbsp;</span>Изучение данных из файла</a></span><ul class=\"toc-item\"><li><span><a href=\"#Вывод\" data-toc-modified-id=\"Вывод-1.1\"><span class=\"toc-item-num\">1.1&nbsp;&nbsp;</span>Вывод</a></span></li></ul></li><li><span><a href=\"#Предобработка-данных\" data-toc-modified-id=\"Предобработка-данных-2\"><span class=\"toc-item-num\">2&nbsp;&nbsp;</span>Предобработка данных</a></span><ul class=\"toc-item\"><li><span><a href=\"#Изменение-названия-столбца\" data-toc-modified-id=\"Изменение-названия-столбца-2.1\"><span class=\"toc-item-num\">2.1&nbsp;&nbsp;</span>Изменение названия столбца</a></span></li><li><span><a href=\"#Заполнение-пропущенных-значений\" data-toc-modified-id=\"Заполнение-пропущенных-значений-2.2\"><span class=\"toc-item-num\">2.2&nbsp;&nbsp;</span>Заполнение пропущенных значений</a></span></li><li><span><a href=\"#Обработка-неявных-дубликатов\" data-toc-modified-id=\"Обработка-неявных-дубликатов-2.3\"><span class=\"toc-item-num\">2.3&nbsp;&nbsp;</span>Обработка неявных дубликатов</a></span></li><li><span><a href=\"#Изменение-типов-данных\" data-toc-modified-id=\"Изменение-типов-данных-2.4\"><span class=\"toc-item-num\">2.4&nbsp;&nbsp;</span>Изменение типов данных</a></span></li><li><span><a href=\"#Вывод\" data-toc-modified-id=\"Вывод-2.5\"><span class=\"toc-item-num\">2.5&nbsp;&nbsp;</span>Вывод</a></span></li></ul></li><li><span><a href=\"#Расчёты-и-добавление-результатов-в-таблицу\" data-toc-modified-id=\"Расчёты-и-добавление-результатов-в-таблицу-3\"><span class=\"toc-item-num\">3&nbsp;&nbsp;</span>Расчёты и добавление результатов в таблицу</a></span><ul class=\"toc-item\"><li><span><a href=\"#Цена-квадратного-метра\" data-toc-modified-id=\"Цена-квадратного-метра-3.1\"><span class=\"toc-item-num\">3.1&nbsp;&nbsp;</span>Цена квадратного метра</a></span></li><li><span><a href=\"#День-недели,-месяц-и-год-публикации-объявления\" data-toc-modified-id=\"День-недели,-месяц-и-год-публикации-объявления-3.2\"><span class=\"toc-item-num\">3.2&nbsp;&nbsp;</span>День недели, месяц и год публикации объявления</a></span></li><li><span><a href=\"#Этаж-квартиры\" data-toc-modified-id=\"Этаж-квартиры-3.3\"><span class=\"toc-item-num\">3.3&nbsp;&nbsp;</span>Этаж квартиры</a></span></li><li><span><a href=\"#Соотношения-площадей\" data-toc-modified-id=\"Соотношения-площадей-3.4\"><span class=\"toc-item-num\">3.4&nbsp;&nbsp;</span>Соотношения площадей</a></span></li><li><span><a href=\"#Вывод\" data-toc-modified-id=\"Вывод-3.5\"><span class=\"toc-item-num\">3.5&nbsp;&nbsp;</span>Вывод</a></span></li></ul></li><li><span><a href=\"#Исследовательский-анализ-данных\" data-toc-modified-id=\"Исследовательский-анализ-данных-4\"><span class=\"toc-item-num\">4&nbsp;&nbsp;</span>Исследовательский анализ данных</a></span><ul class=\"toc-item\"><li><span><a href=\"#Изучение-площади,-цены,-числа-комнат,-высоты-потолков,-построение-гистограмм\" data-toc-modified-id=\"Изучение-площади,-цены,-числа-комнат,-высоты-потолков,-построение-гистограмм-4.1\"><span class=\"toc-item-num\">4.1&nbsp;&nbsp;</span>Изучение площади, цены, числа комнат, высоты потолков, построение гистограмм</a></span></li><li><span><a href=\"#Изучение-времени-продажи-квартиры\" data-toc-modified-id=\"Изучение-времени-продажи-квартиры-4.2\"><span class=\"toc-item-num\">4.2&nbsp;&nbsp;</span>Изучение времени продажи квартиры</a></span></li><li><span><a href=\"#Изучение-факторов,-влияющих-на-цену-квартиры\" data-toc-modified-id=\"Изучение-факторов,-влияющих-на-цену-квартиры-4.3\"><span class=\"toc-item-num\">4.3&nbsp;&nbsp;</span>Изучение факторов, влияющих на цену квартиры</a></span></li><li><span><a href=\"#Расчет-средней-цены-квадратного-метра-в-10-населенных-пунктах-с-наибольшим-числом-объявлений\" data-toc-modified-id=\"Расчет-средней-цены-квадратного-метра-в-10-населенных-пунктах-с-наибольшим-числом-объявлений-4.4\"><span class=\"toc-item-num\">4.4&nbsp;&nbsp;</span>Расчет средней цены квадратного метра в 10 населенных пунктах с наибольшим числом объявлений</a></span></li><li><span><a href=\"#Определение-области,-входящей-в-центр-Санкт-Петербурга\" data-toc-modified-id=\"Определение-области,-входящей-в-центр-Санкт-Петербурга-4.5\"><span class=\"toc-item-num\">4.5&nbsp;&nbsp;</span>Определение области, входящей в центр Санкт-Петербурга</a></span></li><li><span><a href=\"#Изучение-сегмента-квартир-в-центре-Санкт-Петербурга\" data-toc-modified-id=\"Изучение-сегмента-квартир-в-центре-Санкт-Петербурга-4.6\"><span class=\"toc-item-num\">4.6&nbsp;&nbsp;</span>Изучение сегмента квартир в центре Санкт-Петербурга</a></span></li><li><span><a href=\"#Вывод\" data-toc-modified-id=\"Вывод-4.7\"><span class=\"toc-item-num\">4.7&nbsp;&nbsp;</span>Вывод</a></span></li></ul></li><li><span><a href=\"#Общий-вывод\" data-toc-modified-id=\"Общий-вывод-5\"><span class=\"toc-item-num\">5&nbsp;&nbsp;</span>Общий вывод</a></span></li><li><span><a href=\"#Чек-лист-готовности-проекта\" data-toc-modified-id=\"Чек-лист-готовности-проекта-6\"><span class=\"toc-item-num\">6&nbsp;&nbsp;</span>Чек-лист готовности проекта</a></span></li></ul></div>"
   ]
  },
  {
   "cell_type": "markdown",
   "metadata": {},
   "source": [
    "# Исследование объявлений о продаже квартир\n",
    "\n",
    "В вашем распоряжении данные сервиса Яндекс.Недвижимость — архив объявлений о продаже квартир в Санкт-Петербурге и соседних населённых пунктах за несколько лет. Нужно научиться определять рыночную стоимость объектов недвижимости. Ваша задача — установить параметры. Это позволит построить автоматизированную систему: она отследит аномалии и мошенническую деятельность. \n",
    "\n",
    "По каждой квартире на продажу доступны два вида данных. Первые вписаны пользователем, вторые получены автоматически на основе картографических данных. Например, расстояние до центра, аэропорта, ближайшего парка и водоёма. "
   ]
  },
  {
   "cell_type": "markdown",
   "metadata": {},
   "source": [
    "## Изучение данных из файла"
   ]
  },
  {
   "cell_type": "code",
   "execution_count": 1,
   "metadata": {},
   "outputs": [
    {
     "data": {
      "text/html": [
       "<div>\n",
       "<style scoped>\n",
       "    .dataframe tbody tr th:only-of-type {\n",
       "        vertical-align: middle;\n",
       "    }\n",
       "\n",
       "    .dataframe tbody tr th {\n",
       "        vertical-align: top;\n",
       "    }\n",
       "\n",
       "    .dataframe thead th {\n",
       "        text-align: right;\n",
       "    }\n",
       "</style>\n",
       "<table border=\"1\" class=\"dataframe\">\n",
       "  <thead>\n",
       "    <tr style=\"text-align: right;\">\n",
       "      <th></th>\n",
       "      <th>total_images</th>\n",
       "      <th>last_price</th>\n",
       "      <th>total_area</th>\n",
       "      <th>first_day_exposition</th>\n",
       "      <th>rooms</th>\n",
       "      <th>ceiling_height</th>\n",
       "      <th>floors_total</th>\n",
       "      <th>living_area</th>\n",
       "      <th>floor</th>\n",
       "      <th>is_apartment</th>\n",
       "      <th>...</th>\n",
       "      <th>kitchen_area</th>\n",
       "      <th>balcony</th>\n",
       "      <th>locality_name</th>\n",
       "      <th>airports_nearest</th>\n",
       "      <th>cityCenters_nearest</th>\n",
       "      <th>parks_around3000</th>\n",
       "      <th>parks_nearest</th>\n",
       "      <th>ponds_around3000</th>\n",
       "      <th>ponds_nearest</th>\n",
       "      <th>days_exposition</th>\n",
       "    </tr>\n",
       "  </thead>\n",
       "  <tbody>\n",
       "    <tr>\n",
       "      <td>0</td>\n",
       "      <td>20</td>\n",
       "      <td>13000000.0</td>\n",
       "      <td>108.0</td>\n",
       "      <td>2019-03-07T00:00:00</td>\n",
       "      <td>3</td>\n",
       "      <td>2.70</td>\n",
       "      <td>16.0</td>\n",
       "      <td>51.0</td>\n",
       "      <td>8</td>\n",
       "      <td>NaN</td>\n",
       "      <td>...</td>\n",
       "      <td>25.0</td>\n",
       "      <td>NaN</td>\n",
       "      <td>Санкт-Петербург</td>\n",
       "      <td>18863.0</td>\n",
       "      <td>16028.0</td>\n",
       "      <td>1.0</td>\n",
       "      <td>482.0</td>\n",
       "      <td>2.0</td>\n",
       "      <td>755.0</td>\n",
       "      <td>NaN</td>\n",
       "    </tr>\n",
       "    <tr>\n",
       "      <td>1</td>\n",
       "      <td>7</td>\n",
       "      <td>3350000.0</td>\n",
       "      <td>40.4</td>\n",
       "      <td>2018-12-04T00:00:00</td>\n",
       "      <td>1</td>\n",
       "      <td>NaN</td>\n",
       "      <td>11.0</td>\n",
       "      <td>18.6</td>\n",
       "      <td>1</td>\n",
       "      <td>NaN</td>\n",
       "      <td>...</td>\n",
       "      <td>11.0</td>\n",
       "      <td>2.0</td>\n",
       "      <td>посёлок Шушары</td>\n",
       "      <td>12817.0</td>\n",
       "      <td>18603.0</td>\n",
       "      <td>0.0</td>\n",
       "      <td>NaN</td>\n",
       "      <td>0.0</td>\n",
       "      <td>NaN</td>\n",
       "      <td>81.0</td>\n",
       "    </tr>\n",
       "    <tr>\n",
       "      <td>2</td>\n",
       "      <td>10</td>\n",
       "      <td>5196000.0</td>\n",
       "      <td>56.0</td>\n",
       "      <td>2015-08-20T00:00:00</td>\n",
       "      <td>2</td>\n",
       "      <td>NaN</td>\n",
       "      <td>5.0</td>\n",
       "      <td>34.3</td>\n",
       "      <td>4</td>\n",
       "      <td>NaN</td>\n",
       "      <td>...</td>\n",
       "      <td>8.3</td>\n",
       "      <td>0.0</td>\n",
       "      <td>Санкт-Петербург</td>\n",
       "      <td>21741.0</td>\n",
       "      <td>13933.0</td>\n",
       "      <td>1.0</td>\n",
       "      <td>90.0</td>\n",
       "      <td>2.0</td>\n",
       "      <td>574.0</td>\n",
       "      <td>558.0</td>\n",
       "    </tr>\n",
       "    <tr>\n",
       "      <td>3</td>\n",
       "      <td>0</td>\n",
       "      <td>64900000.0</td>\n",
       "      <td>159.0</td>\n",
       "      <td>2015-07-24T00:00:00</td>\n",
       "      <td>3</td>\n",
       "      <td>NaN</td>\n",
       "      <td>14.0</td>\n",
       "      <td>NaN</td>\n",
       "      <td>9</td>\n",
       "      <td>NaN</td>\n",
       "      <td>...</td>\n",
       "      <td>NaN</td>\n",
       "      <td>0.0</td>\n",
       "      <td>Санкт-Петербург</td>\n",
       "      <td>28098.0</td>\n",
       "      <td>6800.0</td>\n",
       "      <td>2.0</td>\n",
       "      <td>84.0</td>\n",
       "      <td>3.0</td>\n",
       "      <td>234.0</td>\n",
       "      <td>424.0</td>\n",
       "    </tr>\n",
       "    <tr>\n",
       "      <td>4</td>\n",
       "      <td>2</td>\n",
       "      <td>10000000.0</td>\n",
       "      <td>100.0</td>\n",
       "      <td>2018-06-19T00:00:00</td>\n",
       "      <td>2</td>\n",
       "      <td>3.03</td>\n",
       "      <td>14.0</td>\n",
       "      <td>32.0</td>\n",
       "      <td>13</td>\n",
       "      <td>NaN</td>\n",
       "      <td>...</td>\n",
       "      <td>41.0</td>\n",
       "      <td>NaN</td>\n",
       "      <td>Санкт-Петербург</td>\n",
       "      <td>31856.0</td>\n",
       "      <td>8098.0</td>\n",
       "      <td>2.0</td>\n",
       "      <td>112.0</td>\n",
       "      <td>1.0</td>\n",
       "      <td>48.0</td>\n",
       "      <td>121.0</td>\n",
       "    </tr>\n",
       "  </tbody>\n",
       "</table>\n",
       "<p>5 rows × 22 columns</p>\n",
       "</div>"
      ],
      "text/plain": [
       "   total_images  last_price  total_area first_day_exposition  rooms  \\\n",
       "0            20  13000000.0       108.0  2019-03-07T00:00:00      3   \n",
       "1             7   3350000.0        40.4  2018-12-04T00:00:00      1   \n",
       "2            10   5196000.0        56.0  2015-08-20T00:00:00      2   \n",
       "3             0  64900000.0       159.0  2015-07-24T00:00:00      3   \n",
       "4             2  10000000.0       100.0  2018-06-19T00:00:00      2   \n",
       "\n",
       "   ceiling_height  floors_total  living_area  floor is_apartment  ...  \\\n",
       "0            2.70          16.0         51.0      8          NaN  ...   \n",
       "1             NaN          11.0         18.6      1          NaN  ...   \n",
       "2             NaN           5.0         34.3      4          NaN  ...   \n",
       "3             NaN          14.0          NaN      9          NaN  ...   \n",
       "4            3.03          14.0         32.0     13          NaN  ...   \n",
       "\n",
       "   kitchen_area  balcony    locality_name  airports_nearest  \\\n",
       "0          25.0      NaN  Санкт-Петербург           18863.0   \n",
       "1          11.0      2.0   посёлок Шушары           12817.0   \n",
       "2           8.3      0.0  Санкт-Петербург           21741.0   \n",
       "3           NaN      0.0  Санкт-Петербург           28098.0   \n",
       "4          41.0      NaN  Санкт-Петербург           31856.0   \n",
       "\n",
       "  cityCenters_nearest  parks_around3000  parks_nearest  ponds_around3000  \\\n",
       "0             16028.0               1.0          482.0               2.0   \n",
       "1             18603.0               0.0            NaN               0.0   \n",
       "2             13933.0               1.0           90.0               2.0   \n",
       "3              6800.0               2.0           84.0               3.0   \n",
       "4              8098.0               2.0          112.0               1.0   \n",
       "\n",
       "   ponds_nearest  days_exposition  \n",
       "0          755.0              NaN  \n",
       "1            NaN             81.0  \n",
       "2          574.0            558.0  \n",
       "3          234.0            424.0  \n",
       "4           48.0            121.0  \n",
       "\n",
       "[5 rows x 22 columns]"
      ]
     },
     "metadata": {},
     "output_type": "display_data"
    }
   ],
   "source": [
    "import pandas as pd\n",
    "try:\n",
    "    data = pd.read_csv('/datasets/real_estate_data.csv', sep='\\t')\n",
    "    display(data.head())\n",
    "except OSError as err:\n",
    "    print(err)"
   ]
  },
  {
   "cell_type": "code",
   "execution_count": 2,
   "metadata": {
    "scrolled": false
   },
   "outputs": [
    {
     "name": "stdout",
     "output_type": "stream",
     "text": [
      "<class 'pandas.core.frame.DataFrame'>\n",
      "RangeIndex: 23699 entries, 0 to 23698\n",
      "Data columns (total 22 columns):\n",
      "total_images            23699 non-null int64\n",
      "last_price              23699 non-null float64\n",
      "total_area              23699 non-null float64\n",
      "first_day_exposition    23699 non-null object\n",
      "rooms                   23699 non-null int64\n",
      "ceiling_height          14504 non-null float64\n",
      "floors_total            23613 non-null float64\n",
      "living_area             21796 non-null float64\n",
      "floor                   23699 non-null int64\n",
      "is_apartment            2775 non-null object\n",
      "studio                  23699 non-null bool\n",
      "open_plan               23699 non-null bool\n",
      "kitchen_area            21421 non-null float64\n",
      "balcony                 12180 non-null float64\n",
      "locality_name           23650 non-null object\n",
      "airports_nearest        18157 non-null float64\n",
      "cityCenters_nearest     18180 non-null float64\n",
      "parks_around3000        18181 non-null float64\n",
      "parks_nearest           8079 non-null float64\n",
      "ponds_around3000        18181 non-null float64\n",
      "ponds_nearest           9110 non-null float64\n",
      "days_exposition         20518 non-null float64\n",
      "dtypes: bool(2), float64(14), int64(3), object(3)\n",
      "memory usage: 3.7+ MB\n"
     ]
    }
   ],
   "source": [
    "data.info()"
   ]
  },
  {
   "cell_type": "markdown",
   "metadata": {},
   "source": [
    "### Вывод"
   ]
  },
  {
   "cell_type": "markdown",
   "metadata": {},
   "source": [
    "Путем первичного обзора данных в таблице были выявлены следующие недостатки:\n",
    "1. Столбец `cityCenters_nearest` не соответствует \"змеиному\" регистру;\n",
    "2. Во всех столбцах, кроме `total_images`, `last_price`, `total_area`, `first_day_exposition`, `rooms`, `floor`, `studio` и `open_plan` присутствуют пропущенные значения;\n",
    "3. Согласно описанию тип данных в столбце `is_apartment` должен быть `bool`, а не `object`; в столбцах `floors_total`, `balcony`, `parks_around3000`, `ponds_around3000` и `days_exposition` - целочисленный тип (так как количество чего-либо не может быть дробным);\n",
    "4. В столбце `first_day_exposition` тип данных не `datetime`, причем также в строках везде указано время `00:00:00`, но нужны только день, месяц и год.\n",
    "\n",
    "В следующем шаге исправим эти недочеты."
   ]
  },
  {
   "cell_type": "markdown",
   "metadata": {},
   "source": [
    "## Предобработка данных"
   ]
  },
  {
   "cell_type": "markdown",
   "metadata": {},
   "source": [
    "### Изменение названия столбца"
   ]
  },
  {
   "cell_type": "code",
   "execution_count": 3,
   "metadata": {},
   "outputs": [
    {
     "data": {
      "text/plain": [
       "Index(['total_images', 'last_price', 'total_area', 'first_day_exposition',\n",
       "       'rooms', 'ceiling_height', 'floors_total', 'living_area', 'floor',\n",
       "       'is_apartment', 'studio', 'open_plan', 'kitchen_area', 'balcony',\n",
       "       'locality_name', 'airports_nearest', 'city_centers_nearest',\n",
       "       'parks_around3000', 'parks_nearest', 'ponds_around3000',\n",
       "       'ponds_nearest', 'days_exposition'],\n",
       "      dtype='object')"
      ]
     },
     "execution_count": 3,
     "metadata": {},
     "output_type": "execute_result"
    }
   ],
   "source": [
    "data.rename(columns={'cityCenters_nearest': 'city_centers_nearest'}, inplace=True)\n",
    "data.columns"
   ]
  },
  {
   "cell_type": "markdown",
   "metadata": {},
   "source": [
    "### Заполнение пропущенных значений"
   ]
  },
  {
   "cell_type": "markdown",
   "metadata": {},
   "source": [
    "Для начала просмотрим, какую долю в каждом из столбцов составляют пропущенные значения."
   ]
  },
  {
   "cell_type": "code",
   "execution_count": 4,
   "metadata": {},
   "outputs": [
    {
     "data": {
      "text/html": [
       "<style  type=\"text/css\" >\n",
       "    #T_a79dbae2_715e_11ec_86d7_02420a39d565row0_col0 {\n",
       "            background-color:  #3b4cc0;\n",
       "            color:  #f1f1f1;\n",
       "        }    #T_a79dbae2_715e_11ec_86d7_02420a39d565row1_col0 {\n",
       "            background-color:  #3b4cc0;\n",
       "            color:  #f1f1f1;\n",
       "        }    #T_a79dbae2_715e_11ec_86d7_02420a39d565row2_col0 {\n",
       "            background-color:  #3b4cc0;\n",
       "            color:  #f1f1f1;\n",
       "        }    #T_a79dbae2_715e_11ec_86d7_02420a39d565row3_col0 {\n",
       "            background-color:  #3b4cc0;\n",
       "            color:  #f1f1f1;\n",
       "        }    #T_a79dbae2_715e_11ec_86d7_02420a39d565row4_col0 {\n",
       "            background-color:  #3b4cc0;\n",
       "            color:  #f1f1f1;\n",
       "        }    #T_a79dbae2_715e_11ec_86d7_02420a39d565row5_col0 {\n",
       "            background-color:  #ccd9ed;\n",
       "            color:  #000000;\n",
       "        }    #T_a79dbae2_715e_11ec_86d7_02420a39d565row6_col0 {\n",
       "            background-color:  #3c4ec2;\n",
       "            color:  #f1f1f1;\n",
       "        }    #T_a79dbae2_715e_11ec_86d7_02420a39d565row7_col0 {\n",
       "            background-color:  #5673e0;\n",
       "            color:  #000000;\n",
       "        }    #T_a79dbae2_715e_11ec_86d7_02420a39d565row8_col0 {\n",
       "            background-color:  #3b4cc0;\n",
       "            color:  #f1f1f1;\n",
       "        }    #T_a79dbae2_715e_11ec_86d7_02420a39d565row9_col0 {\n",
       "            background-color:  #b40426;\n",
       "            color:  #f1f1f1;\n",
       "        }    #T_a79dbae2_715e_11ec_86d7_02420a39d565row10_col0 {\n",
       "            background-color:  #3b4cc0;\n",
       "            color:  #f1f1f1;\n",
       "        }    #T_a79dbae2_715e_11ec_86d7_02420a39d565row11_col0 {\n",
       "            background-color:  #3b4cc0;\n",
       "            color:  #f1f1f1;\n",
       "        }    #T_a79dbae2_715e_11ec_86d7_02420a39d565row12_col0 {\n",
       "            background-color:  #5b7ae5;\n",
       "            color:  #000000;\n",
       "        }    #T_a79dbae2_715e_11ec_86d7_02420a39d565row13_col0 {\n",
       "            background-color:  #e9d5cb;\n",
       "            color:  #000000;\n",
       "        }    #T_a79dbae2_715e_11ec_86d7_02420a39d565row14_col0 {\n",
       "            background-color:  #3b4cc0;\n",
       "            color:  #f1f1f1;\n",
       "        }    #T_a79dbae2_715e_11ec_86d7_02420a39d565row15_col0 {\n",
       "            background-color:  #92b4fe;\n",
       "            color:  #000000;\n",
       "        }    #T_a79dbae2_715e_11ec_86d7_02420a39d565row16_col0 {\n",
       "            background-color:  #92b4fe;\n",
       "            color:  #000000;\n",
       "        }    #T_a79dbae2_715e_11ec_86d7_02420a39d565row17_col0 {\n",
       "            background-color:  #92b4fe;\n",
       "            color:  #000000;\n",
       "        }    #T_a79dbae2_715e_11ec_86d7_02420a39d565row18_col0 {\n",
       "            background-color:  #f49a7b;\n",
       "            color:  #000000;\n",
       "        }    #T_a79dbae2_715e_11ec_86d7_02420a39d565row19_col0 {\n",
       "            background-color:  #92b4fe;\n",
       "            color:  #000000;\n",
       "        }    #T_a79dbae2_715e_11ec_86d7_02420a39d565row20_col0 {\n",
       "            background-color:  #f7ad90;\n",
       "            color:  #000000;\n",
       "        }    #T_a79dbae2_715e_11ec_86d7_02420a39d565row21_col0 {\n",
       "            background-color:  #6a8bef;\n",
       "            color:  #000000;\n",
       "        }</style><table id=\"T_a79dbae2_715e_11ec_86d7_02420a39d565\" ><thead>    <tr>        <th class=\"blank level0\" ></th>        <th class=\"col_heading level0 col0\" >0</th>    </tr></thead><tbody>\n",
       "                <tr>\n",
       "                        <th id=\"T_a79dbae2_715e_11ec_86d7_02420a39d565level0_row0\" class=\"row_heading level0 row0\" >total_images</th>\n",
       "                        <td id=\"T_a79dbae2_715e_11ec_86d7_02420a39d565row0_col0\" class=\"data row0 col0\" >0</td>\n",
       "            </tr>\n",
       "            <tr>\n",
       "                        <th id=\"T_a79dbae2_715e_11ec_86d7_02420a39d565level0_row1\" class=\"row_heading level0 row1\" >last_price</th>\n",
       "                        <td id=\"T_a79dbae2_715e_11ec_86d7_02420a39d565row1_col0\" class=\"data row1 col0\" >0</td>\n",
       "            </tr>\n",
       "            <tr>\n",
       "                        <th id=\"T_a79dbae2_715e_11ec_86d7_02420a39d565level0_row2\" class=\"row_heading level0 row2\" >total_area</th>\n",
       "                        <td id=\"T_a79dbae2_715e_11ec_86d7_02420a39d565row2_col0\" class=\"data row2 col0\" >0</td>\n",
       "            </tr>\n",
       "            <tr>\n",
       "                        <th id=\"T_a79dbae2_715e_11ec_86d7_02420a39d565level0_row3\" class=\"row_heading level0 row3\" >first_day_exposition</th>\n",
       "                        <td id=\"T_a79dbae2_715e_11ec_86d7_02420a39d565row3_col0\" class=\"data row3 col0\" >0</td>\n",
       "            </tr>\n",
       "            <tr>\n",
       "                        <th id=\"T_a79dbae2_715e_11ec_86d7_02420a39d565level0_row4\" class=\"row_heading level0 row4\" >rooms</th>\n",
       "                        <td id=\"T_a79dbae2_715e_11ec_86d7_02420a39d565row4_col0\" class=\"data row4 col0\" >0</td>\n",
       "            </tr>\n",
       "            <tr>\n",
       "                        <th id=\"T_a79dbae2_715e_11ec_86d7_02420a39d565level0_row5\" class=\"row_heading level0 row5\" >ceiling_height</th>\n",
       "                        <td id=\"T_a79dbae2_715e_11ec_86d7_02420a39d565row5_col0\" class=\"data row5 col0\" >38.8</td>\n",
       "            </tr>\n",
       "            <tr>\n",
       "                        <th id=\"T_a79dbae2_715e_11ec_86d7_02420a39d565level0_row6\" class=\"row_heading level0 row6\" >floors_total</th>\n",
       "                        <td id=\"T_a79dbae2_715e_11ec_86d7_02420a39d565row6_col0\" class=\"data row6 col0\" >0.36</td>\n",
       "            </tr>\n",
       "            <tr>\n",
       "                        <th id=\"T_a79dbae2_715e_11ec_86d7_02420a39d565level0_row7\" class=\"row_heading level0 row7\" >living_area</th>\n",
       "                        <td id=\"T_a79dbae2_715e_11ec_86d7_02420a39d565row7_col0\" class=\"data row7 col0\" >8.03</td>\n",
       "            </tr>\n",
       "            <tr>\n",
       "                        <th id=\"T_a79dbae2_715e_11ec_86d7_02420a39d565level0_row8\" class=\"row_heading level0 row8\" >floor</th>\n",
       "                        <td id=\"T_a79dbae2_715e_11ec_86d7_02420a39d565row8_col0\" class=\"data row8 col0\" >0</td>\n",
       "            </tr>\n",
       "            <tr>\n",
       "                        <th id=\"T_a79dbae2_715e_11ec_86d7_02420a39d565level0_row9\" class=\"row_heading level0 row9\" >is_apartment</th>\n",
       "                        <td id=\"T_a79dbae2_715e_11ec_86d7_02420a39d565row9_col0\" class=\"data row9 col0\" >88.29</td>\n",
       "            </tr>\n",
       "            <tr>\n",
       "                        <th id=\"T_a79dbae2_715e_11ec_86d7_02420a39d565level0_row10\" class=\"row_heading level0 row10\" >studio</th>\n",
       "                        <td id=\"T_a79dbae2_715e_11ec_86d7_02420a39d565row10_col0\" class=\"data row10 col0\" >0</td>\n",
       "            </tr>\n",
       "            <tr>\n",
       "                        <th id=\"T_a79dbae2_715e_11ec_86d7_02420a39d565level0_row11\" class=\"row_heading level0 row11\" >open_plan</th>\n",
       "                        <td id=\"T_a79dbae2_715e_11ec_86d7_02420a39d565row11_col0\" class=\"data row11 col0\" >0</td>\n",
       "            </tr>\n",
       "            <tr>\n",
       "                        <th id=\"T_a79dbae2_715e_11ec_86d7_02420a39d565level0_row12\" class=\"row_heading level0 row12\" >kitchen_area</th>\n",
       "                        <td id=\"T_a79dbae2_715e_11ec_86d7_02420a39d565row12_col0\" class=\"data row12 col0\" >9.61</td>\n",
       "            </tr>\n",
       "            <tr>\n",
       "                        <th id=\"T_a79dbae2_715e_11ec_86d7_02420a39d565level0_row13\" class=\"row_heading level0 row13\" >balcony</th>\n",
       "                        <td id=\"T_a79dbae2_715e_11ec_86d7_02420a39d565row13_col0\" class=\"data row13 col0\" >48.61</td>\n",
       "            </tr>\n",
       "            <tr>\n",
       "                        <th id=\"T_a79dbae2_715e_11ec_86d7_02420a39d565level0_row14\" class=\"row_heading level0 row14\" >locality_name</th>\n",
       "                        <td id=\"T_a79dbae2_715e_11ec_86d7_02420a39d565row14_col0\" class=\"data row14 col0\" >0.21</td>\n",
       "            </tr>\n",
       "            <tr>\n",
       "                        <th id=\"T_a79dbae2_715e_11ec_86d7_02420a39d565level0_row15\" class=\"row_heading level0 row15\" >airports_nearest</th>\n",
       "                        <td id=\"T_a79dbae2_715e_11ec_86d7_02420a39d565row15_col0\" class=\"data row15 col0\" >23.38</td>\n",
       "            </tr>\n",
       "            <tr>\n",
       "                        <th id=\"T_a79dbae2_715e_11ec_86d7_02420a39d565level0_row16\" class=\"row_heading level0 row16\" >city_centers_nearest</th>\n",
       "                        <td id=\"T_a79dbae2_715e_11ec_86d7_02420a39d565row16_col0\" class=\"data row16 col0\" >23.29</td>\n",
       "            </tr>\n",
       "            <tr>\n",
       "                        <th id=\"T_a79dbae2_715e_11ec_86d7_02420a39d565level0_row17\" class=\"row_heading level0 row17\" >parks_around3000</th>\n",
       "                        <td id=\"T_a79dbae2_715e_11ec_86d7_02420a39d565row17_col0\" class=\"data row17 col0\" >23.28</td>\n",
       "            </tr>\n",
       "            <tr>\n",
       "                        <th id=\"T_a79dbae2_715e_11ec_86d7_02420a39d565level0_row18\" class=\"row_heading level0 row18\" >parks_nearest</th>\n",
       "                        <td id=\"T_a79dbae2_715e_11ec_86d7_02420a39d565row18_col0\" class=\"data row18 col0\" >65.91</td>\n",
       "            </tr>\n",
       "            <tr>\n",
       "                        <th id=\"T_a79dbae2_715e_11ec_86d7_02420a39d565level0_row19\" class=\"row_heading level0 row19\" >ponds_around3000</th>\n",
       "                        <td id=\"T_a79dbae2_715e_11ec_86d7_02420a39d565row19_col0\" class=\"data row19 col0\" >23.28</td>\n",
       "            </tr>\n",
       "            <tr>\n",
       "                        <th id=\"T_a79dbae2_715e_11ec_86d7_02420a39d565level0_row20\" class=\"row_heading level0 row20\" >ponds_nearest</th>\n",
       "                        <td id=\"T_a79dbae2_715e_11ec_86d7_02420a39d565row20_col0\" class=\"data row20 col0\" >61.56</td>\n",
       "            </tr>\n",
       "            <tr>\n",
       "                        <th id=\"T_a79dbae2_715e_11ec_86d7_02420a39d565level0_row21\" class=\"row_heading level0 row21\" >days_exposition</th>\n",
       "                        <td id=\"T_a79dbae2_715e_11ec_86d7_02420a39d565row21_col0\" class=\"data row21 col0\" >13.42</td>\n",
       "            </tr>\n",
       "    </tbody></table>"
      ],
      "text/plain": [
       "<pandas.io.formats.style.Styler at 0x7fd82c6bc610>"
      ]
     },
     "execution_count": 4,
     "metadata": {},
     "output_type": "execute_result"
    }
   ],
   "source": [
    "pd.DataFrame(round((data.isna().mean()*100), 2)).style.background_gradient('coolwarm')"
   ]
  },
  {
   "cell_type": "markdown",
   "metadata": {},
   "source": [
    "В столбце `ceiling_height` логично заменить пропущенные значения медианой - высота потолков в большинстве домов не должна сильно отличаться, при этом в столбце 38.8% пропусков - довольно большая доля, поэтому заполнение средним значением может сильно исказить результаты исследования."
   ]
  },
  {
   "cell_type": "code",
   "execution_count": 5,
   "metadata": {
    "scrolled": true
   },
   "outputs": [],
   "source": [
    "data['ceiling_height'] = data['ceiling_height'].fillna(data['ceiling_height'].median())"
   ]
  },
  {
   "cell_type": "markdown",
   "metadata": {},
   "source": [
    "В столбцах `living_area` и `kitchen_area` имеются пропуски, однако есть столбец `total_area`, в котором пропусков нет. Рассчитаем отношения жилой и кухонной площади к общей, и возьмем в каждом случае медиану."
   ]
  },
  {
   "cell_type": "code",
   "execution_count": 6,
   "metadata": {},
   "outputs": [
    {
     "name": "stdout",
     "output_type": "stream",
     "text": [
      "0.5678598992678503\n",
      "0.1724137931034483\n"
     ]
    }
   ],
   "source": [
    "conv_living_total_med = (data['living_area'] / data['total_area']).median()\n",
    "conv_kitchen_total_med = (data['kitchen_area'] / data['total_area']).median()\n",
    "print(conv_living_total_med)\n",
    "print(conv_kitchen_total_med)"
   ]
  },
  {
   "cell_type": "markdown",
   "metadata": {},
   "source": [
    "Теперь заполним соответствующими медианными значениями пропуски в столбцах `living_area` и `kitchen_area`."
   ]
  },
  {
   "cell_type": "code",
   "execution_count": 7,
   "metadata": {},
   "outputs": [],
   "source": [
    "data['living_area'] = (\n",
    "    data['living_area']\n",
    "    .fillna(conv_living_total_med * data['total_area'])\n",
    ")\n",
    "data['kitchen_area'] = (\n",
    "    data['kitchen_area']\n",
    "    .fillna(conv_kitchen_total_med * data['total_area'])\n",
    ")"
   ]
  },
  {
   "cell_type": "markdown",
   "metadata": {},
   "source": [
    "В столбце `floors_total` всего 86 пропусков - вполне возможно, что это владельцы одноэтажных частных домов не указали количество. В этом столбце заполним пропуски единицами.\n",
    "В столбце `balcony` у многих не указано число балконов - вероятнее всего, их просто нет. Заполним пропуски в этом столбце нулями."
   ]
  },
  {
   "cell_type": "code",
   "execution_count": 8,
   "metadata": {},
   "outputs": [],
   "source": [
    "data['floors_total'] = data['floors_total'].fillna(1)\n",
    "data['balcony'] = data['balcony'].fillna(0)"
   ]
  },
  {
   "cell_type": "markdown",
   "metadata": {},
   "source": [
    "Столбец `is_apartment` имеет больше всего пропусков - заполнять его чем-то не имеет смысла, для дальнейшего анализа он не нужен, поэтому просто удалим его из таблицы."
   ]
  },
  {
   "cell_type": "code",
   "execution_count": 9,
   "metadata": {},
   "outputs": [],
   "source": [
    "data.drop('is_apartment', axis=1, inplace=True)"
   ]
  },
  {
   "cell_type": "markdown",
   "metadata": {},
   "source": [
    "В столбце `locality_name` в 49 строках не указан населенный пункт. Предугадать его мы не можем, поэтому пока заполним пропуски значением `\"unknown\"`. Далее, возможно, удастся идентифицировать эти объекты, анализируя их удаленность от центра города Санкт-Петербург."
   ]
  },
  {
   "cell_type": "code",
   "execution_count": 10,
   "metadata": {},
   "outputs": [
    {
     "name": "stdout",
     "output_type": "stream",
     "text": [
      "<class 'pandas.core.frame.DataFrame'>\n",
      "RangeIndex: 23699 entries, 0 to 23698\n",
      "Data columns (total 21 columns):\n",
      "total_images            23699 non-null int64\n",
      "last_price              23699 non-null float64\n",
      "total_area              23699 non-null float64\n",
      "first_day_exposition    23699 non-null object\n",
      "rooms                   23699 non-null int64\n",
      "ceiling_height          23699 non-null float64\n",
      "floors_total            23699 non-null float64\n",
      "living_area             23699 non-null float64\n",
      "floor                   23699 non-null int64\n",
      "studio                  23699 non-null bool\n",
      "open_plan               23699 non-null bool\n",
      "kitchen_area            23699 non-null float64\n",
      "balcony                 23699 non-null float64\n",
      "locality_name           23699 non-null object\n",
      "airports_nearest        18157 non-null float64\n",
      "city_centers_nearest    18180 non-null float64\n",
      "parks_around3000        18181 non-null float64\n",
      "parks_nearest           8079 non-null float64\n",
      "ponds_around3000        18181 non-null float64\n",
      "ponds_nearest           9110 non-null float64\n",
      "days_exposition         20518 non-null float64\n",
      "dtypes: bool(2), float64(14), int64(3), object(2)\n",
      "memory usage: 3.5+ MB\n"
     ]
    }
   ],
   "source": [
    "data['locality_name'] = data['locality_name'].fillna('unknown')\n",
    "data.info()"
   ]
  },
  {
   "cell_type": "markdown",
   "metadata": {},
   "source": [
    "В оставшихся столбцах нельзя заполнить пропуски каким-то значением, так как это может серьезно исказить результаты дальнейших исследований, поэтому оставим эти пропуски \"как есть\"."
   ]
  },
  {
   "cell_type": "markdown",
   "metadata": {},
   "source": [
    "### Обработка неявных дубликатов"
   ]
  },
  {
   "cell_type": "markdown",
   "metadata": {},
   "source": [
    "В столбце `locality_name` находятся строковые данные. В нем могут находиться неявные дубликаты - например, написание е вместо ё, или разный регистр символов. Обработаем их при помощи строковых методов: приведение к нижнему регистру `lower()` и замена символов `replace()`."
   ]
  },
  {
   "cell_type": "code",
   "execution_count": 11,
   "metadata": {
    "scrolled": true
   },
   "outputs": [
    {
     "data": {
      "text/plain": [
       "0    санкт-петербург\n",
       "1     поселок шушары\n",
       "2    санкт-петербург\n",
       "3    санкт-петербург\n",
       "4    санкт-петербург\n",
       "Name: locality_name, dtype: object"
      ]
     },
     "execution_count": 11,
     "metadata": {},
     "output_type": "execute_result"
    }
   ],
   "source": [
    "data['locality_name'] = data['locality_name'].str.lower().str.replace('ё', 'е')\n",
    "data['locality_name'].head()"
   ]
  },
  {
   "cell_type": "markdown",
   "metadata": {},
   "source": [
    "### Изменение типов данных"
   ]
  },
  {
   "cell_type": "markdown",
   "metadata": {},
   "source": [
    "Поскольку столбец `is_apartment` мы удалили, остается только заменить в описанных в пункте 1.1 столбцах тип на целочисленный. К сожалению, поскольку в столбцах `parks_around3000`, `ponds_around3000` и `days_exposition` есть пропущенные значения, метод `astype(...)` не может их обработать. Поэтому в вызов функции добавляем параметр `errors='ignore'`, при этом все `NaN` будут пропущены, а общий тип данных этих столбцов не поменяется, однако все присутствующие значения будут приведены в целочисленный тип, что нам было и нужно."
   ]
  },
  {
   "cell_type": "code",
   "execution_count": 12,
   "metadata": {},
   "outputs": [
    {
     "name": "stdout",
     "output_type": "stream",
     "text": [
      "floors_total: int64\n",
      "balcony: int64\n",
      "parks_around3000: float64\n",
      "ponds_around3000: float64\n",
      "days_exposition: float64\n"
     ]
    }
   ],
   "source": [
    "for col in ['floors_total', 'balcony', 'parks_around3000', 'ponds_around3000', 'days_exposition']:\n",
    "    data[col] = data[col].astype('int', errors='ignore')\n",
    "    print(f'{col}: {data[col].dtype}')"
   ]
  },
  {
   "cell_type": "markdown",
   "metadata": {},
   "source": [
    "Также изменим тип данных в столбце `first_day_exposition` на `datetime` и оставим только дату без времени."
   ]
  },
  {
   "cell_type": "code",
   "execution_count": 13,
   "metadata": {},
   "outputs": [
    {
     "data": {
      "text/plain": [
       "0   2019-03-07\n",
       "1   2018-12-04\n",
       "2   2015-08-20\n",
       "3   2015-07-24\n",
       "4   2018-06-19\n",
       "Name: first_day_exposition, dtype: datetime64[ns]"
      ]
     },
     "execution_count": 13,
     "metadata": {},
     "output_type": "execute_result"
    }
   ],
   "source": [
    "data['first_day_exposition'] = pd.to_datetime(data['first_day_exposition'],\n",
    "                                              format='%Y %m %d')\n",
    "data['first_day_exposition'].head()"
   ]
  },
  {
   "cell_type": "markdown",
   "metadata": {},
   "source": [
    "### Вывод"
   ]
  },
  {
   "cell_type": "markdown",
   "metadata": {},
   "source": [
    "Была проведена предобработка данных. Устранена большая часть проблем в данных, которые могли бы помешать в дальнейшем анализе.\n",
    "1. Переименован столбец `cityCenter_nearest` в `city_center_nearest`.\n",
    "2. Заполнены пропуски:\n",
    "\n",
    "    2.1. в столбце `ceiling_height` - медианой;  \n",
    "    \n",
    "    2.2. в столбцах `living_area` и `kitchen_area` - значением общей площади, умноженным на медиану отношения соответствующего столбца к столбцу `total_area`;\n",
    "    \n",
    "    2.3. в столбце `floors_total` - единицами;\n",
    "    \n",
    "    2.4. в столбце `balcony` - нулями;\n",
    "    \n",
    "    2.5. в столбце `locality_name` - значением `'unknown'`.\n",
    "    \n",
    "В остальных столбцах пропуски были оставлены, так как нет гарантии, что их устранение не приведет к искажению результатов исследования.\n",
    "\n",
    "3. В столбце `locality_name` все значения приведены в нижний регистр, буква \"ё\" заменена на \"е\", таким образом мы избавились от неявных дубликатов.\n",
    "4. Удален столбец `is_apartment` - в нем было большинство пропусков, к тому же этот столбец не пригодится для анализа;\n",
    "5. Изменен тип данных:\n",
    "\n",
    "    5.1. в столбцах `floors_total`, `balcony`, `parks_around3000`, `ponds_around3000`, `days_exposition` - на целочисленный, при этом в последних из-за наличия пропусков получилось поменять тип только у существующих значений, а общий тип столбцов остался прежним;\n",
    "    \n",
    "    5.2. в столбце `first_day_exposition` - на `datetime`."
   ]
  },
  {
   "cell_type": "markdown",
   "metadata": {},
   "source": [
    "## Расчёты и добавление результатов в таблицу"
   ]
  },
  {
   "cell_type": "markdown",
   "metadata": {},
   "source": [
    "### Цена квадратного метра"
   ]
  },
  {
   "cell_type": "markdown",
   "metadata": {},
   "source": [
    "Рассчитаем для каждой квартиры цену квадратного метра, разделив цену в момент снятия с публикации на общую площадь."
   ]
  },
  {
   "cell_type": "code",
   "execution_count": 14,
   "metadata": {},
   "outputs": [
    {
     "data": {
      "text/html": [
       "<div>\n",
       "<style scoped>\n",
       "    .dataframe tbody tr th:only-of-type {\n",
       "        vertical-align: middle;\n",
       "    }\n",
       "\n",
       "    .dataframe tbody tr th {\n",
       "        vertical-align: top;\n",
       "    }\n",
       "\n",
       "    .dataframe thead th {\n",
       "        text-align: right;\n",
       "    }\n",
       "</style>\n",
       "<table border=\"1\" class=\"dataframe\">\n",
       "  <thead>\n",
       "    <tr style=\"text-align: right;\">\n",
       "      <th></th>\n",
       "      <th>total_images</th>\n",
       "      <th>last_price</th>\n",
       "      <th>total_area</th>\n",
       "      <th>first_day_exposition</th>\n",
       "      <th>rooms</th>\n",
       "      <th>ceiling_height</th>\n",
       "      <th>floors_total</th>\n",
       "      <th>living_area</th>\n",
       "      <th>floor</th>\n",
       "      <th>studio</th>\n",
       "      <th>...</th>\n",
       "      <th>balcony</th>\n",
       "      <th>locality_name</th>\n",
       "      <th>airports_nearest</th>\n",
       "      <th>city_centers_nearest</th>\n",
       "      <th>parks_around3000</th>\n",
       "      <th>parks_nearest</th>\n",
       "      <th>ponds_around3000</th>\n",
       "      <th>ponds_nearest</th>\n",
       "      <th>days_exposition</th>\n",
       "      <th>sq_m_price</th>\n",
       "    </tr>\n",
       "  </thead>\n",
       "  <tbody>\n",
       "    <tr>\n",
       "      <td>0</td>\n",
       "      <td>20</td>\n",
       "      <td>13000000.0</td>\n",
       "      <td>108.0</td>\n",
       "      <td>2019-03-07</td>\n",
       "      <td>3</td>\n",
       "      <td>2.70</td>\n",
       "      <td>16</td>\n",
       "      <td>51.000000</td>\n",
       "      <td>8</td>\n",
       "      <td>False</td>\n",
       "      <td>...</td>\n",
       "      <td>0</td>\n",
       "      <td>санкт-петербург</td>\n",
       "      <td>18863.0</td>\n",
       "      <td>16028.0</td>\n",
       "      <td>1.0</td>\n",
       "      <td>482.0</td>\n",
       "      <td>2.0</td>\n",
       "      <td>755.0</td>\n",
       "      <td>NaN</td>\n",
       "      <td>120370.37</td>\n",
       "    </tr>\n",
       "    <tr>\n",
       "      <td>1</td>\n",
       "      <td>7</td>\n",
       "      <td>3350000.0</td>\n",
       "      <td>40.4</td>\n",
       "      <td>2018-12-04</td>\n",
       "      <td>1</td>\n",
       "      <td>2.65</td>\n",
       "      <td>11</td>\n",
       "      <td>18.600000</td>\n",
       "      <td>1</td>\n",
       "      <td>False</td>\n",
       "      <td>...</td>\n",
       "      <td>2</td>\n",
       "      <td>поселок шушары</td>\n",
       "      <td>12817.0</td>\n",
       "      <td>18603.0</td>\n",
       "      <td>0.0</td>\n",
       "      <td>NaN</td>\n",
       "      <td>0.0</td>\n",
       "      <td>NaN</td>\n",
       "      <td>81.0</td>\n",
       "      <td>82920.79</td>\n",
       "    </tr>\n",
       "    <tr>\n",
       "      <td>2</td>\n",
       "      <td>10</td>\n",
       "      <td>5196000.0</td>\n",
       "      <td>56.0</td>\n",
       "      <td>2015-08-20</td>\n",
       "      <td>2</td>\n",
       "      <td>2.65</td>\n",
       "      <td>5</td>\n",
       "      <td>34.300000</td>\n",
       "      <td>4</td>\n",
       "      <td>False</td>\n",
       "      <td>...</td>\n",
       "      <td>0</td>\n",
       "      <td>санкт-петербург</td>\n",
       "      <td>21741.0</td>\n",
       "      <td>13933.0</td>\n",
       "      <td>1.0</td>\n",
       "      <td>90.0</td>\n",
       "      <td>2.0</td>\n",
       "      <td>574.0</td>\n",
       "      <td>558.0</td>\n",
       "      <td>92785.71</td>\n",
       "    </tr>\n",
       "    <tr>\n",
       "      <td>3</td>\n",
       "      <td>0</td>\n",
       "      <td>64900000.0</td>\n",
       "      <td>159.0</td>\n",
       "      <td>2015-07-24</td>\n",
       "      <td>3</td>\n",
       "      <td>2.65</td>\n",
       "      <td>14</td>\n",
       "      <td>90.289724</td>\n",
       "      <td>9</td>\n",
       "      <td>False</td>\n",
       "      <td>...</td>\n",
       "      <td>0</td>\n",
       "      <td>санкт-петербург</td>\n",
       "      <td>28098.0</td>\n",
       "      <td>6800.0</td>\n",
       "      <td>2.0</td>\n",
       "      <td>84.0</td>\n",
       "      <td>3.0</td>\n",
       "      <td>234.0</td>\n",
       "      <td>424.0</td>\n",
       "      <td>408176.10</td>\n",
       "    </tr>\n",
       "    <tr>\n",
       "      <td>4</td>\n",
       "      <td>2</td>\n",
       "      <td>10000000.0</td>\n",
       "      <td>100.0</td>\n",
       "      <td>2018-06-19</td>\n",
       "      <td>2</td>\n",
       "      <td>3.03</td>\n",
       "      <td>14</td>\n",
       "      <td>32.000000</td>\n",
       "      <td>13</td>\n",
       "      <td>False</td>\n",
       "      <td>...</td>\n",
       "      <td>0</td>\n",
       "      <td>санкт-петербург</td>\n",
       "      <td>31856.0</td>\n",
       "      <td>8098.0</td>\n",
       "      <td>2.0</td>\n",
       "      <td>112.0</td>\n",
       "      <td>1.0</td>\n",
       "      <td>48.0</td>\n",
       "      <td>121.0</td>\n",
       "      <td>100000.00</td>\n",
       "    </tr>\n",
       "  </tbody>\n",
       "</table>\n",
       "<p>5 rows × 22 columns</p>\n",
       "</div>"
      ],
      "text/plain": [
       "   total_images  last_price  total_area first_day_exposition  rooms  \\\n",
       "0            20  13000000.0       108.0           2019-03-07      3   \n",
       "1             7   3350000.0        40.4           2018-12-04      1   \n",
       "2            10   5196000.0        56.0           2015-08-20      2   \n",
       "3             0  64900000.0       159.0           2015-07-24      3   \n",
       "4             2  10000000.0       100.0           2018-06-19      2   \n",
       "\n",
       "   ceiling_height  floors_total  living_area  floor  studio  ...  balcony  \\\n",
       "0            2.70            16    51.000000      8   False  ...        0   \n",
       "1            2.65            11    18.600000      1   False  ...        2   \n",
       "2            2.65             5    34.300000      4   False  ...        0   \n",
       "3            2.65            14    90.289724      9   False  ...        0   \n",
       "4            3.03            14    32.000000     13   False  ...        0   \n",
       "\n",
       "     locality_name  airports_nearest city_centers_nearest  parks_around3000  \\\n",
       "0  санкт-петербург           18863.0              16028.0               1.0   \n",
       "1   поселок шушары           12817.0              18603.0               0.0   \n",
       "2  санкт-петербург           21741.0              13933.0               1.0   \n",
       "3  санкт-петербург           28098.0               6800.0               2.0   \n",
       "4  санкт-петербург           31856.0               8098.0               2.0   \n",
       "\n",
       "   parks_nearest  ponds_around3000  ponds_nearest  days_exposition  sq_m_price  \n",
       "0          482.0               2.0          755.0              NaN   120370.37  \n",
       "1            NaN               0.0            NaN             81.0    82920.79  \n",
       "2           90.0               2.0          574.0            558.0    92785.71  \n",
       "3           84.0               3.0          234.0            424.0   408176.10  \n",
       "4          112.0               1.0           48.0            121.0   100000.00  \n",
       "\n",
       "[5 rows x 22 columns]"
      ]
     },
     "execution_count": 14,
     "metadata": {},
     "output_type": "execute_result"
    }
   ],
   "source": [
    "data['sq_m_price'] = (data['last_price'] / data['total_area']).round(2)\n",
    "data.head()"
   ]
  },
  {
   "cell_type": "markdown",
   "metadata": {},
   "source": [
    "### День недели, месяц и год публикации объявления"
   ]
  },
  {
   "cell_type": "markdown",
   "metadata": {},
   "source": [
    "Добавим в таблицу новые столбцы `week_day_exposition`, `month_exposition` и `year_exposition`, обозначающие день недели, месяц и год, в которые было размещено объявление. Для этого применим к столбцу `first_day_exposition` методы `dt.weekday`, `dt.month` и `dt.year`."
   ]
  },
  {
   "cell_type": "code",
   "execution_count": 15,
   "metadata": {},
   "outputs": [
    {
     "data": {
      "text/html": [
       "<div>\n",
       "<style scoped>\n",
       "    .dataframe tbody tr th:only-of-type {\n",
       "        vertical-align: middle;\n",
       "    }\n",
       "\n",
       "    .dataframe tbody tr th {\n",
       "        vertical-align: top;\n",
       "    }\n",
       "\n",
       "    .dataframe thead th {\n",
       "        text-align: right;\n",
       "    }\n",
       "</style>\n",
       "<table border=\"1\" class=\"dataframe\">\n",
       "  <thead>\n",
       "    <tr style=\"text-align: right;\">\n",
       "      <th></th>\n",
       "      <th>total_images</th>\n",
       "      <th>last_price</th>\n",
       "      <th>total_area</th>\n",
       "      <th>first_day_exposition</th>\n",
       "      <th>rooms</th>\n",
       "      <th>ceiling_height</th>\n",
       "      <th>floors_total</th>\n",
       "      <th>living_area</th>\n",
       "      <th>floor</th>\n",
       "      <th>studio</th>\n",
       "      <th>...</th>\n",
       "      <th>city_centers_nearest</th>\n",
       "      <th>parks_around3000</th>\n",
       "      <th>parks_nearest</th>\n",
       "      <th>ponds_around3000</th>\n",
       "      <th>ponds_nearest</th>\n",
       "      <th>days_exposition</th>\n",
       "      <th>sq_m_price</th>\n",
       "      <th>week_day_exposition</th>\n",
       "      <th>month_exposition</th>\n",
       "      <th>year_exposition</th>\n",
       "    </tr>\n",
       "  </thead>\n",
       "  <tbody>\n",
       "    <tr>\n",
       "      <td>0</td>\n",
       "      <td>20</td>\n",
       "      <td>13000000.0</td>\n",
       "      <td>108.0</td>\n",
       "      <td>2019-03-07</td>\n",
       "      <td>3</td>\n",
       "      <td>2.70</td>\n",
       "      <td>16</td>\n",
       "      <td>51.000000</td>\n",
       "      <td>8</td>\n",
       "      <td>False</td>\n",
       "      <td>...</td>\n",
       "      <td>16028.0</td>\n",
       "      <td>1.0</td>\n",
       "      <td>482.0</td>\n",
       "      <td>2.0</td>\n",
       "      <td>755.0</td>\n",
       "      <td>NaN</td>\n",
       "      <td>120370.37</td>\n",
       "      <td>3</td>\n",
       "      <td>3</td>\n",
       "      <td>2019</td>\n",
       "    </tr>\n",
       "    <tr>\n",
       "      <td>1</td>\n",
       "      <td>7</td>\n",
       "      <td>3350000.0</td>\n",
       "      <td>40.4</td>\n",
       "      <td>2018-12-04</td>\n",
       "      <td>1</td>\n",
       "      <td>2.65</td>\n",
       "      <td>11</td>\n",
       "      <td>18.600000</td>\n",
       "      <td>1</td>\n",
       "      <td>False</td>\n",
       "      <td>...</td>\n",
       "      <td>18603.0</td>\n",
       "      <td>0.0</td>\n",
       "      <td>NaN</td>\n",
       "      <td>0.0</td>\n",
       "      <td>NaN</td>\n",
       "      <td>81.0</td>\n",
       "      <td>82920.79</td>\n",
       "      <td>1</td>\n",
       "      <td>12</td>\n",
       "      <td>2018</td>\n",
       "    </tr>\n",
       "    <tr>\n",
       "      <td>2</td>\n",
       "      <td>10</td>\n",
       "      <td>5196000.0</td>\n",
       "      <td>56.0</td>\n",
       "      <td>2015-08-20</td>\n",
       "      <td>2</td>\n",
       "      <td>2.65</td>\n",
       "      <td>5</td>\n",
       "      <td>34.300000</td>\n",
       "      <td>4</td>\n",
       "      <td>False</td>\n",
       "      <td>...</td>\n",
       "      <td>13933.0</td>\n",
       "      <td>1.0</td>\n",
       "      <td>90.0</td>\n",
       "      <td>2.0</td>\n",
       "      <td>574.0</td>\n",
       "      <td>558.0</td>\n",
       "      <td>92785.71</td>\n",
       "      <td>3</td>\n",
       "      <td>8</td>\n",
       "      <td>2015</td>\n",
       "    </tr>\n",
       "    <tr>\n",
       "      <td>3</td>\n",
       "      <td>0</td>\n",
       "      <td>64900000.0</td>\n",
       "      <td>159.0</td>\n",
       "      <td>2015-07-24</td>\n",
       "      <td>3</td>\n",
       "      <td>2.65</td>\n",
       "      <td>14</td>\n",
       "      <td>90.289724</td>\n",
       "      <td>9</td>\n",
       "      <td>False</td>\n",
       "      <td>...</td>\n",
       "      <td>6800.0</td>\n",
       "      <td>2.0</td>\n",
       "      <td>84.0</td>\n",
       "      <td>3.0</td>\n",
       "      <td>234.0</td>\n",
       "      <td>424.0</td>\n",
       "      <td>408176.10</td>\n",
       "      <td>4</td>\n",
       "      <td>7</td>\n",
       "      <td>2015</td>\n",
       "    </tr>\n",
       "    <tr>\n",
       "      <td>4</td>\n",
       "      <td>2</td>\n",
       "      <td>10000000.0</td>\n",
       "      <td>100.0</td>\n",
       "      <td>2018-06-19</td>\n",
       "      <td>2</td>\n",
       "      <td>3.03</td>\n",
       "      <td>14</td>\n",
       "      <td>32.000000</td>\n",
       "      <td>13</td>\n",
       "      <td>False</td>\n",
       "      <td>...</td>\n",
       "      <td>8098.0</td>\n",
       "      <td>2.0</td>\n",
       "      <td>112.0</td>\n",
       "      <td>1.0</td>\n",
       "      <td>48.0</td>\n",
       "      <td>121.0</td>\n",
       "      <td>100000.00</td>\n",
       "      <td>1</td>\n",
       "      <td>6</td>\n",
       "      <td>2018</td>\n",
       "    </tr>\n",
       "  </tbody>\n",
       "</table>\n",
       "<p>5 rows × 25 columns</p>\n",
       "</div>"
      ],
      "text/plain": [
       "   total_images  last_price  total_area first_day_exposition  rooms  \\\n",
       "0            20  13000000.0       108.0           2019-03-07      3   \n",
       "1             7   3350000.0        40.4           2018-12-04      1   \n",
       "2            10   5196000.0        56.0           2015-08-20      2   \n",
       "3             0  64900000.0       159.0           2015-07-24      3   \n",
       "4             2  10000000.0       100.0           2018-06-19      2   \n",
       "\n",
       "   ceiling_height  floors_total  living_area  floor  studio  ...  \\\n",
       "0            2.70            16    51.000000      8   False  ...   \n",
       "1            2.65            11    18.600000      1   False  ...   \n",
       "2            2.65             5    34.300000      4   False  ...   \n",
       "3            2.65            14    90.289724      9   False  ...   \n",
       "4            3.03            14    32.000000     13   False  ...   \n",
       "\n",
       "   city_centers_nearest  parks_around3000  parks_nearest ponds_around3000  \\\n",
       "0               16028.0               1.0          482.0              2.0   \n",
       "1               18603.0               0.0            NaN              0.0   \n",
       "2               13933.0               1.0           90.0              2.0   \n",
       "3                6800.0               2.0           84.0              3.0   \n",
       "4                8098.0               2.0          112.0              1.0   \n",
       "\n",
       "   ponds_nearest  days_exposition  sq_m_price  week_day_exposition  \\\n",
       "0          755.0              NaN   120370.37                    3   \n",
       "1            NaN             81.0    82920.79                    1   \n",
       "2          574.0            558.0    92785.71                    3   \n",
       "3          234.0            424.0   408176.10                    4   \n",
       "4           48.0            121.0   100000.00                    1   \n",
       "\n",
       "   month_exposition  year_exposition  \n",
       "0                 3             2019  \n",
       "1                12             2018  \n",
       "2                 8             2015  \n",
       "3                 7             2015  \n",
       "4                 6             2018  \n",
       "\n",
       "[5 rows x 25 columns]"
      ]
     },
     "execution_count": 15,
     "metadata": {},
     "output_type": "execute_result"
    }
   ],
   "source": [
    "data['week_day_exposition'] = data['first_day_exposition'].dt.weekday\n",
    "data['month_exposition'] = data['first_day_exposition'].dt.month\n",
    "data['year_exposition'] = data['first_day_exposition'].dt.year\n",
    "data.head()"
   ]
  },
  {
   "cell_type": "markdown",
   "metadata": {},
   "source": [
    "### Этаж квартиры"
   ]
  },
  {
   "cell_type": "markdown",
   "metadata": {},
   "source": [
    "Классифицируем все квартиры по трем группам: если она находится на первом этаже, запишем в новый столбец \"первый\"; если на последнем этаже - \"последний\"; если не на первом и не на последнем - запишем \"другой\". Для этого напишем функцию для одной строки."
   ]
  },
  {
   "cell_type": "code",
   "execution_count": 16,
   "metadata": {},
   "outputs": [
    {
     "data": {
      "text/html": [
       "<div>\n",
       "<style scoped>\n",
       "    .dataframe tbody tr th:only-of-type {\n",
       "        vertical-align: middle;\n",
       "    }\n",
       "\n",
       "    .dataframe tbody tr th {\n",
       "        vertical-align: top;\n",
       "    }\n",
       "\n",
       "    .dataframe thead th {\n",
       "        text-align: right;\n",
       "    }\n",
       "</style>\n",
       "<table border=\"1\" class=\"dataframe\">\n",
       "  <thead>\n",
       "    <tr style=\"text-align: right;\">\n",
       "      <th></th>\n",
       "      <th>total_images</th>\n",
       "      <th>last_price</th>\n",
       "      <th>total_area</th>\n",
       "      <th>first_day_exposition</th>\n",
       "      <th>rooms</th>\n",
       "      <th>ceiling_height</th>\n",
       "      <th>floors_total</th>\n",
       "      <th>living_area</th>\n",
       "      <th>floor</th>\n",
       "      <th>studio</th>\n",
       "      <th>...</th>\n",
       "      <th>parks_around3000</th>\n",
       "      <th>parks_nearest</th>\n",
       "      <th>ponds_around3000</th>\n",
       "      <th>ponds_nearest</th>\n",
       "      <th>days_exposition</th>\n",
       "      <th>sq_m_price</th>\n",
       "      <th>week_day_exposition</th>\n",
       "      <th>month_exposition</th>\n",
       "      <th>year_exposition</th>\n",
       "      <th>floor_category</th>\n",
       "    </tr>\n",
       "  </thead>\n",
       "  <tbody>\n",
       "    <tr>\n",
       "      <td>0</td>\n",
       "      <td>20</td>\n",
       "      <td>13000000.0</td>\n",
       "      <td>108.0</td>\n",
       "      <td>2019-03-07</td>\n",
       "      <td>3</td>\n",
       "      <td>2.70</td>\n",
       "      <td>16</td>\n",
       "      <td>51.000000</td>\n",
       "      <td>8</td>\n",
       "      <td>False</td>\n",
       "      <td>...</td>\n",
       "      <td>1.0</td>\n",
       "      <td>482.0</td>\n",
       "      <td>2.0</td>\n",
       "      <td>755.0</td>\n",
       "      <td>NaN</td>\n",
       "      <td>120370.37</td>\n",
       "      <td>3</td>\n",
       "      <td>3</td>\n",
       "      <td>2019</td>\n",
       "      <td>другой</td>\n",
       "    </tr>\n",
       "    <tr>\n",
       "      <td>1</td>\n",
       "      <td>7</td>\n",
       "      <td>3350000.0</td>\n",
       "      <td>40.4</td>\n",
       "      <td>2018-12-04</td>\n",
       "      <td>1</td>\n",
       "      <td>2.65</td>\n",
       "      <td>11</td>\n",
       "      <td>18.600000</td>\n",
       "      <td>1</td>\n",
       "      <td>False</td>\n",
       "      <td>...</td>\n",
       "      <td>0.0</td>\n",
       "      <td>NaN</td>\n",
       "      <td>0.0</td>\n",
       "      <td>NaN</td>\n",
       "      <td>81.0</td>\n",
       "      <td>82920.79</td>\n",
       "      <td>1</td>\n",
       "      <td>12</td>\n",
       "      <td>2018</td>\n",
       "      <td>первый</td>\n",
       "    </tr>\n",
       "    <tr>\n",
       "      <td>2</td>\n",
       "      <td>10</td>\n",
       "      <td>5196000.0</td>\n",
       "      <td>56.0</td>\n",
       "      <td>2015-08-20</td>\n",
       "      <td>2</td>\n",
       "      <td>2.65</td>\n",
       "      <td>5</td>\n",
       "      <td>34.300000</td>\n",
       "      <td>4</td>\n",
       "      <td>False</td>\n",
       "      <td>...</td>\n",
       "      <td>1.0</td>\n",
       "      <td>90.0</td>\n",
       "      <td>2.0</td>\n",
       "      <td>574.0</td>\n",
       "      <td>558.0</td>\n",
       "      <td>92785.71</td>\n",
       "      <td>3</td>\n",
       "      <td>8</td>\n",
       "      <td>2015</td>\n",
       "      <td>другой</td>\n",
       "    </tr>\n",
       "    <tr>\n",
       "      <td>3</td>\n",
       "      <td>0</td>\n",
       "      <td>64900000.0</td>\n",
       "      <td>159.0</td>\n",
       "      <td>2015-07-24</td>\n",
       "      <td>3</td>\n",
       "      <td>2.65</td>\n",
       "      <td>14</td>\n",
       "      <td>90.289724</td>\n",
       "      <td>9</td>\n",
       "      <td>False</td>\n",
       "      <td>...</td>\n",
       "      <td>2.0</td>\n",
       "      <td>84.0</td>\n",
       "      <td>3.0</td>\n",
       "      <td>234.0</td>\n",
       "      <td>424.0</td>\n",
       "      <td>408176.10</td>\n",
       "      <td>4</td>\n",
       "      <td>7</td>\n",
       "      <td>2015</td>\n",
       "      <td>другой</td>\n",
       "    </tr>\n",
       "    <tr>\n",
       "      <td>4</td>\n",
       "      <td>2</td>\n",
       "      <td>10000000.0</td>\n",
       "      <td>100.0</td>\n",
       "      <td>2018-06-19</td>\n",
       "      <td>2</td>\n",
       "      <td>3.03</td>\n",
       "      <td>14</td>\n",
       "      <td>32.000000</td>\n",
       "      <td>13</td>\n",
       "      <td>False</td>\n",
       "      <td>...</td>\n",
       "      <td>2.0</td>\n",
       "      <td>112.0</td>\n",
       "      <td>1.0</td>\n",
       "      <td>48.0</td>\n",
       "      <td>121.0</td>\n",
       "      <td>100000.00</td>\n",
       "      <td>1</td>\n",
       "      <td>6</td>\n",
       "      <td>2018</td>\n",
       "      <td>другой</td>\n",
       "    </tr>\n",
       "  </tbody>\n",
       "</table>\n",
       "<p>5 rows × 26 columns</p>\n",
       "</div>"
      ],
      "text/plain": [
       "   total_images  last_price  total_area first_day_exposition  rooms  \\\n",
       "0            20  13000000.0       108.0           2019-03-07      3   \n",
       "1             7   3350000.0        40.4           2018-12-04      1   \n",
       "2            10   5196000.0        56.0           2015-08-20      2   \n",
       "3             0  64900000.0       159.0           2015-07-24      3   \n",
       "4             2  10000000.0       100.0           2018-06-19      2   \n",
       "\n",
       "   ceiling_height  floors_total  living_area  floor  studio  ...  \\\n",
       "0            2.70            16    51.000000      8   False  ...   \n",
       "1            2.65            11    18.600000      1   False  ...   \n",
       "2            2.65             5    34.300000      4   False  ...   \n",
       "3            2.65            14    90.289724      9   False  ...   \n",
       "4            3.03            14    32.000000     13   False  ...   \n",
       "\n",
       "   parks_around3000  parks_nearest  ponds_around3000 ponds_nearest  \\\n",
       "0               1.0          482.0               2.0         755.0   \n",
       "1               0.0            NaN               0.0           NaN   \n",
       "2               1.0           90.0               2.0         574.0   \n",
       "3               2.0           84.0               3.0         234.0   \n",
       "4               2.0          112.0               1.0          48.0   \n",
       "\n",
       "   days_exposition  sq_m_price  week_day_exposition  month_exposition  \\\n",
       "0              NaN   120370.37                    3                 3   \n",
       "1             81.0    82920.79                    1                12   \n",
       "2            558.0    92785.71                    3                 8   \n",
       "3            424.0   408176.10                    4                 7   \n",
       "4            121.0   100000.00                    1                 6   \n",
       "\n",
       "   year_exposition  floor_category  \n",
       "0             2019          другой  \n",
       "1             2018          первый  \n",
       "2             2015          другой  \n",
       "3             2015          другой  \n",
       "4             2018          другой  \n",
       "\n",
       "[5 rows x 26 columns]"
      ]
     },
     "execution_count": 16,
     "metadata": {},
     "output_type": "execute_result"
    }
   ],
   "source": [
    "def floors_categorize(row):\n",
    "    floor = row['floor']\n",
    "    floors = row['floors_total']\n",
    "    if floor == 1:\n",
    "        return 'первый'\n",
    "    elif floor == floors:\n",
    "        return 'последний'\n",
    "    else:\n",
    "        return 'другой'\n",
    "    \n",
    "data['floor_category'] = data.apply(floors_categorize, axis=1)\n",
    "data.head()"
   ]
  },
  {
   "cell_type": "markdown",
   "metadata": {},
   "source": [
    "### Соотношения площадей"
   ]
  },
  {
   "cell_type": "markdown",
   "metadata": {},
   "source": [
    "В пункте 2.2 мы уже рассчитывали необходимые отношения. Повторим действия с сохранением в новый столбец."
   ]
  },
  {
   "cell_type": "code",
   "execution_count": 17,
   "metadata": {},
   "outputs": [
    {
     "data": {
      "text/html": [
       "<div>\n",
       "<style scoped>\n",
       "    .dataframe tbody tr th:only-of-type {\n",
       "        vertical-align: middle;\n",
       "    }\n",
       "\n",
       "    .dataframe tbody tr th {\n",
       "        vertical-align: top;\n",
       "    }\n",
       "\n",
       "    .dataframe thead th {\n",
       "        text-align: right;\n",
       "    }\n",
       "</style>\n",
       "<table border=\"1\" class=\"dataframe\">\n",
       "  <thead>\n",
       "    <tr style=\"text-align: right;\">\n",
       "      <th></th>\n",
       "      <th>total_images</th>\n",
       "      <th>last_price</th>\n",
       "      <th>total_area</th>\n",
       "      <th>first_day_exposition</th>\n",
       "      <th>rooms</th>\n",
       "      <th>ceiling_height</th>\n",
       "      <th>floors_total</th>\n",
       "      <th>living_area</th>\n",
       "      <th>floor</th>\n",
       "      <th>studio</th>\n",
       "      <th>...</th>\n",
       "      <th>ponds_around3000</th>\n",
       "      <th>ponds_nearest</th>\n",
       "      <th>days_exposition</th>\n",
       "      <th>sq_m_price</th>\n",
       "      <th>week_day_exposition</th>\n",
       "      <th>month_exposition</th>\n",
       "      <th>year_exposition</th>\n",
       "      <th>floor_category</th>\n",
       "      <th>living_to_total</th>\n",
       "      <th>kitchen_to_total</th>\n",
       "    </tr>\n",
       "  </thead>\n",
       "  <tbody>\n",
       "    <tr>\n",
       "      <td>0</td>\n",
       "      <td>20</td>\n",
       "      <td>13000000.0</td>\n",
       "      <td>108.0</td>\n",
       "      <td>2019-03-07</td>\n",
       "      <td>3</td>\n",
       "      <td>2.70</td>\n",
       "      <td>16</td>\n",
       "      <td>51.000000</td>\n",
       "      <td>8</td>\n",
       "      <td>False</td>\n",
       "      <td>...</td>\n",
       "      <td>2.0</td>\n",
       "      <td>755.0</td>\n",
       "      <td>NaN</td>\n",
       "      <td>120370.37</td>\n",
       "      <td>3</td>\n",
       "      <td>3</td>\n",
       "      <td>2019</td>\n",
       "      <td>другой</td>\n",
       "      <td>0.472222</td>\n",
       "      <td>0.231481</td>\n",
       "    </tr>\n",
       "    <tr>\n",
       "      <td>1</td>\n",
       "      <td>7</td>\n",
       "      <td>3350000.0</td>\n",
       "      <td>40.4</td>\n",
       "      <td>2018-12-04</td>\n",
       "      <td>1</td>\n",
       "      <td>2.65</td>\n",
       "      <td>11</td>\n",
       "      <td>18.600000</td>\n",
       "      <td>1</td>\n",
       "      <td>False</td>\n",
       "      <td>...</td>\n",
       "      <td>0.0</td>\n",
       "      <td>NaN</td>\n",
       "      <td>81.0</td>\n",
       "      <td>82920.79</td>\n",
       "      <td>1</td>\n",
       "      <td>12</td>\n",
       "      <td>2018</td>\n",
       "      <td>первый</td>\n",
       "      <td>0.460396</td>\n",
       "      <td>0.272277</td>\n",
       "    </tr>\n",
       "    <tr>\n",
       "      <td>2</td>\n",
       "      <td>10</td>\n",
       "      <td>5196000.0</td>\n",
       "      <td>56.0</td>\n",
       "      <td>2015-08-20</td>\n",
       "      <td>2</td>\n",
       "      <td>2.65</td>\n",
       "      <td>5</td>\n",
       "      <td>34.300000</td>\n",
       "      <td>4</td>\n",
       "      <td>False</td>\n",
       "      <td>...</td>\n",
       "      <td>2.0</td>\n",
       "      <td>574.0</td>\n",
       "      <td>558.0</td>\n",
       "      <td>92785.71</td>\n",
       "      <td>3</td>\n",
       "      <td>8</td>\n",
       "      <td>2015</td>\n",
       "      <td>другой</td>\n",
       "      <td>0.612500</td>\n",
       "      <td>0.148214</td>\n",
       "    </tr>\n",
       "    <tr>\n",
       "      <td>3</td>\n",
       "      <td>0</td>\n",
       "      <td>64900000.0</td>\n",
       "      <td>159.0</td>\n",
       "      <td>2015-07-24</td>\n",
       "      <td>3</td>\n",
       "      <td>2.65</td>\n",
       "      <td>14</td>\n",
       "      <td>90.289724</td>\n",
       "      <td>9</td>\n",
       "      <td>False</td>\n",
       "      <td>...</td>\n",
       "      <td>3.0</td>\n",
       "      <td>234.0</td>\n",
       "      <td>424.0</td>\n",
       "      <td>408176.10</td>\n",
       "      <td>4</td>\n",
       "      <td>7</td>\n",
       "      <td>2015</td>\n",
       "      <td>другой</td>\n",
       "      <td>0.567860</td>\n",
       "      <td>0.172414</td>\n",
       "    </tr>\n",
       "    <tr>\n",
       "      <td>4</td>\n",
       "      <td>2</td>\n",
       "      <td>10000000.0</td>\n",
       "      <td>100.0</td>\n",
       "      <td>2018-06-19</td>\n",
       "      <td>2</td>\n",
       "      <td>3.03</td>\n",
       "      <td>14</td>\n",
       "      <td>32.000000</td>\n",
       "      <td>13</td>\n",
       "      <td>False</td>\n",
       "      <td>...</td>\n",
       "      <td>1.0</td>\n",
       "      <td>48.0</td>\n",
       "      <td>121.0</td>\n",
       "      <td>100000.00</td>\n",
       "      <td>1</td>\n",
       "      <td>6</td>\n",
       "      <td>2018</td>\n",
       "      <td>другой</td>\n",
       "      <td>0.320000</td>\n",
       "      <td>0.410000</td>\n",
       "    </tr>\n",
       "  </tbody>\n",
       "</table>\n",
       "<p>5 rows × 28 columns</p>\n",
       "</div>"
      ],
      "text/plain": [
       "   total_images  last_price  total_area first_day_exposition  rooms  \\\n",
       "0            20  13000000.0       108.0           2019-03-07      3   \n",
       "1             7   3350000.0        40.4           2018-12-04      1   \n",
       "2            10   5196000.0        56.0           2015-08-20      2   \n",
       "3             0  64900000.0       159.0           2015-07-24      3   \n",
       "4             2  10000000.0       100.0           2018-06-19      2   \n",
       "\n",
       "   ceiling_height  floors_total  living_area  floor  studio  ...  \\\n",
       "0            2.70            16    51.000000      8   False  ...   \n",
       "1            2.65            11    18.600000      1   False  ...   \n",
       "2            2.65             5    34.300000      4   False  ...   \n",
       "3            2.65            14    90.289724      9   False  ...   \n",
       "4            3.03            14    32.000000     13   False  ...   \n",
       "\n",
       "   ponds_around3000  ponds_nearest  days_exposition sq_m_price  \\\n",
       "0               2.0          755.0              NaN  120370.37   \n",
       "1               0.0            NaN             81.0   82920.79   \n",
       "2               2.0          574.0            558.0   92785.71   \n",
       "3               3.0          234.0            424.0  408176.10   \n",
       "4               1.0           48.0            121.0  100000.00   \n",
       "\n",
       "   week_day_exposition  month_exposition  year_exposition  floor_category  \\\n",
       "0                    3                 3             2019          другой   \n",
       "1                    1                12             2018          первый   \n",
       "2                    3                 8             2015          другой   \n",
       "3                    4                 7             2015          другой   \n",
       "4                    1                 6             2018          другой   \n",
       "\n",
       "   living_to_total  kitchen_to_total  \n",
       "0         0.472222          0.231481  \n",
       "1         0.460396          0.272277  \n",
       "2         0.612500          0.148214  \n",
       "3         0.567860          0.172414  \n",
       "4         0.320000          0.410000  \n",
       "\n",
       "[5 rows x 28 columns]"
      ]
     },
     "execution_count": 17,
     "metadata": {},
     "output_type": "execute_result"
    }
   ],
   "source": [
    "data['living_to_total'] = data['living_area'] / data['total_area']\n",
    "data['kitchen_to_total'] = data['kitchen_area'] / data['total_area']\n",
    "data.head()"
   ]
  },
  {
   "cell_type": "markdown",
   "metadata": {},
   "source": [
    "### Вывод"
   ]
  },
  {
   "cell_type": "markdown",
   "metadata": {},
   "source": [
    "Были рассчитаны и добавлены в таблицу для каждого объекта недвижимости:\n",
    "* цена квадратного метра;\n",
    "* день недели, месяц и год публикации объявления;\n",
    "* категория этажа (первый, последний, другой);\n",
    "* отношение жилой площади и площади кухни к общей."
   ]
  },
  {
   "cell_type": "markdown",
   "metadata": {},
   "source": [
    "## Исследовательский анализ данных"
   ]
  },
  {
   "cell_type": "markdown",
   "metadata": {},
   "source": [
    "### Изучение площади, цены, числа комнат, высоты потолков, построение гистограмм"
   ]
  },
  {
   "cell_type": "code",
   "execution_count": 18,
   "metadata": {},
   "outputs": [
    {
     "data": {
      "text/plain": [
       "count    23699.00\n",
       "mean        60.35\n",
       "std         35.65\n",
       "min         12.00\n",
       "25%         40.00\n",
       "50%         52.00\n",
       "75%         69.90\n",
       "max        900.00\n",
       "Name: total_area, dtype: object"
      ]
     },
     "execution_count": 18,
     "metadata": {},
     "output_type": "execute_result"
    }
   ],
   "source": [
    "data['total_area'].describe().apply(\"{0:.2f}\".format)"
   ]
  },
  {
   "cell_type": "code",
   "execution_count": 19,
   "metadata": {},
   "outputs": [
    {
     "data": {
      "text/plain": [
       "count        23699.00\n",
       "mean       6541548.77\n",
       "std       10887013.27\n",
       "min          12190.00\n",
       "25%        3400000.00\n",
       "50%        4650000.00\n",
       "75%        6800000.00\n",
       "max      763000000.00\n",
       "Name: last_price, dtype: object"
      ]
     },
     "execution_count": 19,
     "metadata": {},
     "output_type": "execute_result"
    }
   ],
   "source": [
    "data['last_price'].describe().apply(\"{0:.2f}\".format)"
   ]
  },
  {
   "cell_type": "code",
   "execution_count": 20,
   "metadata": {},
   "outputs": [
    {
     "data": {
      "text/plain": [
       "count    23699.00\n",
       "mean         2.07\n",
       "std          1.08\n",
       "min          0.00\n",
       "25%          1.00\n",
       "50%          2.00\n",
       "75%          3.00\n",
       "max         19.00\n",
       "Name: rooms, dtype: object"
      ]
     },
     "execution_count": 20,
     "metadata": {},
     "output_type": "execute_result"
    }
   ],
   "source": [
    "data['rooms'].describe().apply(\"{0:.2f}\".format)"
   ]
  },
  {
   "cell_type": "code",
   "execution_count": 21,
   "metadata": {
    "scrolled": true
   },
   "outputs": [
    {
     "data": {
      "text/plain": [
       "count    23699.00\n",
       "mean         2.72\n",
       "std          0.99\n",
       "min          1.00\n",
       "25%          2.60\n",
       "50%          2.65\n",
       "75%          2.70\n",
       "max        100.00\n",
       "Name: ceiling_height, dtype: object"
      ]
     },
     "execution_count": 21,
     "metadata": {},
     "output_type": "execute_result"
    }
   ],
   "source": [
    "data['ceiling_height'].describe().apply(\"{0:.2f}\".format)"
   ]
  },
  {
   "cell_type": "code",
   "execution_count": 22,
   "metadata": {
    "scrolled": false
   },
   "outputs": [
    {
     "data": {
      "image/png": "[encoded data removed]",
      "text/plain": [
       "<Figure size 1728x360 with 4 Axes>"
      ]
     },
     "metadata": {
      "needs_background": "light"
     },
     "output_type": "display_data"
    }
   ],
   "source": [
    "import matplotlib.pyplot as plt\n",
    "fig, axs = plt.subplots(1, 4, figsize=(24, 5))\n",
    "fig.suptitle('Гистограммы распределения данных', fontsize=18)\n",
    "lst_col = ['total_area', 'last_price', 'rooms', 'ceiling_height']\n",
    "for i, col in enumerate(lst_col):\n",
    "    axs[i].set_xlabel(lst_col[i], fontsize=12)\n",
    "    axs[i].set_ylabel('Частота', fontsize=12)\n",
    "    data[col].hist(bins=100, ax=axs[i])\n",
    "plt.show()"
   ]
  },
  {
   "cell_type": "markdown",
   "metadata": {},
   "source": [
    "По описанию данных и гистограммам видно, что в этих столбцах есть выбросы - значения, которые сильно отличаются от остальных. Например, высота потолков в 100 метров не выглядит правдоподобной, а 19-комнатных квартир явно крайне мало (вероятнее, такая квартира всего одна). Создадим отфильтрованный датафрейм с этими столбцами и уберем строки с выбросами. Выбросами будем считать строки, в которых:\n",
    "- площадь больше 200 квадратных метров;\n",
    "- цена больше 10 миллионов;\n",
    "- количество комнат больше 5;\n",
    "- высота потолков меньше 2 и больше 4 метров;\n",
    "\n",
    "Построим новые гистограммы по отфильтрованным данным."
   ]
  },
  {
   "cell_type": "code",
   "execution_count": 23,
   "metadata": {},
   "outputs": [
    {
     "data": {
      "image/png": "[encoded data removed]",
      "text/plain": [
       "<Figure size 1728x360 with 4 Axes>"
      ]
     },
     "metadata": {
      "needs_background": "light"
     },
     "output_type": "display_data"
    }
   ],
   "source": [
    "df_filtered = data[\n",
    "    (data['total_area'] <= 200) &\n",
    "    (data['last_price'] <= 10000000) &\n",
    "    (data['rooms'] <= 5) &\n",
    "    (data['ceiling_height'] <= 4) &\n",
    "    (data['ceiling_height'] >= 2)\n",
    "]\n",
    "df_filtered_0 = df_filtered[lst_col]\n",
    "fig, axs = plt.subplots(1, 4, figsize=(24, 5))\n",
    "fig.suptitle('Гистограммы распределения данных', fontsize=18)\n",
    "for i, col in enumerate(df_filtered_0.columns):\n",
    "    axs[i].set_xlabel(lst_col[i], fontsize=12)\n",
    "    axs[i].set_ylabel('Частота', fontsize=12)\n",
    "    df_filtered_0[col].hist(bins=10, ax=axs[i])\n",
    "plt.show()"
   ]
  },
  {
   "cell_type": "markdown",
   "metadata": {},
   "source": [
    "Все графики с некоторым приближением отвечают распределению Пуассона. Из них можно сделать вывод, что больше всего продавалось квартир с площадью от 25 до 50 квадратных метров, стоимостью от 3 до 4 миллионов, однокомнатных и двухкомнатных (чуть меньше, чем однокомнатных), с высотой потолков около 2.6 - 2.7 м."
   ]
  },
  {
   "cell_type": "markdown",
   "metadata": {},
   "source": [
    "### Изучение времени продажи квартиры"
   ]
  },
  {
   "cell_type": "markdown",
   "metadata": {},
   "source": [
    "Изучим данные в столбце `days_exposition` методом `describe()` и построим гистограмму в диапазоне от 0 до 1000 - мало кто продавал квартиру 3 года и более."
   ]
  },
  {
   "cell_type": "code",
   "execution_count": 24,
   "metadata": {},
   "outputs": [
    {
     "data": {
      "text/plain": [
       "count    20518.00\n",
       "mean       180.89\n",
       "std        219.73\n",
       "min          1.00\n",
       "25%         45.00\n",
       "50%         95.00\n",
       "75%        232.00\n",
       "max       1580.00\n",
       "Name: days_exposition, dtype: object"
      ]
     },
     "execution_count": 24,
     "metadata": {},
     "output_type": "execute_result"
    }
   ],
   "source": [
    "data['days_exposition'].describe().apply(\"{0:.2f}\".format)"
   ]
  },
  {
   "cell_type": "code",
   "execution_count": 25,
   "metadata": {},
   "outputs": [
    {
     "data": {
      "image/png": "[encoded data removed]",
      "text/plain": [
       "<Figure size 432x288 with 1 Axes>"
      ]
     },
     "metadata": {
      "needs_background": "light"
     },
     "output_type": "display_data"
    }
   ],
   "source": [
    "plt.title('Гистограмма распределения числа квартир по времени продажи')\n",
    "plt.xlabel('Количество дней')\n",
    "plt.ylabel('Число квартир')\n",
    "data['days_exposition'].hist(bins=100, range=(0, 1000))\n",
    "plt.show()"
   ]
  },
  {
   "cell_type": "markdown",
   "metadata": {},
   "source": [
    "По графику можем сделать вывод, что большинство квартир продаются в первые 100 дней после размещения объявления, при этом резкий скачок наблюдается в промежутке 40-50 дней. Если удалось уложиться в 30 дней, можно считать, что продажа прошла очень быстро. Если же объявление висело больше года, такую продажу можно назвать необычно долгой."
   ]
  },
  {
   "cell_type": "markdown",
   "metadata": {},
   "source": [
    "### Изучение факторов, влияющих на цену квартиры"
   ]
  },
  {
   "cell_type": "markdown",
   "metadata": {},
   "source": [
    "Необходимо изучить зависимость цены квартиры от площади, числа комнат, удаленности от центра, этажа и даты размещения. Воспользуемся для этого диаграммами размаха и коэффициентом корреляции Пирсона."
   ]
  },
  {
   "cell_type": "code",
   "execution_count": 26,
   "metadata": {
    "scrolled": true
   },
   "outputs": [
    {
     "name": "stdout",
     "output_type": "stream",
     "text": [
      "Коэффициент корреляции цены и столбца total_area равен 0.66\n",
      "Коэффициент корреляции цены и столбца rooms равен 0.43\n",
      "Коэффициент корреляции цены и столбца city_centers_nearest равен -0.33\n"
     ]
    }
   ],
   "source": [
    "lst_col_1 = ['last_price', 'total_area', 'rooms', 'city_centers_nearest',\n",
    "        'floor_category', 'week_day_exposition', 'month_exposition', 'year_exposition']\n",
    "df_filtered_1 = df_filtered[lst_col_1]\n",
    "for col in lst_col_1[1:4]:\n",
    "    coef = df_filtered_1['last_price'].corr(df_filtered_1[col])\n",
    "    print(f'Коэффициент корреляции цены и столбца {col} равен {coef:.2f}')"
   ]
  },
  {
   "cell_type": "markdown",
   "metadata": {},
   "source": [
    "Коэффициент корреляции между ценой и количество комнат, а также ценой и удаленностью от центра довольно маленький - это значит, что цена не сильно зависит от этих параметров (или же зависит, но нелинейно). А вот корреляция цены и площади довольно высока, и это объяснимо - чем больше площадь квартиры, тем больше и ее стоимость.\n",
    "\n",
    "Теперь отследим зависимость цены от этажа и даты размещения с помощью диаграммы размаха."
   ]
  },
  {
   "cell_type": "code",
   "execution_count": 27,
   "metadata": {
    "scrolled": false
   },
   "outputs": [
    {
     "data": {
      "image/png": "[encoded data removed]",
      "text/plain": [
       "<Figure size 432x288 with 1 Axes>"
      ]
     },
     "metadata": {
      "needs_background": "light"
     },
     "output_type": "display_data"
    }
   ],
   "source": [
    "import numpy as np\n",
    "import warnings\n",
    "warnings.filterwarnings(\"ignore\", category=np.VisibleDeprecationWarning)\n",
    "# При построении графика вылезало некрасивое предупреждение, пришлось его убрать\n",
    "df_filtered_1.boxplot(column='last_price', by='floor_category')\n",
    "plt.ylim(0, 1e7)\n",
    "plt.xlabel('Категория этажа', fontsize=10)\n",
    "plt.ylabel('Цена квартиры (млн руб)', fontsize=10)\n",
    "plt.title('Диаграмма размаха цены квартир в зависимости от категории этажа', fontsize=14, pad=20)\n",
    "plt.suptitle('')\n",
    "plt.show()"
   ]
  },
  {
   "cell_type": "code",
   "execution_count": 28,
   "metadata": {},
   "outputs": [
    {
     "data": {
      "text/plain": [
       "другой       15270\n",
       "последний     2884\n",
       "первый        2765\n",
       "Name: floor_category, dtype: int64"
      ]
     },
     "execution_count": 28,
     "metadata": {},
     "output_type": "execute_result"
    }
   ],
   "source": [
    "df_filtered_1['floor_category'].value_counts()"
   ]
  },
  {
   "cell_type": "markdown",
   "metadata": {},
   "source": [
    "Заметим, что в более дешевом ценовом сегменте много квартир как на первом или последнем этаже, так и на другом. При этом квартир не на первом и не на последнем этаже почти в 3 раза больше, чем квартир на первом или последнем этаже, вместе взятых, то есть на каждые 8 квартир приходится всего одна квартира на 1-м этаже и одна квартира на последнем.\n",
    "\n",
    "По графику видно, что в ценовом сегменте от ~0.85 млн квартиры на первом этаже уже считаются выбросами, а медиана и \"ящик\" меньше, чем у квартир на последнем и на другом этаже, что свидетельствует о том, что в среднем квартиры на 1-м этаже дешевле остальных.\n",
    "\n",
    "Аналогично отследим зависимость цены от даты размещения объявления."
   ]
  },
  {
   "cell_type": "code",
   "execution_count": 29,
   "metadata": {},
   "outputs": [
    {
     "data": {
      "image/png": "[encoded data removed]",
      "text/plain": [
       "<Figure size 1728x576 with 3 Axes>"
      ]
     },
     "metadata": {
      "needs_background": "light"
     },
     "output_type": "display_data"
    }
   ],
   "source": [
    "fig, axs = plt.subplots(1, 3, figsize=(24, 8))\n",
    "df_filtered_1.boxplot(column='last_price', by='week_day_exposition', ax=axs[0])\n",
    "axs[0].set_xlabel('День недели', fontsize=14)\n",
    "df_filtered_1.boxplot(column='last_price', by='month_exposition', ax=axs[1])\n",
    "axs[1].set_xlabel('Месяц', fontsize=14)\n",
    "df_filtered_1.boxplot(column='last_price', by='year_exposition', ax=axs[2])\n",
    "axs[2].set_xlabel('Год', fontsize=14)\n",
    "for i in range(3):\n",
    "    axs[i].set_ylim(0, 1e7)\n",
    "    axs[i].set_ylabel('Цена квартиры (млн руб)', fontsize=14)\n",
    "fig.suptitle('Диаграмма размаха цены квартир в зависимости от даты публикации объявления о продаже', fontsize=18)\n",
    "plt.show()"
   ]
  },
  {
   "cell_type": "markdown",
   "metadata": {},
   "source": [
    "Зависимость цены от дня недели, в который было размещено объявление, не выявлена - графики очень похожи друг на друга, серьезных отличий нет.\n",
    "\n",
    "Зависимость цены от месяца размещения объявления также не обнаружена - ни в один из месяцев нет серьезного увеличения или уменьшения цены, все значения примерно одинаковы.\n",
    "\n",
    "А вот с годами ситуация интереснее - в 2014 году цена жилья была намного выше, чем в последующие годы, что видно из графика - медиана превышает медианы остальных годов. В 2016 году цены стали еще ниже по сравнению с 2015-м, затем держались на одном уровне 3 года, и лишь в 2019 году немного выросли."
   ]
  },
  {
   "cell_type": "markdown",
   "metadata": {},
   "source": [
    "### Расчет средней цены квадратного метра в 10 населенных пунктах с наибольшим числом объявлений"
   ]
  },
  {
   "cell_type": "markdown",
   "metadata": {},
   "source": [
    "Найдем 10 населенных пунктов с наибольшим числом объявлений и рассчитаем в них среднюю цену квадратного метра, а затем создадим словарь, где ключами будут названия населенных пунктов, а значениями - цены квадратного метра. Затем выделим города с максимальной и минимальной ценой."
   ]
  },
  {
   "cell_type": "code",
   "execution_count": 30,
   "metadata": {},
   "outputs": [
    {
     "data": {
      "text/plain": [
       "{'санкт-петербург': 114849.00879333376,\n",
       " 'поселок мурино': 85681.76257194244,\n",
       " 'поселок шушары': 78677.3643181818,\n",
       " 'всеволожск': 68654.47396984925,\n",
       " 'пушкин': 103125.81937669375,\n",
       " 'колпино': 75424.57911242604,\n",
       " 'поселок парголово': 90175.91308868502,\n",
       " 'гатчина': 68746.14651465797,\n",
       " 'деревня кудрово': 92473.54755852843,\n",
       " 'выборг': 58141.909324894514}"
      ]
     },
     "metadata": {},
     "output_type": "display_data"
    },
    {
     "name": "stdout",
     "output_type": "stream",
     "text": [
      "Среди 10 населенных пунктов с наибольшим числом объявлений:\n",
      "- наибольшая цена квадратного метра в н. п. санкт-петербург и равна 114849.01 руб.\n",
      "- наименьшая цена квадратного метра в н. п. выборг и равна 58141.91 руб.\n"
     ]
    }
   ],
   "source": [
    "localities_10 = data['locality_name'].value_counts().head(10).index.to_list()\n",
    "mean_sq_m_10 = []\n",
    "for loc in localities_10:\n",
    "    mean_sq_m_10.append(data.query('locality_name == @loc')['sq_m_price'].mean())\n",
    "dict_10 = dict(zip(localities_10, mean_sq_m_10))\n",
    "display(dict_10)\n",
    "\n",
    "max_10 = max(dict_10.values())\n",
    "max_10_name = [x[0] for x in dict_10.items() if x[1] == max_10]\n",
    "print('Среди 10 населенных пунктов с наибольшим числом объявлений:')\n",
    "print(f'- наибольшая цена квадратного метра в н. п. {max_10_name[0]} и равна {max_10:.2f} руб.')\n",
    "\n",
    "min_10 = min(dict_10.values())\n",
    "min_10_name = [x[0] for x in dict_10.items() if x[1] == min_10]\n",
    "print(f'- наименьшая цена квадратного метра в н. п. {min_10_name[0]} и равна {min_10:.2f} руб.')"
   ]
  },
  {
   "cell_type": "markdown",
   "metadata": {},
   "source": [
    "### Определение области, входящей в центр Санкт-Петербурга"
   ]
  },
  {
   "cell_type": "code",
   "execution_count": 31,
   "metadata": {},
   "outputs": [
    {
     "name": "stderr",
     "output_type": "stream",
     "text": [
      "/opt/conda/lib/python3.7/site-packages/pandas/core/indexing.py:376: SettingWithCopyWarning: \n",
      "A value is trying to be set on a copy of a slice from a DataFrame.\n",
      "Try using .loc[row_indexer,col_indexer] = value instead\n",
      "\n",
      "See the caveats in the documentation: http://pandas.pydata.org/pandas-docs/stable/user_guide/indexing.html#returning-a-view-versus-a-copy\n",
      "  self.obj[key] = _infer_fill_value(value)\n",
      "/opt/conda/lib/python3.7/site-packages/pandas/core/indexing.py:494: SettingWithCopyWarning: \n",
      "A value is trying to be set on a copy of a slice from a DataFrame.\n",
      "Try using .loc[row_indexer,col_indexer] = value instead\n",
      "\n",
      "See the caveats in the documentation: http://pandas.pydata.org/pandas-docs/stable/user_guide/indexing.html#returning-a-view-versus-a-copy\n",
      "  self.obj[item] = s\n"
     ]
    },
    {
     "data": {
      "text/html": [
       "<div>\n",
       "<style scoped>\n",
       "    .dataframe tbody tr th:only-of-type {\n",
       "        vertical-align: middle;\n",
       "    }\n",
       "\n",
       "    .dataframe tbody tr th {\n",
       "        vertical-align: top;\n",
       "    }\n",
       "\n",
       "    .dataframe thead th {\n",
       "        text-align: right;\n",
       "    }\n",
       "</style>\n",
       "<table border=\"1\" class=\"dataframe\">\n",
       "  <thead>\n",
       "    <tr style=\"text-align: right;\">\n",
       "      <th></th>\n",
       "      <th>total_images</th>\n",
       "      <th>last_price</th>\n",
       "      <th>total_area</th>\n",
       "      <th>first_day_exposition</th>\n",
       "      <th>rooms</th>\n",
       "      <th>ceiling_height</th>\n",
       "      <th>floors_total</th>\n",
       "      <th>living_area</th>\n",
       "      <th>floor</th>\n",
       "      <th>studio</th>\n",
       "      <th>...</th>\n",
       "      <th>ponds_nearest</th>\n",
       "      <th>days_exposition</th>\n",
       "      <th>sq_m_price</th>\n",
       "      <th>week_day_exposition</th>\n",
       "      <th>month_exposition</th>\n",
       "      <th>year_exposition</th>\n",
       "      <th>floor_category</th>\n",
       "      <th>living_to_total</th>\n",
       "      <th>kitchen_to_total</th>\n",
       "      <th>km_to_city_center</th>\n",
       "    </tr>\n",
       "  </thead>\n",
       "  <tbody>\n",
       "    <tr>\n",
       "      <td>2</td>\n",
       "      <td>10</td>\n",
       "      <td>5196000.0</td>\n",
       "      <td>56.0</td>\n",
       "      <td>2015-08-20</td>\n",
       "      <td>2</td>\n",
       "      <td>2.65</td>\n",
       "      <td>5</td>\n",
       "      <td>34.300000</td>\n",
       "      <td>4</td>\n",
       "      <td>False</td>\n",
       "      <td>...</td>\n",
       "      <td>574.0</td>\n",
       "      <td>558.0</td>\n",
       "      <td>92785.71</td>\n",
       "      <td>3</td>\n",
       "      <td>8</td>\n",
       "      <td>2015</td>\n",
       "      <td>другой</td>\n",
       "      <td>0.612500</td>\n",
       "      <td>0.148214</td>\n",
       "      <td>13</td>\n",
       "    </tr>\n",
       "    <tr>\n",
       "      <td>4</td>\n",
       "      <td>2</td>\n",
       "      <td>10000000.0</td>\n",
       "      <td>100.0</td>\n",
       "      <td>2018-06-19</td>\n",
       "      <td>2</td>\n",
       "      <td>3.03</td>\n",
       "      <td>14</td>\n",
       "      <td>32.000000</td>\n",
       "      <td>13</td>\n",
       "      <td>False</td>\n",
       "      <td>...</td>\n",
       "      <td>48.0</td>\n",
       "      <td>121.0</td>\n",
       "      <td>100000.00</td>\n",
       "      <td>1</td>\n",
       "      <td>6</td>\n",
       "      <td>2018</td>\n",
       "      <td>другой</td>\n",
       "      <td>0.320000</td>\n",
       "      <td>0.410000</td>\n",
       "      <td>8</td>\n",
       "    </tr>\n",
       "    <tr>\n",
       "      <td>7</td>\n",
       "      <td>5</td>\n",
       "      <td>7915000.0</td>\n",
       "      <td>71.6</td>\n",
       "      <td>2019-04-18</td>\n",
       "      <td>2</td>\n",
       "      <td>2.65</td>\n",
       "      <td>24</td>\n",
       "      <td>40.658769</td>\n",
       "      <td>22</td>\n",
       "      <td>False</td>\n",
       "      <td>...</td>\n",
       "      <td>NaN</td>\n",
       "      <td>NaN</td>\n",
       "      <td>110544.69</td>\n",
       "      <td>3</td>\n",
       "      <td>4</td>\n",
       "      <td>2019</td>\n",
       "      <td>другой</td>\n",
       "      <td>0.567860</td>\n",
       "      <td>0.263966</td>\n",
       "      <td>11</td>\n",
       "    </tr>\n",
       "    <tr>\n",
       "      <td>9</td>\n",
       "      <td>18</td>\n",
       "      <td>5400000.0</td>\n",
       "      <td>61.0</td>\n",
       "      <td>2017-02-26</td>\n",
       "      <td>3</td>\n",
       "      <td>2.50</td>\n",
       "      <td>9</td>\n",
       "      <td>43.600000</td>\n",
       "      <td>7</td>\n",
       "      <td>False</td>\n",
       "      <td>...</td>\n",
       "      <td>NaN</td>\n",
       "      <td>289.0</td>\n",
       "      <td>88524.59</td>\n",
       "      <td>6</td>\n",
       "      <td>2</td>\n",
       "      <td>2017</td>\n",
       "      <td>другой</td>\n",
       "      <td>0.714754</td>\n",
       "      <td>0.106557</td>\n",
       "      <td>15</td>\n",
       "    </tr>\n",
       "    <tr>\n",
       "      <td>10</td>\n",
       "      <td>5</td>\n",
       "      <td>5050000.0</td>\n",
       "      <td>39.6</td>\n",
       "      <td>2017-11-16</td>\n",
       "      <td>1</td>\n",
       "      <td>2.67</td>\n",
       "      <td>12</td>\n",
       "      <td>20.300000</td>\n",
       "      <td>3</td>\n",
       "      <td>False</td>\n",
       "      <td>...</td>\n",
       "      <td>553.0</td>\n",
       "      <td>137.0</td>\n",
       "      <td>127525.25</td>\n",
       "      <td>3</td>\n",
       "      <td>11</td>\n",
       "      <td>2017</td>\n",
       "      <td>другой</td>\n",
       "      <td>0.512626</td>\n",
       "      <td>0.214646</td>\n",
       "      <td>13</td>\n",
       "    </tr>\n",
       "  </tbody>\n",
       "</table>\n",
       "<p>5 rows × 29 columns</p>\n",
       "</div>"
      ],
      "text/plain": [
       "    total_images  last_price  total_area first_day_exposition  rooms  \\\n",
       "2             10   5196000.0        56.0           2015-08-20      2   \n",
       "4              2  10000000.0       100.0           2018-06-19      2   \n",
       "7              5   7915000.0        71.6           2019-04-18      2   \n",
       "9             18   5400000.0        61.0           2017-02-26      3   \n",
       "10             5   5050000.0        39.6           2017-11-16      1   \n",
       "\n",
       "    ceiling_height  floors_total  living_area  floor  studio  ...  \\\n",
       "2             2.65             5    34.300000      4   False  ...   \n",
       "4             3.03            14    32.000000     13   False  ...   \n",
       "7             2.65            24    40.658769     22   False  ...   \n",
       "9             2.50             9    43.600000      7   False  ...   \n",
       "10            2.67            12    20.300000      3   False  ...   \n",
       "\n",
       "    ponds_nearest  days_exposition  sq_m_price week_day_exposition  \\\n",
       "2           574.0            558.0    92785.71                   3   \n",
       "4            48.0            121.0   100000.00                   1   \n",
       "7             NaN              NaN   110544.69                   3   \n",
       "9             NaN            289.0    88524.59                   6   \n",
       "10          553.0            137.0   127525.25                   3   \n",
       "\n",
       "    month_exposition  year_exposition  floor_category  living_to_total  \\\n",
       "2                  8             2015          другой         0.612500   \n",
       "4                  6             2018          другой         0.320000   \n",
       "7                  4             2019          другой         0.567860   \n",
       "9                  2             2017          другой         0.714754   \n",
       "10                11             2017          другой         0.512626   \n",
       "\n",
       "    kitchen_to_total  km_to_city_center  \n",
       "2           0.148214                 13  \n",
       "4           0.410000                  8  \n",
       "7           0.263966                 11  \n",
       "9           0.106557                 15  \n",
       "10          0.214646                 13  \n",
       "\n",
       "[5 rows x 29 columns]"
      ]
     },
     "execution_count": 31,
     "metadata": {},
     "output_type": "execute_result"
    }
   ],
   "source": [
    "spb_data = df_filtered.query('locality_name == \"санкт-петербург\"')\n",
    "spb_data.loc[:, 'km_to_city_center'] = spb_data['city_centers_nearest'] / 1000\n",
    "spb_data = spb_data.dropna(subset=['km_to_city_center'])\n",
    "spb_data.loc[:, 'km_to_city_center'] = spb_data['km_to_city_center'].astype(int)\n",
    "spb_data.head()"
   ]
  },
  {
   "cell_type": "code",
   "execution_count": 32,
   "metadata": {},
   "outputs": [
    {
     "data": {
      "image/png": "[encoded data removed]",
      "text/plain": [
       "<Figure size 432x288 with 1 Axes>"
      ]
     },
     "metadata": {
      "needs_background": "light"
     },
     "output_type": "display_data"
    }
   ],
   "source": [
    "mean_prices = []\n",
    "km_values = spb_data['km_to_city_center'].sort_values().unique()\n",
    "for km in km_values:\n",
    "    mean_prices.append(spb_data.query('km_to_city_center == @km')['last_price'].mean())\n",
    "plt.title('График изменения средней цены квартир по мере удаления от центра', pad=20)\n",
    "plt.xlabel('Расстояние от центра (км)')\n",
    "plt.ylabel('Средняя цена квартир (млн руб)')\n",
    "plt.plot(km_values, mean_prices)\n",
    "plt.ylim(0, 1e7)\n",
    "plt.show()"
   ]
  },
  {
   "cell_type": "markdown",
   "metadata": {},
   "source": [
    "На графике можем заметить, что средняя цена квартир сначала снижается при удалении от центра, и около 7-8 км наблюдается стабилизация цен. Область радиусом 7 км можно считать центральной зоной Санкт-Петербурга - именно после 7-километровой зоны цена квартир стабилизируется (резкие скачки и падения после 20 км в расчет не берем, это могут быть какие-то отдельные районы на окраине)."
   ]
  },
  {
   "cell_type": "markdown",
   "metadata": {},
   "source": [
    "### Изучение сегмента квартир в центре Санкт-Петербурга"
   ]
  },
  {
   "cell_type": "markdown",
   "metadata": {},
   "source": [
    "Сначала отфильтруем необходимые данные методом `query()` и просмотрим числовое описание данных методом `describe()`, как уже делали в пункте 4.1."
   ]
  },
  {
   "cell_type": "code",
   "execution_count": 33,
   "metadata": {
    "scrolled": true
   },
   "outputs": [
    {
     "data": {
      "text/html": [
       "<div>\n",
       "<style scoped>\n",
       "    .dataframe tbody tr th:only-of-type {\n",
       "        vertical-align: middle;\n",
       "    }\n",
       "\n",
       "    .dataframe tbody tr th {\n",
       "        vertical-align: top;\n",
       "    }\n",
       "\n",
       "    .dataframe thead th {\n",
       "        text-align: right;\n",
       "    }\n",
       "</style>\n",
       "<table border=\"1\" class=\"dataframe\">\n",
       "  <thead>\n",
       "    <tr style=\"text-align: right;\">\n",
       "      <th></th>\n",
       "      <th>total_images</th>\n",
       "      <th>last_price</th>\n",
       "      <th>total_area</th>\n",
       "      <th>first_day_exposition</th>\n",
       "      <th>rooms</th>\n",
       "      <th>ceiling_height</th>\n",
       "      <th>floors_total</th>\n",
       "      <th>living_area</th>\n",
       "      <th>floor</th>\n",
       "      <th>studio</th>\n",
       "      <th>...</th>\n",
       "      <th>ponds_nearest</th>\n",
       "      <th>days_exposition</th>\n",
       "      <th>sq_m_price</th>\n",
       "      <th>week_day_exposition</th>\n",
       "      <th>month_exposition</th>\n",
       "      <th>year_exposition</th>\n",
       "      <th>floor_category</th>\n",
       "      <th>living_to_total</th>\n",
       "      <th>kitchen_to_total</th>\n",
       "      <th>km_to_city_center</th>\n",
       "    </tr>\n",
       "  </thead>\n",
       "  <tbody>\n",
       "    <tr>\n",
       "      <td>24</td>\n",
       "      <td>8</td>\n",
       "      <td>6500000.0</td>\n",
       "      <td>97.2</td>\n",
       "      <td>2015-10-31</td>\n",
       "      <td>2</td>\n",
       "      <td>2.65</td>\n",
       "      <td>3</td>\n",
       "      <td>46.5</td>\n",
       "      <td>1</td>\n",
       "      <td>False</td>\n",
       "      <td>...</td>\n",
       "      <td>124.0</td>\n",
       "      <td>265.0</td>\n",
       "      <td>66872.43</td>\n",
       "      <td>5</td>\n",
       "      <td>10</td>\n",
       "      <td>2015</td>\n",
       "      <td>первый</td>\n",
       "      <td>0.478395</td>\n",
       "      <td>0.201646</td>\n",
       "      <td>2</td>\n",
       "    </tr>\n",
       "    <tr>\n",
       "      <td>61</td>\n",
       "      <td>18</td>\n",
       "      <td>7990000.0</td>\n",
       "      <td>74.0</td>\n",
       "      <td>2017-08-24</td>\n",
       "      <td>2</td>\n",
       "      <td>2.65</td>\n",
       "      <td>4</td>\n",
       "      <td>43.0</td>\n",
       "      <td>4</td>\n",
       "      <td>False</td>\n",
       "      <td>...</td>\n",
       "      <td>NaN</td>\n",
       "      <td>609.0</td>\n",
       "      <td>107972.97</td>\n",
       "      <td>3</td>\n",
       "      <td>8</td>\n",
       "      <td>2017</td>\n",
       "      <td>последний</td>\n",
       "      <td>0.581081</td>\n",
       "      <td>0.270270</td>\n",
       "      <td>4</td>\n",
       "    </tr>\n",
       "    <tr>\n",
       "      <td>94</td>\n",
       "      <td>3</td>\n",
       "      <td>3500000.0</td>\n",
       "      <td>29.5</td>\n",
       "      <td>2019-04-26</td>\n",
       "      <td>1</td>\n",
       "      <td>2.50</td>\n",
       "      <td>5</td>\n",
       "      <td>15.6</td>\n",
       "      <td>2</td>\n",
       "      <td>False</td>\n",
       "      <td>...</td>\n",
       "      <td>NaN</td>\n",
       "      <td>4.0</td>\n",
       "      <td>118644.07</td>\n",
       "      <td>4</td>\n",
       "      <td>4</td>\n",
       "      <td>2019</td>\n",
       "      <td>другой</td>\n",
       "      <td>0.528814</td>\n",
       "      <td>0.186441</td>\n",
       "      <td>7</td>\n",
       "    </tr>\n",
       "    <tr>\n",
       "      <td>99</td>\n",
       "      <td>32</td>\n",
       "      <td>9600000.0</td>\n",
       "      <td>90.0</td>\n",
       "      <td>2017-09-26</td>\n",
       "      <td>4</td>\n",
       "      <td>2.65</td>\n",
       "      <td>5</td>\n",
       "      <td>67.0</td>\n",
       "      <td>2</td>\n",
       "      <td>False</td>\n",
       "      <td>...</td>\n",
       "      <td>NaN</td>\n",
       "      <td>104.0</td>\n",
       "      <td>106666.67</td>\n",
       "      <td>1</td>\n",
       "      <td>9</td>\n",
       "      <td>2017</td>\n",
       "      <td>другой</td>\n",
       "      <td>0.744444</td>\n",
       "      <td>0.088889</td>\n",
       "      <td>2</td>\n",
       "    </tr>\n",
       "    <tr>\n",
       "      <td>111</td>\n",
       "      <td>4</td>\n",
       "      <td>4590000.0</td>\n",
       "      <td>40.0</td>\n",
       "      <td>2017-05-29</td>\n",
       "      <td>1</td>\n",
       "      <td>2.65</td>\n",
       "      <td>6</td>\n",
       "      <td>18.0</td>\n",
       "      <td>1</td>\n",
       "      <td>False</td>\n",
       "      <td>...</td>\n",
       "      <td>NaN</td>\n",
       "      <td>31.0</td>\n",
       "      <td>114750.00</td>\n",
       "      <td>0</td>\n",
       "      <td>5</td>\n",
       "      <td>2017</td>\n",
       "      <td>первый</td>\n",
       "      <td>0.450000</td>\n",
       "      <td>0.250000</td>\n",
       "      <td>6</td>\n",
       "    </tr>\n",
       "  </tbody>\n",
       "</table>\n",
       "<p>5 rows × 29 columns</p>\n",
       "</div>"
      ],
      "text/plain": [
       "     total_images  last_price  total_area first_day_exposition  rooms  \\\n",
       "24              8   6500000.0        97.2           2015-10-31      2   \n",
       "61             18   7990000.0        74.0           2017-08-24      2   \n",
       "94              3   3500000.0        29.5           2019-04-26      1   \n",
       "99             32   9600000.0        90.0           2017-09-26      4   \n",
       "111             4   4590000.0        40.0           2017-05-29      1   \n",
       "\n",
       "     ceiling_height  floors_total  living_area  floor  studio  ...  \\\n",
       "24             2.65             3         46.5      1   False  ...   \n",
       "61             2.65             4         43.0      4   False  ...   \n",
       "94             2.50             5         15.6      2   False  ...   \n",
       "99             2.65             5         67.0      2   False  ...   \n",
       "111            2.65             6         18.0      1   False  ...   \n",
       "\n",
       "     ponds_nearest  days_exposition  sq_m_price week_day_exposition  \\\n",
       "24           124.0            265.0    66872.43                   5   \n",
       "61             NaN            609.0   107972.97                   3   \n",
       "94             NaN              4.0   118644.07                   4   \n",
       "99             NaN            104.0   106666.67                   1   \n",
       "111            NaN             31.0   114750.00                   0   \n",
       "\n",
       "     month_exposition  year_exposition  floor_category  living_to_total  \\\n",
       "24                 10             2015          первый         0.478395   \n",
       "61                  8             2017       последний         0.581081   \n",
       "94                  4             2019          другой         0.528814   \n",
       "99                  9             2017          другой         0.744444   \n",
       "111                 5             2017          первый         0.450000   \n",
       "\n",
       "     kitchen_to_total  km_to_city_center  \n",
       "24           0.201646                  2  \n",
       "61           0.270270                  4  \n",
       "94           0.186441                  7  \n",
       "99           0.088889                  2  \n",
       "111          0.250000                  6  \n",
       "\n",
       "[5 rows x 29 columns]"
      ]
     },
     "execution_count": 33,
     "metadata": {},
     "output_type": "execute_result"
    }
   ],
   "source": [
    "spb_data_7km = spb_data.query('km_to_city_center <= 7')\n",
    "spb_data_7km.head()"
   ]
  },
  {
   "cell_type": "code",
   "execution_count": 34,
   "metadata": {},
   "outputs": [
    {
     "name": "stdout",
     "output_type": "stream",
     "text": [
      "count    13034.00\n",
      "mean        52.98\n",
      "std         17.85\n",
      "min         12.00\n",
      "25%         39.90\n",
      "50%         49.30\n",
      "75%         63.00\n",
      "max        190.00\n",
      "Name: total_area, dtype: object\n",
      "count    2111.00\n",
      "mean       62.57\n",
      "std        21.58\n",
      "min        12.00\n",
      "25%        46.00\n",
      "50%        60.00\n",
      "75%        76.00\n",
      "max       190.00\n",
      "Name: total_area, dtype: object\n"
     ]
    }
   ],
   "source": [
    "print(spb_data['total_area'].describe().apply(\"{0:.2f}\".format))\n",
    "print(spb_data_7km['total_area'].describe().apply(\"{0:.2f}\".format))"
   ]
  },
  {
   "cell_type": "code",
   "execution_count": 35,
   "metadata": {},
   "outputs": [
    {
     "name": "stdout",
     "output_type": "stream",
     "text": [
      "count       13034.00\n",
      "mean      5406410.11\n",
      "std       1785985.49\n",
      "min         12190.00\n",
      "25%       4000000.00\n",
      "50%       5000000.00\n",
      "75%       6500000.00\n",
      "max      10000000.00\n",
      "Name: last_price, dtype: object\n",
      "count        2111.00\n",
      "mean      6855519.27\n",
      "std       1796602.45\n",
      "min       1600000.00\n",
      "25%       5500000.00\n",
      "50%       6870000.00\n",
      "75%       8300000.00\n",
      "max      10000000.00\n",
      "Name: last_price, dtype: object\n"
     ]
    }
   ],
   "source": [
    "print(spb_data['last_price'].describe().apply(\"{0:.2f}\".format))\n",
    "print(spb_data_7km['last_price'].describe().apply(\"{0:.2f}\".format))"
   ]
  },
  {
   "cell_type": "code",
   "execution_count": 36,
   "metadata": {},
   "outputs": [
    {
     "name": "stdout",
     "output_type": "stream",
     "text": [
      "count    13034.00\n",
      "mean         1.93\n",
      "std          0.90\n",
      "min          0.00\n",
      "25%          1.00\n",
      "50%          2.00\n",
      "75%          3.00\n",
      "max          5.00\n",
      "Name: rooms, dtype: object\n",
      "count    2111.00\n",
      "mean        2.23\n",
      "std         0.97\n",
      "min         0.00\n",
      "25%         2.00\n",
      "50%         2.00\n",
      "75%         3.00\n",
      "max         5.00\n",
      "Name: rooms, dtype: object\n"
     ]
    }
   ],
   "source": [
    "print(spb_data['rooms'].describe().apply(\"{0:.2f}\".format))\n",
    "print(spb_data_7km['rooms'].describe().apply(\"{0:.2f}\".format))"
   ]
  },
  {
   "cell_type": "code",
   "execution_count": 37,
   "metadata": {
    "scrolled": true
   },
   "outputs": [
    {
     "name": "stdout",
     "output_type": "stream",
     "text": [
      "count    13034.00\n",
      "mean         2.68\n",
      "std          0.18\n",
      "min          2.00\n",
      "25%          2.60\n",
      "50%          2.65\n",
      "75%          2.70\n",
      "max          4.00\n",
      "Name: ceiling_height, dtype: object\n",
      "count    2111.00\n",
      "mean        2.86\n",
      "std         0.30\n",
      "min         2.40\n",
      "25%         2.65\n",
      "50%         2.70\n",
      "75%         3.00\n",
      "max         4.00\n",
      "Name: ceiling_height, dtype: object\n"
     ]
    }
   ],
   "source": [
    "print(spb_data['ceiling_height'].describe().apply(\"{0:.2f}\".format))\n",
    "print(spb_data_7km['ceiling_height'].describe().apply(\"{0:.2f}\".format))"
   ]
  },
  {
   "cell_type": "markdown",
   "metadata": {},
   "source": [
    "Анализ числовых характеристик показал логичный результат - в центре города площадь, цена, количество комнат и высота потолков в среднем больше, чем в среднем по всем городу.\n",
    "\n",
    "Теперь построим гистограммы распределения данных."
   ]
  },
  {
   "cell_type": "code",
   "execution_count": 38,
   "metadata": {},
   "outputs": [
    {
     "data": {
      "image/png": "[encoded data removed]",
      "text/plain": [
       "<Figure size 1728x576 with 8 Axes>"
      ]
     },
     "metadata": {
      "needs_background": "light"
     },
     "output_type": "display_data"
    }
   ],
   "source": [
    "fig, axs = plt.subplots(2, 4, figsize=(24, 8))\n",
    "fig.suptitle('Гистограммы распределения данных', fontsize=18)\n",
    "for i, col in enumerate(lst_col):\n",
    "    axs[0][i].set_xlabel(lst_col[i], fontsize=12)\n",
    "    axs[0][i].set_ylabel('Частота', fontsize=12)\n",
    "    spb_data[col].hist(bins=10, ax=axs[0][i])\n",
    "    axs[1][i].set_xlabel(lst_col[i], fontsize=12)\n",
    "    axs[1][i].set_ylabel('Частота', fontsize=12)\n",
    "    spb_data_7km[col].hist(bins=10, ax=axs[1][i])\n",
    "plt.show()"
   ]
  },
  {
   "cell_type": "markdown",
   "metadata": {},
   "source": [
    "Гистограммы показывают похожие распределения, однако есть существенные различия. Можно заметить, что в графике распределения квартир по площади пик расположен между 50 и 75 квадратными метрами, в то время как во всем городе между 25 и 50. Также заметно смещение графика распределения цен вправо - это подтверждает более высокую стоимость квартир в центральной зоне города. В центре Санкт-Петербурга чаще встречаются двухкомнатные квартиры, в то время как во всем городе - однокомнатные. И наконец, намного больше доля квартир с более высокими потолками, чем у большей части квартир.\n",
    "\n",
    "Теперь исследуем факторы, влияние которых анализировали в пункте 4.3: число комнат, этаж, удаленность от центра, дату размещения объявления."
   ]
  },
  {
   "cell_type": "code",
   "execution_count": 39,
   "metadata": {
    "scrolled": true
   },
   "outputs": [
    {
     "name": "stdout",
     "output_type": "stream",
     "text": [
      "Коэффициент корреляции цены и столбца rooms равен 0.51 во всем городе.\n",
      "Коэффициент корреляции цены и столбца rooms равен 0.47 в центре города.\n",
      "Коэффициент корреляции цены и столбца km_to_city_center равен -0.33 во всем городе.\n",
      "Коэффициент корреляции цены и столбца km_to_city_center равен -0.18 в центре города.\n"
     ]
    }
   ],
   "source": [
    "lst_col_1 = ['last_price', 'rooms', 'km_to_city_center', 'floor_category',\n",
    "             'week_day_exposition', 'month_exposition', 'year_exposition']\n",
    "spb_data_filtered = spb_data[lst_col_1]\n",
    "spb_data_7km_filtered = spb_data_7km[lst_col_1]\n",
    "for col in lst_col_1[1:3]:\n",
    "    coef = spb_data_filtered['last_price'].corr(spb_data_filtered[col])\n",
    "    coef_7km = spb_data_7km_filtered['last_price'].corr(spb_data_7km_filtered[col])\n",
    "    print(f'Коэффициент корреляции цены и столбца {col} равен {coef:.2f} во всем городе.')\n",
    "    print(f'Коэффициент корреляции цены и столбца {col} равен {coef_7km:.2f} в центре города.')"
   ]
  },
  {
   "cell_type": "markdown",
   "metadata": {},
   "source": [
    "Как видно, коэффициент корреляции цены и количества комнат, а также цены и расстояния до центра и так был невысоким, а в центре города еще уменьшился, таким образом, зависимость снова не выявлена."
   ]
  },
  {
   "cell_type": "code",
   "execution_count": 40,
   "metadata": {
    "scrolled": false
   },
   "outputs": [
    {
     "data": {
      "image/png": "[encoded data removed]",
      "text/plain": [
       "<Figure size 1440x576 with 2 Axes>"
      ]
     },
     "metadata": {
      "needs_background": "light"
     },
     "output_type": "display_data"
    }
   ],
   "source": [
    "fig, axs = plt.subplots(1, 2, figsize=(20, 8))\n",
    "spb_data_filtered.boxplot(column='last_price', by='floor_category', ax=axs[0])\n",
    "axs[0].set_title('Весь город')\n",
    "spb_data_7km_filtered.boxplot(column='last_price', by='floor_category', ax=axs[1])\n",
    "axs[1].set_title('Центр города')\n",
    "for i in range(2):\n",
    "    axs[i].set_ylim(0, 1e7)\n",
    "    axs[i].set_xlabel('Категория этажа', fontsize=14)\n",
    "    axs[i].set_ylabel('Цена квартиры (млн руб)', fontsize=14)\n",
    "fig.suptitle('Диаграмма размаха цены квартир в Санкт-Петербурге в зависимости от категории этажа', fontsize=18)\n",
    "plt.show()"
   ]
  },
  {
   "cell_type": "markdown",
   "metadata": {},
   "source": [
    "Видим, что медианы и квартили на графике для центра города расположены намного выше, чем для всего Санкт-Петербурга - очередное подтверждение того, что квартиры в центре дороже, при этом нет зависимости от этажа, все три категории подорожали примерно одинаково."
   ]
  },
  {
   "cell_type": "code",
   "execution_count": 41,
   "metadata": {},
   "outputs": [
    {
     "data": {
      "image/png": "[encoded data removed]",
      "text/plain": [
       "<Figure size 1728x576 with 3 Axes>"
      ]
     },
     "metadata": {
      "needs_background": "light"
     },
     "output_type": "display_data"
    }
   ],
   "source": [
    "fig, axs = plt.subplots(1, 3, figsize=(24, 8))\n",
    "spb_data_filtered.boxplot(column='last_price', by='week_day_exposition', ax=axs[0])\n",
    "axs[0].set_xlabel('День недели', fontsize=14)\n",
    "spb_data_filtered.boxplot(column='last_price', by='month_exposition', ax=axs[1])\n",
    "axs[1].set_xlabel('Месяц', fontsize=14)\n",
    "spb_data_filtered.boxplot(column='last_price', by='year_exposition', ax=axs[2])\n",
    "axs[2].set_xlabel('Год', fontsize=14)\n",
    "for i in range(3):\n",
    "    axs[i].set_title('')\n",
    "    axs[i].set_ylim(0, 1e7)\n",
    "    axs[i].set_ylabel('Цена квартиры (млн руб)', fontsize=14)\n",
    "fig.suptitle('Диаграмма размаха цены квартир в Санкт-Петербурге ' +\n",
    "             'в зависимости от даты публикации объявления о продаже', fontsize=18)\n",
    "plt.show()"
   ]
  },
  {
   "cell_type": "code",
   "execution_count": 42,
   "metadata": {
    "scrolled": false
   },
   "outputs": [
    {
     "data": {
      "image/png": "[encoded data removed]",
      "text/plain": [
       "<Figure size 1728x576 with 3 Axes>"
      ]
     },
     "metadata": {
      "needs_background": "light"
     },
     "output_type": "display_data"
    }
   ],
   "source": [
    "fig, axs = plt.subplots(1, 3, figsize=(24, 8))\n",
    "spb_data_7km_filtered.boxplot(column='last_price', by='week_day_exposition', ax=axs[0])\n",
    "axs[0].set_xlabel('День недели', fontsize=14)\n",
    "spb_data_7km_filtered.boxplot(column='last_price', by='month_exposition', ax=axs[1])\n",
    "axs[1].set_xlabel('Месяц', fontsize=14)\n",
    "spb_data_7km_filtered.boxplot(column='last_price', by='year_exposition', ax=axs[2])\n",
    "axs[2].set_xlabel('Год', fontsize=14)\n",
    "for i in range(3):\n",
    "    axs[i].set_title('')\n",
    "    axs[i].set_ylim(0, 1e7)\n",
    "    axs[i].set_ylabel('Цена квартиры (млн руб)', fontsize=14)\n",
    "fig.suptitle('Диаграмма размаха цены квартир в центре Санкт-Петербурга ' +\n",
    "             'в зависимости от даты публикации объявления о продаже', fontsize=18)\n",
    "plt.show()"
   ]
  },
  {
   "cell_type": "markdown",
   "metadata": {},
   "source": [
    "Получили аналогичные результаты:\n",
    "- день недели не влияет на цену квартир, выложенных в этот день;\n",
    "- месяц размещения объявления тоже кардинально не влияет на цену квартир;\n",
    "- 2014-ый год был самым дорогим по цене квартир (однако в центре Санкт-Петербурга это не подтвердилось, вероятно, в этом году в центре были очень дорогие квартиры, стоимостью более 10 млн, из-за чего они были посчитаны как выбросы), в следующем году цена резко уменьшилась и дальше 3 года не менялась, лишь немного увеличившись в 2019-ом;\n",
    "- цены в центре города в среднем намного выше, чем во всем городе."
   ]
  },
  {
   "cell_type": "markdown",
   "metadata": {},
   "source": [
    "### Вывод"
   ]
  },
  {
   "cell_type": "markdown",
   "metadata": {},
   "source": [
    "Был проведен исследовательский анализ данных, а именно:\n",
    "- изучены площадь, цена, число комнат, высота потолков в квартирах, построены гистограммы;\n",
    "- изучено время продажи квартир, построена гистограмма, определены обычное, очень быстрое и необычно долгое время продажи;\n",
    "- убраны \"выбросы\" в данных;\n",
    "- изучено влияние различных факторов на стоимость квартиры;\n",
    "- найдена первая десятка населенных пунктов по количеству объявлений, выделены пункты с наибольшей (Санкт-Петербург) и наименьшей (Выборг) средней ценой квадратного метра жилья;\n",
    "- выяснено, какая область Санкт-Петербурга входит в центр (радиус 5 км от центральной точки);\n",
    "- изучены площадь, цена, число комнат, высота потолков в квартирах центра Санкт-Петербурга, произведено сравнение с соответствующими параметрами для всего города;\n",
    "- проанализировано влияние различных параметров на цену квартир в центре Санкт-Петербурга, произведено сравнение с соответствующими параметрами для всего города."
   ]
  },
  {
   "cell_type": "markdown",
   "metadata": {},
   "source": [
    "## Общий вывод"
   ]
  },
  {
   "cell_type": "markdown",
   "metadata": {},
   "source": [
    "Набор данных, предоставленный для анализа, имел изъяны:\n",
    "- название одного из столбцов не соответствовало \"змеиному\" регистру;\n",
    "- в части столбцов были пропущенные значения;\n",
    "- типы данных в некоторых столбцах не соответствовали содержанию столбцов.\n",
    "\n",
    "В шаге 2 эти недостатки были устранены, за исключением пропусков в некоторых столбцах, в которых их нельзя было устранить, чтобы не исказить результаты дальнейшего анализа.\n",
    "\n",
    "В шаге 3 в таблицу были добавлены столбцы с данными в соответствии с поставленной задачей:\n",
    "- цена квадратного метра жилья;\n",
    "- день недели, месяц и год публикации объявления;\n",
    "- категория квартиры в соответствии с этажом: первый, последний, другой;\n",
    "- соотношения: жилой площади к общей, кухонной площади к общей.\n",
    "\n",
    "В шаге 4 был произведен исследовательский анализ данных, в ходе которого были сделаны следующие выводы:\n",
    "- большая часть объявлений - о продаже однокомнатных и двухкомнатных квартир, площадью от 25 до 50 квадратных метров, стоимостью от 3 до 4 миллионов, с высотой потолков около 2.6 - 2.7 м;\n",
    "- большинство квартир продается менее чем за 100 дней, при этом число объявлений плавно уменьшается с явными скачками в районе 50 и 70 дней;\n",
    "- выявлена хорошая корреляция между ценой квартиры и ее площадью: чем больше площадь, тем дороже квартира;\n",
    "- также, несмотря на низкий коэффициент корреляции, имеется зависимость между ценой квартиры и удаленностью от центра: чем ближе квартира к центру, тем она дороже, однако зависимость эта нелинейная, иначе коэффициент корреляции был бы близок к -1;\n",
    "- не выявлено зависимости цены квартиры от количества комнат (она есть, но маленькая) и от этажа;\n",
    "- от даты размещения объявления цена также не зависит, однако в 2014 году цены были выше, чем в последующие годы; с чем это связано - неизвестно;\n",
    "- в Санкт-Петербурге наибольшее число объявлений и самая высокая средняя цена квадратного метра; Выборг - на 10-м месте по числу объявлений о продаже жилья и имеет самую низкую среднюю цену квадратного метра среди топ-10 населенных пунктов по количеству объявлений;\n",
    "- центральной зоной Санкт-Петербурга был принят круг радиусом 7 км от центральной точки города;\n",
    "- в центре Санкт-Петербурга цены на квартиры в среднем выше, чем во всем городе.\n",
    "\n",
    "По итогам исследования, могу выделить следующие **рекомендации** для определения рыночной стоимости квартир:\n",
    "1. Наиболее весомые параметры - расстояние до центра города и общая площадь квартиры. Цена квартиры становится тем выше, чем ближе она к центру (причем в центральной зоне рост цен намного быстрее, чем в остальной части города) и чем больше ее площадь;\n",
    "2. Также стоит обращать внимание на населенный пункт - жилье дороже в более крупных населенных пунктах (городах), чем в маленьких деревнях и селах;\n",
    "3. Квартиры на первом этаже в среднем дешевле, чем квартиры на последнем или другом;\n",
    "4. Количество комнат некоторым образом зависит от площади, поэтому чем больше комнат, тем дороже средняя цена квартир;\n",
    "5. Время продажи квартиры тоже играет свою роль - если квартира была продана слишком быстро, то, скорее всего, ее стоимость была занижена; если же квартиру крайне долго не покупали (год и более), это говорит о том, что ее цена была, вероятно, завышена."
   ]
  },
  {
   "cell_type": "markdown",
   "metadata": {},
   "source": [
    "## Чек-лист готовности проекта"
   ]
  },
  {
   "cell_type": "markdown",
   "metadata": {},
   "source": [
    "- [x]  открыт файл\n",
    "- [x]  файлы изучены (выведены первые строки, метод info())\n",
    "- [x]  определены пропущенные значения\n",
    "- [x]  заполнены пропущенные значения\n",
    "- [x]  есть пояснение, какие пропущенные значения обнаружены\n",
    "- [x]  изменены типы данных\n",
    "- [x]  есть пояснение, в каких столбцах изменены типы и почему\n",
    "- [x]  посчитано и добавлено в таблицу: цена квадратного метра\n",
    "- [x]  посчитано и добавлено в таблицу: день недели, месяц и год публикации объявления\n",
    "- [x]  посчитано и добавлено в таблицу: этаж квартиры; варианты — первый, последний, другой\n",
    "- [x]  посчитано и добавлено в таблицу: соотношение жилой и общей площади, а также отношение площади кухни к общей\n",
    "- [x]  изучены следующие параметры: площадь, цена, число комнат, высота потолков\n",
    "- [x]  построены гистограммы для каждого параметра\n",
    "- [x]  выполнено задание: \"Изучите время продажи квартиры. Постройте гистограмму. Посчитайте среднее и медиану. Опишите, сколько обычно занимает продажа. Когда можно считать, что продажи прошли очень быстро, а когда необычно долго?\"\n",
    "- [x]  выполнено задание: \"Уберите редкие и выбивающиеся значения. Опишите, какие особенности обнаружили.\"\n",
    "- [x]  выполнено задание: \"Какие факторы больше всего влияют на стоимость квартиры? Изучите, зависит ли цена от квадратного метра, числа комнат, этажа (первого или последнего), удалённости от центра. Также изучите зависимость от даты размещения: дня недели, месяца и года. \"\n",
    "- [x]  выполнено задание: \"Выберите 10 населённых пунктов с наибольшим числом объявлений. Посчитайте среднюю цену квадратного метра в этих населённых пунктах. Выделите населённые пункты с самой высокой и низкой стоимостью жилья. Эти данные можно найти по имени в столбце '*locality_name'*. \"\n",
    "- [x]  выполнено задание: \"Изучите предложения квартир: для каждой квартиры есть информация о расстоянии до центра. Выделите квартиры в Санкт-Петербурге (*'locality_name'*). Ваша задача — выяснить, какая область входит в центр. Создайте столбец с расстоянием до центра в километрах: округлите до целых значений. После этого посчитайте среднюю цену для каждого километра. Постройте график: он должен показывать, как цена зависит от удалённости от центра. Определите границу, где график сильно меняется — это и будет центральная зона. \"\n",
    "- [x]  выполнено задание: \"Выделите сегмент квартир в центре. Проанализируйте эту территорию и изучите следующие параметры: площадь, цена, число комнат, высота потолков. Также выделите факторы, которые влияют на стоимость квартиры (число комнат, этаж, удалённость от центра, дата размещения объявления). Сделайте выводы. Отличаются ли они от общих выводов по всему городу?\"\n",
    "- [x]  в каждом этапе есть выводы\n",
    "- [x]  есть общий вывод"
   ]
  }
 ],
 "metadata": {
  "ExecuteTimeLog": [
   {
    "duration": 659,
    "start_time": "2021-12-22T09:46:56.020Z"
   },
   {
    "duration": 86,
    "start_time": "2021-12-22T09:47:32.116Z"
   },
   {
    "duration": 12,
    "start_time": "2021-12-22T09:47:50.231Z"
   },
   {
    "duration": 5,
    "start_time": "2021-12-22T11:01:16.067Z"
   },
   {
    "duration": 26,
    "start_time": "2021-12-22T11:03:02.924Z"
   },
   {
    "duration": 8,
    "start_time": "2021-12-22T11:03:16.390Z"
   },
   {
    "duration": 7,
    "start_time": "2021-12-22T11:11:59.417Z"
   },
   {
    "duration": 22,
    "start_time": "2021-12-22T11:27:07.941Z"
   },
   {
    "duration": 42,
    "start_time": "2021-12-22T11:27:24.961Z"
   },
   {
    "duration": 9,
    "start_time": "2021-12-22T11:27:36.279Z"
   },
   {
    "duration": 21,
    "start_time": "2021-12-22T11:28:11.647Z"
   },
   {
    "duration": 5,
    "start_time": "2021-12-22T11:29:11.769Z"
   },
   {
    "duration": 7,
    "start_time": "2021-12-22T11:29:24.549Z"
   },
   {
    "duration": 9,
    "start_time": "2021-12-22T11:38:18.372Z"
   },
   {
    "duration": 16,
    "start_time": "2021-12-22T11:38:23.200Z"
   },
   {
    "duration": 8,
    "start_time": "2021-12-22T11:39:03.170Z"
   },
   {
    "duration": 10,
    "start_time": "2021-12-22T11:43:18.472Z"
   },
   {
    "duration": 333,
    "start_time": "2021-12-22T11:43:29.993Z"
   },
   {
    "duration": 87,
    "start_time": "2021-12-22T11:43:42.757Z"
   },
   {
    "duration": 10,
    "start_time": "2021-12-22T11:43:42.846Z"
   },
   {
    "duration": 7,
    "start_time": "2021-12-22T11:43:42.859Z"
   },
   {
    "duration": 19,
    "start_time": "2021-12-22T11:43:42.868Z"
   },
   {
    "duration": 4,
    "start_time": "2021-12-22T11:43:42.888Z"
   },
   {
    "duration": 266,
    "start_time": "2021-12-22T11:43:54.639Z"
   },
   {
    "duration": 243,
    "start_time": "2021-12-22T11:44:14.806Z"
   },
   {
    "duration": 259,
    "start_time": "2021-12-22T11:44:34.882Z"
   },
   {
    "duration": 129,
    "start_time": "2021-12-22T11:45:05.725Z"
   },
   {
    "duration": 18,
    "start_time": "2021-12-22T11:45:05.856Z"
   },
   {
    "duration": 10,
    "start_time": "2021-12-22T11:45:05.876Z"
   },
   {
    "duration": 18,
    "start_time": "2021-12-22T11:45:05.888Z"
   },
   {
    "duration": 5,
    "start_time": "2021-12-22T11:45:05.908Z"
   },
   {
    "duration": 21,
    "start_time": "2021-12-22T11:45:11.089Z"
   },
   {
    "duration": 85,
    "start_time": "2021-12-22T14:07:39.181Z"
   },
   {
    "duration": 9,
    "start_time": "2021-12-22T14:07:39.268Z"
   },
   {
    "duration": 18,
    "start_time": "2021-12-22T14:07:39.279Z"
   },
   {
    "duration": 32,
    "start_time": "2021-12-22T14:07:39.299Z"
   },
   {
    "duration": 19,
    "start_time": "2021-12-22T14:07:39.333Z"
   },
   {
    "duration": 34,
    "start_time": "2021-12-22T14:07:39.354Z"
   },
   {
    "duration": 15,
    "start_time": "2021-12-22T14:07:43.038Z"
   },
   {
    "duration": 8,
    "start_time": "2021-12-22T14:31:32.097Z"
   },
   {
    "duration": 251,
    "start_time": "2021-12-22T14:46:05.498Z"
   },
   {
    "duration": 732,
    "start_time": "2021-12-22T14:47:02.678Z"
   },
   {
    "duration": 7,
    "start_time": "2021-12-22T14:47:10.356Z"
   },
   {
    "duration": 6,
    "start_time": "2021-12-22T14:48:03.249Z"
   },
   {
    "duration": 6,
    "start_time": "2021-12-22T14:48:23.800Z"
   },
   {
    "duration": 6,
    "start_time": "2021-12-22T14:49:05.309Z"
   },
   {
    "duration": 6,
    "start_time": "2021-12-22T14:49:40.606Z"
   },
   {
    "duration": 8,
    "start_time": "2021-12-22T14:50:03.008Z"
   },
   {
    "duration": 9,
    "start_time": "2021-12-22T14:50:17.116Z"
   },
   {
    "duration": 17,
    "start_time": "2021-12-22T14:55:27.659Z"
   },
   {
    "duration": 6,
    "start_time": "2021-12-22T15:01:38.005Z"
   },
   {
    "duration": 8,
    "start_time": "2021-12-22T15:01:47.071Z"
   },
   {
    "duration": 279,
    "start_time": "2021-12-22T15:02:18.703Z"
   },
   {
    "duration": 8,
    "start_time": "2021-12-22T15:03:03.554Z"
   },
   {
    "duration": 324,
    "start_time": "2021-12-22T15:05:54.702Z"
   },
   {
    "duration": 340,
    "start_time": "2021-12-22T15:07:12.789Z"
   },
   {
    "duration": 354,
    "start_time": "2021-12-22T15:07:42.382Z"
   },
   {
    "duration": 87,
    "start_time": "2021-12-22T15:09:29.789Z"
   },
   {
    "duration": 10,
    "start_time": "2021-12-22T15:09:29.879Z"
   },
   {
    "duration": 6,
    "start_time": "2021-12-22T15:09:29.892Z"
   },
   {
    "duration": 7,
    "start_time": "2021-12-22T15:09:29.900Z"
   },
   {
    "duration": 5,
    "start_time": "2021-12-22T15:09:29.909Z"
   },
   {
    "duration": 7,
    "start_time": "2021-12-22T15:09:29.916Z"
   },
   {
    "duration": 47,
    "start_time": "2021-12-22T15:09:29.925Z"
   },
   {
    "duration": 10,
    "start_time": "2021-12-22T15:09:29.974Z"
   },
   {
    "duration": 247,
    "start_time": "2021-12-22T15:14:27.047Z"
   },
   {
    "duration": 7,
    "start_time": "2021-12-22T15:14:48.309Z"
   },
   {
    "duration": 1778,
    "start_time": "2021-12-22T15:16:56.289Z"
   },
   {
    "duration": 1854,
    "start_time": "2021-12-22T15:17:47.798Z"
   },
   {
    "duration": 1816,
    "start_time": "2021-12-22T15:17:53.598Z"
   },
   {
    "duration": 11,
    "start_time": "2021-12-22T15:18:15.963Z"
   },
   {
    "duration": 7,
    "start_time": "2021-12-22T15:18:22.662Z"
   },
   {
    "duration": 91,
    "start_time": "2021-12-22T15:20:25.640Z"
   },
   {
    "duration": 19,
    "start_time": "2021-12-22T15:54:01.584Z"
   },
   {
    "duration": 6,
    "start_time": "2021-12-22T15:54:09.524Z"
   },
   {
    "duration": 5,
    "start_time": "2021-12-22T15:54:19.733Z"
   },
   {
    "duration": 88,
    "start_time": "2021-12-22T15:54:31.194Z"
   },
   {
    "duration": 12,
    "start_time": "2021-12-22T15:54:31.284Z"
   },
   {
    "duration": 6,
    "start_time": "2021-12-22T15:54:31.298Z"
   },
   {
    "duration": 7,
    "start_time": "2021-12-22T15:54:31.306Z"
   },
   {
    "duration": 5,
    "start_time": "2021-12-22T15:54:39.614Z"
   },
   {
    "duration": 7,
    "start_time": "2021-12-22T15:55:06.430Z"
   },
   {
    "duration": 6,
    "start_time": "2021-12-22T15:55:41.955Z"
   },
   {
    "duration": 10,
    "start_time": "2021-12-22T15:56:50.757Z"
   },
   {
    "duration": 5,
    "start_time": "2021-12-22T16:02:56.217Z"
   },
   {
    "duration": 35,
    "start_time": "2021-12-22T16:03:03.533Z"
   },
   {
    "duration": 34,
    "start_time": "2021-12-22T16:04:39.877Z"
   },
   {
    "duration": 8,
    "start_time": "2021-12-22T16:04:54.510Z"
   },
   {
    "duration": 7,
    "start_time": "2021-12-22T16:06:24.043Z"
   },
   {
    "duration": 37,
    "start_time": "2021-12-22T16:06:51.637Z"
   },
   {
    "duration": 531,
    "start_time": "2021-12-22T16:24:52.901Z"
   },
   {
    "duration": 90,
    "start_time": "2021-12-22T16:28:19.149Z"
   },
   {
    "duration": 99,
    "start_time": "2021-12-22T16:28:49.086Z"
   },
   {
    "duration": 90,
    "start_time": "2021-12-22T16:31:41.037Z"
   },
   {
    "duration": 85,
    "start_time": "2021-12-22T16:37:23.949Z"
   },
   {
    "duration": 92,
    "start_time": "2021-12-22T16:40:18.251Z"
   },
   {
    "duration": 975,
    "start_time": "2021-12-22T16:41:23.510Z"
   },
   {
    "duration": 4040,
    "start_time": "2021-12-22T16:41:37.748Z"
   },
   {
    "duration": 3168,
    "start_time": "2021-12-22T16:52:14.604Z"
   },
   {
    "duration": 3189,
    "start_time": "2021-12-22T16:53:00.553Z"
   },
   {
    "duration": 87,
    "start_time": "2021-12-22T16:53:19.934Z"
   },
   {
    "duration": 11,
    "start_time": "2021-12-22T16:53:20.023Z"
   },
   {
    "duration": 11,
    "start_time": "2021-12-22T16:53:20.037Z"
   },
   {
    "duration": 13,
    "start_time": "2021-12-22T16:53:20.050Z"
   },
   {
    "duration": 39,
    "start_time": "2021-12-22T16:53:24.387Z"
   },
   {
    "duration": 30,
    "start_time": "2021-12-22T16:55:39.745Z"
   },
   {
    "duration": 16,
    "start_time": "2021-12-22T16:56:11.190Z"
   },
   {
    "duration": 7,
    "start_time": "2021-12-22T16:56:42.120Z"
   },
   {
    "duration": 11,
    "start_time": "2021-12-22T16:57:06.776Z"
   },
   {
    "duration": 7,
    "start_time": "2021-12-22T16:57:11.621Z"
   },
   {
    "duration": 9,
    "start_time": "2021-12-22T17:00:50.428Z"
   },
   {
    "duration": 6,
    "start_time": "2021-12-22T17:01:45.261Z"
   },
   {
    "duration": 5,
    "start_time": "2021-12-22T17:02:07.102Z"
   },
   {
    "duration": 9,
    "start_time": "2021-12-22T17:02:22.159Z"
   },
   {
    "duration": 10,
    "start_time": "2021-12-22T17:02:40.610Z"
   },
   {
    "duration": 6,
    "start_time": "2021-12-22T17:02:46.901Z"
   },
   {
    "duration": 7,
    "start_time": "2021-12-22T17:05:22.882Z"
   },
   {
    "duration": 93,
    "start_time": "2021-12-22T17:07:23.748Z"
   },
   {
    "duration": 17,
    "start_time": "2021-12-22T17:07:23.843Z"
   },
   {
    "duration": 6,
    "start_time": "2021-12-22T17:07:23.863Z"
   },
   {
    "duration": 5,
    "start_time": "2021-12-22T17:07:23.871Z"
   },
   {
    "duration": 7,
    "start_time": "2021-12-22T17:07:27.679Z"
   },
   {
    "duration": 7,
    "start_time": "2021-12-22T17:10:32.189Z"
   },
   {
    "duration": 7,
    "start_time": "2021-12-22T17:14:31.708Z"
   },
   {
    "duration": 4,
    "start_time": "2021-12-22T17:14:40.246Z"
   },
   {
    "duration": 6,
    "start_time": "2021-12-22T17:14:42.185Z"
   },
   {
    "duration": 13,
    "start_time": "2021-12-22T17:14:45.157Z"
   },
   {
    "duration": 10,
    "start_time": "2021-12-22T17:15:00.548Z"
   },
   {
    "duration": 1764,
    "start_time": "2021-12-22T17:15:04.993Z"
   },
   {
    "duration": 11,
    "start_time": "2021-12-22T17:15:32.045Z"
   },
   {
    "duration": 24,
    "start_time": "2021-12-22T17:22:31.908Z"
   },
   {
    "duration": 35,
    "start_time": "2021-12-22T17:23:02.221Z"
   },
   {
    "duration": 513,
    "start_time": "2021-12-22T17:33:11.502Z"
   },
   {
    "duration": 538,
    "start_time": "2021-12-22T17:33:39.324Z"
   },
   {
    "duration": 476,
    "start_time": "2021-12-22T17:33:53.830Z"
   },
   {
    "duration": 507,
    "start_time": "2021-12-22T17:34:21.090Z"
   },
   {
    "duration": 523,
    "start_time": "2021-12-22T17:34:35.416Z"
   },
   {
    "duration": 24,
    "start_time": "2021-12-22T17:38:10.769Z"
   },
   {
    "duration": 671,
    "start_time": "2022-01-05T08:13:44.458Z"
   },
   {
    "duration": 11,
    "start_time": "2022-01-05T08:13:45.132Z"
   },
   {
    "duration": 7,
    "start_time": "2022-01-05T08:13:45.146Z"
   },
   {
    "duration": 5,
    "start_time": "2022-01-05T08:13:45.155Z"
   },
   {
    "duration": 9,
    "start_time": "2022-01-05T08:13:45.162Z"
   },
   {
    "duration": 6,
    "start_time": "2022-01-05T08:13:45.173Z"
   },
   {
    "duration": 5,
    "start_time": "2022-01-05T08:13:45.180Z"
   },
   {
    "duration": 14,
    "start_time": "2022-01-05T08:13:45.186Z"
   },
   {
    "duration": 47,
    "start_time": "2022-01-05T08:13:45.203Z"
   },
   {
    "duration": 9,
    "start_time": "2022-01-05T08:13:45.252Z"
   },
   {
    "duration": 10,
    "start_time": "2022-01-05T08:13:45.262Z"
   },
   {
    "duration": 27,
    "start_time": "2022-01-05T08:13:45.273Z"
   },
   {
    "duration": 95,
    "start_time": "2022-01-05T08:13:59.917Z"
   },
   {
    "duration": 449,
    "start_time": "2022-01-05T08:14:48.819Z"
   },
   {
    "duration": 25,
    "start_time": "2022-01-05T08:14:58.665Z"
   },
   {
    "duration": 9,
    "start_time": "2022-01-05T08:41:47.466Z"
   },
   {
    "duration": 9,
    "start_time": "2022-01-05T08:42:53.390Z"
   },
   {
    "duration": 9,
    "start_time": "2022-01-05T08:44:18.828Z"
   },
   {
    "duration": 8,
    "start_time": "2022-01-05T08:45:05.156Z"
   },
   {
    "duration": 9,
    "start_time": "2022-01-05T08:46:17.138Z"
   },
   {
    "duration": 9,
    "start_time": "2022-01-05T08:46:56.193Z"
   },
   {
    "duration": 9,
    "start_time": "2022-01-05T08:47:02.302Z"
   },
   {
    "duration": 9,
    "start_time": "2022-01-05T08:47:06.635Z"
   },
   {
    "duration": 8,
    "start_time": "2022-01-05T08:47:12.421Z"
   },
   {
    "duration": 725,
    "start_time": "2022-01-05T09:12:37.002Z"
   },
   {
    "duration": 548,
    "start_time": "2022-01-05T09:13:46.135Z"
   },
   {
    "duration": 758,
    "start_time": "2022-01-05T09:16:25.998Z"
   },
   {
    "duration": 832,
    "start_time": "2022-01-05T09:16:58.806Z"
   },
   {
    "duration": 828,
    "start_time": "2022-01-05T09:18:21.070Z"
   },
   {
    "duration": 587,
    "start_time": "2022-01-05T09:18:39.850Z"
   },
   {
    "duration": 1289,
    "start_time": "2022-01-05T09:40:46.562Z"
   },
   {
    "duration": 17,
    "start_time": "2022-01-05T09:51:25.067Z"
   },
   {
    "duration": 545,
    "start_time": "2022-01-05T09:52:36.818Z"
   },
   {
    "duration": 14,
    "start_time": "2022-01-05T09:53:45.967Z"
   },
   {
    "duration": 640,
    "start_time": "2022-01-05T09:55:00.109Z"
   },
   {
    "duration": 308,
    "start_time": "2022-01-05T09:58:42.424Z"
   },
   {
    "duration": 666,
    "start_time": "2022-01-05T09:59:38.433Z"
   },
   {
    "duration": 583,
    "start_time": "2022-01-05T09:59:54.138Z"
   },
   {
    "duration": 598,
    "start_time": "2022-01-05T10:00:11.105Z"
   },
   {
    "duration": 10,
    "start_time": "2022-01-05T10:18:05.523Z"
   },
   {
    "duration": 12,
    "start_time": "2022-01-05T10:18:26.853Z"
   },
   {
    "duration": 181,
    "start_time": "2022-01-05T10:19:41.493Z"
   },
   {
    "duration": 178,
    "start_time": "2022-01-05T10:20:10.404Z"
   },
   {
    "duration": 194,
    "start_time": "2022-01-05T10:24:03.337Z"
   },
   {
    "duration": 274,
    "start_time": "2022-01-05T10:29:38.268Z"
   },
   {
    "duration": 314,
    "start_time": "2022-01-05T10:32:13.439Z"
   },
   {
    "duration": 915,
    "start_time": "2022-01-06T08:50:57.340Z"
   },
   {
    "duration": 19,
    "start_time": "2022-01-06T08:50:58.258Z"
   },
   {
    "duration": 9,
    "start_time": "2022-01-06T08:50:58.280Z"
   },
   {
    "duration": 7,
    "start_time": "2022-01-06T08:50:58.293Z"
   },
   {
    "duration": 57,
    "start_time": "2022-01-06T08:50:58.303Z"
   },
   {
    "duration": 9,
    "start_time": "2022-01-06T08:50:58.364Z"
   },
   {
    "duration": 6,
    "start_time": "2022-01-06T08:50:58.375Z"
   },
   {
    "duration": 10,
    "start_time": "2022-01-06T08:50:58.387Z"
   },
   {
    "duration": 63,
    "start_time": "2022-01-06T08:50:58.401Z"
   },
   {
    "duration": 16,
    "start_time": "2022-01-06T08:50:58.467Z"
   },
   {
    "duration": 14,
    "start_time": "2022-01-06T08:50:58.486Z"
   },
   {
    "duration": 76,
    "start_time": "2022-01-06T08:50:58.503Z"
   },
   {
    "duration": 157,
    "start_time": "2022-01-06T08:50:58.581Z"
   },
   {
    "duration": 803,
    "start_time": "2022-01-06T08:50:58.740Z"
   },
   {
    "duration": 44,
    "start_time": "2022-01-06T08:50:59.546Z"
   },
   {
    "duration": 11,
    "start_time": "2022-01-06T08:50:59.593Z"
   },
   {
    "duration": 10,
    "start_time": "2022-01-06T08:50:59.607Z"
   },
   {
    "duration": 43,
    "start_time": "2022-01-06T08:50:59.620Z"
   },
   {
    "duration": 12,
    "start_time": "2022-01-06T08:50:59.665Z"
   },
   {
    "duration": 2205,
    "start_time": "2022-01-06T08:50:59.679Z"
   },
   {
    "duration": 1099,
    "start_time": "2022-01-06T08:51:01.887Z"
   },
   {
    "duration": 14,
    "start_time": "2022-01-06T08:51:02.989Z"
   },
   {
    "duration": 625,
    "start_time": "2022-01-06T08:51:03.007Z"
   },
   {
    "duration": 502,
    "start_time": "2022-01-06T08:51:15.935Z"
   },
   {
    "duration": 505,
    "start_time": "2022-01-06T08:52:15.793Z"
   },
   {
    "duration": 506,
    "start_time": "2022-01-06T08:52:31.215Z"
   },
   {
    "duration": 122,
    "start_time": "2022-01-06T08:55:58.253Z"
   },
   {
    "duration": 1437,
    "start_time": "2022-01-06T08:56:54.189Z"
   },
   {
    "duration": 9595,
    "start_time": "2022-01-06T08:58:41.995Z"
   },
   {
    "duration": 13,
    "start_time": "2022-01-06T08:59:51.968Z"
   },
   {
    "duration": 13,
    "start_time": "2022-01-06T09:00:07.146Z"
   },
   {
    "duration": 12,
    "start_time": "2022-01-06T09:01:13.603Z"
   },
   {
    "duration": 379,
    "start_time": "2022-01-06T09:03:31.341Z"
   },
   {
    "duration": 7962,
    "start_time": "2022-01-06T09:03:41.154Z"
   },
   {
    "duration": 131,
    "start_time": "2022-01-06T09:06:31.760Z"
   },
   {
    "duration": 17,
    "start_time": "2022-01-06T09:06:31.893Z"
   },
   {
    "duration": 9,
    "start_time": "2022-01-06T09:06:31.913Z"
   },
   {
    "duration": 35,
    "start_time": "2022-01-06T09:06:31.925Z"
   },
   {
    "duration": 10,
    "start_time": "2022-01-06T09:06:31.963Z"
   },
   {
    "duration": 7,
    "start_time": "2022-01-06T09:06:31.976Z"
   },
   {
    "duration": 116,
    "start_time": "2022-01-06T09:06:31.986Z"
   },
   {
    "duration": 7,
    "start_time": "2022-01-06T09:06:32.106Z"
   },
   {
    "duration": 19,
    "start_time": "2022-01-06T09:06:32.116Z"
   },
   {
    "duration": 14,
    "start_time": "2022-01-06T09:06:32.159Z"
   },
   {
    "duration": 16,
    "start_time": "2022-01-06T09:06:32.176Z"
   },
   {
    "duration": 72,
    "start_time": "2022-01-06T09:06:32.195Z"
   },
   {
    "duration": 151,
    "start_time": "2022-01-06T09:06:32.269Z"
   },
   {
    "duration": 818,
    "start_time": "2022-01-06T09:06:32.422Z"
   },
   {
    "duration": 47,
    "start_time": "2022-01-06T09:06:33.243Z"
   },
   {
    "duration": 12,
    "start_time": "2022-01-06T09:06:33.292Z"
   },
   {
    "duration": 11,
    "start_time": "2022-01-06T09:06:33.306Z"
   },
   {
    "duration": 43,
    "start_time": "2022-01-06T09:06:33.319Z"
   },
   {
    "duration": 11,
    "start_time": "2022-01-06T09:06:33.364Z"
   },
   {
    "duration": 2082,
    "start_time": "2022-01-06T09:06:42.443Z"
   },
   {
    "duration": 1051,
    "start_time": "2022-01-06T09:06:49.691Z"
   },
   {
    "duration": 13,
    "start_time": "2022-01-06T09:06:54.306Z"
   },
   {
    "duration": 541,
    "start_time": "2022-01-06T09:06:55.038Z"
   },
   {
    "duration": 12,
    "start_time": "2022-01-06T09:07:05.918Z"
   },
   {
    "duration": 7807,
    "start_time": "2022-01-06T09:07:07.269Z"
   },
   {
    "duration": 7669,
    "start_time": "2022-01-06T09:08:13.056Z"
   },
   {
    "duration": 528,
    "start_time": "2022-01-06T09:09:04.704Z"
   },
   {
    "duration": 13,
    "start_time": "2022-01-06T09:09:09.108Z"
   },
   {
    "duration": 8476,
    "start_time": "2022-01-06T09:09:11.369Z"
   },
   {
    "duration": 605,
    "start_time": "2022-01-06T09:18:19.360Z"
   },
   {
    "duration": 697,
    "start_time": "2022-01-06T09:30:40.852Z"
   },
   {
    "duration": 1007,
    "start_time": "2022-01-06T09:42:12.221Z"
   },
   {
    "duration": 794,
    "start_time": "2022-01-06T09:42:21.740Z"
   },
   {
    "duration": 1240,
    "start_time": "2022-01-06T09:42:37.538Z"
   },
   {
    "duration": 322,
    "start_time": "2022-01-06T09:45:51.714Z"
   },
   {
    "duration": 352,
    "start_time": "2022-01-06T09:46:26.132Z"
   },
   {
    "duration": 303,
    "start_time": "2022-01-06T09:46:35.827Z"
   },
   {
    "duration": 347,
    "start_time": "2022-01-06T09:46:51.154Z"
   },
   {
    "duration": 314,
    "start_time": "2022-01-06T09:48:29.394Z"
   },
   {
    "duration": 317,
    "start_time": "2022-01-06T10:00:40.045Z"
   },
   {
    "duration": 307,
    "start_time": "2022-01-06T10:00:59.396Z"
   },
   {
    "duration": 10,
    "start_time": "2022-01-06T10:01:40.182Z"
   },
   {
    "duration": 317,
    "start_time": "2022-01-06T10:07:00.047Z"
   },
   {
    "duration": 460,
    "start_time": "2022-01-06T10:08:53.947Z"
   },
   {
    "duration": 620,
    "start_time": "2022-01-06T10:09:29.695Z"
   },
   {
    "duration": 153,
    "start_time": "2022-01-06T10:25:57.393Z"
   },
   {
    "duration": 121,
    "start_time": "2022-01-06T10:26:13.713Z"
   },
   {
    "duration": 25,
    "start_time": "2022-01-06T10:26:13.837Z"
   },
   {
    "duration": 10,
    "start_time": "2022-01-06T10:26:13.865Z"
   },
   {
    "duration": 6,
    "start_time": "2022-01-06T10:26:13.878Z"
   },
   {
    "duration": 8,
    "start_time": "2022-01-06T10:26:13.887Z"
   },
   {
    "duration": 7,
    "start_time": "2022-01-06T10:26:13.898Z"
   },
   {
    "duration": 7,
    "start_time": "2022-01-06T10:26:13.907Z"
   },
   {
    "duration": 9,
    "start_time": "2022-01-06T10:26:13.960Z"
   },
   {
    "duration": 24,
    "start_time": "2022-01-06T10:26:13.972Z"
   },
   {
    "duration": 12,
    "start_time": "2022-01-06T10:26:13.998Z"
   },
   {
    "duration": 48,
    "start_time": "2022-01-06T10:26:14.013Z"
   },
   {
    "duration": 37,
    "start_time": "2022-01-06T10:26:14.064Z"
   },
   {
    "duration": 153,
    "start_time": "2022-01-06T10:26:20.337Z"
   },
   {
    "duration": 959,
    "start_time": "2022-01-06T10:26:30.022Z"
   },
   {
    "duration": 39,
    "start_time": "2022-01-06T10:26:40.955Z"
   },
   {
    "duration": 125,
    "start_time": "2022-01-06T10:29:30.653Z"
   },
   {
    "duration": 17,
    "start_time": "2022-01-06T10:29:30.782Z"
   },
   {
    "duration": 10,
    "start_time": "2022-01-06T10:29:30.803Z"
   },
   {
    "duration": 43,
    "start_time": "2022-01-06T10:29:30.816Z"
   },
   {
    "duration": 12,
    "start_time": "2022-01-06T10:29:30.862Z"
   },
   {
    "duration": 9,
    "start_time": "2022-01-06T10:29:30.877Z"
   },
   {
    "duration": 14,
    "start_time": "2022-01-06T10:29:30.888Z"
   },
   {
    "duration": 11,
    "start_time": "2022-01-06T10:29:30.907Z"
   },
   {
    "duration": 17,
    "start_time": "2022-01-06T10:29:30.959Z"
   },
   {
    "duration": 14,
    "start_time": "2022-01-06T10:29:30.979Z"
   },
   {
    "duration": 27,
    "start_time": "2022-01-06T10:29:30.995Z"
   },
   {
    "duration": 60,
    "start_time": "2022-01-06T10:29:31.024Z"
   },
   {
    "duration": 46,
    "start_time": "2022-01-06T10:29:33.963Z"
   },
   {
    "duration": 804,
    "start_time": "2022-01-06T10:29:40.317Z"
   },
   {
    "duration": 37,
    "start_time": "2022-01-06T10:29:43.299Z"
   },
   {
    "duration": 13,
    "start_time": "2022-01-06T10:30:11.097Z"
   },
   {
    "duration": 13,
    "start_time": "2022-01-06T10:30:12.419Z"
   },
   {
    "duration": 11,
    "start_time": "2022-01-06T10:30:14.475Z"
   },
   {
    "duration": 13,
    "start_time": "2022-01-06T10:30:15.238Z"
   },
   {
    "duration": 2051,
    "start_time": "2022-01-06T10:30:17.345Z"
   },
   {
    "duration": 1244,
    "start_time": "2022-01-06T10:30:23.143Z"
   },
   {
    "duration": 12,
    "start_time": "2022-01-06T10:30:29.874Z"
   },
   {
    "duration": 542,
    "start_time": "2022-01-06T10:30:30.834Z"
   },
   {
    "duration": 15,
    "start_time": "2022-01-06T10:30:34.801Z"
   },
   {
    "duration": 623,
    "start_time": "2022-01-06T10:30:40.394Z"
   },
   {
    "duration": 10,
    "start_time": "2022-01-06T10:30:45.033Z"
   },
   {
    "duration": 1749,
    "start_time": "2022-01-06T10:32:32.237Z"
   },
   {
    "duration": 1447,
    "start_time": "2022-01-06T10:33:07.156Z"
   },
   {
    "duration": 1754,
    "start_time": "2022-01-06T10:33:11.029Z"
   },
   {
    "duration": 787,
    "start_time": "2022-01-06T10:33:41.646Z"
   },
   {
    "duration": 137,
    "start_time": "2022-01-06T10:34:46.265Z"
   },
   {
    "duration": 16,
    "start_time": "2022-01-06T10:34:46.405Z"
   },
   {
    "duration": 8,
    "start_time": "2022-01-06T10:34:46.425Z"
   },
   {
    "duration": 27,
    "start_time": "2022-01-06T10:34:46.436Z"
   },
   {
    "duration": 9,
    "start_time": "2022-01-06T10:34:46.466Z"
   },
   {
    "duration": 9,
    "start_time": "2022-01-06T10:34:46.479Z"
   },
   {
    "duration": 8,
    "start_time": "2022-01-06T10:34:46.490Z"
   },
   {
    "duration": 55,
    "start_time": "2022-01-06T10:34:46.504Z"
   },
   {
    "duration": 18,
    "start_time": "2022-01-06T10:34:46.563Z"
   },
   {
    "duration": 13,
    "start_time": "2022-01-06T10:34:46.584Z"
   },
   {
    "duration": 17,
    "start_time": "2022-01-06T10:34:46.600Z"
   },
   {
    "duration": 40,
    "start_time": "2022-01-06T10:34:46.660Z"
   },
   {
    "duration": 77,
    "start_time": "2022-01-06T10:34:46.704Z"
   },
   {
    "duration": 902,
    "start_time": "2022-01-06T10:34:46.783Z"
   },
   {
    "duration": 39,
    "start_time": "2022-01-06T10:34:47.688Z"
   },
   {
    "duration": 33,
    "start_time": "2022-01-06T10:34:47.730Z"
   },
   {
    "duration": 13,
    "start_time": "2022-01-06T10:34:47.765Z"
   },
   {
    "duration": 11,
    "start_time": "2022-01-06T10:34:47.780Z"
   },
   {
    "duration": 11,
    "start_time": "2022-01-06T10:34:47.793Z"
   },
   {
    "duration": 2115,
    "start_time": "2022-01-06T10:34:47.806Z"
   },
   {
    "duration": 1249,
    "start_time": "2022-01-06T10:34:49.924Z"
   },
   {
    "duration": 15,
    "start_time": "2022-01-06T10:34:51.177Z"
   },
   {
    "duration": 559,
    "start_time": "2022-01-06T10:34:51.197Z"
   },
   {
    "duration": 13,
    "start_time": "2022-01-06T10:34:55.420Z"
   },
   {
    "duration": 615,
    "start_time": "2022-01-06T10:34:59.475Z"
   },
   {
    "duration": 11,
    "start_time": "2022-01-06T10:35:01.609Z"
   },
   {
    "duration": 1372,
    "start_time": "2022-01-06T10:35:05.221Z"
   },
   {
    "duration": 605,
    "start_time": "2022-01-06T10:37:56.028Z"
   },
   {
    "duration": 825,
    "start_time": "2022-01-06T10:38:29.696Z"
   },
   {
    "duration": 10,
    "start_time": "2022-01-06T10:38:35.395Z"
   },
   {
    "duration": 1334,
    "start_time": "2022-01-06T10:38:37.506Z"
   },
   {
    "duration": 1279,
    "start_time": "2022-01-06T10:40:01.008Z"
   },
   {
    "duration": 1487,
    "start_time": "2022-01-06T10:48:36.210Z"
   },
   {
    "duration": 1309,
    "start_time": "2022-01-06T10:48:47.112Z"
   },
   {
    "duration": 13,
    "start_time": "2022-01-06T10:57:55.281Z"
   },
   {
    "duration": 11,
    "start_time": "2022-01-06T10:58:04.370Z"
   },
   {
    "duration": 11,
    "start_time": "2022-01-06T10:59:11.980Z"
   },
   {
    "duration": 10,
    "start_time": "2022-01-06T10:59:26.223Z"
   },
   {
    "duration": 9,
    "start_time": "2022-01-06T11:00:41.071Z"
   },
   {
    "duration": 646,
    "start_time": "2022-01-06T11:04:47.086Z"
   },
   {
    "duration": 46,
    "start_time": "2022-01-06T11:06:06.372Z"
   },
   {
    "duration": 49,
    "start_time": "2022-01-06T11:06:49.946Z"
   },
   {
    "duration": 52,
    "start_time": "2022-01-06T11:07:13.854Z"
   },
   {
    "duration": 52,
    "start_time": "2022-01-06T11:07:23.100Z"
   },
   {
    "duration": 550,
    "start_time": "2022-01-06T11:08:59.139Z"
   },
   {
    "duration": 50,
    "start_time": "2022-01-06T11:09:12.829Z"
   },
   {
    "duration": 57,
    "start_time": "2022-01-06T11:09:30.469Z"
   },
   {
    "duration": 700,
    "start_time": "2022-01-06T11:10:09.842Z"
   },
   {
    "duration": 47,
    "start_time": "2022-01-06T11:17:57.166Z"
   },
   {
    "duration": 53,
    "start_time": "2022-01-06T11:18:03.616Z"
   },
   {
    "duration": 51,
    "start_time": "2022-01-06T11:34:29.598Z"
   },
   {
    "duration": 438,
    "start_time": "2022-01-06T11:38:14.415Z"
   },
   {
    "duration": 421,
    "start_time": "2022-01-06T11:41:53.434Z"
   },
   {
    "duration": 439,
    "start_time": "2022-01-06T11:43:55.143Z"
   },
   {
    "duration": 51,
    "start_time": "2022-01-06T11:45:08.113Z"
   },
   {
    "duration": 453,
    "start_time": "2022-01-06T11:45:20.754Z"
   },
   {
    "duration": 133,
    "start_time": "2022-01-06T11:49:42.673Z"
   },
   {
    "duration": 119,
    "start_time": "2022-01-06T11:52:27.768Z"
   },
   {
    "duration": 57,
    "start_time": "2022-01-06T11:52:34.064Z"
   },
   {
    "duration": 52,
    "start_time": "2022-01-06T11:53:22.060Z"
   },
   {
    "duration": 72,
    "start_time": "2022-01-06T11:54:30.967Z"
   },
   {
    "duration": 54,
    "start_time": "2022-01-06T11:55:04.619Z"
   },
   {
    "duration": 55,
    "start_time": "2022-01-06T11:55:16.834Z"
   },
   {
    "duration": 521,
    "start_time": "2022-01-06T12:06:47.971Z"
   },
   {
    "duration": 384,
    "start_time": "2022-01-06T12:08:12.938Z"
   },
   {
    "duration": 408,
    "start_time": "2022-01-06T12:09:11.090Z"
   },
   {
    "duration": 45,
    "start_time": "2022-01-06T12:11:02.681Z"
   },
   {
    "duration": 10447,
    "start_time": "2022-01-06T12:11:19.640Z"
   },
   {
    "duration": 49,
    "start_time": "2022-01-06T12:11:35.147Z"
   },
   {
    "duration": 46,
    "start_time": "2022-01-06T12:12:24.271Z"
   },
   {
    "duration": 44,
    "start_time": "2022-01-06T12:13:25.578Z"
   },
   {
    "duration": 519,
    "start_time": "2022-01-06T12:15:31.612Z"
   },
   {
    "duration": 47,
    "start_time": "2022-01-06T12:17:34.922Z"
   },
   {
    "duration": 46,
    "start_time": "2022-01-06T12:17:57.583Z"
   },
   {
    "duration": 23,
    "start_time": "2022-01-06T12:18:15.451Z"
   },
   {
    "duration": 47,
    "start_time": "2022-01-06T12:20:22.558Z"
   },
   {
    "duration": 42,
    "start_time": "2022-01-06T12:22:28.137Z"
   },
   {
    "duration": 48,
    "start_time": "2022-01-06T12:22:50.420Z"
   },
   {
    "duration": 48,
    "start_time": "2022-01-06T12:23:17.229Z"
   },
   {
    "duration": 45,
    "start_time": "2022-01-06T12:24:34.286Z"
   },
   {
    "duration": 54,
    "start_time": "2022-01-06T12:25:12.488Z"
   },
   {
    "duration": 49,
    "start_time": "2022-01-06T12:26:52.716Z"
   },
   {
    "duration": 50,
    "start_time": "2022-01-06T12:28:14.170Z"
   },
   {
    "duration": 55,
    "start_time": "2022-01-06T12:28:23.735Z"
   },
   {
    "duration": 607,
    "start_time": "2022-01-06T12:32:12.013Z"
   },
   {
    "duration": 706,
    "start_time": "2022-01-06T12:32:18.229Z"
   },
   {
    "duration": 642,
    "start_time": "2022-01-06T12:32:46.166Z"
   },
   {
    "duration": 604,
    "start_time": "2022-01-06T12:37:14.344Z"
   },
   {
    "duration": 617,
    "start_time": "2022-01-06T12:37:22.214Z"
   },
   {
    "duration": 417,
    "start_time": "2022-01-06T12:41:26.429Z"
   },
   {
    "duration": 10,
    "start_time": "2022-01-06T12:41:41.304Z"
   },
   {
    "duration": 405,
    "start_time": "2022-01-06T12:42:19.240Z"
   },
   {
    "duration": 689,
    "start_time": "2022-01-06T12:43:55.278Z"
   },
   {
    "duration": 49,
    "start_time": "2022-01-06T12:47:36.619Z"
   },
   {
    "duration": 1559,
    "start_time": "2022-01-06T12:47:49.397Z"
   },
   {
    "duration": 401,
    "start_time": "2022-01-06T12:50:17.880Z"
   },
   {
    "duration": 52,
    "start_time": "2022-01-06T12:50:33.966Z"
   },
   {
    "duration": 8,
    "start_time": "2022-01-06T12:50:51.435Z"
   },
   {
    "duration": 896,
    "start_time": "2022-01-06T12:54:54.398Z"
   },
   {
    "duration": 701,
    "start_time": "2022-01-06T12:58:32.106Z"
   },
   {
    "duration": 697,
    "start_time": "2022-01-06T12:58:51.757Z"
   },
   {
    "duration": 362,
    "start_time": "2022-01-06T12:59:05.509Z"
   },
   {
    "duration": 344,
    "start_time": "2022-01-06T12:59:17.365Z"
   },
   {
    "duration": 425,
    "start_time": "2022-01-06T12:59:22.080Z"
   },
   {
    "duration": 330,
    "start_time": "2022-01-06T12:59:44.174Z"
   },
   {
    "duration": 716,
    "start_time": "2022-01-06T13:03:22.508Z"
   },
   {
    "duration": 432,
    "start_time": "2022-01-06T13:03:42.716Z"
   },
   {
    "duration": 331,
    "start_time": "2022-01-06T13:03:54.731Z"
   },
   {
    "duration": 41,
    "start_time": "2022-01-06T13:31:24.738Z"
   },
   {
    "duration": 11,
    "start_time": "2022-01-06T13:32:48.174Z"
   },
   {
    "duration": 12,
    "start_time": "2022-01-06T13:33:27.131Z"
   },
   {
    "duration": 12,
    "start_time": "2022-01-06T13:33:41.288Z"
   },
   {
    "duration": 12,
    "start_time": "2022-01-06T13:33:56.823Z"
   },
   {
    "duration": 12,
    "start_time": "2022-01-06T13:34:15.241Z"
   },
   {
    "duration": 2187,
    "start_time": "2022-01-06T13:36:33.137Z"
   },
   {
    "duration": 2212,
    "start_time": "2022-01-06T13:36:59.383Z"
   },
   {
    "duration": 11089,
    "start_time": "2022-01-06T13:40:56.295Z"
   },
   {
    "duration": 1134,
    "start_time": "2022-01-06T13:41:32.086Z"
   },
   {
    "duration": 125,
    "start_time": "2022-01-06T14:03:34.373Z"
   },
   {
    "duration": 15,
    "start_time": "2022-01-06T14:03:34.501Z"
   },
   {
    "duration": 8,
    "start_time": "2022-01-06T14:03:34.519Z"
   },
   {
    "duration": 6,
    "start_time": "2022-01-06T14:03:34.559Z"
   },
   {
    "duration": 8,
    "start_time": "2022-01-06T14:03:34.567Z"
   },
   {
    "duration": 7,
    "start_time": "2022-01-06T14:03:34.577Z"
   },
   {
    "duration": 6,
    "start_time": "2022-01-06T14:03:34.586Z"
   },
   {
    "duration": 9,
    "start_time": "2022-01-06T14:03:34.595Z"
   },
   {
    "duration": 20,
    "start_time": "2022-01-06T14:03:34.658Z"
   },
   {
    "duration": 12,
    "start_time": "2022-01-06T14:03:34.681Z"
   },
   {
    "duration": 19,
    "start_time": "2022-01-06T14:03:34.696Z"
   },
   {
    "duration": 76,
    "start_time": "2022-01-06T14:03:34.718Z"
   },
   {
    "duration": 67,
    "start_time": "2022-01-06T14:03:34.796Z"
   },
   {
    "duration": 837,
    "start_time": "2022-01-06T14:03:34.865Z"
   },
   {
    "duration": 59,
    "start_time": "2022-01-06T14:03:35.704Z"
   },
   {
    "duration": 13,
    "start_time": "2022-01-06T14:03:35.765Z"
   },
   {
    "duration": 11,
    "start_time": "2022-01-06T14:03:35.780Z"
   },
   {
    "duration": 10,
    "start_time": "2022-01-06T14:03:35.794Z"
   },
   {
    "duration": 11,
    "start_time": "2022-01-06T14:03:35.807Z"
   },
   {
    "duration": 2348,
    "start_time": "2022-01-06T14:03:35.820Z"
   },
   {
    "duration": 1081,
    "start_time": "2022-01-06T14:03:38.170Z"
   },
   {
    "duration": 19,
    "start_time": "2022-01-06T14:03:39.254Z"
   },
   {
    "duration": 948,
    "start_time": "2022-01-06T14:03:39.276Z"
   },
   {
    "duration": 13,
    "start_time": "2022-01-06T14:03:45.403Z"
   },
   {
    "duration": 616,
    "start_time": "2022-01-06T14:03:47.143Z"
   },
   {
    "duration": 11,
    "start_time": "2022-01-06T14:03:51.471Z"
   },
   {
    "duration": 1520,
    "start_time": "2022-01-06T14:03:53.372Z"
   },
   {
    "duration": 54,
    "start_time": "2022-01-06T14:04:02.132Z"
   },
   {
    "duration": 53,
    "start_time": "2022-01-06T14:04:06.789Z"
   },
   {
    "duration": 340,
    "start_time": "2022-01-06T14:04:09.025Z"
   },
   {
    "duration": 43,
    "start_time": "2022-01-06T14:05:01.608Z"
   },
   {
    "duration": 12,
    "start_time": "2022-01-06T14:05:10.577Z"
   },
   {
    "duration": 11,
    "start_time": "2022-01-06T14:05:11.406Z"
   },
   {
    "duration": 11,
    "start_time": "2022-01-06T14:05:12.414Z"
   },
   {
    "duration": 12,
    "start_time": "2022-01-06T14:05:13.236Z"
   },
   {
    "duration": 1067,
    "start_time": "2022-01-06T14:05:18.455Z"
   },
   {
    "duration": 14,
    "start_time": "2022-01-06T14:14:12.685Z"
   },
   {
    "duration": 666,
    "start_time": "2022-01-06T14:17:31.220Z"
   },
   {
    "duration": 597,
    "start_time": "2022-01-06T14:17:58.892Z"
   },
   {
    "duration": 326,
    "start_time": "2022-01-06T14:18:31.743Z"
   },
   {
    "duration": 17,
    "start_time": "2022-01-06T14:20:55.638Z"
   },
   {
    "duration": 16,
    "start_time": "2022-01-06T14:21:12.539Z"
   },
   {
    "duration": 16,
    "start_time": "2022-01-06T14:21:50.143Z"
   },
   {
    "duration": 18,
    "start_time": "2022-01-06T14:22:30.997Z"
   },
   {
    "duration": 16,
    "start_time": "2022-01-06T14:22:50.183Z"
   },
   {
    "duration": 1997,
    "start_time": "2022-01-06T14:26:11.588Z"
   },
   {
    "duration": 15,
    "start_time": "2022-01-06T14:32:24.455Z"
   },
   {
    "duration": 628,
    "start_time": "2022-01-06T14:33:54.946Z"
   },
   {
    "duration": 646,
    "start_time": "2022-01-06T14:34:09.113Z"
   },
   {
    "duration": 1472,
    "start_time": "2022-01-06T14:55:56.074Z"
   },
   {
    "duration": 1422,
    "start_time": "2022-01-06T14:55:57.549Z"
   },
   {
    "duration": 1285,
    "start_time": "2022-01-06T14:57:03.860Z"
   },
   {
    "duration": 1299,
    "start_time": "2022-01-06T14:57:05.148Z"
   },
   {
    "duration": 653,
    "start_time": "2022-01-07T15:40:38.515Z"
   },
   {
    "duration": 11,
    "start_time": "2022-01-07T15:40:39.170Z"
   },
   {
    "duration": 20,
    "start_time": "2022-01-07T15:40:39.183Z"
   },
   {
    "duration": 13,
    "start_time": "2022-01-07T15:40:39.205Z"
   },
   {
    "duration": 21,
    "start_time": "2022-01-07T15:40:39.220Z"
   },
   {
    "duration": 10,
    "start_time": "2022-01-07T15:40:39.244Z"
   },
   {
    "duration": 11,
    "start_time": "2022-01-07T15:40:39.256Z"
   },
   {
    "duration": 19,
    "start_time": "2022-01-07T15:40:39.271Z"
   },
   {
    "duration": 22,
    "start_time": "2022-01-07T15:40:39.293Z"
   },
   {
    "duration": 12,
    "start_time": "2022-01-07T15:40:39.316Z"
   },
   {
    "duration": 21,
    "start_time": "2022-01-07T15:40:39.329Z"
   },
   {
    "duration": 500,
    "start_time": "2022-01-07T15:40:39.420Z"
   },
   {
    "duration": 22,
    "start_time": "2022-01-07T15:40:39.922Z"
   },
   {
    "duration": 21,
    "start_time": "2022-01-07T15:40:39.945Z"
   },
   {
    "duration": 8,
    "start_time": "2022-01-07T15:40:39.968Z"
   },
   {
    "duration": 7,
    "start_time": "2022-01-07T15:40:39.978Z"
   },
   {
    "duration": 9,
    "start_time": "2022-01-07T15:40:39.987Z"
   },
   {
    "duration": 1295,
    "start_time": "2022-01-07T15:40:39.999Z"
   },
   {
    "duration": 647,
    "start_time": "2022-01-07T15:40:41.296Z"
   },
   {
    "duration": 18,
    "start_time": "2022-01-07T15:40:41.945Z"
   },
   {
    "duration": 321,
    "start_time": "2022-01-07T15:40:41.966Z"
   },
   {
    "duration": 9,
    "start_time": "2022-01-07T15:40:42.289Z"
   },
   {
    "duration": 454,
    "start_time": "2022-01-07T15:40:42.300Z"
   },
   {
    "duration": 7,
    "start_time": "2022-01-07T15:40:42.755Z"
   },
   {
    "duration": 794,
    "start_time": "2022-01-07T15:40:42.763Z"
   },
   {
    "duration": 39,
    "start_time": "2022-01-07T15:40:43.559Z"
   },
   {
    "duration": 38,
    "start_time": "2022-01-07T15:40:43.600Z"
   },
   {
    "duration": 324,
    "start_time": "2022-01-07T15:40:43.662Z"
   },
   {
    "duration": 38,
    "start_time": "2022-01-07T15:40:43.989Z"
   },
   {
    "duration": 32,
    "start_time": "2022-01-07T15:40:44.029Z"
   },
   {
    "duration": 11,
    "start_time": "2022-01-07T15:40:44.063Z"
   },
   {
    "duration": 10,
    "start_time": "2022-01-07T15:40:44.076Z"
   },
   {
    "duration": 10,
    "start_time": "2022-01-07T15:40:44.088Z"
   },
   {
    "duration": 1916,
    "start_time": "2022-01-07T15:40:44.100Z"
   },
   {
    "duration": 13,
    "start_time": "2022-01-07T15:40:46.019Z"
   },
   {
    "duration": 372,
    "start_time": "2022-01-07T15:40:46.034Z"
   },
   {
    "duration": 801,
    "start_time": "2022-01-07T15:40:46.408Z"
   },
   {
    "duration": 760,
    "start_time": "2022-01-07T15:40:47.211Z"
   },
   {
    "duration": 1022,
    "start_time": "2022-01-08T12:23:14.691Z"
   },
   {
    "duration": 169,
    "start_time": "2022-01-08T12:23:31.474Z"
   },
   {
    "duration": 67,
    "start_time": "2022-01-08T12:23:39.460Z"
   },
   {
    "duration": 87,
    "start_time": "2022-01-08T12:24:00.235Z"
   },
   {
    "duration": 11,
    "start_time": "2022-01-08T12:24:20.358Z"
   },
   {
    "duration": 6,
    "start_time": "2022-01-08T12:34:13.272Z"
   },
   {
    "duration": 572,
    "start_time": "2022-01-08T12:34:20.660Z"
   },
   {
    "duration": 21,
    "start_time": "2022-01-08T12:43:25.168Z"
   },
   {
    "duration": 5,
    "start_time": "2022-01-08T12:44:24.260Z"
   },
   {
    "duration": 7,
    "start_time": "2022-01-08T12:44:25.611Z"
   },
   {
    "duration": 6,
    "start_time": "2022-01-08T12:44:27.139Z"
   },
   {
    "duration": 5,
    "start_time": "2022-01-08T12:44:28.443Z"
   },
   {
    "duration": 8,
    "start_time": "2022-01-08T12:44:29.892Z"
   },
   {
    "duration": 13,
    "start_time": "2022-01-08T12:44:31.818Z"
   },
   {
    "duration": 21,
    "start_time": "2022-01-08T12:44:52.609Z"
   },
   {
    "duration": 7,
    "start_time": "2022-01-08T12:48:52.018Z"
   },
   {
    "duration": 5,
    "start_time": "2022-01-08T12:48:57.223Z"
   },
   {
    "duration": 271,
    "start_time": "2022-01-08T12:49:44.665Z"
   },
   {
    "duration": 248,
    "start_time": "2022-01-08T12:49:53.369Z"
   },
   {
    "duration": 5,
    "start_time": "2022-01-08T12:50:17.122Z"
   },
   {
    "duration": 3184,
    "start_time": "2022-01-08T13:00:37.698Z"
   },
   {
    "duration": 3042,
    "start_time": "2022-01-08T13:04:04.093Z"
   },
   {
    "duration": 2896,
    "start_time": "2022-01-08T13:04:25.634Z"
   },
   {
    "duration": 11,
    "start_time": "2022-01-08T13:12:00.622Z"
   },
   {
    "duration": 23,
    "start_time": "2022-01-08T13:12:12.092Z"
   },
   {
    "duration": 21,
    "start_time": "2022-01-08T13:13:00.825Z"
   },
   {
    "duration": 24,
    "start_time": "2022-01-08T13:13:17.226Z"
   },
   {
    "duration": 13,
    "start_time": "2022-01-08T13:13:22.981Z"
   },
   {
    "duration": 19,
    "start_time": "2022-01-08T13:27:16.637Z"
   },
   {
    "duration": 76261,
    "start_time": "2022-01-08T13:29:03.001Z"
   },
   {
    "duration": 245,
    "start_time": "2022-01-08T13:30:52.091Z"
   },
   {
    "duration": 22759,
    "start_time": "2022-01-08T13:31:26.473Z"
   },
   {
    "duration": 18,
    "start_time": "2022-01-08T13:32:13.263Z"
   },
   {
    "duration": 26,
    "start_time": "2022-01-08T13:32:58.464Z"
   },
   {
    "duration": 58,
    "start_time": "2022-01-08T13:33:45.066Z"
   },
   {
    "duration": 44,
    "start_time": "2022-01-08T13:34:46.123Z"
   },
   {
    "duration": 84,
    "start_time": "2022-01-08T13:35:21.169Z"
   },
   {
    "duration": 11,
    "start_time": "2022-01-08T13:35:21.255Z"
   },
   {
    "duration": 6,
    "start_time": "2022-01-08T13:35:21.268Z"
   },
   {
    "duration": 21,
    "start_time": "2022-01-08T13:35:21.276Z"
   },
   {
    "duration": 5,
    "start_time": "2022-01-08T13:35:21.299Z"
   },
   {
    "duration": 7,
    "start_time": "2022-01-08T13:35:21.305Z"
   },
   {
    "duration": 47,
    "start_time": "2022-01-08T13:35:21.314Z"
   },
   {
    "duration": 4,
    "start_time": "2022-01-08T13:35:21.363Z"
   },
   {
    "duration": 6,
    "start_time": "2022-01-08T13:35:21.369Z"
   },
   {
    "duration": 15,
    "start_time": "2022-01-08T13:35:21.376Z"
   },
   {
    "duration": 40,
    "start_time": "2022-01-08T13:35:31.874Z"
   },
   {
    "duration": 56,
    "start_time": "2022-01-08T13:35:58.425Z"
   },
   {
    "duration": 24,
    "start_time": "2022-01-08T13:36:45.352Z"
   },
   {
    "duration": 8,
    "start_time": "2022-01-08T13:41:55.367Z"
   },
   {
    "duration": 12,
    "start_time": "2022-01-08T13:41:59.019Z"
   },
   {
    "duration": 35,
    "start_time": "2022-01-08T13:50:34.427Z"
   },
   {
    "duration": 44,
    "start_time": "2022-01-08T13:50:39.026Z"
   },
   {
    "duration": 794,
    "start_time": "2022-01-08T13:50:49.395Z"
   },
   {
    "duration": 35,
    "start_time": "2022-01-08T13:50:54.153Z"
   },
   {
    "duration": 11,
    "start_time": "2022-01-08T13:51:03.002Z"
   },
   {
    "duration": 12,
    "start_time": "2022-01-08T13:51:03.522Z"
   },
   {
    "duration": 12,
    "start_time": "2022-01-08T13:51:04.018Z"
   },
   {
    "duration": 11,
    "start_time": "2022-01-08T13:51:04.660Z"
   },
   {
    "duration": 1980,
    "start_time": "2022-01-08T13:51:14.830Z"
   },
   {
    "duration": 1442,
    "start_time": "2022-01-08T13:51:34.865Z"
   },
   {
    "duration": 1480,
    "start_time": "2022-01-08T13:52:51.312Z"
   },
   {
    "duration": 1008,
    "start_time": "2022-01-08T13:53:30.313Z"
   },
   {
    "duration": 758,
    "start_time": "2022-01-08T13:54:41.602Z"
   },
   {
    "duration": 1184,
    "start_time": "2022-01-08T13:54:50.912Z"
   },
   {
    "duration": 1362,
    "start_time": "2022-01-08T13:55:01.744Z"
   },
   {
    "duration": 1325,
    "start_time": "2022-01-08T13:56:29.313Z"
   },
   {
    "duration": 1308,
    "start_time": "2022-01-08T13:56:42.992Z"
   },
   {
    "duration": 695,
    "start_time": "2022-01-08T13:58:16.734Z"
   },
   {
    "duration": 630,
    "start_time": "2022-01-08T14:14:39.888Z"
   },
   {
    "duration": 10,
    "start_time": "2022-01-08T14:14:58.441Z"
   },
   {
    "duration": 457,
    "start_time": "2022-01-08T14:14:59.354Z"
   },
   {
    "duration": 311,
    "start_time": "2022-01-08T14:17:32.264Z"
   },
   {
    "duration": 321,
    "start_time": "2022-01-08T14:18:08.841Z"
   },
   {
    "duration": 386,
    "start_time": "2022-01-08T14:19:19.569Z"
   },
   {
    "duration": 318,
    "start_time": "2022-01-08T14:19:45.797Z"
   },
   {
    "duration": 11,
    "start_time": "2022-01-08T14:20:16.625Z"
   },
   {
    "duration": 458,
    "start_time": "2022-01-08T14:20:21.410Z"
   },
   {
    "duration": 559,
    "start_time": "2022-01-08T14:25:42.618Z"
   },
   {
    "duration": 475,
    "start_time": "2022-01-08T14:26:32.465Z"
   },
   {
    "duration": 470,
    "start_time": "2022-01-08T14:27:05.873Z"
   },
   {
    "duration": 7,
    "start_time": "2022-01-08T14:27:18.326Z"
   },
   {
    "duration": 949,
    "start_time": "2022-01-08T14:32:01.000Z"
   },
   {
    "duration": 561,
    "start_time": "2022-01-08T14:34:10.706Z"
   },
   {
    "duration": 8,
    "start_time": "2022-01-08T14:34:20.314Z"
   },
   {
    "duration": 899,
    "start_time": "2022-01-08T14:35:02.696Z"
   },
   {
    "duration": 873,
    "start_time": "2022-01-08T14:35:30.255Z"
   },
   {
    "duration": 958,
    "start_time": "2022-01-08T14:35:41.689Z"
   },
   {
    "duration": 40,
    "start_time": "2022-01-08T14:41:25.186Z"
   },
   {
    "duration": 250,
    "start_time": "2022-01-08T14:43:31.479Z"
   },
   {
    "duration": 29,
    "start_time": "2022-01-08T14:45:22.640Z"
   },
   {
    "duration": 334,
    "start_time": "2022-01-08T14:47:10.558Z"
   },
   {
    "duration": 26,
    "start_time": "2022-01-08T14:47:32.091Z"
   },
   {
    "duration": 25,
    "start_time": "2022-01-08T14:47:47.127Z"
   },
   {
    "duration": 30,
    "start_time": "2022-01-08T14:50:41.679Z"
   },
   {
    "duration": 25,
    "start_time": "2022-01-08T14:51:37.885Z"
   },
   {
    "duration": 27,
    "start_time": "2022-01-08T14:52:01.159Z"
   },
   {
    "duration": 27,
    "start_time": "2022-01-08T14:52:12.215Z"
   },
   {
    "duration": 24,
    "start_time": "2022-01-08T14:52:47.286Z"
   },
   {
    "duration": 25,
    "start_time": "2022-01-08T14:53:06.047Z"
   },
   {
    "duration": 26,
    "start_time": "2022-01-08T14:53:18.382Z"
   },
   {
    "duration": 25,
    "start_time": "2022-01-08T14:53:57.565Z"
   },
   {
    "duration": 29,
    "start_time": "2022-01-08T14:56:19.719Z"
   },
   {
    "duration": 4,
    "start_time": "2022-01-08T14:57:53.208Z"
   },
   {
    "duration": 4,
    "start_time": "2022-01-08T14:58:39.929Z"
   },
   {
    "duration": 87,
    "start_time": "2022-01-08T15:00:36.663Z"
   },
   {
    "duration": 89,
    "start_time": "2022-01-08T15:00:57.247Z"
   },
   {
    "duration": 85,
    "start_time": "2022-01-08T15:01:23.726Z"
   },
   {
    "duration": 88,
    "start_time": "2022-01-08T15:02:16.214Z"
   },
   {
    "duration": 248,
    "start_time": "2022-01-08T15:05:24.750Z"
   },
   {
    "duration": 240,
    "start_time": "2022-01-08T15:08:16.138Z"
   },
   {
    "duration": 256,
    "start_time": "2022-01-08T15:08:56.679Z"
   },
   {
    "duration": 236,
    "start_time": "2022-01-08T15:09:27.647Z"
   },
   {
    "duration": 253,
    "start_time": "2022-01-08T15:09:36.382Z"
   },
   {
    "duration": 907,
    "start_time": "2022-01-08T15:10:25.367Z"
   },
   {
    "duration": 257,
    "start_time": "2022-01-08T15:11:04.143Z"
   },
   {
    "duration": 257,
    "start_time": "2022-01-08T15:12:08.831Z"
   },
   {
    "duration": 4867,
    "start_time": "2022-01-08T15:12:19.800Z"
   },
   {
    "duration": 4385,
    "start_time": "2022-01-08T15:13:24.000Z"
   },
   {
    "duration": 268,
    "start_time": "2022-01-08T15:14:00.928Z"
   },
   {
    "duration": 81,
    "start_time": "2022-01-08T15:14:37.191Z"
   },
   {
    "duration": 84,
    "start_time": "2022-01-08T15:15:29.935Z"
   },
   {
    "duration": 115,
    "start_time": "2022-01-08T15:16:04.129Z"
   },
   {
    "duration": 6,
    "start_time": "2022-01-08T15:16:11.591Z"
   },
   {
    "duration": 7,
    "start_time": "2022-01-08T15:17:18.591Z"
   },
   {
    "duration": 440,
    "start_time": "2022-01-08T15:19:47.657Z"
   },
   {
    "duration": 5918,
    "start_time": "2022-01-08T15:19:55.625Z"
   },
   {
    "duration": 6742,
    "start_time": "2022-01-08T15:21:55.150Z"
   },
   {
    "duration": 6475,
    "start_time": "2022-01-08T15:23:53.711Z"
   },
   {
    "duration": 24,
    "start_time": "2022-01-08T15:27:07.734Z"
   },
   {
    "duration": 81,
    "start_time": "2022-01-08T15:27:20.040Z"
   },
   {
    "duration": 10,
    "start_time": "2022-01-08T15:27:20.123Z"
   },
   {
    "duration": 5,
    "start_time": "2022-01-08T15:27:20.135Z"
   },
   {
    "duration": 20,
    "start_time": "2022-01-08T15:27:20.161Z"
   },
   {
    "duration": 4,
    "start_time": "2022-01-08T15:27:20.183Z"
   },
   {
    "duration": 24,
    "start_time": "2022-01-08T15:27:20.188Z"
   },
   {
    "duration": 27,
    "start_time": "2022-01-08T15:27:20.213Z"
   },
   {
    "duration": 33,
    "start_time": "2022-01-08T15:27:20.243Z"
   },
   {
    "duration": 26,
    "start_time": "2022-01-08T15:27:20.278Z"
   },
   {
    "duration": 17,
    "start_time": "2022-01-08T15:27:20.306Z"
   },
   {
    "duration": 40,
    "start_time": "2022-01-08T15:27:20.325Z"
   },
   {
    "duration": 28,
    "start_time": "2022-01-08T15:27:20.367Z"
   },
   {
    "duration": 23,
    "start_time": "2022-01-08T15:27:20.397Z"
   },
   {
    "duration": 26,
    "start_time": "2022-01-08T15:27:20.421Z"
   },
   {
    "duration": 29,
    "start_time": "2022-01-08T15:27:20.449Z"
   },
   {
    "duration": 478,
    "start_time": "2022-01-08T15:27:20.480Z"
   },
   {
    "duration": 22,
    "start_time": "2022-01-08T15:27:20.960Z"
   },
   {
    "duration": 9,
    "start_time": "2022-01-08T15:27:20.984Z"
   },
   {
    "duration": 24,
    "start_time": "2022-01-08T15:27:20.995Z"
   },
   {
    "duration": 23,
    "start_time": "2022-01-08T15:27:21.021Z"
   },
   {
    "duration": 26,
    "start_time": "2022-01-08T15:27:21.046Z"
   },
   {
    "duration": 1306,
    "start_time": "2022-01-08T15:27:21.074Z"
   },
   {
    "duration": 791,
    "start_time": "2022-01-08T15:27:22.383Z"
   },
   {
    "duration": 9,
    "start_time": "2022-01-08T15:27:23.176Z"
   },
   {
    "duration": 334,
    "start_time": "2022-01-08T15:27:23.186Z"
   },
   {
    "duration": 8,
    "start_time": "2022-01-08T15:27:23.522Z"
   },
   {
    "duration": 489,
    "start_time": "2022-01-08T15:27:23.532Z"
   },
   {
    "duration": 7,
    "start_time": "2022-01-08T15:27:24.022Z"
   },
   {
    "duration": 883,
    "start_time": "2022-01-08T15:27:24.031Z"
   },
   {
    "duration": 57,
    "start_time": "2022-01-08T15:27:24.915Z"
   },
   {
    "duration": 23,
    "start_time": "2022-01-08T15:27:24.973Z"
   },
   {
    "duration": 35,
    "start_time": "2022-01-08T15:27:39.353Z"
   },
   {
    "duration": 235,
    "start_time": "2022-01-08T15:30:07.634Z"
   },
   {
    "duration": 310,
    "start_time": "2022-01-08T15:30:59.581Z"
   },
   {
    "duration": 24,
    "start_time": "2022-01-08T15:33:30.860Z"
   },
   {
    "duration": 11,
    "start_time": "2022-01-08T15:35:34.665Z"
   },
   {
    "duration": 24,
    "start_time": "2022-01-08T15:35:50.405Z"
   },
   {
    "duration": 11,
    "start_time": "2022-01-08T15:35:56.056Z"
   },
   {
    "duration": 81,
    "start_time": "2022-01-08T15:36:24.334Z"
   },
   {
    "duration": 10,
    "start_time": "2022-01-08T15:36:24.417Z"
   },
   {
    "duration": 6,
    "start_time": "2022-01-08T15:36:24.429Z"
   },
   {
    "duration": 22,
    "start_time": "2022-01-08T15:36:24.461Z"
   },
   {
    "duration": 4,
    "start_time": "2022-01-08T15:36:24.485Z"
   },
   {
    "duration": 6,
    "start_time": "2022-01-08T15:36:24.491Z"
   },
   {
    "duration": 5,
    "start_time": "2022-01-08T15:36:24.499Z"
   },
   {
    "duration": 4,
    "start_time": "2022-01-08T15:36:24.507Z"
   },
   {
    "duration": 5,
    "start_time": "2022-01-08T15:36:24.513Z"
   },
   {
    "duration": 51,
    "start_time": "2022-01-08T15:36:24.520Z"
   },
   {
    "duration": 25,
    "start_time": "2022-01-08T15:36:24.572Z"
   },
   {
    "duration": 10,
    "start_time": "2022-01-08T15:36:24.599Z"
   },
   {
    "duration": 13,
    "start_time": "2022-01-08T15:36:24.610Z"
   },
   {
    "duration": 58,
    "start_time": "2022-01-08T15:36:24.624Z"
   },
   {
    "duration": 31,
    "start_time": "2022-01-08T15:36:24.684Z"
   },
   {
    "duration": 510,
    "start_time": "2022-01-08T15:36:24.717Z"
   },
   {
    "duration": 32,
    "start_time": "2022-01-08T15:36:25.229Z"
   },
   {
    "duration": 10,
    "start_time": "2022-01-08T15:36:25.263Z"
   },
   {
    "duration": 8,
    "start_time": "2022-01-08T15:36:25.275Z"
   },
   {
    "duration": 8,
    "start_time": "2022-01-08T15:36:25.284Z"
   },
   {
    "duration": 8,
    "start_time": "2022-01-08T15:36:25.293Z"
   },
   {
    "duration": 1319,
    "start_time": "2022-01-08T15:36:25.303Z"
   },
   {
    "duration": 792,
    "start_time": "2022-01-08T15:36:26.626Z"
   },
   {
    "duration": 10,
    "start_time": "2022-01-08T15:36:27.421Z"
   },
   {
    "duration": 339,
    "start_time": "2022-01-08T15:36:27.433Z"
   },
   {
    "duration": 11,
    "start_time": "2022-01-08T15:36:27.774Z"
   },
   {
    "duration": 488,
    "start_time": "2022-01-08T15:36:27.787Z"
   },
   {
    "duration": 8,
    "start_time": "2022-01-08T15:36:28.276Z"
   },
   {
    "duration": 880,
    "start_time": "2022-01-08T15:36:28.285Z"
   },
   {
    "duration": 40,
    "start_time": "2022-01-08T15:36:29.167Z"
   },
   {
    "duration": 53,
    "start_time": "2022-01-08T15:36:29.209Z"
   },
   {
    "duration": 233,
    "start_time": "2022-01-08T15:36:29.263Z"
   },
   {
    "duration": 26,
    "start_time": "2022-01-08T15:36:29.631Z"
   },
   {
    "duration": 12,
    "start_time": "2022-01-08T15:36:38.216Z"
   },
   {
    "duration": 12,
    "start_time": "2022-01-08T15:36:45.463Z"
   },
   {
    "duration": 11,
    "start_time": "2022-01-08T15:36:51.008Z"
   },
   {
    "duration": 13,
    "start_time": "2022-01-08T15:37:03.216Z"
   },
   {
    "duration": 10,
    "start_time": "2022-01-08T15:45:17.421Z"
   },
   {
    "duration": 571,
    "start_time": "2022-01-08T15:45:36.056Z"
   },
   {
    "duration": 9,
    "start_time": "2022-01-08T15:45:42.935Z"
   },
   {
    "duration": 880,
    "start_time": "2022-01-08T15:46:04.088Z"
   },
   {
    "duration": 41,
    "start_time": "2022-01-08T15:46:17.223Z"
   },
   {
    "duration": 36,
    "start_time": "2022-01-08T15:46:31.547Z"
   },
   {
    "duration": 223,
    "start_time": "2022-01-08T15:46:41.230Z"
   },
   {
    "duration": 87,
    "start_time": "2022-01-08T15:46:57.270Z"
   },
   {
    "duration": 10,
    "start_time": "2022-01-08T15:46:57.358Z"
   },
   {
    "duration": 15,
    "start_time": "2022-01-08T15:46:57.370Z"
   },
   {
    "duration": 19,
    "start_time": "2022-01-08T15:46:57.387Z"
   },
   {
    "duration": 5,
    "start_time": "2022-01-08T15:46:57.408Z"
   },
   {
    "duration": 7,
    "start_time": "2022-01-08T15:46:57.415Z"
   },
   {
    "duration": 40,
    "start_time": "2022-01-08T15:46:57.424Z"
   },
   {
    "duration": 14,
    "start_time": "2022-01-08T15:46:57.466Z"
   },
   {
    "duration": 27,
    "start_time": "2022-01-08T15:46:57.483Z"
   },
   {
    "duration": 31,
    "start_time": "2022-01-08T15:46:57.512Z"
   },
   {
    "duration": 30,
    "start_time": "2022-01-08T15:46:57.544Z"
   },
   {
    "duration": 13,
    "start_time": "2022-01-08T15:46:57.576Z"
   },
   {
    "duration": 17,
    "start_time": "2022-01-08T15:46:57.591Z"
   },
   {
    "duration": 45,
    "start_time": "2022-01-08T15:46:57.610Z"
   },
   {
    "duration": 32,
    "start_time": "2022-01-08T15:46:57.657Z"
   },
   {
    "duration": 470,
    "start_time": "2022-01-08T15:46:57.691Z"
   },
   {
    "duration": 22,
    "start_time": "2022-01-08T15:46:58.163Z"
   },
   {
    "duration": 21,
    "start_time": "2022-01-08T15:46:58.186Z"
   },
   {
    "duration": 15,
    "start_time": "2022-01-08T15:46:58.209Z"
   },
   {
    "duration": 25,
    "start_time": "2022-01-08T15:46:58.225Z"
   },
   {
    "duration": 24,
    "start_time": "2022-01-08T15:46:58.252Z"
   },
   {
    "duration": 1459,
    "start_time": "2022-01-08T15:46:58.277Z"
   },
   {
    "duration": 715,
    "start_time": "2022-01-08T15:46:59.740Z"
   },
   {
    "duration": 10,
    "start_time": "2022-01-08T15:47:00.461Z"
   },
   {
    "duration": 445,
    "start_time": "2022-01-08T15:47:00.472Z"
   },
   {
    "duration": 9,
    "start_time": "2022-01-08T15:47:00.918Z"
   },
   {
    "duration": 732,
    "start_time": "2022-01-08T15:47:00.928Z"
   },
   {
    "duration": 8,
    "start_time": "2022-01-08T15:47:01.662Z"
   },
   {
    "duration": 940,
    "start_time": "2022-01-08T15:47:01.671Z"
   },
   {
    "duration": 55,
    "start_time": "2022-01-08T15:47:02.613Z"
   },
   {
    "duration": 34,
    "start_time": "2022-01-08T15:47:02.670Z"
   },
   {
    "duration": 247,
    "start_time": "2022-01-08T15:47:02.706Z"
   },
   {
    "duration": 26,
    "start_time": "2022-01-08T15:47:03.010Z"
   },
   {
    "duration": 11,
    "start_time": "2022-01-08T15:47:09.045Z"
   },
   {
    "duration": 10,
    "start_time": "2022-01-08T15:47:09.976Z"
   },
   {
    "duration": 11,
    "start_time": "2022-01-08T15:47:11.847Z"
   },
   {
    "duration": 11,
    "start_time": "2022-01-08T15:47:17.503Z"
   },
   {
    "duration": 287,
    "start_time": "2022-01-08T15:50:58.496Z"
   },
   {
    "duration": 682,
    "start_time": "2022-01-08T15:53:02.190Z"
   },
   {
    "duration": 10,
    "start_time": "2022-01-08T15:53:12.130Z"
   },
   {
    "duration": 387,
    "start_time": "2022-01-08T15:53:16.409Z"
   },
   {
    "duration": 9,
    "start_time": "2022-01-08T15:53:20.813Z"
   },
   {
    "duration": 558,
    "start_time": "2022-01-08T15:53:23.927Z"
   },
   {
    "duration": 11,
    "start_time": "2022-01-08T15:53:32.125Z"
   },
   {
    "duration": 891,
    "start_time": "2022-01-08T15:53:37.392Z"
   },
   {
    "duration": 43,
    "start_time": "2022-01-08T15:53:49.536Z"
   },
   {
    "duration": 56,
    "start_time": "2022-01-08T15:54:04.825Z"
   },
   {
    "duration": 227,
    "start_time": "2022-01-08T15:54:28.865Z"
   },
   {
    "duration": 32,
    "start_time": "2022-01-08T15:55:25.531Z"
   },
   {
    "duration": 225,
    "start_time": "2022-01-08T15:55:30.401Z"
   },
   {
    "duration": 25,
    "start_time": "2022-01-08T15:57:55.587Z"
   },
   {
    "duration": 14,
    "start_time": "2022-01-08T15:57:57.808Z"
   },
   {
    "duration": 14,
    "start_time": "2022-01-08T15:57:58.232Z"
   },
   {
    "duration": 12,
    "start_time": "2022-01-08T15:57:58.681Z"
   },
   {
    "duration": 12,
    "start_time": "2022-01-08T15:57:59.152Z"
   },
   {
    "duration": 1161,
    "start_time": "2022-01-08T15:58:02.375Z"
   },
   {
    "duration": 1009,
    "start_time": "2022-01-08T15:59:31.496Z"
   },
   {
    "duration": 1040,
    "start_time": "2022-01-08T16:00:44.687Z"
   },
   {
    "duration": 1202,
    "start_time": "2022-01-08T16:02:39.823Z"
   },
   {
    "duration": 1127,
    "start_time": "2022-01-08T16:02:58.276Z"
   },
   {
    "duration": 1310,
    "start_time": "2022-01-08T16:09:08.696Z"
   },
   {
    "duration": 1221,
    "start_time": "2022-01-08T16:09:20.496Z"
   },
   {
    "duration": 1557,
    "start_time": "2022-01-08T16:09:31.488Z"
   },
   {
    "duration": 1224,
    "start_time": "2022-01-08T16:10:55.895Z"
   },
   {
    "duration": 1502,
    "start_time": "2022-01-08T16:11:44.022Z"
   },
   {
    "duration": 1537,
    "start_time": "2022-01-08T16:12:08.895Z"
   },
   {
    "duration": 1163,
    "start_time": "2022-01-08T16:13:00.169Z"
   },
   {
    "duration": 1482,
    "start_time": "2022-01-08T16:13:09.878Z"
   },
   {
    "duration": 10,
    "start_time": "2022-01-08T16:13:45.360Z"
   },
   {
    "duration": 11,
    "start_time": "2022-01-08T16:15:31.887Z"
   },
   {
    "duration": 83,
    "start_time": "2022-01-08T16:15:47.556Z"
   },
   {
    "duration": 27,
    "start_time": "2022-01-08T16:15:47.640Z"
   },
   {
    "duration": 21,
    "start_time": "2022-01-08T16:15:47.669Z"
   },
   {
    "duration": 36,
    "start_time": "2022-01-08T16:15:47.692Z"
   },
   {
    "duration": 7,
    "start_time": "2022-01-08T16:15:47.730Z"
   },
   {
    "duration": 19,
    "start_time": "2022-01-08T16:15:47.739Z"
   },
   {
    "duration": 31,
    "start_time": "2022-01-08T16:15:47.759Z"
   },
   {
    "duration": 5,
    "start_time": "2022-01-08T16:15:47.791Z"
   },
   {
    "duration": 9,
    "start_time": "2022-01-08T16:15:47.798Z"
   },
   {
    "duration": 12,
    "start_time": "2022-01-08T16:15:47.809Z"
   },
   {
    "duration": 22,
    "start_time": "2022-01-08T16:15:47.823Z"
   },
   {
    "duration": 8,
    "start_time": "2022-01-08T16:15:47.847Z"
   },
   {
    "duration": 11,
    "start_time": "2022-01-08T16:15:47.857Z"
   },
   {
    "duration": 21,
    "start_time": "2022-01-08T16:15:47.870Z"
   },
   {
    "duration": 30,
    "start_time": "2022-01-08T16:15:47.893Z"
   },
   {
    "duration": 502,
    "start_time": "2022-01-08T16:15:47.925Z"
   },
   {
    "duration": 34,
    "start_time": "2022-01-08T16:15:48.429Z"
   },
   {
    "duration": 9,
    "start_time": "2022-01-08T16:15:48.465Z"
   },
   {
    "duration": 7,
    "start_time": "2022-01-08T16:15:48.476Z"
   },
   {
    "duration": 7,
    "start_time": "2022-01-08T16:15:48.485Z"
   },
   {
    "duration": 7,
    "start_time": "2022-01-08T16:15:48.493Z"
   },
   {
    "duration": 1438,
    "start_time": "2022-01-08T16:15:48.502Z"
   },
   {
    "duration": 704,
    "start_time": "2022-01-08T16:15:49.942Z"
   },
   {
    "duration": 17,
    "start_time": "2022-01-08T16:15:50.648Z"
   },
   {
    "duration": 322,
    "start_time": "2022-01-08T16:15:50.666Z"
   },
   {
    "duration": 9,
    "start_time": "2022-01-08T16:15:50.989Z"
   },
   {
    "duration": 498,
    "start_time": "2022-01-08T16:15:51.001Z"
   },
   {
    "duration": 12,
    "start_time": "2022-01-08T16:15:51.501Z"
   },
   {
    "duration": 929,
    "start_time": "2022-01-08T16:15:51.515Z"
   },
   {
    "duration": 197,
    "start_time": "2022-01-08T16:15:52.445Z"
   },
   {
    "duration": 44,
    "start_time": "2022-01-08T16:15:52.644Z"
   },
   {
    "duration": 267,
    "start_time": "2022-01-08T16:15:52.689Z"
   },
   {
    "duration": 27,
    "start_time": "2022-01-08T16:15:52.960Z"
   },
   {
    "duration": 12,
    "start_time": "2022-01-08T16:15:52.989Z"
   },
   {
    "duration": 11,
    "start_time": "2022-01-08T16:15:53.003Z"
   },
   {
    "duration": 12,
    "start_time": "2022-01-08T16:15:53.016Z"
   },
   {
    "duration": 41,
    "start_time": "2022-01-08T16:15:53.030Z"
   },
   {
    "duration": 1469,
    "start_time": "2022-01-08T16:15:53.073Z"
   },
   {
    "duration": 1384,
    "start_time": "2022-01-08T16:15:54.544Z"
   },
   {
    "duration": 11,
    "start_time": "2022-01-08T16:16:01.337Z"
   },
   {
    "duration": 749,
    "start_time": "2022-01-08T16:17:22.775Z"
   },
   {
    "duration": 943,
    "start_time": "2022-01-08T16:18:44.709Z"
   },
   {
    "duration": 879,
    "start_time": "2022-01-08T16:19:39.287Z"
   },
   {
    "duration": 1069,
    "start_time": "2022-01-08T16:20:02.369Z"
   },
   {
    "duration": 908,
    "start_time": "2022-01-08T16:20:07.880Z"
   },
   {
    "duration": 920,
    "start_time": "2022-01-08T16:21:01.689Z"
   },
   {
    "duration": 1114,
    "start_time": "2022-01-08T16:21:19.072Z"
   },
   {
    "duration": 857,
    "start_time": "2022-01-08T16:21:28.831Z"
   },
   {
    "duration": 875,
    "start_time": "2022-01-08T16:21:37.696Z"
   },
   {
    "duration": 966,
    "start_time": "2022-01-08T16:21:45.407Z"
   },
   {
    "duration": 857,
    "start_time": "2022-01-08T16:21:54.159Z"
   },
   {
    "duration": 914,
    "start_time": "2022-01-08T16:21:59.640Z"
   },
   {
    "duration": 981,
    "start_time": "2022-01-08T16:22:52.584Z"
   },
   {
    "duration": 888,
    "start_time": "2022-01-08T16:22:57.464Z"
   },
   {
    "duration": 933,
    "start_time": "2022-01-08T17:37:30.901Z"
   },
   {
    "duration": 15,
    "start_time": "2022-01-08T17:37:31.837Z"
   },
   {
    "duration": 8,
    "start_time": "2022-01-08T17:37:31.855Z"
   },
   {
    "duration": 123553,
    "start_time": "2022-01-08T17:37:31.866Z"
   },
   {
    "duration": 8,
    "start_time": "2022-01-08T17:39:35.422Z"
   },
   {
    "duration": 9,
    "start_time": "2022-01-08T17:39:35.432Z"
   },
   {
    "duration": 7,
    "start_time": "2022-01-08T17:39:35.443Z"
   },
   {
    "duration": 8,
    "start_time": "2022-01-08T17:39:35.454Z"
   },
   {
    "duration": 12,
    "start_time": "2022-01-08T17:39:35.465Z"
   },
   {
    "duration": 27,
    "start_time": "2022-01-08T17:39:35.479Z"
   },
   {
    "duration": 43,
    "start_time": "2022-01-08T17:39:35.508Z"
   },
   {
    "duration": 12,
    "start_time": "2022-01-08T17:39:35.553Z"
   },
   {
    "duration": 14,
    "start_time": "2022-01-08T17:39:35.568Z"
   },
   {
    "duration": 44,
    "start_time": "2022-01-08T17:39:35.585Z"
   },
   {
    "duration": 47,
    "start_time": "2022-01-08T17:39:35.631Z"
   },
   {
    "duration": 1083,
    "start_time": "2022-01-08T17:39:35.681Z"
   },
   {
    "duration": 36,
    "start_time": "2022-01-08T17:39:36.766Z"
   },
   {
    "duration": 13,
    "start_time": "2022-01-08T17:39:36.816Z"
   },
   {
    "duration": 10,
    "start_time": "2022-01-08T17:39:36.831Z"
   },
   {
    "duration": 10,
    "start_time": "2022-01-08T17:39:36.844Z"
   },
   {
    "duration": 10,
    "start_time": "2022-01-08T17:39:36.856Z"
   },
   {
    "duration": 2333,
    "start_time": "2022-01-08T17:39:36.868Z"
   },
   {
    "duration": 1194,
    "start_time": "2022-01-08T17:39:39.206Z"
   },
   {
    "duration": 17,
    "start_time": "2022-01-08T17:39:40.403Z"
   },
   {
    "duration": 664,
    "start_time": "2022-01-08T17:39:40.422Z"
   },
   {
    "duration": 11,
    "start_time": "2022-01-08T17:39:41.089Z"
   },
   {
    "duration": 852,
    "start_time": "2022-01-08T17:39:41.102Z"
   },
   {
    "duration": 11,
    "start_time": "2022-01-08T17:39:41.956Z"
   },
   {
    "duration": 1533,
    "start_time": "2022-01-08T17:39:41.970Z"
   },
   {
    "duration": 72,
    "start_time": "2022-01-08T17:39:43.505Z"
   },
   {
    "duration": 77,
    "start_time": "2022-01-08T17:39:43.579Z"
   },
   {
    "duration": 382,
    "start_time": "2022-01-08T17:39:43.658Z"
   },
   {
    "duration": 38,
    "start_time": "2022-01-08T17:39:44.043Z"
   },
   {
    "duration": 40,
    "start_time": "2022-01-08T17:39:44.083Z"
   },
   {
    "duration": 15,
    "start_time": "2022-01-08T17:39:44.125Z"
   },
   {
    "duration": 15,
    "start_time": "2022-01-08T17:39:44.142Z"
   },
   {
    "duration": 14,
    "start_time": "2022-01-08T17:39:44.159Z"
   },
   {
    "duration": 512,
    "start_time": "2022-01-08T17:39:44.175Z"
   },
   {
    "duration": 72209,
    "start_time": "2022-01-08T17:38:32.480Z"
   },
   {
    "duration": 72207,
    "start_time": "2022-01-08T17:38:32.484Z"
   },
   {
    "duration": 72204,
    "start_time": "2022-01-08T17:38:32.489Z"
   },
   {
    "duration": 72200,
    "start_time": "2022-01-08T17:38:32.495Z"
   },
   {
    "duration": 72198,
    "start_time": "2022-01-08T17:38:32.500Z"
   },
   {
    "duration": 25,
    "start_time": "2022-01-08T17:51:55.474Z"
   },
   {
    "duration": 13,
    "start_time": "2022-01-08T17:52:27.791Z"
   },
   {
    "duration": 2526,
    "start_time": "2022-01-08T17:58:28.035Z"
   },
   {
    "duration": 14,
    "start_time": "2022-01-08T17:58:34.130Z"
   },
   {
    "duration": 741,
    "start_time": "2022-01-08T17:58:35.962Z"
   },
   {
    "duration": 1498,
    "start_time": "2022-01-08T17:58:38.994Z"
   },
   {
    "duration": 1655,
    "start_time": "2022-01-08T17:58:40.495Z"
   },
   {
    "duration": 672,
    "start_time": "2022-01-09T06:50:49.913Z"
   },
   {
    "duration": 10,
    "start_time": "2022-01-09T06:50:50.587Z"
   },
   {
    "duration": 8,
    "start_time": "2022-01-09T06:50:50.599Z"
   },
   {
    "duration": 362,
    "start_time": "2022-01-09T06:50:50.608Z"
   },
   {
    "duration": 5,
    "start_time": "2022-01-09T06:50:50.972Z"
   },
   {
    "duration": 7,
    "start_time": "2022-01-09T06:50:50.979Z"
   },
   {
    "duration": 5,
    "start_time": "2022-01-09T06:50:50.991Z"
   },
   {
    "duration": 4,
    "start_time": "2022-01-09T06:50:50.998Z"
   },
   {
    "duration": 9,
    "start_time": "2022-01-09T06:50:51.004Z"
   },
   {
    "duration": 16,
    "start_time": "2022-01-09T06:50:51.014Z"
   },
   {
    "duration": 24,
    "start_time": "2022-01-09T06:50:51.031Z"
   },
   {
    "duration": 37,
    "start_time": "2022-01-09T06:50:51.057Z"
   },
   {
    "duration": 11,
    "start_time": "2022-01-09T06:50:51.096Z"
   },
   {
    "duration": 23,
    "start_time": "2022-01-09T06:50:51.109Z"
   },
   {
    "duration": 31,
    "start_time": "2022-01-09T06:50:51.134Z"
   },
   {
    "duration": 564,
    "start_time": "2022-01-09T06:50:51.167Z"
   },
   {
    "duration": 23,
    "start_time": "2022-01-09T06:50:51.733Z"
   },
   {
    "duration": 8,
    "start_time": "2022-01-09T06:50:51.758Z"
   },
   {
    "duration": 24,
    "start_time": "2022-01-09T06:50:51.768Z"
   },
   {
    "duration": 7,
    "start_time": "2022-01-09T06:50:51.794Z"
   },
   {
    "duration": 8,
    "start_time": "2022-01-09T06:50:51.802Z"
   },
   {
    "duration": 1426,
    "start_time": "2022-01-09T06:50:51.812Z"
   },
   {
    "duration": 761,
    "start_time": "2022-01-09T06:50:53.241Z"
   },
   {
    "duration": 10,
    "start_time": "2022-01-09T06:50:54.003Z"
   },
   {
    "duration": 448,
    "start_time": "2022-01-09T06:50:54.014Z"
   },
   {
    "duration": 10,
    "start_time": "2022-01-09T06:50:59.675Z"
   },
   {
    "duration": 489,
    "start_time": "2022-01-09T06:51:34.027Z"
   },
   {
    "duration": 205,
    "start_time": "2022-01-09T06:58:44.524Z"
   },
   {
    "duration": 429,
    "start_time": "2022-01-09T06:59:52.691Z"
   },
   {
    "duration": 196,
    "start_time": "2022-01-09T07:00:04.163Z"
   },
   {
    "duration": 196,
    "start_time": "2022-01-09T07:00:13.552Z"
   },
   {
    "duration": 205,
    "start_time": "2022-01-09T07:01:03.442Z"
   },
   {
    "duration": 193,
    "start_time": "2022-01-09T07:01:18.841Z"
   },
   {
    "duration": 191,
    "start_time": "2022-01-09T07:02:58.509Z"
   },
   {
    "duration": 8,
    "start_time": "2022-01-09T07:03:09.599Z"
   },
   {
    "duration": 1016,
    "start_time": "2022-01-09T07:05:58.683Z"
   },
   {
    "duration": 908,
    "start_time": "2022-01-09T07:06:53.546Z"
   },
   {
    "duration": 41,
    "start_time": "2022-01-09T07:08:39.067Z"
   },
   {
    "duration": 39,
    "start_time": "2022-01-09T07:09:10.202Z"
   },
   {
    "duration": 244,
    "start_time": "2022-01-09T07:09:27.978Z"
   },
   {
    "duration": 237,
    "start_time": "2022-01-09T07:09:48.888Z"
   },
   {
    "duration": 25,
    "start_time": "2022-01-09T07:14:24.320Z"
   },
   {
    "duration": 12,
    "start_time": "2022-01-09T07:14:30.586Z"
   },
   {
    "duration": 13,
    "start_time": "2022-01-09T07:14:34.530Z"
   },
   {
    "duration": 12,
    "start_time": "2022-01-09T07:14:36.770Z"
   },
   {
    "duration": 13,
    "start_time": "2022-01-09T07:14:40.530Z"
   },
   {
    "duration": 1577,
    "start_time": "2022-01-09T07:16:12.457Z"
   },
   {
    "duration": 11,
    "start_time": "2022-01-09T07:17:26.653Z"
   },
   {
    "duration": 453,
    "start_time": "2022-01-09T07:18:16.466Z"
   },
   {
    "duration": 468,
    "start_time": "2022-01-09T07:18:25.501Z"
   },
   {
    "duration": 457,
    "start_time": "2022-01-09T07:18:35.549Z"
   },
   {
    "duration": 470,
    "start_time": "2022-01-09T07:20:20.925Z"
   },
   {
    "duration": 563,
    "start_time": "2022-01-09T07:20:56.530Z"
   },
   {
    "duration": 897,
    "start_time": "2022-01-09T07:22:09.834Z"
   },
   {
    "duration": 870,
    "start_time": "2022-01-09T07:22:16.378Z"
   },
   {
    "duration": 826,
    "start_time": "2022-01-09T15:11:52.228Z"
   },
   {
    "duration": 15,
    "start_time": "2022-01-09T15:11:53.056Z"
   },
   {
    "duration": 25,
    "start_time": "2022-01-09T15:11:53.073Z"
   },
   {
    "duration": 76371,
    "start_time": "2022-01-09T15:11:53.100Z"
   },
   {
    "duration": 7,
    "start_time": "2022-01-09T15:13:09.474Z"
   },
   {
    "duration": 17,
    "start_time": "2022-01-09T15:13:09.483Z"
   },
   {
    "duration": 26,
    "start_time": "2022-01-09T15:13:09.502Z"
   },
   {
    "duration": 33,
    "start_time": "2022-01-09T15:13:09.532Z"
   },
   {
    "duration": 39,
    "start_time": "2022-01-09T15:13:09.567Z"
   },
   {
    "duration": 39,
    "start_time": "2022-01-09T15:13:09.608Z"
   },
   {
    "duration": 35,
    "start_time": "2022-01-09T15:13:09.649Z"
   },
   {
    "duration": 32,
    "start_time": "2022-01-09T15:13:09.685Z"
   },
   {
    "duration": 17,
    "start_time": "2022-01-09T15:13:09.719Z"
   },
   {
    "duration": 49,
    "start_time": "2022-01-09T15:13:09.738Z"
   },
   {
    "duration": 30,
    "start_time": "2022-01-09T15:13:09.789Z"
   },
   {
    "duration": 555,
    "start_time": "2022-01-09T15:13:09.821Z"
   },
   {
    "duration": 22,
    "start_time": "2022-01-09T15:13:10.378Z"
   },
   {
    "duration": 23,
    "start_time": "2022-01-09T15:13:10.401Z"
   },
   {
    "duration": 19,
    "start_time": "2022-01-09T15:13:10.426Z"
   },
   {
    "duration": 30,
    "start_time": "2022-01-09T15:13:10.446Z"
   },
   {
    "duration": 24,
    "start_time": "2022-01-09T15:13:10.478Z"
   },
   {
    "duration": 1332,
    "start_time": "2022-01-09T15:13:10.504Z"
   },
   {
    "duration": 701,
    "start_time": "2022-01-09T15:13:11.839Z"
   },
   {
    "duration": 19,
    "start_time": "2022-01-09T15:13:12.543Z"
   },
   {
    "duration": 410,
    "start_time": "2022-01-09T15:13:12.564Z"
   },
   {
    "duration": 8,
    "start_time": "2022-01-09T15:13:12.976Z"
   },
   {
    "duration": 196,
    "start_time": "2022-01-09T15:13:12.986Z"
   },
   {
    "duration": 7,
    "start_time": "2022-01-09T15:13:13.184Z"
   },
   {
    "duration": 853,
    "start_time": "2022-01-09T15:13:13.193Z"
   },
   {
    "duration": 45,
    "start_time": "2022-01-09T15:13:14.048Z"
   },
   {
    "duration": 35,
    "start_time": "2022-01-09T15:13:14.095Z"
   },
   {
    "duration": 242,
    "start_time": "2022-01-09T15:13:14.131Z"
   },
   {
    "duration": 25,
    "start_time": "2022-01-09T15:13:14.375Z"
   },
   {
    "duration": 11,
    "start_time": "2022-01-09T15:13:14.401Z"
   },
   {
    "duration": 14,
    "start_time": "2022-01-09T15:13:14.413Z"
   },
   {
    "duration": 35,
    "start_time": "2022-01-09T15:13:14.429Z"
   },
   {
    "duration": 11,
    "start_time": "2022-01-09T15:13:14.466Z"
   },
   {
    "duration": 1485,
    "start_time": "2022-01-09T15:13:14.478Z"
   },
   {
    "duration": 10,
    "start_time": "2022-01-09T15:13:15.965Z"
   },
   {
    "duration": 479,
    "start_time": "2022-01-09T15:13:15.977Z"
   },
   {
    "duration": 856,
    "start_time": "2022-01-09T15:13:16.460Z"
   },
   {
    "duration": 832,
    "start_time": "2022-01-09T15:13:17.318Z"
   },
   {
    "duration": 10,
    "start_time": "2022-01-09T15:22:24.886Z"
   }
  ],
  "kernelspec": {
   "display_name": "Python 3",
   "language": "python",
   "name": "python3"
  },
  "language_info": {
   "codemirror_mode": {
    "name": "ipython",
    "version": 3
   },
   "file_extension": ".py",
   "mimetype": "text/x-python",
   "name": "python",
   "nbconvert_exporter": "python",
   "pygments_lexer": "ipython3",
   "version": "3.8.5"
  },
  "toc": {
   "base_numbering": 1,
   "nav_menu": {},
   "number_sections": true,
   "sideBar": true,
   "skip_h1_title": true,
   "title_cell": "Содержание",
   "title_sidebar": "Contents",
   "toc_cell": true,
   "toc_position": {
    "height": "calc(100% - 180px)",
    "left": "10px",
    "top": "150px",
    "width": "164.988px"
   },
   "toc_section_display": true,
   "toc_window_display": true
  }
 },
 "nbformat": 4,
 "nbformat_minor": 2
}
